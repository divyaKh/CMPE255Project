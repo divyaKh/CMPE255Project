{
  "nbformat": 4,
  "nbformat_minor": 0,
  "metadata": {
    "colab": {
      "name": "pre-processing-CMPE255.ipynb",
      "provenance": [],
      "collapsed_sections": []
    },
    "kernelspec": {
      "name": "python3",
      "display_name": "Python 3"
    },
    "language_info": {
      "name": "python"
    }
  },
  "cells": [
    {
      "cell_type": "markdown",
      "metadata": {
        "id": "Mdw7Ubc6tVWO"
      },
      "source": [
        "#**What is data preprocessing?**\n",
        "\n",
        "Data preprocessing is a data mining technique that involves transforming raw data into an understandable format.\n"
      ]
    },
    {
      "cell_type": "markdown",
      "metadata": {
        "id": "iaV3aWUkQ-ZK"
      },
      "source": [
        "**Load the library to run the functions**\n",
        "\n",
        "\n",
        "\n"
      ]
    },
    {
      "cell_type": "code",
      "metadata": {
        "id": "qg7zsMLasvMB",
        "colab": {
          "base_uri": "https://localhost:8080/"
        },
        "outputId": "7b16060d-828d-4b7f-bfcb-4dba3cba0131"
      },
      "source": [
        "import pandas as pd\n",
        "import numpy as np\n",
        "from sklearn.feature_selection import SelectKBest\n",
        "from sklearn.feature_selection import chi2, f_regression\n",
        "from sklearn.datasets import load_boston\n",
        "from sklearn.datasets import load_iris\n",
        "from numpy import array \n",
        "from sklearn.preprocessing import StandardScaler,MinMaxScaler\n",
        "from sklearn.pipeline import make_pipeline\n",
        "from sklearn import svm\n",
        "from mlxtend.feature_selection import SequentialFeatureSelector as SFS\n",
        "from sklearn.decomposition import PCA\n",
        "from sklearn.tree import DecisionTreeRegressor \n",
        "from sklearn.pipeline import make_pipeline\n",
        "from sklearn.datasets import make_friedman1\n",
        "from sklearn.feature_selection import RFE\n",
        "from sklearn.svm import SVR\n",
        "import matplotlib.pyplot as plt\n",
        "from sklearn.svm import SVC\n",
        "from sklearn.model_selection import StratifiedKFold\n",
        "from sklearn.feature_selection import RFECV\n",
        "from sklearn.datasets import make_classification"
      ],
      "execution_count": 1,
      "outputs": [
        {
          "output_type": "stream",
          "name": "stderr",
          "text": [
            "/usr/local/lib/python3.7/dist-packages/sklearn/externals/joblib/__init__.py:15: FutureWarning: sklearn.externals.joblib is deprecated in 0.21 and will be removed in 0.23. Please import this functionality directly from joblib, which can be installed with: pip install joblib. If this warning is raised when loading pickled models, you may need to re-serialize those models with scikit-learn 0.21+.\n",
            "  warnings.warn(msg, category=FutureWarning)\n"
          ]
        }
      ]
    },
    {
      "cell_type": "markdown",
      "metadata": {
        "id": "h0D7lIOatwyt"
      },
      "source": [
        "**Load the dataset**"
      ]
    },
    {
      "cell_type": "code",
      "metadata": {
        "id": "44LNPAEfRFfr",
        "colab": {
          "resources": {
            "http://localhost:8080/nbextensions/google.colab/files.js": {
              "data": "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",
              "ok": true,
              "headers": [
                [
                  "content-type",
                  "application/javascript"
                ]
              ],
              "status": 200,
              "status_text": ""
            }
          },
          "base_uri": "https://localhost:8080/",
          "height": 73
        },
        "outputId": "a3e2f321-3782-4a0c-d842-f7bf37d6ce96"
      },
      "source": [
        "from google.colab import files\n",
        "uploaded = files.upload()"
      ],
      "execution_count": 3,
      "outputs": [
        {
          "output_type": "display_data",
          "data": {
            "text/html": [
              "\n",
              "     <input type=\"file\" id=\"files-32edeece-7dcc-4c55-bebd-8a95cf8d6125\" name=\"files[]\" multiple disabled\n",
              "        style=\"border:none\" />\n",
              "     <output id=\"result-32edeece-7dcc-4c55-bebd-8a95cf8d6125\">\n",
              "      Upload widget is only available when the cell has been executed in the\n",
              "      current browser session. Please rerun this cell to enable.\n",
              "      </output>\n",
              "      <script src=\"/nbextensions/google.colab/files.js\"></script> "
            ],
            "text/plain": [
              "<IPython.core.display.HTML object>"
            ]
          },
          "metadata": {}
        },
        {
          "output_type": "stream",
          "name": "stdout",
          "text": [
            "Saving train_cleaned.csv to train_cleaned.csv\n"
          ]
        }
      ]
    },
    {
      "cell_type": "code",
      "metadata": {
        "id": "to9STQKoSyC4",
        "colab": {
          "base_uri": "https://localhost:8080/",
          "height": 224
        },
        "outputId": "0312129d-6fab-4840-aa6e-be4adfea6866"
      },
      "source": [
        "data_set = pd.DataFrame()\n",
        "data_set_test = pd.DataFrame()\n",
        "X = pd.DataFrame()\n",
        "y = pd.DataFrame()\n",
        "data_set =  pd.read_csv(\"train_cleaned.csv\")\n",
        "data_set.head(5)\n"
      ],
      "execution_count": 5,
      "outputs": [
        {
          "output_type": "execute_result",
          "data": {
            "text/html": [
              "<div>\n",
              "<style scoped>\n",
              "    .dataframe tbody tr th:only-of-type {\n",
              "        vertical-align: middle;\n",
              "    }\n",
              "\n",
              "    .dataframe tbody tr th {\n",
              "        vertical-align: top;\n",
              "    }\n",
              "\n",
              "    .dataframe thead th {\n",
              "        text-align: right;\n",
              "    }\n",
              "</style>\n",
              "<table border=\"1\" class=\"dataframe\">\n",
              "  <thead>\n",
              "    <tr style=\"text-align: right;\">\n",
              "      <th></th>\n",
              "      <th>dur</th>\n",
              "      <th>spkts</th>\n",
              "      <th>dpkts</th>\n",
              "      <th>sbytes</th>\n",
              "      <th>dbytes</th>\n",
              "      <th>rate</th>\n",
              "      <th>sttl</th>\n",
              "      <th>dttl</th>\n",
              "      <th>sload</th>\n",
              "      <th>dload</th>\n",
              "      <th>sloss</th>\n",
              "      <th>dloss</th>\n",
              "      <th>sinpkt</th>\n",
              "      <th>dinpkt</th>\n",
              "      <th>sjit</th>\n",
              "      <th>djit</th>\n",
              "      <th>swin</th>\n",
              "      <th>stcpb</th>\n",
              "      <th>dtcpb</th>\n",
              "      <th>dwin</th>\n",
              "      <th>tcprtt</th>\n",
              "      <th>synack</th>\n",
              "      <th>ackdat</th>\n",
              "      <th>smean</th>\n",
              "      <th>dmean</th>\n",
              "      <th>trans_depth</th>\n",
              "      <th>response_body_len</th>\n",
              "      <th>ct_srv_src</th>\n",
              "      <th>ct_state_ttl</th>\n",
              "      <th>ct_dst_ltm</th>\n",
              "      <th>ct_src_dport_ltm</th>\n",
              "      <th>ct_dst_sport_ltm</th>\n",
              "      <th>ct_dst_src_ltm</th>\n",
              "      <th>is_ftp_login</th>\n",
              "      <th>ct_ftp_cmd</th>\n",
              "      <th>ct_flw_http_mthd</th>\n",
              "      <th>ct_src_ltm</th>\n",
              "      <th>ct_srv_dst</th>\n",
              "      <th>is_sm_ips_ports</th>\n",
              "      <th>label</th>\n",
              "    </tr>\n",
              "  </thead>\n",
              "  <tbody>\n",
              "    <tr>\n",
              "      <th>0</th>\n",
              "      <td>0.000011</td>\n",
              "      <td>2</td>\n",
              "      <td>0</td>\n",
              "      <td>496</td>\n",
              "      <td>0</td>\n",
              "      <td>90909.0902</td>\n",
              "      <td>254</td>\n",
              "      <td>0</td>\n",
              "      <td>180363632.0</td>\n",
              "      <td>0.0</td>\n",
              "      <td>0</td>\n",
              "      <td>0</td>\n",
              "      <td>0.011</td>\n",
              "      <td>0.0</td>\n",
              "      <td>0.0</td>\n",
              "      <td>0.0</td>\n",
              "      <td>0</td>\n",
              "      <td>0</td>\n",
              "      <td>0</td>\n",
              "      <td>0</td>\n",
              "      <td>0.0</td>\n",
              "      <td>0.0</td>\n",
              "      <td>0.0</td>\n",
              "      <td>248</td>\n",
              "      <td>0</td>\n",
              "      <td>0</td>\n",
              "      <td>0</td>\n",
              "      <td>2</td>\n",
              "      <td>2</td>\n",
              "      <td>1</td>\n",
              "      <td>1</td>\n",
              "      <td>1</td>\n",
              "      <td>2</td>\n",
              "      <td>0</td>\n",
              "      <td>0</td>\n",
              "      <td>0</td>\n",
              "      <td>1</td>\n",
              "      <td>2</td>\n",
              "      <td>0</td>\n",
              "      <td>0</td>\n",
              "    </tr>\n",
              "    <tr>\n",
              "      <th>1</th>\n",
              "      <td>0.000008</td>\n",
              "      <td>2</td>\n",
              "      <td>0</td>\n",
              "      <td>1762</td>\n",
              "      <td>0</td>\n",
              "      <td>125000.0003</td>\n",
              "      <td>254</td>\n",
              "      <td>0</td>\n",
              "      <td>881000000.0</td>\n",
              "      <td>0.0</td>\n",
              "      <td>0</td>\n",
              "      <td>0</td>\n",
              "      <td>0.008</td>\n",
              "      <td>0.0</td>\n",
              "      <td>0.0</td>\n",
              "      <td>0.0</td>\n",
              "      <td>0</td>\n",
              "      <td>0</td>\n",
              "      <td>0</td>\n",
              "      <td>0</td>\n",
              "      <td>0.0</td>\n",
              "      <td>0.0</td>\n",
              "      <td>0.0</td>\n",
              "      <td>881</td>\n",
              "      <td>0</td>\n",
              "      <td>0</td>\n",
              "      <td>0</td>\n",
              "      <td>2</td>\n",
              "      <td>2</td>\n",
              "      <td>1</td>\n",
              "      <td>1</td>\n",
              "      <td>1</td>\n",
              "      <td>2</td>\n",
              "      <td>0</td>\n",
              "      <td>0</td>\n",
              "      <td>0</td>\n",
              "      <td>1</td>\n",
              "      <td>2</td>\n",
              "      <td>0</td>\n",
              "      <td>0</td>\n",
              "    </tr>\n",
              "    <tr>\n",
              "      <th>2</th>\n",
              "      <td>0.000005</td>\n",
              "      <td>2</td>\n",
              "      <td>0</td>\n",
              "      <td>1068</td>\n",
              "      <td>0</td>\n",
              "      <td>200000.0051</td>\n",
              "      <td>254</td>\n",
              "      <td>0</td>\n",
              "      <td>854400000.0</td>\n",
              "      <td>0.0</td>\n",
              "      <td>0</td>\n",
              "      <td>0</td>\n",
              "      <td>0.005</td>\n",
              "      <td>0.0</td>\n",
              "      <td>0.0</td>\n",
              "      <td>0.0</td>\n",
              "      <td>0</td>\n",
              "      <td>0</td>\n",
              "      <td>0</td>\n",
              "      <td>0</td>\n",
              "      <td>0.0</td>\n",
              "      <td>0.0</td>\n",
              "      <td>0.0</td>\n",
              "      <td>534</td>\n",
              "      <td>0</td>\n",
              "      <td>0</td>\n",
              "      <td>0</td>\n",
              "      <td>3</td>\n",
              "      <td>2</td>\n",
              "      <td>1</td>\n",
              "      <td>1</td>\n",
              "      <td>1</td>\n",
              "      <td>3</td>\n",
              "      <td>0</td>\n",
              "      <td>0</td>\n",
              "      <td>0</td>\n",
              "      <td>1</td>\n",
              "      <td>3</td>\n",
              "      <td>0</td>\n",
              "      <td>0</td>\n",
              "    </tr>\n",
              "    <tr>\n",
              "      <th>3</th>\n",
              "      <td>0.000006</td>\n",
              "      <td>2</td>\n",
              "      <td>0</td>\n",
              "      <td>900</td>\n",
              "      <td>0</td>\n",
              "      <td>166666.6608</td>\n",
              "      <td>254</td>\n",
              "      <td>0</td>\n",
              "      <td>600000000.0</td>\n",
              "      <td>0.0</td>\n",
              "      <td>0</td>\n",
              "      <td>0</td>\n",
              "      <td>0.006</td>\n",
              "      <td>0.0</td>\n",
              "      <td>0.0</td>\n",
              "      <td>0.0</td>\n",
              "      <td>0</td>\n",
              "      <td>0</td>\n",
              "      <td>0</td>\n",
              "      <td>0</td>\n",
              "      <td>0.0</td>\n",
              "      <td>0.0</td>\n",
              "      <td>0.0</td>\n",
              "      <td>450</td>\n",
              "      <td>0</td>\n",
              "      <td>0</td>\n",
              "      <td>0</td>\n",
              "      <td>3</td>\n",
              "      <td>2</td>\n",
              "      <td>2</td>\n",
              "      <td>2</td>\n",
              "      <td>1</td>\n",
              "      <td>3</td>\n",
              "      <td>0</td>\n",
              "      <td>0</td>\n",
              "      <td>0</td>\n",
              "      <td>2</td>\n",
              "      <td>3</td>\n",
              "      <td>0</td>\n",
              "      <td>0</td>\n",
              "    </tr>\n",
              "    <tr>\n",
              "      <th>4</th>\n",
              "      <td>0.000010</td>\n",
              "      <td>2</td>\n",
              "      <td>0</td>\n",
              "      <td>2126</td>\n",
              "      <td>0</td>\n",
              "      <td>100000.0025</td>\n",
              "      <td>254</td>\n",
              "      <td>0</td>\n",
              "      <td>850400000.0</td>\n",
              "      <td>0.0</td>\n",
              "      <td>0</td>\n",
              "      <td>0</td>\n",
              "      <td>0.010</td>\n",
              "      <td>0.0</td>\n",
              "      <td>0.0</td>\n",
              "      <td>0.0</td>\n",
              "      <td>0</td>\n",
              "      <td>0</td>\n",
              "      <td>0</td>\n",
              "      <td>0</td>\n",
              "      <td>0.0</td>\n",
              "      <td>0.0</td>\n",
              "      <td>0.0</td>\n",
              "      <td>1063</td>\n",
              "      <td>0</td>\n",
              "      <td>0</td>\n",
              "      <td>0</td>\n",
              "      <td>3</td>\n",
              "      <td>2</td>\n",
              "      <td>2</td>\n",
              "      <td>2</td>\n",
              "      <td>1</td>\n",
              "      <td>3</td>\n",
              "      <td>0</td>\n",
              "      <td>0</td>\n",
              "      <td>0</td>\n",
              "      <td>2</td>\n",
              "      <td>3</td>\n",
              "      <td>0</td>\n",
              "      <td>0</td>\n",
              "    </tr>\n",
              "  </tbody>\n",
              "</table>\n",
              "</div>"
            ],
            "text/plain": [
              "        dur  spkts  dpkts  ...  ct_srv_dst  is_sm_ips_ports  label\n",
              "0  0.000011      2      0  ...           2                0      0\n",
              "1  0.000008      2      0  ...           2                0      0\n",
              "2  0.000005      2      0  ...           3                0      0\n",
              "3  0.000006      2      0  ...           3                0      0\n",
              "4  0.000010      2      0  ...           3                0      0\n",
              "\n",
              "[5 rows x 40 columns]"
            ]
          },
          "metadata": {},
          "execution_count": 5
        }
      ]
    },
    {
      "cell_type": "code",
      "metadata": {
        "id": "DMl-McdSRFkD"
      },
      "source": [
        "def loaddata(train,test):\n",
        "  data_set =  pd.read_csv(train)\n",
        "  data_set_test = pd.read_csv(test)\n",
        "  data_set_test = data_set_test.drop(columns=['proto','service','state','attack_cat'])\n",
        "  print(data_set.head(5))\n",
        "  X=data_set.drop(columns='label', axis = 1)\n",
        "  y=data_set['label']\n",
        "  return data_set,data_set_test,X,y"
      ],
      "execution_count": 39,
      "outputs": []
    },
    {
      "cell_type": "markdown",
      "metadata": {
        "id": "vTHHcfXUM_yA"
      },
      "source": [
        "##1.**Correaltion analysis**\n",
        "\n",
        "\n"
      ]
    },
    {
      "cell_type": "markdown",
      "metadata": {
        "id": "Ugc3lxkqvQP2"
      },
      "source": [
        "\n",
        "\n",
        "\n",
        "*   Correlation can help in predicting one attribute from another (Great way to impute missing values).\n",
        "*   List itemCorrelation can (sometimes) indicate the presence of a causal relationship.\n",
        "\n",
        "\n"
      ]
    },
    {
      "cell_type": "markdown",
      "metadata": {
        "id": "F4pU4LnuaxVN"
      },
      "source": [
        "**X (train) , y(label)**"
      ]
    },
    {
      "cell_type": "markdown",
      "metadata": {
        "id": "OvdED17saXgZ"
      },
      "source": [
        "**Remove the highly correlated features : to each other**\n",
        "\n",
        "Advantage: Reduces noise "
      ]
    },
    {
      "cell_type": "markdown",
      "metadata": {
        "id": "8Q8oQeNEuBWL"
      },
      "source": [
        "###1.1**Function to remove highly correlated data**"
      ]
    },
    {
      "cell_type": "code",
      "metadata": {
        "id": "9ss5-Vi0ah3S"
      },
      "source": [
        "def removeHcorrFeature(percentage,X):\n",
        "  # Selecting all the features with high correlation values with other features\n",
        "  # Refer: https://chrisalbon.com/machine_learning/feature_selection/drop_highly_correlated_features/\n",
        "  corr_matrix = X.corr().abs()\n",
        "\n",
        "  # Select upper triangle of correlation matrix\n",
        "  upper = corr_matrix.where(np.triu(np.ones(corr_matrix.shape), k=1).astype(np.bool))\n",
        "\n",
        "  # Find index of feature columns with correlation greater than 0.9\n",
        "  o_drop = [column for column in upper.columns if any(upper[column] > percentage)]\n",
        "  print(o_drop)\n",
        "  return o_drop"
      ],
      "execution_count": 7,
      "outputs": []
    },
    {
      "cell_type": "markdown",
      "metadata": {
        "id": "IcrZYfujNDME"
      },
      "source": [
        "#2.**Feature Engineering**"
      ]
    },
    {
      "cell_type": "markdown",
      "metadata": {
        "id": "sOXwWg0Ob51J"
      },
      "source": [
        "Feature engineering is useful to improve the performance of machine learning algorithms and is often considered as applied machine learning. Features are also referred to as ‘variables’ or ‘attributes’ as they affect the output of a process.\n",
        "\n",
        "\n"
      ]
    },
    {
      "cell_type": "markdown",
      "metadata": {
        "id": "qjEJgG7Rvh-k"
      },
      "source": [
        "###2.1**Function to create new features**"
      ]
    },
    {
      "cell_type": "code",
      "metadata": {
        "id": "p1DONJvgaW-M"
      },
      "source": [
        "def createNewFeatures():\n",
        "   # data_set['network_bytes'] = data_set['sbytes'] + data_set['dbytes']\n",
        "    #data_set_test['network_bytes'] = data_set_test['sbytes'] + data_set_test['dbytes']\n",
        "    #data_set.drop(columns=['sbytes','dbytes'])\n",
        "    #data_set_test.drop(columns=['sbytes','dbytes'])\n",
        "    print(X)\n",
        "    print(\"done\")"
      ],
      "execution_count": 8,
      "outputs": []
    },
    {
      "cell_type": "markdown",
      "metadata": {
        "id": "Zv1HTePKNE5a"
      },
      "source": [
        "#3.**Feature elimination**\n"
      ]
    },
    {
      "cell_type": "markdown",
      "metadata": {
        "id": "5J8MO14F8uPl"
      },
      "source": [
        "**RFE is an efficient approach for eliminating features from a training dataset for feature selection.**"
      ]
    },
    {
      "cell_type": "markdown",
      "metadata": {
        "id": "i65U5swQ46CX"
      },
      "source": [
        "###3.1**SelectKbest**"
      ]
    },
    {
      "cell_type": "markdown",
      "metadata": {
        "id": "uOokXVmF5uzY"
      },
      "source": [
        "**Function for SelectKbest**"
      ]
    },
    {
      "cell_type": "code",
      "metadata": {
        "id": "oY9KUJfSPB_K"
      },
      "source": [
        "def applySelectKBest(K,X,y):\n",
        "  select = SelectKBest(score_func=f_regression, k=K)\n",
        "  print(X)\n",
        "  z = select.fit_transform(X, y) \n",
        "  print(\"After selecting best  features:\", z)  \n",
        "  filter = select.get_support()\n",
        "  features = X.columns\n",
        "  print(\"All features:\")\n",
        "  data_set.name =  features\n",
        "  print(features[filter])\n",
        "  return features[filter]"
      ],
      "execution_count": 9,
      "outputs": []
    },
    {
      "cell_type": "markdown",
      "metadata": {
        "id": "2Es99m374_XB"
      },
      "source": [
        "###3.2**Recursive Elimination**"
      ]
    },
    {
      "cell_type": "markdown",
      "metadata": {
        "id": "2gI5Hpyw52c7"
      },
      "source": [
        "**Function for feature Elimination**\n",
        "\n"
      ]
    },
    {
      "cell_type": "code",
      "metadata": {
        "id": "wb6f3FhC5i-f"
      },
      "source": [
        "def RFE(X,y):\n",
        "\n",
        "  # Build a classification task using 3 informative features\n",
        "\n",
        "\n",
        "# Create the RFE object and compute a cross-validated score.\n",
        "    svc = SVC(kernel=\"linear\")\n",
        "# The \"accuracy\" scoring shows the proportion of correct classifications\n",
        "\n",
        "    min_features_to_select = 25 \n",
        "    rfecv = RFECV(\n",
        "    estimator=svc,\n",
        "    step=1,\n",
        "    cv=StratifiedKFold(2),\n",
        "    scoring=\"accuracy\",\n",
        "    min_features_to_select=min_features_to_select,\n",
        ")\n",
        "    rfecv.fit(X, y)\n",
        "\n",
        "    print(\"Optimal number of features : %d\" % rfecv.n_features_)\n",
        "\n",
        "# Plot number of features VS. cross-validation scores\n",
        "    plt.figure()\n",
        "    plt.xlabel(\"Number of features selected\")\n",
        "    plt.ylabel(\"Cross validation score (accuracy)\")\n",
        "    print(plt.plot(\n",
        "    range(min_features_to_select, len(rfecv.grid_scores_) + min_features_to_select),\n",
        "    rfecv.grid_scores_,\n",
        "     ))\n",
        "    print(plt.show())"
      ],
      "execution_count": 10,
      "outputs": []
    },
    {
      "cell_type": "markdown",
      "metadata": {
        "id": "kH2ao0zINIbK"
      },
      "source": [
        "#4.**Principle component Analysis**\n",
        "\n",
        "\n",
        "\n",
        "\n",
        "\n",
        "\n"
      ]
    },
    {
      "cell_type": "markdown",
      "metadata": {
        "id": "F1xiK_WE6-t2"
      },
      "source": [
        "###4.1**Functions for applying PCA method**"
      ]
    },
    {
      "cell_type": "code",
      "metadata": {
        "id": "uJ2Rvg5RcV-M"
      },
      "source": [
        "def applyPCA(X, n_com):\n",
        "   pca = PCA(n_components=n_com).fit(X)\n",
        "   X_train_pca = pca.transform(X)\n",
        "   print(pca.n_components_)\n",
        "   return X_train_pca"
      ],
      "execution_count": 11,
      "outputs": []
    },
    {
      "cell_type": "markdown",
      "metadata": {
        "id": "FxvA1sa7Nn6S"
      },
      "source": [
        "#5.**Feature Scaling**\n",
        "\n",
        "\n",
        "\n"
      ]
    },
    {
      "cell_type": "markdown",
      "metadata": {
        "id": "rNWPddYc8F-X"
      },
      "source": [
        "###5.1**MinMaxScaling**"
      ]
    },
    {
      "cell_type": "markdown",
      "metadata": {
        "id": "EaBs5LRz8SBj"
      },
      "source": [
        "**Function for min max scaling**"
      ]
    },
    {
      "cell_type": "code",
      "metadata": {
        "id": "muclaRD4HZ7Y"
      },
      "source": [
        "def applyMinMax(data):  \n",
        "# scale features\n",
        "  scaler = MinMaxScaler()\n",
        "  model=scaler.fit(data)\n",
        "  scaled_data=model.transform(data)\n",
        "  return scaled_data\n",
        "  #print(data_set)\n",
        "  "
      ],
      "execution_count": 12,
      "outputs": []
    },
    {
      "cell_type": "markdown",
      "metadata": {
        "id": "NKjW_1wy8MFd"
      },
      "source": [
        "###5.2**Standard Scaling** "
      ]
    },
    {
      "cell_type": "markdown",
      "metadata": {
        "id": "Gtv165KL8Yw8"
      },
      "source": [
        "**Function for standard scaling**"
      ]
    },
    {
      "cell_type": "code",
      "metadata": {
        "id": "E05gCeJdNnre"
      },
      "source": [
        "def applyStandardScaler(data):\n",
        "  scaler = StandardScaler()\n",
        "  model = scaler.fit(data)\n",
        "  scaled_data = model.transform(data)\n",
        "  #print(data_set)\n",
        "  return scaled_data\n"
      ],
      "execution_count": 13,
      "outputs": []
    },
    {
      "cell_type": "markdown",
      "metadata": {
        "id": "APmj_xGANH_i"
      },
      "source": [
        "# Main function "
      ]
    },
    {
      "cell_type": "code",
      "metadata": {
        "colab": {
          "base_uri": "https://localhost:8080/"
        },
        "id": "TWh31Ox2NHzq",
        "outputId": "9b34e76d-2fe2-44b3-e0c2-f81a0490d813"
      },
      "source": [
        "def main():\n",
        "  # create variables to store the return value\n",
        "    col=[]\n",
        "    col_selectkbest=[]\n",
        "    col_backward=[]\n",
        "\n",
        "    col_forward=[]\n",
        "    K=10\n",
        "    n_com= 0.99\n",
        "  \n",
        "    print(\"Load the data\")\n",
        "    data_set,data_set_test,X,y = loaddata(\"train_cleaned.csv\",\"test_cleaned.csv\")\n",
        "    print(\"**************************************************************************************************************\")\n",
        "\n",
        "    print(\"Create new feature\")\n",
        "    createNewFeatures()\n",
        "    print(\"**************************************************************************************************************\")\n",
        "\n",
        "    print(\"Remove highly correlated features with each other\")\n",
        "    \n",
        "    col = removeHcorrFeature(0.99, X)\n",
        "    print(col)\n",
        "    data_set.drop(data_set[col], axis=1, inplace=True)\n",
        "    data_set_test.drop(data_set_test[col], axis=1, inplace=True)\n",
        "    X.drop(X[col], axis=1, inplace=True)\n",
        "    print(\"Columns of data_set : \",len(data_set.columns))\n",
        "    print(\"Columns of data_set_test : \",len(data_set_test.columns))\n",
        "    print(\"Columns of X:\", len(X.columns))\n",
        "\n",
        "\n",
        "    print(\"**************************************************************************************************************\")\n",
        "\n",
        "    print(\"Feature selection:SelectKbest\")\n",
        "    col_selectkbest =  applySelectKBest(K,X,y)\n",
        "    data_set.drop(data_set[col_selectkbest], axis=1, inplace=True)\n",
        "    data_set_test.drop(data_set_test[col_selectkbest], axis=1, inplace=True)\n",
        "    X.drop(X[col_selectkbest], axis=1, inplace=True)\n",
        "    print(\"check the length here \")\n",
        "    print(len(data_set.columns))\n",
        "    print(len(data_set_test.columns))\n",
        "\n",
        "    print(\"**************************************************************************************************************\")\n",
        "\n",
        "    #Backward elimination is only  for data inferences \n",
        "    #print(\"Feature selection:Backward elimination\")\n",
        "    #col_backward = RFE(X,y)\n",
        "    #print(col_backward)\n",
        "    #print(\"**************************************************************************************************************\")\n",
        "\n",
        "    print(\"Apply Principle component analysis\")\n",
        "    X = applyPCA(X, n_com)\n",
        "    print(X)\n",
        "    data_set = pd.DataFrame(X, columns = ['Column_A','Column_B'])\n",
        "    data_set = pd.concat([data_set, y], axis=1)\n",
        "    X1=data_set_test.drop(columns=['label'], axis = 1)\n",
        "    print(\"the X1\", X1)\n",
        "    y1=data_set_test['label']\n",
        "    X1 = applyPCA(X1, n_com)\n",
        "    data_set_test = pd.DataFrame(X1, columns = ['Column_A','Column_B'])\n",
        "    data_set_test = pd.concat([data_set_test, y1], axis=1)\n",
        "    print(\"length of columns:\",len(data_set.columns))\n",
        "    print(\"length of columns:\",len(data_set_test.columns))\n",
        "    print(\"the PCA trabformation:\",data_set_test)\n",
        "\n",
        "    print(\"**************************************************************************************************************\")\n",
        "    print(\"this much\")\n",
        "    print(\"Apply MinMax scaler\")\n",
        "    X=data_set.drop(columns='label', axis = 1)\n",
        "    y=data_set['label']\n",
        "    X = applyMinMax(X)\n",
        "    X = pd.DataFrame(X, columns = ['Column_A','Column_B'])\n",
        "    data_set = pd.concat([X, y], axis=1)\n",
        "    X1 =data_set_test.drop(columns=['label'], axis = 1)\n",
        "    y=data_set_test['label']\n",
        "    X1 = applyMinMax(X1)\n",
        "    X1 = pd.DataFrame(X1, columns = ['Column_A','Column_B'])\n",
        "    data_set_test = pd.concat([X1, y1], axis=1)\n",
        "\n",
        "    print(\"**************************************************************************************************************\")\n",
        "\n",
        "    print(\"Apply Standard scaler\")\n",
        "    X=data_set.drop(columns='label', axis = 1)\n",
        "    y=data_set['label']\n",
        "    X = applyStandardScaler(X)\n",
        "    X = pd.DataFrame(X, columns = ['Column_A','Column_B'])\n",
        "    data_set = pd.concat([X, y], axis=1)\n",
        "    X1 =data_set_test.drop(columns='label', axis = 1)\n",
        "    y=data_set['label']\n",
        "    X1 = applyStandardScaler(X1)\n",
        "    X1 = pd.DataFrame(X1, columns = ['Column_A','Column_B'])\n",
        "    data_set_test = pd.concat([X1, y1], axis=1)\n",
        "    print(\"after minmax scaler:\",data_set.head(5))\n",
        "    print(\"**************************************************************************************************************\")\n",
        "\n",
        "\n",
        "    print(\"The final train data\")\n",
        "    print(data_set.head(5))\n",
        "    print(\"**************************************************************************************************************\")\n",
        "\n",
        "    print(\"The final test data\")\n",
        "    print(data_set_test.head(5))\n",
        "    print(\"**************************************************************************************************************\")\n",
        "    return data_set,data_set_test\n",
        "\n",
        "data_set,data_set_test = main()"
      ],
      "execution_count": 51,
      "outputs": [
        {
          "output_type": "stream",
          "name": "stdout",
          "text": [
            "Load the data\n",
            "        dur  spkts  dpkts  ...  ct_srv_dst  is_sm_ips_ports  label\n",
            "0  0.000011      2      0  ...           2                0      0\n",
            "1  0.000008      2      0  ...           2                0      0\n",
            "2  0.000005      2      0  ...           3                0      0\n",
            "3  0.000006      2      0  ...           3                0      0\n",
            "4  0.000010      2      0  ...           3                0      0\n",
            "\n",
            "[5 rows x 40 columns]\n",
            "**************************************************************************************************************\n",
            "Create new feature\n",
            "Empty DataFrame\n",
            "Columns: []\n",
            "Index: []\n",
            "done\n",
            "**************************************************************************************************************\n",
            "Remove highly correlated features with each other\n",
            "['sloss', 'dloss', 'ct_ftp_cmd']\n",
            "['sloss', 'dloss', 'ct_ftp_cmd']\n",
            "Columns of data_set :  37\n",
            "Columns of data_set_test :  37\n",
            "Columns of X: 36\n",
            "**************************************************************************************************************\n",
            "Feature selection:SelectKbest\n",
            "            dur  spkts  dpkts  ...  ct_src_ltm  ct_srv_dst  is_sm_ips_ports\n",
            "0      0.000011      2      0  ...           1           2                0\n",
            "1      0.000008      2      0  ...           1           2                0\n",
            "2      0.000005      2      0  ...           1           3                0\n",
            "3      0.000006      2      0  ...           2           3                0\n",
            "4      0.000010      2      0  ...           2           3                0\n",
            "...         ...    ...    ...  ...         ...         ...              ...\n",
            "82327  0.000005      2      0  ...           2           1                0\n",
            "82328  1.106101     20      8  ...           3           2                0\n",
            "82329  0.000000      1      0  ...           1           1                1\n",
            "82330  0.000000      1      0  ...           1           1                1\n",
            "82331  0.000009      2      0  ...           1           1                0\n",
            "\n",
            "[82332 rows x 36 columns]\n",
            "After selecting best  features: [[9.09090902e+04 2.54000000e+02 0.00000000e+00 ... 1.00000000e+00\n",
            "  1.00000000e+00 2.00000000e+00]\n",
            " [1.25000000e+05 2.54000000e+02 0.00000000e+00 ... 1.00000000e+00\n",
            "  1.00000000e+00 2.00000000e+00]\n",
            " [2.00000005e+05 2.54000000e+02 0.00000000e+00 ... 1.00000000e+00\n",
            "  1.00000000e+00 3.00000000e+00]\n",
            " ...\n",
            " [0.00000000e+00 0.00000000e+00 0.00000000e+00 ... 1.00000000e+00\n",
            "  1.00000000e+00 1.00000000e+00]\n",
            " [0.00000000e+00 0.00000000e+00 0.00000000e+00 ... 1.00000000e+00\n",
            "  1.00000000e+00 1.00000000e+00]\n",
            " [1.11111107e+05 2.54000000e+02 0.00000000e+00 ... 1.00000000e+00\n",
            "  1.00000000e+00 1.00000000e+00]]\n",
            "All features:\n",
            "Index(['rate', 'sttl', 'swin', 'dtcpb', 'dwin', 'ct_srv_src', 'ct_state_ttl',\n",
            "       'ct_src_dport_ltm', 'ct_dst_sport_ltm', 'ct_srv_dst'],\n",
            "      dtype='object')\n",
            "check the length here \n",
            "27\n",
            "27\n",
            "**************************************************************************************************************\n",
            "Apply Principle component analysis\n",
            "2\n",
            "[[-1.08814812e+09  7.61204031e+07]\n",
            " [-1.11373923e+09  7.76289112e+08]\n",
            " [-1.11276765e+09  7.49706866e+08]\n",
            " ...\n",
            " [-1.08156025e+09 -1.04122840e+08]\n",
            " [-1.08156025e+09 -1.04122840e+08]\n",
            " [-1.08324854e+09 -5.79314724e+07]]\n",
            "the X1              dur  spkts  dpkts  ...  ct_flw_http_mthd  ct_src_ltm  is_sm_ips_ports\n",
            "0       0.121478      6      4  ...                 0           1                0\n",
            "1       0.649902     14     38  ...                 0           1                0\n",
            "2       1.623129      8     16  ...                 0           2                0\n",
            "3       1.681642     12     12  ...                 0           2                0\n",
            "4       0.449454     10      6  ...                 0           2                0\n",
            "...          ...    ...    ...  ...               ...         ...              ...\n",
            "175336  0.000009      2      0  ...                 0          24                0\n",
            "175337  0.505762     10      8  ...                 0           1                0\n",
            "175338  0.000009      2      0  ...                 0           3                0\n",
            "175339  0.000009      2      0  ...                 0          30                0\n",
            "175340  0.000009      2      0  ...                 0          30                0\n",
            "\n",
            "[175341 rows x 26 columns]\n",
            "2\n",
            "length of columns: 3\n",
            "length of columns: 3\n",
            "the PCA trabformation:             Column_A      Column_B  label\n",
            "0      -3.443329e+08 -8.700065e+07      0\n",
            "1       4.511673e+08 -5.580717e+07      0\n",
            "2       1.148897e+09 -2.844868e+07      0\n",
            "3       1.406411e+08 -6.799136e+07      0\n",
            "4       1.468638e+09 -1.590140e+07      0\n",
            "...              ...           ...    ...\n",
            "175336 -9.676130e+08 -6.075430e+07      1\n",
            "175337  2.550445e+09  2.652741e+07      1\n",
            "175338 -9.676130e+08 -6.075430e+07      1\n",
            "175339 -9.676130e+08 -6.075430e+07      1\n",
            "175340 -9.676130e+08 -6.075430e+07      1\n",
            "\n",
            "[175341 rows x 3 columns]\n",
            "**************************************************************************************************************\n",
            "this much\n",
            "Apply MinMax scaler\n",
            "**************************************************************************************************************\n",
            "Apply Standard scaler\n",
            "after minmax scaler:    Column_A  Column_B  label\n",
            "0 -0.781847  0.440913      0\n",
            "1 -0.800235  4.496510      0\n",
            "2 -0.799537  4.342537      0\n",
            "3 -0.792860  2.869956      0\n",
            "4 -0.799432  4.319383      0\n",
            "**************************************************************************************************************\n",
            "The final train data\n",
            "   Column_A  Column_B  label\n",
            "0 -0.781847  0.440913      0\n",
            "1 -0.800235  4.496510      0\n",
            "2 -0.799537  4.342537      0\n",
            "3 -0.792860  2.869956      0\n",
            "4 -0.799432  4.319383      0\n",
            "**************************************************************************************************************\n",
            "The final test data\n",
            "   Column_A  Column_B  label\n",
            "0 -0.253880 -0.481090      0\n",
            "1  0.332650 -0.308598      0\n",
            "2  0.847092 -0.157313      0\n",
            "3  0.103696 -0.375974      0\n",
            "4  1.082840 -0.087930      0\n",
            "**************************************************************************************************************\n"
          ]
        }
      ]
    },
    {
      "cell_type": "markdown",
      "metadata": {
        "id": "7Ntv5GejVT76"
      },
      "source": [
        "#6.**Save the preprocessed file**"
      ]
    },
    {
      "cell_type": "code",
      "metadata": {
        "id": "cFQMMqdiVTUc"
      },
      "source": [
        "data_set.to_csv('train_preprocessed.csv', index=False)\n",
        "data_set_test.to_csv('test_preprocessed.csv', index=False)"
      ],
      "execution_count": 52,
      "outputs": []
    },
    {
      "cell_type": "code",
      "metadata": {
        "colab": {
          "base_uri": "https://localhost:8080/",
          "height": 204
        },
        "id": "KdLO1bufWzqj",
        "outputId": "c464e008-7367-4d06-fe43-0201f34d61e5"
      },
      "source": [
        "data_set.head(5)"
      ],
      "execution_count": 55,
      "outputs": [
        {
          "output_type": "execute_result",
          "data": {
            "text/html": [
              "<div>\n",
              "<style scoped>\n",
              "    .dataframe tbody tr th:only-of-type {\n",
              "        vertical-align: middle;\n",
              "    }\n",
              "\n",
              "    .dataframe tbody tr th {\n",
              "        vertical-align: top;\n",
              "    }\n",
              "\n",
              "    .dataframe thead th {\n",
              "        text-align: right;\n",
              "    }\n",
              "</style>\n",
              "<table border=\"1\" class=\"dataframe\">\n",
              "  <thead>\n",
              "    <tr style=\"text-align: right;\">\n",
              "      <th></th>\n",
              "      <th>Column_A</th>\n",
              "      <th>Column_B</th>\n",
              "      <th>label</th>\n",
              "    </tr>\n",
              "  </thead>\n",
              "  <tbody>\n",
              "    <tr>\n",
              "      <th>0</th>\n",
              "      <td>-0.781847</td>\n",
              "      <td>0.440913</td>\n",
              "      <td>0</td>\n",
              "    </tr>\n",
              "    <tr>\n",
              "      <th>1</th>\n",
              "      <td>-0.800235</td>\n",
              "      <td>4.496510</td>\n",
              "      <td>0</td>\n",
              "    </tr>\n",
              "    <tr>\n",
              "      <th>2</th>\n",
              "      <td>-0.799537</td>\n",
              "      <td>4.342537</td>\n",
              "      <td>0</td>\n",
              "    </tr>\n",
              "    <tr>\n",
              "      <th>3</th>\n",
              "      <td>-0.792860</td>\n",
              "      <td>2.869956</td>\n",
              "      <td>0</td>\n",
              "    </tr>\n",
              "    <tr>\n",
              "      <th>4</th>\n",
              "      <td>-0.799432</td>\n",
              "      <td>4.319383</td>\n",
              "      <td>0</td>\n",
              "    </tr>\n",
              "  </tbody>\n",
              "</table>\n",
              "</div>"
            ],
            "text/plain": [
              "   Column_A  Column_B  label\n",
              "0 -0.781847  0.440913      0\n",
              "1 -0.800235  4.496510      0\n",
              "2 -0.799537  4.342537      0\n",
              "3 -0.792860  2.869956      0\n",
              "4 -0.799432  4.319383      0"
            ]
          },
          "metadata": {},
          "execution_count": 55
        }
      ]
    }
  ]
}
