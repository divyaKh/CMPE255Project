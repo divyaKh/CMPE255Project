{
 "cells": [
  {
   "cell_type": "code",
   "execution_count": 1,
   "metadata": {
    "id": "muclaRD4HZ7Y"
   },
   "outputs": [],
   "source": [
    "import pandas as pd\n",
    "import numpy as np\n",
    "from sklearn.feature_selection import SelectKBest\n",
    "from sklearn.feature_selection import chi2, f_regression\n",
    "from sklearn.datasets import load_boston\n",
    "from sklearn.datasets import load_iris\n",
    "from numpy import array \n",
    "from sklearn.preprocessing import StandardScaler,MinMaxScaler\n",
    "from sklearn.pipeline import make_pipeline\n",
    "from sklearn import svm\n",
    "from mlxtend.feature_selection import SequentialFeatureSelector as SFS"
   ]
  },
  {
   "cell_type": "code",
   "execution_count": 2,
   "metadata": {},
   "outputs": [],
   "source": [
    "data_train = pd.read_csv('../1.Dataset/train_cleaned.csv')"
   ]
  },
  {
   "cell_type": "code",
   "execution_count": 3,
   "metadata": {},
   "outputs": [
    {
     "name": "stdout",
     "output_type": "stream",
     "text": [
      "        dur  spkts  dpkts  sbytes  dbytes         rate  sttl  dttl  \\\n",
      "0  0.000011      2      0     496       0   90909.0902   254     0   \n",
      "1  0.000008      2      0    1762       0  125000.0003   254     0   \n",
      "\n",
      "         sload  dload  ...  ct_src_dport_ltm  ct_dst_sport_ltm  \\\n",
      "0  180363632.0    0.0  ...                 1                 1   \n",
      "1  881000000.0    0.0  ...                 1                 1   \n",
      "\n",
      "   ct_dst_src_ltm  is_ftp_login  ct_ftp_cmd  ct_flw_http_mthd  ct_src_ltm  \\\n",
      "0               2             0           0                 0           1   \n",
      "1               2             0           0                 0           1   \n",
      "\n",
      "   ct_srv_dst  is_sm_ips_ports  label  \n",
      "0           2                0      0  \n",
      "1           2                0      0  \n",
      "\n",
      "[2 rows x 40 columns]\n"
     ]
    }
   ],
   "source": [
    "print(data_train.head(2))"
   ]
  },
  {
   "cell_type": "code",
   "execution_count": 4,
   "metadata": {},
   "outputs": [
    {
     "name": "stdout",
     "output_type": "stream",
     "text": [
      "<class 'pandas.core.frame.DataFrame'>\n",
      "RangeIndex: 82332 entries, 0 to 82331\n",
      "Data columns (total 40 columns):\n",
      " #   Column             Non-Null Count  Dtype  \n",
      "---  ------             --------------  -----  \n",
      " 0   dur                82332 non-null  float64\n",
      " 1   spkts              82332 non-null  int64  \n",
      " 2   dpkts              82332 non-null  int64  \n",
      " 3   sbytes             82332 non-null  int64  \n",
      " 4   dbytes             82332 non-null  int64  \n",
      " 5   rate               82332 non-null  float64\n",
      " 6   sttl               82332 non-null  int64  \n",
      " 7   dttl               82332 non-null  int64  \n",
      " 8   sload              82332 non-null  float64\n",
      " 9   dload              82332 non-null  float64\n",
      " 10  sloss              82332 non-null  int64  \n",
      " 11  dloss              82332 non-null  int64  \n",
      " 12  sinpkt             82332 non-null  float64\n",
      " 13  dinpkt             82332 non-null  float64\n",
      " 14  sjit               82332 non-null  float64\n",
      " 15  djit               82332 non-null  float64\n",
      " 16  swin               82332 non-null  int64  \n",
      " 17  stcpb              82332 non-null  int64  \n",
      " 18  dtcpb              82332 non-null  int64  \n",
      " 19  dwin               82332 non-null  int64  \n",
      " 20  tcprtt             82332 non-null  float64\n",
      " 21  synack             82332 non-null  float64\n",
      " 22  ackdat             82332 non-null  float64\n",
      " 23  smean              82332 non-null  int64  \n",
      " 24  dmean              82332 non-null  int64  \n",
      " 25  trans_depth        82332 non-null  int64  \n",
      " 26  response_body_len  82332 non-null  int64  \n",
      " 27  ct_srv_src         82332 non-null  int64  \n",
      " 28  ct_state_ttl       82332 non-null  int64  \n",
      " 29  ct_dst_ltm         82332 non-null  int64  \n",
      " 30  ct_src_dport_ltm   82332 non-null  int64  \n",
      " 31  ct_dst_sport_ltm   82332 non-null  int64  \n",
      " 32  ct_dst_src_ltm     82332 non-null  int64  \n",
      " 33  is_ftp_login       82332 non-null  int64  \n",
      " 34  ct_ftp_cmd         82332 non-null  int64  \n",
      " 35  ct_flw_http_mthd   82332 non-null  int64  \n",
      " 36  ct_src_ltm         82332 non-null  int64  \n",
      " 37  ct_srv_dst         82332 non-null  int64  \n",
      " 38  is_sm_ips_ports    82332 non-null  int64  \n",
      " 39  label              82332 non-null  int64  \n",
      "dtypes: float64(11), int64(29)\n",
      "memory usage: 25.1 MB\n"
     ]
    }
   ],
   "source": [
    "data_train.info()"
   ]
  },
  {
   "cell_type": "code",
   "execution_count": 5,
   "metadata": {},
   "outputs": [],
   "source": [
    "y = data_train.label"
   ]
  },
  {
   "cell_type": "code",
   "execution_count": 6,
   "metadata": {},
   "outputs": [],
   "source": [
    "x = data_train.drop('label', axis = 1)"
   ]
  },
  {
   "cell_type": "code",
   "execution_count": 7,
   "metadata": {},
   "outputs": [],
   "source": [
    "#x['proto'] = pd.get_dummies"
   ]
  },
  {
   "cell_type": "code",
   "execution_count": 8,
   "metadata": {},
   "outputs": [
    {
     "name": "stdout",
     "output_type": "stream",
     "text": [
      "After selecting best 30 features: [[2. 0. 0. ... 1. 2. 0.]\n",
      " [2. 0. 0. ... 1. 2. 0.]\n",
      " [2. 0. 0. ... 1. 3. 0.]\n",
      " ...\n",
      " [1. 0. 0. ... 1. 1. 1.]\n",
      " [1. 0. 0. ... 1. 1. 1.]\n",
      " [2. 0. 0. ... 1. 1. 0.]]\n",
      "All features:\n",
      "Index(['dur', 'spkts', 'dpkts', 'sbytes', 'dbytes', 'rate', 'sttl', 'dttl',\n",
      "       'sload', 'dload', 'sloss', 'dloss', 'sinpkt', 'dinpkt', 'sjit', 'djit',\n",
      "       'swin', 'stcpb', 'dtcpb', 'dwin', 'tcprtt', 'synack', 'ackdat', 'smean',\n",
      "       'dmean', 'trans_depth', 'response_body_len', 'ct_srv_src',\n",
      "       'ct_state_ttl', 'ct_dst_ltm', 'ct_src_dport_ltm', 'ct_dst_sport_ltm',\n",
      "       'ct_dst_src_ltm', 'is_ftp_login', 'ct_ftp_cmd', 'ct_flw_http_mthd',\n",
      "       'ct_src_ltm', 'ct_srv_dst', 'is_sm_ips_ports'],\n",
      "      dtype='object')\n",
      "Index(['spkts', 'dpkts', 'dbytes', 'rate', 'sttl', 'dttl', 'sload', 'dload',\n",
      "       'dloss', 'sinpkt', 'dinpkt', 'swin', 'stcpb', 'dtcpb', 'dwin', 'tcprtt',\n",
      "       'synack', 'ackdat', 'smean', 'dmean', 'ct_srv_src', 'ct_state_ttl',\n",
      "       'ct_dst_ltm', 'ct_src_dport_ltm', 'ct_dst_sport_ltm', 'ct_dst_src_ltm',\n",
      "       'ct_flw_http_mthd', 'ct_src_ltm', 'ct_srv_dst', 'is_sm_ips_ports'],\n",
      "      dtype='object')\n"
     ]
    }
   ],
   "source": [
    "select = SelectKBest(score_func=f_regression, k=30)\n",
    "z = select.fit_transform(x, y) \n",
    "print(\"After selecting best 30 features:\", z)  \n",
    "filter = select.get_support()\n",
    "features = x.columns\n",
    "print(\"All features:\")\n",
    "print(features)\n",
    "print(features[filter])"
   ]
  },
  {
   "cell_type": "code",
   "execution_count": 9,
   "metadata": {},
   "outputs": [],
   "source": [
    "def recursive_forward_elimintaion(size):\n",
    "    select = SelectKBest(score_func=f_regression, k=size)\n",
    "    z = select.fit_transform(x, y) \n",
    "    print(\"After selecting best 30 features:\", z)  \n",
    "    filter = select.get_support()\n",
    "    features = x.columns\n",
    "    print(\"All features:\")\n",
    "    print(features)\n",
    "    print(features[filter])"
   ]
  },
  {
   "cell_type": "code",
   "execution_count": 10,
   "metadata": {},
   "outputs": [
    {
     "name": "stdout",
     "output_type": "stream",
     "text": [
      "After selecting best 30 features: [[1.1e-05 2.0e+00 0.0e+00 ... 1.0e+00 2.0e+00 0.0e+00]\n",
      " [8.0e-06 2.0e+00 0.0e+00 ... 1.0e+00 2.0e+00 0.0e+00]\n",
      " [5.0e-06 2.0e+00 0.0e+00 ... 1.0e+00 3.0e+00 0.0e+00]\n",
      " ...\n",
      " [0.0e+00 1.0e+00 0.0e+00 ... 1.0e+00 1.0e+00 1.0e+00]\n",
      " [0.0e+00 1.0e+00 0.0e+00 ... 1.0e+00 1.0e+00 1.0e+00]\n",
      " [9.0e-06 2.0e+00 0.0e+00 ... 1.0e+00 1.0e+00 0.0e+00]]\n",
      "All features:\n",
      "Index(['dur', 'spkts', 'dpkts', 'sbytes', 'dbytes', 'rate', 'sttl', 'dttl',\n",
      "       'sload', 'dload', 'sloss', 'dloss', 'sinpkt', 'dinpkt', 'sjit', 'djit',\n",
      "       'swin', 'stcpb', 'dtcpb', 'dwin', 'tcprtt', 'synack', 'ackdat', 'smean',\n",
      "       'dmean', 'trans_depth', 'response_body_len', 'ct_srv_src',\n",
      "       'ct_state_ttl', 'ct_dst_ltm', 'ct_src_dport_ltm', 'ct_dst_sport_ltm',\n",
      "       'ct_dst_src_ltm', 'is_ftp_login', 'ct_ftp_cmd', 'ct_flw_http_mthd',\n",
      "       'ct_src_ltm', 'ct_srv_dst', 'is_sm_ips_ports'],\n",
      "      dtype='object')\n",
      "Index(['dur', 'spkts', 'dpkts', 'sbytes', 'dbytes', 'rate', 'sttl', 'dttl',\n",
      "       'sload', 'dload', 'sloss', 'dloss', 'sinpkt', 'dinpkt', 'sjit', 'djit',\n",
      "       'swin', 'stcpb', 'dtcpb', 'dwin', 'tcprtt', 'synack', 'ackdat', 'smean',\n",
      "       'dmean', 'trans_depth', 'response_body_len', 'ct_srv_src',\n",
      "       'ct_state_ttl', 'ct_dst_ltm', 'ct_src_dport_ltm', 'ct_dst_sport_ltm',\n",
      "       'ct_dst_src_ltm', 'is_ftp_login', 'ct_ftp_cmd', 'ct_flw_http_mthd',\n",
      "       'ct_src_ltm', 'ct_srv_dst', 'is_sm_ips_ports'],\n",
      "      dtype='object')\n"
     ]
    }
   ],
   "source": [
    "recursive_forward_elimintaion(39)"
   ]
  },
  {
   "cell_type": "code",
   "execution_count": 11,
   "metadata": {},
   "outputs": [],
   "source": [
    "def support_vector_machine(type):\n",
    "    svm.SVC(kernel=type)"
   ]
  },
  {
   "cell_type": "code",
   "execution_count": 12,
   "metadata": {},
   "outputs": [],
   "source": [
    "linear = support_vector_machine('linear')"
   ]
  },
  {
   "cell_type": "code",
   "execution_count": 13,
   "metadata": {},
   "outputs": [],
   "source": [
    "kernel = support_vector_machine('kernel')"
   ]
  },
  {
   "cell_type": "code",
   "execution_count": 14,
   "metadata": {},
   "outputs": [],
   "source": [
    "# lr = svm.SVC(kernel='linear') \n",
    "def backward(lr,k):\n",
    "    classifier_pipeline = make_pipeline(StandardScaler(),MinMaxScaler(),lr)\n",
    "    from sklearn.pipeline import make_pipeline\n",
    "    sfs1 = SFS(classifier_pipeline, \n",
    "               k_features=k, \n",
    "               forward=False, \n",
    "               scoring='neg_mean_squared_error',\n",
    "               cv=5)\n",
    "    sfs1.fit(x,y)\n",
    "    sfs1.subsets_"
   ]
  },
  {
   "cell_type": "code",
   "execution_count": 15,
   "metadata": {},
   "outputs": [],
   "source": [
    "def forward(lr,k):\n",
    "    classifier_pipeline = make_pipeline(StandardScaler(),MinMaxScaler(),lr)\n",
    "    from sklearn.pipeline import make_pipeline\n",
    "    sfs1 = SFS(classifier_pipeline, \n",
    "               k_features=k, \n",
    "               forward=True, \n",
    "               scoring='r2',\n",
    "               cv=5)\n",
    "    sfs1.fit(X,y)\n",
    "    sfs1.subsets_"
   ]
  },
  {
   "cell_type": "code",
   "execution_count": null,
   "metadata": {},
   "outputs": [],
   "source": []
  }
 ],
 "metadata": {
  "colab": {
   "authorship_tag": "ABX9TyOQeHar/MRLkKgQtMfC7Oe9",
   "name": "Untitled11.ipynb",
   "provenance": []
  },
  "kernelspec": {
   "display_name": "Python 3",
   "language": "python",
   "name": "python3"
  },
  "language_info": {
   "codemirror_mode": {
    "name": "ipython",
    "version": 3
   },
   "file_extension": ".py",
   "mimetype": "text/x-python",
   "name": "python",
   "nbconvert_exporter": "python",
   "pygments_lexer": "ipython3",
   "version": "3.8.8"
  }
 },
 "nbformat": 4,
 "nbformat_minor": 1
}
