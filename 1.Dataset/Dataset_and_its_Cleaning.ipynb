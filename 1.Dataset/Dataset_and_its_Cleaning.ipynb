{
  "nbformat": 4,
  "nbformat_minor": 0,
  "metadata": {
    "colab": {
      "name": "Dataset and its Cleaning.ipynb",
      "provenance": [],
      "authorship_tag": "ABX9TyPVYiUKw9WH1ZGNgI4Rd6NY"
    },
    "kernelspec": {
      "name": "python3",
      "display_name": "Python 3"
    },
    "language_info": {
      "name": "python"
    }
  },
  "cells": [
    {
      "cell_type": "markdown",
      "metadata": {
        "id": "Zg8bWVTn7Fyg"
      },
      "source": [
        "# **Project:** Network Attack Detection\n",
        "\n",
        "**Data set:** UNSW-NB15 Dataset\n",
        "\n",
        "**Source of Data set:**  https://research.unsw.edu.au/projects/unsw-nb15-dataset\n",
        "\n",
        "**Information about Data set**\n",
        "> 1. Training set = 175,341 records\n",
        "2. Test set = 82,332 records\n",
        "3. Features = 49 mentioned here. https://cloudstor.aarnet.edu.au/plus/apps/onlyoffice/s/2DhnLGDdEECo4ys?fileId=206777051\n",
        "\n",
        "# What is Intrusion Detection System?\n",
        "\n",
        "Intrusion Detection System (IDS) is a system that monitors network traffic for suspicious activity and issues alerts when such activity is discovered.\n",
        "\n",
        "**Detection Methods of IDS:**\n",
        "\n",
        "**1. Signature-based Method:**\n",
        "\n",
        "It detects the attacks on the basis of the\n",
        "\n",
        "> 1.1. specific patterns such as number of bytes/ number of 1’s or number of 0’s in the network traffic. \n",
        "\n",
        "> 1.2. Known malicious instruction sequence that is used by the malware.\n",
        "\n",
        "**2. Anomaly-detection Method:**\n",
        "\n",
        "It detects the attacks using\n",
        "\n",
        "> 2.1. Machine learning. It creates a trustful activity model and anything coming is compared with that model and it is declared suspicious if it is not found in model \n",
        "\n",
        "**Which method is better?**\n",
        "\n",
        "*Anomaly-detection Method* method is more accepted in comparison to signature-based IDS because the machine learning models can be trained according to the applications and hardware configurations.\n",
        "\n",
        "\n",
        "\n",
        "\n",
        "\n",
        "\n",
        "\n",
        "\n",
        "\n",
        "\n",
        "\n",
        "\n",
        "\n",
        "\n",
        "\n"
      ]
    },
    {
      "cell_type": "markdown",
      "metadata": {
        "id": "1p-efNEWVi2d"
      },
      "source": [
        "# Problem Statement\n",
        "\n",
        "Network security is of prime importance these days. We need to protect our data and systems from attackers. A network attack attempts to gain unauthorized access to the network and take advantage of the vulnerablites of the network. \n",
        "In this project, we will predict the network attack that is happening over the network using the above mentioned dataset. \n",
        "\n",
        "The type of attacks investigated are: \n",
        "1. Fuzzers\n",
        "2. Analysis\n",
        "3. Backdoors\n",
        "4. DoS\n",
        "5. Exploits\n",
        "6. Generic\n",
        "7. Reconnaissance\n",
        "8. Shellcode \n",
        "9. Worms "
      ]
    }
  ]
}
