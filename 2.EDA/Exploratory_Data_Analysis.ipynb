{
 "cells": [
  {
   "cell_type": "markdown",
   "id": "1b127d77",
   "metadata": {},
   "source": [
    "# References\n",
    "* Data source: https://www.unsw.adfa.edu.au/unsw-canberra-cyber/cybersecurity/ADFA-NB15-Datasets/\n",
    "* Sample/starter code: https://github.com/alik604/cyber-security/blob/master/Intrusion-Detection/UNSW_NB15.ipynb"
   ]
  },
  {
   "cell_type": "code",
   "execution_count": 1,
   "id": "c307b6fd",
   "metadata": {},
   "outputs": [],
   "source": [
    "%config IPCompleter.greedy=True\n",
    "import pandas as pd\n",
    "import seaborn as sns\n",
    "import numpy as np\n",
    "\n",
    "import matplotlib as matplot\n",
    "import matplotlib.pyplot as plt\n",
    "%matplotlib inline\n",
    "\n",
    "from IPython.core.interactiveshell import InteractiveShell\n",
    "InteractiveShell.ast_node_interactivity = \"all\"\n",
    "\n",
    "import warnings\n",
    "warnings.filterwarnings(\"ignore\")\n",
    "\n",
    "from keras import Sequential\n",
    "from keras.models import Model, load_model\n",
    "from keras.layers import *\n",
    "from keras.callbacks import ModelCheckpoint\n",
    "from keras import regularizers\n",
    "\n",
    "from sklearn.metrics import *\n",
    "from sklearn.tree import DecisionTreeClassifier\n",
    "from sklearn.ensemble import RandomForestClassifier, ExtraTreesClassifier, VotingClassifier\n",
    "from sklearn.model_selection import train_test_split\n",
    "from sklearn.preprocessing import LabelEncoder,normalize\n",
    "\n",
    "\n",
    "import xgboost, lightgbm\n",
    "from mlxtend.classifier import EnsembleVoteClassifier"
   ]
  },
  {
   "cell_type": "markdown",
   "id": "7bbf5568",
   "metadata": {},
   "source": [
    "# Loading data from GitHub"
   ]
  },
  {
   "cell_type": "code",
   "execution_count": 2,
   "id": "9931397f",
   "metadata": {},
   "outputs": [],
   "source": [
    "train = pd.read_csv('https://raw.githubusercontent.com/ushukkla/nospammers/master/UNSW_NB15_training-set.csv')\n",
    "test = pd.read_csv('https://raw.githubusercontent.com/ushukkla/nospammers/master/UNSW_NB15_testing-set.csv')\n",
    "combined_data = pd.concat([train, test]).drop(['id'],axis=1)"
   ]
  },
  {
   "cell_type": "code",
   "execution_count": 3,
   "id": "448d08bd",
   "metadata": {},
   "outputs": [
    {
     "data": {
      "text/plain": [
       "((82332, 45), (175341, 45))"
      ]
     },
     "execution_count": 3,
     "metadata": {},
     "output_type": "execute_result"
    }
   ],
   "source": [
    "train.shape, test.shape"
   ]
  },
  {
   "cell_type": "code",
   "execution_count": 4,
   "id": "a500a50f",
   "metadata": {},
   "outputs": [],
   "source": [
    "# Dividing the train data into attack and non-attack category\n",
    "normal = train[train['label']==0]\n",
    "anomaly = train[train['label']==1]"
   ]
  },
  {
   "cell_type": "markdown",
   "id": "9c969ea1",
   "metadata": {},
   "source": [
    "# Utility Functions"
   ]
  },
  {
   "cell_type": "code",
   "execution_count": 26,
   "id": "e0f2fa9b",
   "metadata": {},
   "outputs": [],
   "source": [
    "def col_countplot(col, train_data=train):\n",
    "    \"\"\"\n",
    "    This function plots countplot of a given feature for train dataset\n",
    "    \"\"\"\n",
    "    fig, ax = plt.subplots(figsize=(8,4))\n",
    "    sns.set_style('whitegrid')\n",
    "    # countplot of the given column\n",
    "    ax = sns.countplot(x=col, hue='label', data=train_data)\n",
    "    ax.legend(loc=\"upper right\", labels=('normal', 'attack'))\n",
    "    ax.set_title(\"train data\")\n",
    "    plt.xticks(rotation=45)\n",
    "    plt.show()"
   ]
  },
  {
   "cell_type": "code",
   "execution_count": 27,
   "id": "674aa1ee",
   "metadata": {},
   "outputs": [],
   "source": [
    "def col_countplot(col, train_data=train):\n",
    "    \"\"\"\n",
    "    This function plots countplot of a given feature for train dataset\n",
    "    \"\"\"\n",
    "    fig, ax = plt.subplots(figsize=(8,4))\n",
    "    sns.set_style('whitegrid')\n",
    "    # countplot of the given column\n",
    "    ax = sns.countplot(x=col, hue='label', data=train_data)\n",
    "    ax.legend(loc=\"upper right\", labels=('normal', 'attack'))\n",
    "    ax.set_title(\"train data\")\n",
    "    plt.xticks(rotation=45)\n",
    "    plt.show()"
   ]
  },
  {
   "cell_type": "code",
   "execution_count": 28,
   "id": "f4cb1f8e",
   "metadata": {},
   "outputs": [],
   "source": [
    "def reduce_column(s, to_keep):\n",
    "    \"\"\"\n",
    "    This function reduce categorical values of a given feature to values provided in to_keep list\n",
    "    and make every other value \"others\"\n",
    "    \"\"\"\n",
    "    s = s.lower().strip()\n",
    "    if s not in to_keep:\n",
    "        return \"others\"\n",
    "    else:\n",
    "        return s"
   ]
  },
  {
   "cell_type": "markdown",
   "id": "b8c19a91",
   "metadata": {},
   "source": [
    "# Visualization\n",
    "## 1. Attack\n",
    "### 1.1 Distribution bar chart.\n",
    "Getting distribution of for all the attacks.  \n",
    "Plot bar char and pie chart of distribution for better visualization"
   ]
  },
  {
   "cell_type": "code",
   "execution_count": 12,
   "id": "a360fc3f",
   "metadata": {},
   "outputs": [
    {
     "data": {
      "text/plain": [
       "<BarContainer object of 10 artists>"
      ]
     },
     "execution_count": 12,
     "metadata": {},
     "output_type": "execute_result"
    },
    {
     "data": {
      "text/plain": [
       "([0, 1, 2, 3, 4, 5, 6, 7, 8, 9],\n",
       " [Text(0, 0, ''),\n",
       "  Text(0, 0, ''),\n",
       "  Text(0, 0, ''),\n",
       "  Text(0, 0, ''),\n",
       "  Text(0, 0, ''),\n",
       "  Text(0, 0, ''),\n",
       "  Text(0, 0, ''),\n",
       "  Text(0, 0, ''),\n",
       "  Text(0, 0, ''),\n",
       "  Text(0, 0, '')])"
      ]
     },
     "execution_count": 12,
     "metadata": {},
     "output_type": "execute_result"
    },
    {
     "data": {
      "image/png": "[encoded data removed]",
      "text/plain": [
       "<Figure size 432x288 with 1 Axes>"
      ]
     },
     "metadata": {
      "needs_background": "light"
     },
     "output_type": "display_data"
    }
   ],
   "source": [
    "plt.bar(combined_data.attack_cat.unique(),\n",
    "        combined_data.attack_cat.value_counts(), \n",
    "        width=0.5, \n",
    "        bottom=None, \n",
    "        align='center', \n",
    "        color=['midnightblue',\n",
    "               'navy',\n",
    "               'darkblue',\n",
    "               'mediumblue',\n",
    "               'blue', \n",
    "               'royalblue', \n",
    "               'cornflowerblue', \n",
    "               'lightsteelblue', \n",
    "               'lavender', \n",
    "               'lightskyblue'])\n",
    "plt.xticks(rotation='vertical')\n",
    "plt.savefig('distribution_bar_chart.png')\n",
    "plt.show()"
   ]
  },
  {
   "cell_type": "markdown",
   "id": "be3637a2",
   "metadata": {},
   "source": [
    "### 1.2 Distribution pie chart."
   ]
  },
  {
   "cell_type": "code",
   "execution_count": 13,
   "id": "db0f7ed4",
   "metadata": {},
   "outputs": [
    {
     "data": {
      "text/plain": [
       "([<matplotlib.patches.Wedge at 0x7fca3c986490>,\n",
       "  <matplotlib.patches.Wedge at 0x7fca3ca54be0>,\n",
       "  <matplotlib.patches.Wedge at 0x7fca3ca62340>,\n",
       "  <matplotlib.patches.Wedge at 0x7fca3ca62a60>,\n",
       "  <matplotlib.patches.Wedge at 0x7fca3ca6f1c0>,\n",
       "  <matplotlib.patches.Wedge at 0x7fca3ca6f8e0>,\n",
       "  <matplotlib.patches.Wedge at 0x7fca3ca6ffd0>,\n",
       "  <matplotlib.patches.Wedge at 0x7fca3ca7b760>,\n",
       "  <matplotlib.patches.Wedge at 0x7fca3ca7be80>,\n",
       "  <matplotlib.patches.Wedge at 0x7fca3ca885e0>],\n",
       " [Text(0.4654704967072229, 0.996663040698877, 'Normal'),\n",
       "  Text(-1.0866279471333316, 0.1709962119720845, 'Reconnaissance'),\n",
       "  Text(-0.4945025009453456, -0.9825819439409615, 'Backdoor'),\n",
       "  Text(0.40004113575353367, -1.0246790178904919, 'DoS'),\n",
       "  Text(0.8387714234046985, -0.7116617871430616, 'Exploits'),\n",
       "  Text(1.0393251377247725, -0.3602821923067843, 'Analysis'),\n",
       "  Text(1.090644197435221, -0.14316156816996317, 'Fuzzers'),\n",
       "  Text(1.097345720968709, -0.07636994612846441, 'Worms'),\n",
       "  Text(1.0997174710924, -0.024929576292758538, 'Shellcode'),\n",
       "  Text(1.0999975248432161, -0.0023335249727840894, 'Generic')],\n",
       " [Text(0.25389299820393973, 0.5436343858357511, '36.09%'),\n",
       "  Text(-0.5927061529818171, 0.09327066107568245, '22.85%'),\n",
       "  Text(-0.2697286368792794, -0.5359537876041608, '17.28%'),\n",
       "  Text(0.2182042558655638, -0.5589158279402682, '9.41%'),\n",
       "  Text(0.4575116854934718, -0.3881791566234881, '6.35%'),\n",
       "  Text(0.5669046205771486, -0.19651755944006416, '5.43%'),\n",
       "  Text(0.5948968349646659, -0.07808812809270717, '1.04%'),\n",
       "  Text(0.5985522114374775, -0.04165633425188967, '0.90%'),\n",
       "  Text(0.5998458933231272, -0.01359795070514102, '0.59%'),\n",
       "  Text(0.5999986499144814, -0.0012728318033367759, '0.07%')])"
      ]
     },
     "execution_count": 13,
     "metadata": {},
     "output_type": "execute_result"
    },
    {
     "data": {
      "text/plain": [
       "Text(0.5, 1.0, 'Distribution')"
      ]
     },
     "execution_count": 13,
     "metadata": {},
     "output_type": "execute_result"
    },
    {
     "data": {
      "image/png": "[encoded data removed]",
      "text/plain": [
       "<Figure size 432x288 with 1 Axes>"
      ]
     },
     "metadata": {},
     "output_type": "display_data"
    }
   ],
   "source": [
    "plt.pie(combined_data.attack_cat.value_counts(), labels=combined_data.attack_cat.unique(), autopct='%1.2f%%')\n",
    "plt.title('Distribution')\n",
    "plt.savefig('distribution_pie_chart.png')\n",
    "plt.show()"
   ]
  },
  {
   "cell_type": "markdown",
   "id": "41b3f254",
   "metadata": {},
   "source": [
    "### 1.3 Protocol\n",
    "* The no of unique values of 'proto' in dataset where attack is normal is 7 but in anamoly category its 129. So to plot it we are reducing the no of values.\n",
    "* Most of the values are consists of udp and tcp\n",
    "* For non-attacks count of tcp is lot higher\n",
    "* Considering the imbalce there are lots of udp cat for attacks"
   ]
  },
  {
   "cell_type": "code",
   "execution_count": 18,
   "id": "c42d771d",
   "metadata": {},
   "outputs": [
    {
     "data": {
      "text/plain": [
       "131"
      ]
     },
     "execution_count": 18,
     "metadata": {},
     "output_type": "execute_result"
    }
   ],
   "source": [
    "train['proto'].nunique()"
   ]
  },
  {
   "cell_type": "code",
   "execution_count": 19,
   "id": "f89af4c0",
   "metadata": {},
   "outputs": [
    {
     "data": {
      "text/plain": [
       "(5, 129)"
      ]
     },
     "execution_count": 19,
     "metadata": {},
     "output_type": "execute_result"
    }
   ],
   "source": [
    "normal['proto'].nunique(), anomaly['proto'].nunique()"
   ]
  },
  {
   "cell_type": "code",
   "execution_count": 23,
   "id": "ab500a16",
   "metadata": {},
   "outputs": [
    {
     "data": {
      "text/plain": [
       "tcp     52.342953\n",
       "udp     35.730943\n",
       "unas     4.269300\n",
       "arp      1.198805\n",
       "ospf     0.821066\n",
       "sctp     0.393529\n",
       "any      0.116601\n",
       "gre      0.106884\n",
       "rsvp     0.077734\n",
       "ipv6     0.074090\n",
       "Name: proto, dtype: float64"
      ]
     },
     "execution_count": 23,
     "metadata": {},
     "output_type": "execute_result"
    }
   ],
   "source": [
    "train['proto'].value_counts().head(10)*100/train.shape[0]"
   ]
  },
  {
   "cell_type": "code",
   "execution_count": 24,
   "id": "4d07cf55",
   "metadata": {},
   "outputs": [],
   "source": [
    "to_keep = ['tcp', 'udp', 'unas', 'arp', 'ospf']\n",
    "train['proto_reduced'] = train['proto'].apply(reduce_column, args=(to_keep,))"
   ]
  },
  {
   "cell_type": "code",
   "execution_count": 29,
   "id": "5df0ff9b",
   "metadata": {},
   "outputs": [
    {
     "data": {
      "image/png": "[encoded data removed]",
      "text/plain": [
       "<Figure size 576x288 with 1 Axes>"
      ]
     },
     "metadata": {
      "needs_background": "light"
     },
     "output_type": "display_data"
    }
   ],
   "source": [
    "col_countplot('proto_reduced')"
   ]
  },
  {
   "cell_type": "markdown",
   "id": "2b9cf3f9",
   "metadata": {},
   "source": [
    "### 1.4 Service\n",
    "\n",
    "* In our dataset we can value \"-\" that is null, we need to remove that and replace it.\n",
    "* For normal there are lots of others that means most of \"-\" and few rare values.\n",
    "* In attack data \"dns\" is present higher than any other values. There are few no of others and http also."
   ]
  },
  {
   "cell_type": "code",
   "execution_count": 30,
   "id": "c1d37760",
   "metadata": {},
   "outputs": [
    {
     "data": {
      "text/plain": [
       "13"
      ]
     },
     "execution_count": 30,
     "metadata": {},
     "output_type": "execute_result"
    }
   ],
   "source": [
    "train['service'].nunique()"
   ]
  },
  {
   "cell_type": "code",
   "execution_count": 31,
   "id": "685d1c7b",
   "metadata": {},
   "outputs": [
    {
     "data": {
      "text/plain": [
       "-           47153\n",
       "dns         21367\n",
       "http         8287\n",
       "smtp         1851\n",
       "ftp          1552\n",
       "ftp-data     1396\n",
       "pop3          423\n",
       "ssh           204\n",
       "ssl            30\n",
       "snmp           29\n",
       "dhcp           26\n",
       "radius          9\n",
       "irc             5\n",
       "Name: service, dtype: int64"
      ]
     },
     "execution_count": 31,
     "metadata": {},
     "output_type": "execute_result"
    }
   ],
   "source": [
    "\n",
    "train['service'].value_counts()"
   ]
  },
  {
   "cell_type": "code",
   "execution_count": 32,
   "id": "fd164133",
   "metadata": {},
   "outputs": [],
   "source": [
    "\n",
    "to_keep = ['dns', 'http', 'smtp', 'ftp-data', 'ftp', 'ssh', 'pop3']\n",
    "train['service_reduced'] = train['service'].apply(reduce_column, args=(to_keep,))"
   ]
  },
  {
   "cell_type": "code",
   "execution_count": 33,
   "id": "87cd68f4",
   "metadata": {},
   "outputs": [
    {
     "data": {
      "image/png": "[encoded data removed]",
      "text/plain": [
       "<Figure size 576x288 with 1 Axes>"
      ]
     },
     "metadata": {},
     "output_type": "display_data"
    }
   ],
   "source": [
    "col_countplot('service_reduced')"
   ]
  },
  {
   "cell_type": "markdown",
   "id": "3920cfc2",
   "metadata": {},
   "source": [
    "## 2. Correlation\n",
    "Getting correlation values for all the features.\n",
    "Plot heatmap of correaltion for better visualization"
   ]
  },
  {
   "cell_type": "code",
   "execution_count": 14,
   "id": "f3e27733",
   "metadata": {},
   "outputs": [],
   "source": [
    "def multi_corr(col1, col2=\"label\", df=train):\n",
    "    '''\n",
    "    This function returns correlation between 2 given features.\n",
    "    Also gives corr of the given features with \"label\" afetr applying log1p to it.\n",
    "    '''\n",
    "    corr = df[[col1, col2]].corr().iloc[0,1]\n",
    "    log_corr = df[col1].apply(np.log1p).corr(df[col2])\n",
    "\n",
    "    print(\"Correlation : {}\\nlog_Correlation: {}\".format(corr, log_corr))"
   ]
  },
  {
   "cell_type": "code",
   "execution_count": 15,
   "id": "264604fd",
   "metadata": {},
   "outputs": [],
   "source": [
    "def corr(col1, col2=\"label\", df=train):\n",
    "    \"\"\"\n",
    "    This function returns correlation between 2 given features\n",
    "    \"\"\"\n",
    "    return df[[col1, col2]].corr().iloc[0,1]"
   ]
  },
  {
   "cell_type": "code",
   "execution_count": 16,
   "id": "987ac51e",
   "metadata": {},
   "outputs": [
    {
     "data": {
      "text/plain": [
       "<Figure size 864x864 with 0 Axes>"
      ]
     },
     "execution_count": 16,
     "metadata": {},
     "output_type": "execute_result"
    },
    {
     "data": {
      "text/plain": [
       "<AxesSubplot:>"
      ]
     },
     "execution_count": 16,
     "metadata": {},
     "output_type": "execute_result"
    },
    {
     "data": {
      "image/png": "[encoded data removed]",
      "text/plain": [
       "<Figure size 864x864 with 2 Axes>"
      ]
     },
     "metadata": {
      "needs_background": "light"
     },
     "output_type": "display_data"
    }
   ],
   "source": [
    "\n",
    "# Plotting the correlation matrix of the dataset\n",
    "# Refer: https://towardsdatascience.com/feature-selection-correlation-and-p-value-da8921bfb3cf\n",
    "\n",
    "method = \"pearson\"\n",
    "# correlation matrix\n",
    "corr_mat = train.corr(method=method)\n",
    "\n",
    "plt.figure(figsize=(12,12)) \n",
    "sns.heatmap(corr_mat, square=True)\n",
    "plt.show()"
   ]
  },
  {
   "cell_type": "code",
   "execution_count": 17,
   "id": "05cd0a83",
   "metadata": {},
   "outputs": [
    {
     "name": "stdout",
     "output_type": "stream",
     "text": [
      "spkts                sbytes               0.9657497410287414\n",
      "spkts                sloss                0.9736439932787799\n",
      "dpkts                dbytes               0.9764185516958216\n",
      "dpkts                dloss                0.9815064328008422\n",
      "sbytes               sloss                0.99502719113184\n",
      "dbytes               dloss                0.9971088501020646\n",
      "sinpkt               is_sm_ips_ports      0.9445057600994802\n",
      "swin                 dwin                 0.9601246970559344\n",
      "tcprtt               synack               0.9394732071062888\n",
      "ct_srv_src           ct_dst_src_ltm       0.9337952137616565\n",
      "ct_srv_src           ct_srv_dst           0.9778491535974652\n",
      "ct_dst_ltm           ct_src_dport_ltm     0.9604008284955233\n",
      "ct_dst_ltm           ct_src_ltm           0.9322524473427766\n",
      "ct_src_dport_ltm     ct_dst_sport_ltm     0.9116374681078989\n",
      "ct_src_dport_ltm     ct_src_ltm           0.9331720623302827\n",
      "ct_dst_src_ltm       ct_srv_dst           0.9410468630509295\n",
      "is_ftp_login         ct_ftp_cmd           0.9943410042026887\n"
     ]
    }
   ],
   "source": [
    "# Getting and printing high correlated features\n",
    "limit = 0.9\n",
    "\n",
    "columns = corr_mat.columns\n",
    "for i in range(corr_mat.shape[0]):\n",
    "    for j in range(i+1, corr_mat.shape[0]):\n",
    "        if corr_mat.iloc[i, j] >= 0.9:\n",
    "            print(f\"{columns[i]:20s} {columns[j]:20s} {corr_mat.iloc[i, j]}\")"
   ]
  },
  {
   "cell_type": "code",
   "execution_count": null,
   "id": "8f77befc",
   "metadata": {},
   "outputs": [],
   "source": []
  },
  {
   "cell_type": "code",
   "execution_count": null,
   "id": "b06cc78e",
   "metadata": {},
   "outputs": [],
   "source": []
  },
  {
   "cell_type": "code",
   "execution_count": null,
   "id": "436b66de",
   "metadata": {},
   "outputs": [],
   "source": []
  },
  {
   "cell_type": "code",
   "execution_count": null,
   "id": "4a8b6cdd",
   "metadata": {},
   "outputs": [],
   "source": []
  },
  {
   "cell_type": "markdown",
   "id": "687e5e22",
   "metadata": {},
   "source": [
    "## Preprocessing"
   ]
  },
  {
   "cell_type": "code",
   "execution_count": 26,
   "id": "786e5ff4",
   "metadata": {},
   "outputs": [
    {
     "name": "stdout",
     "output_type": "stream",
     "text": [
      "attack cat: {'Analysis', 'Shellcode', 'Fuzzers', 'Worms', 'Backdoor', 'DoS', 'Exploits', 'Normal', 'Generic', 'Reconnaissance'}\n",
      "\n",
      "Describing attack_type: \n",
      "min 0\n",
      "max 9\n",
      "mode 0    6\n",
      "dtype: int64 Which is, ['Normal']\n",
      "mode 36.09225646458884 %\n"
     ]
    }
   ],
   "source": [
    "le1 = LabelEncoder()\n",
    "le = LabelEncoder()\n",
    "\n",
    "vector = combined_data['attack_cat']\n",
    "\n",
    "print(\"attack cat:\", set(list(vector))) # use print to make it print on single line \n",
    "\n",
    "combined_data['attack_cat'] = le1.fit_transform(vector)\n",
    "combined_data['proto'] = le.fit_transform(combined_data['proto'])\n",
    "combined_data['service'] = le.fit_transform(combined_data['service'])\n",
    "combined_data['state'] = le.fit_transform(combined_data['state'])\n",
    "\n",
    "vector = combined_data['attack_cat']\n",
    "print('\\nDescribing attack_type: ')\n",
    "print(\"min\", vector.min())\n",
    "print(\"max\", vector.max())\n",
    "print(\"mode\",vector.mode(), \"Which is,\", le1.inverse_transform(vector.mode()))\n",
    "print(\"mode\", len(np.where(vector.values==6)[0])/len(vector)*100,\"%\")"
   ]
  },
  {
   "cell_type": "code",
   "execution_count": null,
   "id": "df448604",
   "metadata": {},
   "outputs": [],
   "source": []
  },
  {
   "cell_type": "code",
   "execution_count": null,
   "id": "591e2e07",
   "metadata": {},
   "outputs": [],
   "source": []
  },
  {
   "cell_type": "code",
   "execution_count": null,
   "id": "891083e1",
   "metadata": {},
   "outputs": [],
   "source": []
  }
 ],
 "metadata": {
  "kernelspec": {
   "display_name": "Python 3 (ipykernel)",
   "language": "python",
   "name": "python3"
  },
  "language_info": {
   "codemirror_mode": {
    "name": "ipython",
    "version": 3
   },
   "file_extension": ".py",
   "mimetype": "text/x-python",
   "name": "python",
   "nbconvert_exporter": "python",
   "pygments_lexer": "ipython3",
   "version": "3.8.12"
  }
 },
 "nbformat": 4,
 "nbformat_minor": 5
}
