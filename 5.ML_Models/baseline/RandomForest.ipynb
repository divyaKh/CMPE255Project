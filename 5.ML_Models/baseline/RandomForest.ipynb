{
 "cells": [
  {
   "cell_type": "markdown",
   "id": "16a6780b",
   "metadata": {},
   "source": [
    "# Random Forest\n",
    "\n",
    "- Random Forest is combination of many decision trees\n",
    "- It is a classification algorithm.\n",
    "\n",
    "Why do we need Random Forest over Decision Trees?\n",
    "- Though Decision Trees are easy to build, use and interpret, but they are inaccurate\n",
    "- DTs are not very good with unseen data so our Model may not work as desired\n",
    "- Random Forest = Simplicity of DT + Very Good Accuracy"
   ]
  },
  {
   "cell_type": "markdown",
   "id": "36157ca5",
   "metadata": {},
   "source": [
    "## Input\n",
    "\n",
    "1. .csv - produced by pre_processing.ipynb\n",
    "2. The pre_processed input data includes following techniques:\n",
    "    #TODO\n",
    "\n",
    "## Output/Analysis\n",
    "\n",
    "1. Visualising the accuracy of RF with k-fold validation.\n",
    "2. Comparing the accurancy of RF model with and without PCA.   "
   ]
  },
  {
   "cell_type": "code",
   "execution_count": 1,
   "id": "a4aed72b",
   "metadata": {},
   "outputs": [],
   "source": [
    "import numpy as np\n",
    "import pandas as pd\n",
    "from sklearn.ensemble import RandomForestClassifier\n",
    "from sklearn.model_selection import train_test_split"
   ]
  },
  {
   "cell_type": "code",
   "execution_count": 2,
   "id": "76d0b02f",
   "metadata": {},
   "outputs": [],
   "source": [
    "def load_data(filename):\n",
    "    return pd.read_csv(filename)"
   ]
  },
  {
   "cell_type": "markdown",
   "id": "0e77ddf2",
   "metadata": {},
   "source": [
    "# Spilt the input file into test and train dataset\n",
    "\n",
    "I/P: dataframe\n",
    "\n",
    "O/P: x_train, y_train, x_test, y_test"
   ]
  },
  {
   "cell_type": "code",
   "execution_count": 3,
   "id": "d8c9e261",
   "metadata": {},
   "outputs": [],
   "source": [
    "def prep_training(network_data):\n",
    "    x = network_data.iloc[:,list(range(1,206))]\n",
    "    y = network_data.iloc[:,206]\n",
    "    print(x)\n",
    "    print(y)\n",
    "    print(\"Shape of x: \", x.shape)\n",
    "    print(\"Shape of y: \", y.shape)\n",
    "    return train_test_split(x,y,test_size=0.2)"
   ]
  },
  {
   "cell_type": "markdown",
   "id": "af9ffff1",
   "metadata": {},
   "source": [
    "# Split the train dataset into train and Cross validation dataset\n",
    "\n",
    "I/P: x_train, y_train\n",
    "\n",
    "O/P: x_train_new, x_cv, y_train_new, y_cv"
   ]
  },
  {
   "cell_type": "code",
   "execution_count": 4,
   "id": "56fd1384",
   "metadata": {},
   "outputs": [],
   "source": [
    "def splitIntoTrainAndCV(x_train,y_train):\n",
    "    # Splitting train in train and cv data\n",
    "    _x_train_new, _x_cv, _y_train_new, _y_cv = train_test_split(x_train, y_train, test_size=0.2, random_state=42)\n",
    "    print(_x_train_new.shape, _y_train_new.shape, _x_cv.shape, _y_cv.shape)\n",
    "    return {'x_train_new':_x_train_new, 'x_cv':_x_cv, 'y_train_new': _y_train_new, 'y_cv':_y_cv}"
   ]
  },
  {
   "cell_type": "markdown",
   "id": "a3528006",
   "metadata": {},
   "source": [
    "# Hyperparameter Tuning for Random Forest\n",
    "\n",
    "The following hyperparamter tuning has taken reference from:\n",
    "1. https://towardsdatascience.com/hyperparameter-tuning-the-random-forest-in-python-using-scikit-learn-28d2aa77dd74\n",
    "2. https://medium.com/@ODSC/optimizing-hyperparameters-for-random-forest-algorithms-in-scikit-learn-d60b7aa07ead"
   ]
  },
  {
   "cell_type": "code",
   "execution_count": 5,
   "id": "ffeb1df7",
   "metadata": {},
   "outputs": [],
   "source": [
    "from sklearn.ensemble import RandomForestRegressor\n",
    "from pprint import pprint"
   ]
  },
  {
   "cell_type": "markdown",
   "id": "514106f7",
   "metadata": {},
   "source": [
    "Instead of all the above the parameters, we will just focus on tuning a few as given below:\n",
    "We will try adjusting a few of the following set of hyperparameters:\n",
    "1. n_estimators = number of trees in the foreset\n",
    "2. max_features = max number of features considered for splitting a node\n",
    "3. max_depth = max number of levels in each decision tree\n",
    "4. min_samples_split = min number of data points placed in a node before the node is split\n",
    "5. min_samples_leaf = min number of data points allowed in a leaf node\n",
    "6. bootstrap = method for sampling data points (with or without replacement)"
   ]
  },
  {
   "cell_type": "markdown",
   "id": "f0ad6de9",
   "metadata": {},
   "source": [
    "To use RandomizedSearchCV, we first need to create a parameter grid to sample from during fitting:\n",
    "\n",
    "Params From reference github\n",
    "- n_estimators=[100,200,300,400]\n",
    "- max_features = Not included\n",
    "- max_depth = [20,22,24]\n",
    "- min_samples_split = [2,4,6]\n",
    "- min_samples_leaf = not included\n",
    "- bootstrap = not included\n"
   ]
  },
  {
   "cell_type": "code",
   "execution_count": 6,
   "id": "4a379a51",
   "metadata": {},
   "outputs": [],
   "source": [
    "from sklearn.model_selection import RandomizedSearchCV"
   ]
  },
  {
   "cell_type": "code",
   "execution_count": 7,
   "id": "f83ae7a6",
   "metadata": {},
   "outputs": [],
   "source": [
    "def creatingRandomGrid():\n",
    "    # Number of trees in random forest\n",
    "    n_estimators = [100,200,300,400]\n",
    "    # Maximum number of levels in tree\n",
    "    max_depth = [20,22,24]\n",
    "    # Minimum number of samples required to split a node\n",
    "    min_samples_split = [2,4,6]\n",
    "    # Create the random grid\n",
    "    random_grid = {'n_estimators': n_estimators,\n",
    "               'max_depth': max_depth,\n",
    "               'min_samples_split': min_samples_split}\n",
    "    return random_grid"
   ]
  },
  {
   "cell_type": "code",
   "execution_count": 8,
   "id": "f55de400",
   "metadata": {},
   "outputs": [],
   "source": [
    "def prepToFindOptimalHyperParams(random_grid):\n",
    "    # Use the random grid to search for best hyperparameters\n",
    "    # First create the base model to tune\n",
    "    rf = RandomForestRegressor()\n",
    "    \n",
    "    # Random search of parameters, using 3 fold cross validation, \n",
    "    # search across 100 different combinations, and use all available cores\n",
    "    rf_random = RandomizedSearchCV(estimator = rf, param_distributions = random_grid, \n",
    "                                   n_iter = 100, cv = 3, verbose=2, random_state=42, n_jobs = -1)\n",
    "    return rf_random"
   ]
  },
  {
   "cell_type": "markdown",
   "id": "7c5a4d3d",
   "metadata": {},
   "source": [
    "Finally, fit the RandomizedSearchCV object to the data frames containing features and labels and print the optimal hyperparameter values."
   ]
  },
  {
   "cell_type": "code",
   "execution_count": 9,
   "id": "27303281",
   "metadata": {},
   "outputs": [],
   "source": [
    "def findBestHyperParameters(rf_random, x_train_new, y_train_new):\n",
    "    # Fit the random search model\n",
    "    print(len(x_train_new), len(y_train_new))\n",
    "    rf_random.fit(x_train_new, y_train_new)\n",
    "    bestParamsDict = rf_random.best_params_\n",
    "    return bestParamsDict"
   ]
  },
  {
   "cell_type": "markdown",
   "id": "de9e4ce7",
   "metadata": {},
   "source": [
    "# Train the Random Forest classifier"
   ]
  },
  {
   "cell_type": "code",
   "execution_count": 10,
   "id": "ba2a7e78",
   "metadata": {},
   "outputs": [],
   "source": [
    "def trainAndTestRandomForest(_max_depth,\n",
    "                            _min_samples_leaf,\n",
    "                            _n_estimators,x_train_new,y_train_new):\n",
    "    clf = RandomForestClassifier(max_depth=_max_depth, \n",
    "                                 min_samples_split = _min_samples_split, \n",
    "                                 n_estimators = _n_estimators)\n",
    "    # Train Random Forest Classifer\n",
    "    clf = clf.fit(x_train_new,y_train_new)\n",
    "    #Predict the response for test dataset\n",
    "    return clf"
   ]
  },
  {
   "cell_type": "markdown",
   "id": "ea7409cd",
   "metadata": {},
   "source": [
    "# Test the model and find out its accuracy"
   ]
  },
  {
   "cell_type": "code",
   "execution_count": 11,
   "id": "440cfd29",
   "metadata": {},
   "outputs": [],
   "source": [
    "def tellAcurracyOfModel(clf):\n",
    "    y_pred = clf.predict(x_test)\n",
    "    # Model Accuracy, how often is the classifier correct?\n",
    "    print(\"Accuracy:\",metrics.accuracy_score(y_test, y_pred))"
   ]
  },
  {
   "cell_type": "markdown",
   "id": "c609a94a",
   "metadata": {},
   "source": [
    "# Main Function"
   ]
  },
  {
   "cell_type": "code",
   "execution_count": 12,
   "id": "feb78669",
   "metadata": {},
   "outputs": [],
   "source": [
    "def main(network_data):\n",
    "        \n",
    "    x_train,x_test,y_train,y_test = prep_training(network_data)\n",
    "    \n",
    "    newDict = splitIntoTrainAndCV(x_train,y_train)\n",
    "    x_train_new = newDict['x_train_new']\n",
    "    x_cv = newDict['x_cv']\n",
    "    y_train_new = newDict['y_train_new']\n",
    "    y_cv = newDict['y_cv']\n",
    "                    \n",
    "    random_grid = creatingRandomGrid()\n",
    "    pprint(random_grid)\n",
    "    rf_random = prepToFindOptimalHyperParams(random_grid)\n",
    "    bestParamsDict = findBestHyperParameters(rf_random, x_train_new, y_train_new)\n",
    "    \n",
    "    #TODO : Grab this dict values in paramters\n",
    "    #and pass those params to below function\n",
    "    _n_estimators = bestParamsDict['n_estimators']\n",
    "    _min_samples_split = bestParamsDict['min_samples_split']\n",
    "    _max_depth = bestParamsDict['max_depth']\n",
    "    \n",
    "    clf = trainAndTestRandomForest(_max_depth,_min_samples_leaf,_n_estimators,x_train_new,y_train_new)\n",
    "    tellAcurracyOfModel(clf)"
   ]
  },
  {
   "cell_type": "markdown",
   "id": "e73d1131",
   "metadata": {},
   "source": [
    "# Classification with RF after MinMax Scaling "
   ]
  },
  {
   "cell_type": "code",
   "execution_count": 13,
   "id": "c477d47e",
   "metadata": {},
   "outputs": [
    {
     "ename": "FileNotFoundError",
     "evalue": "[Errno 2] No such file or directory: 'data_minmax.csv'",
     "output_type": "error",
     "traceback": [
      "\u001b[0;31m---------------------------------------------------------------------------\u001b[0m",
      "\u001b[0;31mFileNotFoundError\u001b[0m                         Traceback (most recent call last)",
      "\u001b[0;32m<ipython-input-13-81b88a2999c1>\u001b[0m in \u001b[0;36m<module>\u001b[0;34m\u001b[0m\n\u001b[0;32m----> 1\u001b[0;31m \u001b[0mnetwork_data\u001b[0m \u001b[0;34m=\u001b[0m \u001b[0mload_data\u001b[0m\u001b[0;34m(\u001b[0m\u001b[0;34m'data_minmax.csv'\u001b[0m\u001b[0;34m)\u001b[0m\u001b[0;34m\u001b[0m\u001b[0;34m\u001b[0m\u001b[0m\n\u001b[0m\u001b[1;32m      2\u001b[0m \u001b[0mmain\u001b[0m\u001b[0;34m(\u001b[0m\u001b[0mnetwork_data\u001b[0m\u001b[0;34m)\u001b[0m\u001b[0;34m\u001b[0m\u001b[0;34m\u001b[0m\u001b[0m\n",
      "\u001b[0;32m<ipython-input-2-7bd75b35b757>\u001b[0m in \u001b[0;36mload_data\u001b[0;34m(filename)\u001b[0m\n\u001b[1;32m      1\u001b[0m \u001b[0;32mdef\u001b[0m \u001b[0mload_data\u001b[0m\u001b[0;34m(\u001b[0m\u001b[0mfilename\u001b[0m\u001b[0;34m)\u001b[0m\u001b[0;34m:\u001b[0m\u001b[0;34m\u001b[0m\u001b[0;34m\u001b[0m\u001b[0m\n\u001b[0;32m----> 2\u001b[0;31m     \u001b[0;32mreturn\u001b[0m \u001b[0mpd\u001b[0m\u001b[0;34m.\u001b[0m\u001b[0mread_csv\u001b[0m\u001b[0;34m(\u001b[0m\u001b[0mfilename\u001b[0m\u001b[0;34m)\u001b[0m\u001b[0;34m\u001b[0m\u001b[0;34m\u001b[0m\u001b[0m\n\u001b[0m",
      "\u001b[0;32m~/opt/anaconda3/lib/python3.8/site-packages/pandas/io/parsers.py\u001b[0m in \u001b[0;36mread_csv\u001b[0;34m(filepath_or_buffer, sep, delimiter, header, names, index_col, usecols, squeeze, prefix, mangle_dupe_cols, dtype, engine, converters, true_values, false_values, skipinitialspace, skiprows, skipfooter, nrows, na_values, keep_default_na, na_filter, verbose, skip_blank_lines, parse_dates, infer_datetime_format, keep_date_col, date_parser, dayfirst, cache_dates, iterator, chunksize, compression, thousands, decimal, lineterminator, quotechar, quoting, doublequote, escapechar, comment, encoding, dialect, error_bad_lines, warn_bad_lines, delim_whitespace, low_memory, memory_map, float_precision, storage_options)\u001b[0m\n\u001b[1;32m    608\u001b[0m     \u001b[0mkwds\u001b[0m\u001b[0;34m.\u001b[0m\u001b[0mupdate\u001b[0m\u001b[0;34m(\u001b[0m\u001b[0mkwds_defaults\u001b[0m\u001b[0;34m)\u001b[0m\u001b[0;34m\u001b[0m\u001b[0;34m\u001b[0m\u001b[0m\n\u001b[1;32m    609\u001b[0m \u001b[0;34m\u001b[0m\u001b[0m\n\u001b[0;32m--> 610\u001b[0;31m     \u001b[0;32mreturn\u001b[0m \u001b[0m_read\u001b[0m\u001b[0;34m(\u001b[0m\u001b[0mfilepath_or_buffer\u001b[0m\u001b[0;34m,\u001b[0m \u001b[0mkwds\u001b[0m\u001b[0;34m)\u001b[0m\u001b[0;34m\u001b[0m\u001b[0;34m\u001b[0m\u001b[0m\n\u001b[0m\u001b[1;32m    611\u001b[0m \u001b[0;34m\u001b[0m\u001b[0m\n\u001b[1;32m    612\u001b[0m \u001b[0;34m\u001b[0m\u001b[0m\n",
      "\u001b[0;32m~/opt/anaconda3/lib/python3.8/site-packages/pandas/io/parsers.py\u001b[0m in \u001b[0;36m_read\u001b[0;34m(filepath_or_buffer, kwds)\u001b[0m\n\u001b[1;32m    460\u001b[0m \u001b[0;34m\u001b[0m\u001b[0m\n\u001b[1;32m    461\u001b[0m     \u001b[0;31m# Create the parser.\u001b[0m\u001b[0;34m\u001b[0m\u001b[0;34m\u001b[0m\u001b[0;34m\u001b[0m\u001b[0m\n\u001b[0;32m--> 462\u001b[0;31m     \u001b[0mparser\u001b[0m \u001b[0;34m=\u001b[0m \u001b[0mTextFileReader\u001b[0m\u001b[0;34m(\u001b[0m\u001b[0mfilepath_or_buffer\u001b[0m\u001b[0;34m,\u001b[0m \u001b[0;34m**\u001b[0m\u001b[0mkwds\u001b[0m\u001b[0;34m)\u001b[0m\u001b[0;34m\u001b[0m\u001b[0;34m\u001b[0m\u001b[0m\n\u001b[0m\u001b[1;32m    463\u001b[0m \u001b[0;34m\u001b[0m\u001b[0m\n\u001b[1;32m    464\u001b[0m     \u001b[0;32mif\u001b[0m \u001b[0mchunksize\u001b[0m \u001b[0;32mor\u001b[0m \u001b[0miterator\u001b[0m\u001b[0;34m:\u001b[0m\u001b[0;34m\u001b[0m\u001b[0;34m\u001b[0m\u001b[0m\n",
      "\u001b[0;32m~/opt/anaconda3/lib/python3.8/site-packages/pandas/io/parsers.py\u001b[0m in \u001b[0;36m__init__\u001b[0;34m(self, f, engine, **kwds)\u001b[0m\n\u001b[1;32m    817\u001b[0m             \u001b[0mself\u001b[0m\u001b[0;34m.\u001b[0m\u001b[0moptions\u001b[0m\u001b[0;34m[\u001b[0m\u001b[0;34m\"has_index_names\"\u001b[0m\u001b[0;34m]\u001b[0m \u001b[0;34m=\u001b[0m \u001b[0mkwds\u001b[0m\u001b[0;34m[\u001b[0m\u001b[0;34m\"has_index_names\"\u001b[0m\u001b[0;34m]\u001b[0m\u001b[0;34m\u001b[0m\u001b[0;34m\u001b[0m\u001b[0m\n\u001b[1;32m    818\u001b[0m \u001b[0;34m\u001b[0m\u001b[0m\n\u001b[0;32m--> 819\u001b[0;31m         \u001b[0mself\u001b[0m\u001b[0;34m.\u001b[0m\u001b[0m_engine\u001b[0m \u001b[0;34m=\u001b[0m \u001b[0mself\u001b[0m\u001b[0;34m.\u001b[0m\u001b[0m_make_engine\u001b[0m\u001b[0;34m(\u001b[0m\u001b[0mself\u001b[0m\u001b[0;34m.\u001b[0m\u001b[0mengine\u001b[0m\u001b[0;34m)\u001b[0m\u001b[0;34m\u001b[0m\u001b[0;34m\u001b[0m\u001b[0m\n\u001b[0m\u001b[1;32m    820\u001b[0m \u001b[0;34m\u001b[0m\u001b[0m\n\u001b[1;32m    821\u001b[0m     \u001b[0;32mdef\u001b[0m \u001b[0mclose\u001b[0m\u001b[0;34m(\u001b[0m\u001b[0mself\u001b[0m\u001b[0;34m)\u001b[0m\u001b[0;34m:\u001b[0m\u001b[0;34m\u001b[0m\u001b[0;34m\u001b[0m\u001b[0m\n",
      "\u001b[0;32m~/opt/anaconda3/lib/python3.8/site-packages/pandas/io/parsers.py\u001b[0m in \u001b[0;36m_make_engine\u001b[0;34m(self, engine)\u001b[0m\n\u001b[1;32m   1048\u001b[0m             )\n\u001b[1;32m   1049\u001b[0m         \u001b[0;31m# error: Too many arguments for \"ParserBase\"\u001b[0m\u001b[0;34m\u001b[0m\u001b[0;34m\u001b[0m\u001b[0;34m\u001b[0m\u001b[0m\n\u001b[0;32m-> 1050\u001b[0;31m         \u001b[0;32mreturn\u001b[0m \u001b[0mmapping\u001b[0m\u001b[0;34m[\u001b[0m\u001b[0mengine\u001b[0m\u001b[0;34m]\u001b[0m\u001b[0;34m(\u001b[0m\u001b[0mself\u001b[0m\u001b[0;34m.\u001b[0m\u001b[0mf\u001b[0m\u001b[0;34m,\u001b[0m \u001b[0;34m**\u001b[0m\u001b[0mself\u001b[0m\u001b[0;34m.\u001b[0m\u001b[0moptions\u001b[0m\u001b[0;34m)\u001b[0m  \u001b[0;31m# type: ignore[call-arg]\u001b[0m\u001b[0;34m\u001b[0m\u001b[0;34m\u001b[0m\u001b[0m\n\u001b[0m\u001b[1;32m   1051\u001b[0m \u001b[0;34m\u001b[0m\u001b[0m\n\u001b[1;32m   1052\u001b[0m     \u001b[0;32mdef\u001b[0m \u001b[0m_failover_to_python\u001b[0m\u001b[0;34m(\u001b[0m\u001b[0mself\u001b[0m\u001b[0;34m)\u001b[0m\u001b[0;34m:\u001b[0m\u001b[0;34m\u001b[0m\u001b[0;34m\u001b[0m\u001b[0m\n",
      "\u001b[0;32m~/opt/anaconda3/lib/python3.8/site-packages/pandas/io/parsers.py\u001b[0m in \u001b[0;36m__init__\u001b[0;34m(self, src, **kwds)\u001b[0m\n\u001b[1;32m   1865\u001b[0m \u001b[0;34m\u001b[0m\u001b[0m\n\u001b[1;32m   1866\u001b[0m         \u001b[0;31m# open handles\u001b[0m\u001b[0;34m\u001b[0m\u001b[0;34m\u001b[0m\u001b[0;34m\u001b[0m\u001b[0m\n\u001b[0;32m-> 1867\u001b[0;31m         \u001b[0mself\u001b[0m\u001b[0;34m.\u001b[0m\u001b[0m_open_handles\u001b[0m\u001b[0;34m(\u001b[0m\u001b[0msrc\u001b[0m\u001b[0;34m,\u001b[0m \u001b[0mkwds\u001b[0m\u001b[0;34m)\u001b[0m\u001b[0;34m\u001b[0m\u001b[0;34m\u001b[0m\u001b[0m\n\u001b[0m\u001b[1;32m   1868\u001b[0m         \u001b[0;32massert\u001b[0m \u001b[0mself\u001b[0m\u001b[0;34m.\u001b[0m\u001b[0mhandles\u001b[0m \u001b[0;32mis\u001b[0m \u001b[0;32mnot\u001b[0m \u001b[0;32mNone\u001b[0m\u001b[0;34m\u001b[0m\u001b[0;34m\u001b[0m\u001b[0m\n\u001b[1;32m   1869\u001b[0m         \u001b[0;32mfor\u001b[0m \u001b[0mkey\u001b[0m \u001b[0;32min\u001b[0m \u001b[0;34m(\u001b[0m\u001b[0;34m\"storage_options\"\u001b[0m\u001b[0;34m,\u001b[0m \u001b[0;34m\"encoding\"\u001b[0m\u001b[0;34m,\u001b[0m \u001b[0;34m\"memory_map\"\u001b[0m\u001b[0;34m,\u001b[0m \u001b[0;34m\"compression\"\u001b[0m\u001b[0;34m)\u001b[0m\u001b[0;34m:\u001b[0m\u001b[0;34m\u001b[0m\u001b[0;34m\u001b[0m\u001b[0m\n",
      "\u001b[0;32m~/opt/anaconda3/lib/python3.8/site-packages/pandas/io/parsers.py\u001b[0m in \u001b[0;36m_open_handles\u001b[0;34m(self, src, kwds)\u001b[0m\n\u001b[1;32m   1360\u001b[0m         \u001b[0mLet\u001b[0m \u001b[0mthe\u001b[0m \u001b[0mreaders\u001b[0m \u001b[0mopen\u001b[0m \u001b[0mIOHanldes\u001b[0m \u001b[0mafter\u001b[0m \u001b[0mthey\u001b[0m \u001b[0mare\u001b[0m \u001b[0mdone\u001b[0m \u001b[0;32mwith\u001b[0m \u001b[0mtheir\u001b[0m \u001b[0mpotential\u001b[0m \u001b[0mraises\u001b[0m\u001b[0;34m.\u001b[0m\u001b[0;34m\u001b[0m\u001b[0;34m\u001b[0m\u001b[0m\n\u001b[1;32m   1361\u001b[0m         \"\"\"\n\u001b[0;32m-> 1362\u001b[0;31m         self.handles = get_handle(\n\u001b[0m\u001b[1;32m   1363\u001b[0m             \u001b[0msrc\u001b[0m\u001b[0;34m,\u001b[0m\u001b[0;34m\u001b[0m\u001b[0;34m\u001b[0m\u001b[0m\n\u001b[1;32m   1364\u001b[0m             \u001b[0;34m\"r\"\u001b[0m\u001b[0;34m,\u001b[0m\u001b[0;34m\u001b[0m\u001b[0;34m\u001b[0m\u001b[0m\n",
      "\u001b[0;32m~/opt/anaconda3/lib/python3.8/site-packages/pandas/io/common.py\u001b[0m in \u001b[0;36mget_handle\u001b[0;34m(path_or_buf, mode, encoding, compression, memory_map, is_text, errors, storage_options)\u001b[0m\n\u001b[1;32m    640\u001b[0m                 \u001b[0merrors\u001b[0m \u001b[0;34m=\u001b[0m \u001b[0;34m\"replace\"\u001b[0m\u001b[0;34m\u001b[0m\u001b[0;34m\u001b[0m\u001b[0m\n\u001b[1;32m    641\u001b[0m             \u001b[0;31m# Encoding\u001b[0m\u001b[0;34m\u001b[0m\u001b[0;34m\u001b[0m\u001b[0;34m\u001b[0m\u001b[0m\n\u001b[0;32m--> 642\u001b[0;31m             handle = open(\n\u001b[0m\u001b[1;32m    643\u001b[0m                 \u001b[0mhandle\u001b[0m\u001b[0;34m,\u001b[0m\u001b[0;34m\u001b[0m\u001b[0;34m\u001b[0m\u001b[0m\n\u001b[1;32m    644\u001b[0m                 \u001b[0mioargs\u001b[0m\u001b[0;34m.\u001b[0m\u001b[0mmode\u001b[0m\u001b[0;34m,\u001b[0m\u001b[0;34m\u001b[0m\u001b[0;34m\u001b[0m\u001b[0m\n",
      "\u001b[0;31mFileNotFoundError\u001b[0m: [Errno 2] No such file or directory: 'data_minmax.csv'"
     ]
    }
   ],
   "source": [
    "network_data = load_data('data_minmax.csv')\n",
    "main(network_data)"
   ]
  },
  {
   "cell_type": "markdown",
   "id": "36d026fb",
   "metadata": {},
   "source": [
    "# Classification with RF after MinMax Scaling + Dimension Reduction (using PCA)"
   ]
  },
  {
   "cell_type": "code",
   "execution_count": null,
   "id": "9cca6bbf",
   "metadata": {},
   "outputs": [],
   "source": [
    "network_data = load_data('dataset_minmax_pca.csv')\n",
    "main(network_data)"
   ]
  },
  {
   "cell_type": "markdown",
   "id": "f5ad2380",
   "metadata": {},
   "source": [
    "# Classification with RF after MinMax Scaling + Correlation analysis"
   ]
  },
  {
   "cell_type": "code",
   "execution_count": null,
   "id": "825a9a63",
   "metadata": {},
   "outputs": [],
   "source": [
    "network_data = load_data('dataset_minmax_corr.csv')\n",
    "main(network_data)"
   ]
  }
 ],
 "metadata": {
  "kernelspec": {
   "display_name": "Python 3",
   "language": "python",
   "name": "python3"
  },
  "language_info": {
   "codemirror_mode": {
    "name": "ipython",
    "version": 3
   },
   "file_extension": ".py",
   "mimetype": "text/x-python",
   "name": "python",
   "nbconvert_exporter": "python",
   "pygments_lexer": "ipython3",
   "version": "3.8.8"
  }
 },
 "nbformat": 4,
 "nbformat_minor": 5
}
