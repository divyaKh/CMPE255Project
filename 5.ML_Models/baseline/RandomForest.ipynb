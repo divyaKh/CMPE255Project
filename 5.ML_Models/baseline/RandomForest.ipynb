{
 "cells": [
  {
   "cell_type": "markdown",
   "id": "16a6780b",
   "metadata": {},
   "source": [
    "# Random Forest\n",
    "\n",
    "- Random Forest is combination of many decision trees\n",
    "- It is a classification algorithm.\n",
    "\n",
    "Why do we need Random Forest over Decision Trees?\n",
    "- Though Decision Trees are easy to build, use and interpret, but they are inaccurate\n",
    "- DTs are not very good with unseen data so our Model may not work as desired\n",
    "- Random Forest = Simplicity of DT + Very Good Accuracy"
   ]
  },
  {
   "cell_type": "markdown",
   "id": "36157ca5",
   "metadata": {},
   "source": [
    "## Input\n",
    "\n",
    "1. .csv - produced by pre_processing.ipynb\n",
    "2. The pre_processed input data includes following techniques:\n",
    "   * MinMax Scaling\n",
    "   * PCA\n",
    "   * Correlation\n",
    "\n",
    "## Output/Analysis\n",
    "\n",
    "1. Visualising the accuracy of RF with k-fold validation.\n",
    "2. Comparing the accuracy of RF model with and without PCA.   "
   ]
  },
  {
   "cell_type": "code",
   "execution_count": 34,
   "id": "a4aed72b",
   "metadata": {},
   "outputs": [],
   "source": [
    "import numpy as np\n",
    "import pandas as pd\n",
    "from sklearn.ensemble import RandomForestClassifier\n",
    "from sklearn.model_selection import GridSearchCV\n",
    "from sklearn.model_selection import train_test_split\n",
    "from sklearn.metrics import accuracy_score"
   ]
  },
  {
   "cell_type": "code",
   "execution_count": 35,
   "id": "76d0b02f",
   "metadata": {},
   "outputs": [],
   "source": [
    "def load_data(filename):\n",
    "    return pd.read_csv(filename)"
   ]
  },
  {
   "cell_type": "markdown",
   "id": "0e77ddf2",
   "metadata": {},
   "source": [
    "# Spilt the input file into test and train dataset\n",
    "\n",
    "I/P: dataframe\n",
    "\n",
    "O/P: x_cross_val, y_cross_val, x_test, y_test"
   ]
  },
  {
   "cell_type": "code",
   "execution_count": 36,
   "id": "d8c9e261",
   "metadata": {},
   "outputs": [],
   "source": [
    "def prep_training(network_data):\n",
    "    return train_test_split(network_data, train_size=0.8, test_size=0.2, random_state=42)"
   ]
  },
  {
   "cell_type": "markdown",
   "id": "a3528006",
   "metadata": {},
   "source": [
    "# Hyperparameter Tuning for Random Forest\n",
    "\n",
    "The following hyperparamter tuning has taken reference from:\n",
    "1. https://towardsdatascience.com/hyperparameter-tuning-the-random-forest-in-python-using-scikit-learn-28d2aa77dd74\n",
    "2. https://medium.com/@ODSC/optimizing-hyperparameters-for-random-forest-algorithms-in-scikit-learn-d60b7aa07ead"
   ]
  },
  {
   "cell_type": "code",
   "execution_count": 37,
   "id": "ffeb1df7",
   "metadata": {},
   "outputs": [],
   "source": [
    "from pprint import pprint"
   ]
  },
  {
   "cell_type": "markdown",
   "id": "514106f7",
   "metadata": {},
   "source": [
    "Instead of all the above the parameters, we will just focus on tuning a few as given below:\n",
    "We will try adjusting a few of the following set of hyperparameters:\n",
    "1. n_estimators = number of trees in the foreset\n",
    "2. max_features = max number of features considered for splitting a node\n",
    "3. max_depth = max number of levels in each decision tree\n",
    "4. min_samples_split = min number of data points placed in a node before the node is split\n",
    "5. min_samples_leaf = min number of data points allowed in a leaf node\n",
    "6. bootstrap = method for sampling data points (with or without replacement)"
   ]
  },
  {
   "cell_type": "markdown",
   "id": "f0ad6de9",
   "metadata": {},
   "source": [
    "To use CV, we first need to create a parameter grid to sample from during fitting:\n",
    "\n",
    "Params From reference github\n",
    "- n_estimators=[30,60,90,120]  \n",
    "- max_features = Not included\n",
    "- max_depth = [10,15,20]\n",
    "- min_samples_split = [2,4,6]\n",
    "- min_samples_leaf = not included\n",
    "- bootstrap = not included\n"
   ]
  },
  {
   "cell_type": "markdown",
   "id": "fb20588e",
   "metadata": {},
   "source": [
    "### RandomizedSearch CV versus GridSearchCV\n",
    "\n",
    "Grid Search is good when we work with a small number of hyperparameters. However, if the number of parameters to consider is particularly high and the magnitudes of influence are imbalanced, the better choice is to use the Random Search. [Reference](https://towardsdatascience.com/machine-learning-gridsearchcv-randomizedsearchcv-d36b89231b10)\n",
    "\n",
    "Therefore, we have used GridSearchCV."
   ]
  },
  {
   "cell_type": "code",
   "execution_count": 38,
   "id": "f83ae7a6",
   "metadata": {},
   "outputs": [],
   "source": [
    "def creatingParamterGrid():\n",
    "    n_estimators = [30,60,90,120]   # Number of trees in random forest\n",
    "    max_depth = [10,15,20]    # Maximum number of levels in tree\n",
    "    min_samples_split = [2,4,6]    # Minimum number of samples required to split a node\n",
    "    \n",
    "    # Create the parameter grid\n",
    "    parameter_grid = {'n_estimators': n_estimators,\n",
    "               'max_depth': max_depth,\n",
    "               'min_samples_split': min_samples_split}\n",
    "    return parameter_grid"
   ]
  },
  {
   "cell_type": "markdown",
   "id": "87b398e4",
   "metadata": {},
   "source": [
    "## Cross-Validated Grid Search\n",
    "\n",
    "We are now ready to create our grid-search object. We'll use each of the objects we've created thus far.\n",
    "Instead of passing a `PredefinedSplit` object tothe `cv` paramter, we are simply passing the number of folds."
   ]
  },
  {
   "cell_type": "code",
   "execution_count": 39,
   "id": "f55de400",
   "metadata": {},
   "outputs": [],
   "source": [
    "def prepToFindOptimalHyperParams(clf,parameter_grid):\n",
    "    grid_search = GridSearchCV(estimator=clf, cv=3, param_grid = parameter_grid)\n",
    "    return grid_search"
   ]
  },
  {
   "cell_type": "markdown",
   "id": "8b3c01fa",
   "metadata": {},
   "source": [
    "## Training the Model\n",
    "\n",
    "Now that we have created our `grid_search` object, we are ready to train our model."
   ]
  },
  {
   "cell_type": "code",
   "execution_count": 40,
   "id": "27303281",
   "metadata": {},
   "outputs": [],
   "source": [
    "def train(cross_val_df,grid_search):\n",
    "    grid_search.fit(cross_val_df.drop(\"label\",axis=1), cross_val_df[\"label\"])"
   ]
  },
  {
   "cell_type": "markdown",
   "id": "b98a9d27",
   "metadata": {},
   "source": [
    "We are training models = (Number of unique Hyperparamter Combinations * number of folds) + 1"
   ]
  },
  {
   "cell_type": "markdown",
   "id": "051db79d",
   "metadata": {},
   "source": [
    "## Cross-validated Results\n",
    "\n",
    "To examine the results individual fold, we use `grid_search`'s `cv_results_` attribute.\n",
    "pd.DataFrame(grid_search.cv_results_).head()"
   ]
  },
  {
   "cell_type": "markdown",
   "id": "3ebf94e7",
   "metadata": {},
   "source": [
    "## Optimal Hyperparamters\n",
    "\n",
    "grid_search.best_params_\n",
    "grid_search.best_score_"
   ]
  },
  {
   "cell_type": "markdown",
   "id": "ea7409cd",
   "metadata": {},
   "source": [
    "# Test the model and find out its accuracy"
   ]
  },
  {
   "cell_type": "code",
   "execution_count": 41,
   "id": "440cfd29",
   "metadata": {},
   "outputs": [],
   "source": [
    "def testRandomForestModel(test_df,grid_search):\n",
    "    acc=accuracy_score(test_df[\"label\"],grid_search.predict(test_df.drop(\"label\",axis=1)))\n",
    "    print('Acc: {:.4f}'.format(acc))      "
   ]
  },
  {
   "cell_type": "markdown",
   "id": "c609a94a",
   "metadata": {},
   "source": [
    "# Main Function"
   ]
  },
  {
   "cell_type": "code",
   "execution_count": 42,
   "id": "feb78669",
   "metadata": {},
   "outputs": [],
   "source": [
    "def main(network_data): \n",
    "    clf = RandomForestClassifier(random_state=42)\n",
    "    cross_val_df, test_df = prep_training(network_data)\n",
    "    parameter_grid = creatingParamterGrid()\n",
    "    pprint(parameter_grid)\n",
    "    grid_search = prepToFindOptimalHyperParams(clf,parameter_grid)\n",
    "    train(cross_val_df,grid_search)\n",
    "    testRandomForestModel(test_df,grid_search)\n",
    "    print(grid_search.best_params_)\n",
    "    print(grid_search.best_score_)\n",
    "    return grid_search"
   ]
  },
  {
   "cell_type": "markdown",
   "id": "8b9aca3b",
   "metadata": {},
   "source": [
    "# Classification with RF without preprocessing"
   ]
  },
  {
   "cell_type": "code",
   "execution_count": 24,
   "id": "40bc23a9",
   "metadata": {},
   "outputs": [],
   "source": [
    "network_data = load_data('https://raw.githubusercontent.com/divyaKh/CMPE255Project/main/2.Data_Cleaning/cleaned_dataset_label_encoding.csv')"
   ]
  },
  {
   "cell_type": "code",
   "execution_count": 25,
   "id": "53b03a60",
   "metadata": {},
   "outputs": [
    {
     "name": "stdout",
     "output_type": "stream",
     "text": [
      "{'max_depth': [10, 15, 20],\n",
      " 'min_samples_split': [2, 4, 6],\n",
      " 'n_estimators': [30, 60, 90, 120]}\n",
      "Acc: 1.0000\n",
      "{'max_depth': 20, 'min_samples_split': 2, 'n_estimators': 60}\n",
      "0.9999902978087601\n"
     ]
    }
   ],
   "source": [
    "main(network_data)"
   ]
  },
  {
   "cell_type": "markdown",
   "id": "546c695d",
   "metadata": {},
   "source": [
    "Here:\n",
    "\n",
    "1. {'max_depth': 20, 'min_samples_split': 2, 'n_estimators': 60} = best params after hyperparameter tuning\n",
    "2. 0.9999902978087601 is the best score after Cross Validation of Random Forest."
   ]
  },
  {
   "cell_type": "markdown",
   "id": "e73d1131",
   "metadata": {},
   "source": [
    "# Classification with RF after MinMax Scaling "
   ]
  },
  {
   "cell_type": "code",
   "execution_count": 44,
   "id": "c477d47e",
   "metadata": {},
   "outputs": [],
   "source": [
    "network_data1 = load_data('../input/dataset_minmax.csv')"
   ]
  },
  {
   "cell_type": "code",
   "execution_count": 45,
   "id": "cac8313c",
   "metadata": {},
   "outputs": [
    {
     "data": {
      "text/html": [
       "<div>\n",
       "<style scoped>\n",
       "    .dataframe tbody tr th:only-of-type {\n",
       "        vertical-align: middle;\n",
       "    }\n",
       "\n",
       "    .dataframe tbody tr th {\n",
       "        vertical-align: top;\n",
       "    }\n",
       "\n",
       "    .dataframe thead th {\n",
       "        text-align: right;\n",
       "    }\n",
       "</style>\n",
       "<table border=\"1\" class=\"dataframe\">\n",
       "  <thead>\n",
       "    <tr style=\"text-align: right;\">\n",
       "      <th></th>\n",
       "      <th># dur</th>\n",
       "      <th>proto</th>\n",
       "      <th>service</th>\n",
       "      <th>state</th>\n",
       "      <th>spkts</th>\n",
       "      <th>dpkts</th>\n",
       "      <th>sbytes</th>\n",
       "      <th>dbytes</th>\n",
       "      <th>rate</th>\n",
       "      <th>sttl</th>\n",
       "      <th>...</th>\n",
       "      <th>ct_src_dport_ltm</th>\n",
       "      <th>ct_dst_sport_ltm</th>\n",
       "      <th>ct_dst_src_ltm</th>\n",
       "      <th>is_ftp_login</th>\n",
       "      <th>ct_ftp_cmd</th>\n",
       "      <th>ct_flw_http_mthd</th>\n",
       "      <th>ct_src_ltm</th>\n",
       "      <th>ct_srv_dst</th>\n",
       "      <th>is_sm_ips_ports</th>\n",
       "      <th>label</th>\n",
       "    </tr>\n",
       "  </thead>\n",
       "  <tbody>\n",
       "    <tr>\n",
       "      <th>0</th>\n",
       "      <td>1.833334e-07</td>\n",
       "      <td>0.901515</td>\n",
       "      <td>0.000000</td>\n",
       "      <td>0.5</td>\n",
       "      <td>0.000094</td>\n",
       "      <td>0.000000</td>\n",
       "      <td>0.000033</td>\n",
       "      <td>0.000000</td>\n",
       "      <td>0.090909</td>\n",
       "      <td>0.996078</td>\n",
       "      <td>...</td>\n",
       "      <td>0.000000</td>\n",
       "      <td>0.000000</td>\n",
       "      <td>0.015625</td>\n",
       "      <td>0.0</td>\n",
       "      <td>0.0</td>\n",
       "      <td>0.0</td>\n",
       "      <td>0.000000</td>\n",
       "      <td>0.016393</td>\n",
       "      <td>0.0</td>\n",
       "      <td>0</td>\n",
       "    </tr>\n",
       "    <tr>\n",
       "      <th>1</th>\n",
       "      <td>1.333334e-07</td>\n",
       "      <td>0.901515</td>\n",
       "      <td>0.000000</td>\n",
       "      <td>0.5</td>\n",
       "      <td>0.000094</td>\n",
       "      <td>0.000000</td>\n",
       "      <td>0.000121</td>\n",
       "      <td>0.000000</td>\n",
       "      <td>0.125000</td>\n",
       "      <td>0.996078</td>\n",
       "      <td>...</td>\n",
       "      <td>0.000000</td>\n",
       "      <td>0.000000</td>\n",
       "      <td>0.015625</td>\n",
       "      <td>0.0</td>\n",
       "      <td>0.0</td>\n",
       "      <td>0.0</td>\n",
       "      <td>0.000000</td>\n",
       "      <td>0.016393</td>\n",
       "      <td>0.0</td>\n",
       "      <td>0</td>\n",
       "    </tr>\n",
       "    <tr>\n",
       "      <th>2</th>\n",
       "      <td>8.333335e-08</td>\n",
       "      <td>0.901515</td>\n",
       "      <td>0.000000</td>\n",
       "      <td>0.5</td>\n",
       "      <td>0.000094</td>\n",
       "      <td>0.000000</td>\n",
       "      <td>0.000073</td>\n",
       "      <td>0.000000</td>\n",
       "      <td>0.200000</td>\n",
       "      <td>0.996078</td>\n",
       "      <td>...</td>\n",
       "      <td>0.000000</td>\n",
       "      <td>0.000000</td>\n",
       "      <td>0.031250</td>\n",
       "      <td>0.0</td>\n",
       "      <td>0.0</td>\n",
       "      <td>0.0</td>\n",
       "      <td>0.000000</td>\n",
       "      <td>0.032787</td>\n",
       "      <td>0.0</td>\n",
       "      <td>0</td>\n",
       "    </tr>\n",
       "    <tr>\n",
       "      <th>3</th>\n",
       "      <td>1.000000e-07</td>\n",
       "      <td>0.901515</td>\n",
       "      <td>0.000000</td>\n",
       "      <td>0.5</td>\n",
       "      <td>0.000094</td>\n",
       "      <td>0.000000</td>\n",
       "      <td>0.000061</td>\n",
       "      <td>0.000000</td>\n",
       "      <td>0.166667</td>\n",
       "      <td>0.996078</td>\n",
       "      <td>...</td>\n",
       "      <td>0.017241</td>\n",
       "      <td>0.000000</td>\n",
       "      <td>0.031250</td>\n",
       "      <td>0.0</td>\n",
       "      <td>0.0</td>\n",
       "      <td>0.0</td>\n",
       "      <td>0.016949</td>\n",
       "      <td>0.032787</td>\n",
       "      <td>0.0</td>\n",
       "      <td>0</td>\n",
       "    </tr>\n",
       "    <tr>\n",
       "      <th>4</th>\n",
       "      <td>1.666667e-07</td>\n",
       "      <td>0.901515</td>\n",
       "      <td>0.000000</td>\n",
       "      <td>0.5</td>\n",
       "      <td>0.000094</td>\n",
       "      <td>0.000000</td>\n",
       "      <td>0.000146</td>\n",
       "      <td>0.000000</td>\n",
       "      <td>0.100000</td>\n",
       "      <td>0.996078</td>\n",
       "      <td>...</td>\n",
       "      <td>0.017241</td>\n",
       "      <td>0.000000</td>\n",
       "      <td>0.031250</td>\n",
       "      <td>0.0</td>\n",
       "      <td>0.0</td>\n",
       "      <td>0.0</td>\n",
       "      <td>0.016949</td>\n",
       "      <td>0.032787</td>\n",
       "      <td>0.0</td>\n",
       "      <td>0</td>\n",
       "    </tr>\n",
       "    <tr>\n",
       "      <th>...</th>\n",
       "      <td>...</td>\n",
       "      <td>...</td>\n",
       "      <td>...</td>\n",
       "      <td>...</td>\n",
       "      <td>...</td>\n",
       "      <td>...</td>\n",
       "      <td>...</td>\n",
       "      <td>...</td>\n",
       "      <td>...</td>\n",
       "      <td>...</td>\n",
       "      <td>...</td>\n",
       "      <td>...</td>\n",
       "      <td>...</td>\n",
       "      <td>...</td>\n",
       "      <td>...</td>\n",
       "      <td>...</td>\n",
       "      <td>...</td>\n",
       "      <td>...</td>\n",
       "      <td>...</td>\n",
       "      <td>...</td>\n",
       "      <td>...</td>\n",
       "    </tr>\n",
       "    <tr>\n",
       "      <th>257668</th>\n",
       "      <td>1.500000e-07</td>\n",
       "      <td>0.901515</td>\n",
       "      <td>0.166667</td>\n",
       "      <td>0.5</td>\n",
       "      <td>0.000094</td>\n",
       "      <td>0.000000</td>\n",
       "      <td>0.000006</td>\n",
       "      <td>0.000000</td>\n",
       "      <td>0.111111</td>\n",
       "      <td>0.996078</td>\n",
       "      <td>...</td>\n",
       "      <td>0.396552</td>\n",
       "      <td>0.266667</td>\n",
       "      <td>0.359375</td>\n",
       "      <td>0.0</td>\n",
       "      <td>0.0</td>\n",
       "      <td>0.0</td>\n",
       "      <td>0.389831</td>\n",
       "      <td>0.377049</td>\n",
       "      <td>0.0</td>\n",
       "      <td>1</td>\n",
       "    </tr>\n",
       "    <tr>\n",
       "      <th>257669</th>\n",
       "      <td>8.429368e-03</td>\n",
       "      <td>0.856061</td>\n",
       "      <td>0.000000</td>\n",
       "      <td>0.4</td>\n",
       "      <td>0.000845</td>\n",
       "      <td>0.000726</td>\n",
       "      <td>0.000042</td>\n",
       "      <td>0.000024</td>\n",
       "      <td>0.000034</td>\n",
       "      <td>0.996078</td>\n",
       "      <td>...</td>\n",
       "      <td>0.000000</td>\n",
       "      <td>0.000000</td>\n",
       "      <td>0.015625</td>\n",
       "      <td>0.0</td>\n",
       "      <td>0.0</td>\n",
       "      <td>0.0</td>\n",
       "      <td>0.000000</td>\n",
       "      <td>0.000000</td>\n",
       "      <td>0.0</td>\n",
       "      <td>1</td>\n",
       "    </tr>\n",
       "    <tr>\n",
       "      <th>257670</th>\n",
       "      <td>1.500000e-07</td>\n",
       "      <td>0.901515</td>\n",
       "      <td>0.166667</td>\n",
       "      <td>0.5</td>\n",
       "      <td>0.000094</td>\n",
       "      <td>0.000000</td>\n",
       "      <td>0.000006</td>\n",
       "      <td>0.000000</td>\n",
       "      <td>0.111111</td>\n",
       "      <td>0.996078</td>\n",
       "      <td>...</td>\n",
       "      <td>0.034483</td>\n",
       "      <td>0.044444</td>\n",
       "      <td>0.187500</td>\n",
       "      <td>0.0</td>\n",
       "      <td>0.0</td>\n",
       "      <td>0.0</td>\n",
       "      <td>0.033898</td>\n",
       "      <td>0.180328</td>\n",
       "      <td>0.0</td>\n",
       "      <td>1</td>\n",
       "    </tr>\n",
       "    <tr>\n",
       "      <th>257671</th>\n",
       "      <td>1.500000e-07</td>\n",
       "      <td>0.901515</td>\n",
       "      <td>0.166667</td>\n",
       "      <td>0.5</td>\n",
       "      <td>0.000094</td>\n",
       "      <td>0.000000</td>\n",
       "      <td>0.000006</td>\n",
       "      <td>0.000000</td>\n",
       "      <td>0.111111</td>\n",
       "      <td>0.996078</td>\n",
       "      <td>...</td>\n",
       "      <td>0.500000</td>\n",
       "      <td>0.288889</td>\n",
       "      <td>0.453125</td>\n",
       "      <td>0.0</td>\n",
       "      <td>0.0</td>\n",
       "      <td>0.0</td>\n",
       "      <td>0.491525</td>\n",
       "      <td>0.475410</td>\n",
       "      <td>0.0</td>\n",
       "      <td>1</td>\n",
       "    </tr>\n",
       "    <tr>\n",
       "      <th>257672</th>\n",
       "      <td>1.500000e-07</td>\n",
       "      <td>0.901515</td>\n",
       "      <td>0.166667</td>\n",
       "      <td>0.5</td>\n",
       "      <td>0.000094</td>\n",
       "      <td>0.000000</td>\n",
       "      <td>0.000006</td>\n",
       "      <td>0.000000</td>\n",
       "      <td>0.111111</td>\n",
       "      <td>0.996078</td>\n",
       "      <td>...</td>\n",
       "      <td>0.500000</td>\n",
       "      <td>0.333333</td>\n",
       "      <td>0.453125</td>\n",
       "      <td>0.0</td>\n",
       "      <td>0.0</td>\n",
       "      <td>0.0</td>\n",
       "      <td>0.491525</td>\n",
       "      <td>0.475410</td>\n",
       "      <td>0.0</td>\n",
       "      <td>1</td>\n",
       "    </tr>\n",
       "  </tbody>\n",
       "</table>\n",
       "<p>257673 rows × 43 columns</p>\n",
       "</div>"
      ],
      "text/plain": [
       "               # dur     proto   service  state     spkts     dpkts    sbytes  \\\n",
       "0       1.833334e-07  0.901515  0.000000    0.5  0.000094  0.000000  0.000033   \n",
       "1       1.333334e-07  0.901515  0.000000    0.5  0.000094  0.000000  0.000121   \n",
       "2       8.333335e-08  0.901515  0.000000    0.5  0.000094  0.000000  0.000073   \n",
       "3       1.000000e-07  0.901515  0.000000    0.5  0.000094  0.000000  0.000061   \n",
       "4       1.666667e-07  0.901515  0.000000    0.5  0.000094  0.000000  0.000146   \n",
       "...              ...       ...       ...    ...       ...       ...       ...   \n",
       "257668  1.500000e-07  0.901515  0.166667    0.5  0.000094  0.000000  0.000006   \n",
       "257669  8.429368e-03  0.856061  0.000000    0.4  0.000845  0.000726  0.000042   \n",
       "257670  1.500000e-07  0.901515  0.166667    0.5  0.000094  0.000000  0.000006   \n",
       "257671  1.500000e-07  0.901515  0.166667    0.5  0.000094  0.000000  0.000006   \n",
       "257672  1.500000e-07  0.901515  0.166667    0.5  0.000094  0.000000  0.000006   \n",
       "\n",
       "          dbytes      rate      sttl  ...  ct_src_dport_ltm  ct_dst_sport_ltm  \\\n",
       "0       0.000000  0.090909  0.996078  ...          0.000000          0.000000   \n",
       "1       0.000000  0.125000  0.996078  ...          0.000000          0.000000   \n",
       "2       0.000000  0.200000  0.996078  ...          0.000000          0.000000   \n",
       "3       0.000000  0.166667  0.996078  ...          0.017241          0.000000   \n",
       "4       0.000000  0.100000  0.996078  ...          0.017241          0.000000   \n",
       "...          ...       ...       ...  ...               ...               ...   \n",
       "257668  0.000000  0.111111  0.996078  ...          0.396552          0.266667   \n",
       "257669  0.000024  0.000034  0.996078  ...          0.000000          0.000000   \n",
       "257670  0.000000  0.111111  0.996078  ...          0.034483          0.044444   \n",
       "257671  0.000000  0.111111  0.996078  ...          0.500000          0.288889   \n",
       "257672  0.000000  0.111111  0.996078  ...          0.500000          0.333333   \n",
       "\n",
       "        ct_dst_src_ltm  is_ftp_login  ct_ftp_cmd  ct_flw_http_mthd  \\\n",
       "0             0.015625           0.0         0.0               0.0   \n",
       "1             0.015625           0.0         0.0               0.0   \n",
       "2             0.031250           0.0         0.0               0.0   \n",
       "3             0.031250           0.0         0.0               0.0   \n",
       "4             0.031250           0.0         0.0               0.0   \n",
       "...                ...           ...         ...               ...   \n",
       "257668        0.359375           0.0         0.0               0.0   \n",
       "257669        0.015625           0.0         0.0               0.0   \n",
       "257670        0.187500           0.0         0.0               0.0   \n",
       "257671        0.453125           0.0         0.0               0.0   \n",
       "257672        0.453125           0.0         0.0               0.0   \n",
       "\n",
       "        ct_src_ltm  ct_srv_dst  is_sm_ips_ports  label  \n",
       "0         0.000000    0.016393              0.0      0  \n",
       "1         0.000000    0.016393              0.0      0  \n",
       "2         0.000000    0.032787              0.0      0  \n",
       "3         0.016949    0.032787              0.0      0  \n",
       "4         0.016949    0.032787              0.0      0  \n",
       "...            ...         ...              ...    ...  \n",
       "257668    0.389831    0.377049              0.0      1  \n",
       "257669    0.000000    0.000000              0.0      1  \n",
       "257670    0.033898    0.180328              0.0      1  \n",
       "257671    0.491525    0.475410              0.0      1  \n",
       "257672    0.491525    0.475410              0.0      1  \n",
       "\n",
       "[257673 rows x 43 columns]"
      ]
     },
     "execution_count": 45,
     "metadata": {},
     "output_type": "execute_result"
    }
   ],
   "source": [
    "network_data1"
   ]
  },
  {
   "cell_type": "code",
   "execution_count": 46,
   "id": "6163ca95",
   "metadata": {},
   "outputs": [
    {
     "name": "stdout",
     "output_type": "stream",
     "text": [
      "{'max_depth': [10, 15, 20],\n",
      " 'min_samples_split': [2, 4, 6],\n",
      " 'n_estimators': [30, 60, 90, 120]}\n",
      "Acc: 0.9495\n",
      "{'max_depth': 20, 'min_samples_split': 2, 'n_estimators': 90}\n",
      "0.9479474904012962\n"
     ]
    }
   ],
   "source": [
    "grid_search1= main(network_data1)"
   ]
  },
  {
   "cell_type": "code",
   "execution_count": null,
   "id": "1ea9e76d",
   "metadata": {},
   "outputs": [],
   "source": [
    "pd.DataFrame(grid_search1.cv_results_).head()"
   ]
  },
  {
   "cell_type": "markdown",
   "id": "f8137c7b",
   "metadata": {},
   "source": [
    "Here:\n",
    "1. {'max_depth': 20, 'min_samples_split': 2, 'n_estimators': 90} = best params after hyperparameter tuning\n",
    "2. 0.9479474904012962 is the best score after Cross Validation of Random Forest."
   ]
  },
  {
   "cell_type": "markdown",
   "id": "36d026fb",
   "metadata": {},
   "source": [
    "# Classification with RF after MinMax Scaling + Correlation analysis"
   ]
  },
  {
   "cell_type": "code",
   "execution_count": 48,
   "id": "9cca6bbf",
   "metadata": {},
   "outputs": [],
   "source": [
    "network_data2 = load_data('../input/dataset_minmax_corr.csv')"
   ]
  },
  {
   "cell_type": "code",
   "execution_count": 49,
   "id": "7e635059",
   "metadata": {},
   "outputs": [
    {
     "name": "stdout",
     "output_type": "stream",
     "text": [
      "{'max_depth': [10, 15, 20],\n",
      " 'min_samples_split': [2, 4, 6],\n",
      " 'n_estimators': [30, 60, 90, 120]}\n",
      "Acc: 0.9401\n",
      "{'max_depth': 20, 'min_samples_split': 2, 'n_estimators': 120}\n",
      "0.9383422787135555\n"
     ]
    }
   ],
   "source": [
    "grid_search2 = main(network_data2)"
   ]
  },
  {
   "cell_type": "code",
   "execution_count": null,
   "id": "e54c9db4",
   "metadata": {},
   "outputs": [],
   "source": [
    "pd.DataFrame(grid_search2.cv_results_).head()"
   ]
  },
  {
   "cell_type": "markdown",
   "id": "f5ad2380",
   "metadata": {},
   "source": [
    "# Classification with RF after Dimension Reduction (using PCA)"
   ]
  },
  {
   "cell_type": "code",
   "execution_count": 50,
   "id": "825a9a63",
   "metadata": {},
   "outputs": [],
   "source": [
    "network_data3 = load_data('../input/dataset_pca.csv')"
   ]
  },
  {
   "cell_type": "code",
   "execution_count": null,
   "id": "37d9a7c1",
   "metadata": {},
   "outputs": [
    {
     "name": "stdout",
     "output_type": "stream",
     "text": [
      "{'max_depth': [10, 15, 20],\n",
      " 'min_samples_split': [2, 4, 6],\n",
      " 'n_estimators': [30, 60, 90, 120]}\n"
     ]
    }
   ],
   "source": [
    "grid_search3 = main(network_data3)"
   ]
  },
  {
   "cell_type": "code",
   "execution_count": null,
   "id": "fc5aec38",
   "metadata": {},
   "outputs": [],
   "source": [
    "pd.DataFrame(grid_search3.cv_results_).head()"
   ]
  }
 ],
 "metadata": {
  "kernelspec": {
   "display_name": "Python 3",
   "language": "python",
   "name": "python3"
  },
  "language_info": {
   "codemirror_mode": {
    "name": "ipython",
    "version": 3
   },
   "file_extension": ".py",
   "mimetype": "text/x-python",
   "name": "python",
   "nbconvert_exporter": "python",
   "pygments_lexer": "ipython3",
   "version": "3.8.8"
  }
 },
 "nbformat": 4,
 "nbformat_minor": 5
}
