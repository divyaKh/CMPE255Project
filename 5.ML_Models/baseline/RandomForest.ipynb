{
 "cells": [
  {
   "cell_type": "markdown",
   "id": "16a6780b",
   "metadata": {},
   "source": [
    "# Random Forest\n",
    "\n",
    "- Random Forest is combination of many decision trees\n",
    "- It is a classification algorithm.\n",
    "\n",
    "Why do we need Random Forest over Decision Trees?\n",
    "- Though Decision Trees are easy to build, use and interpret, but they are inaccurate\n",
    "- DTs are not very good with unseen data so our Model may not work as desired\n",
    "- Random Forest = Simplicity of DT + Very Good Accuracy"
   ]
  },
  {
   "cell_type": "markdown",
   "id": "36157ca5",
   "metadata": {},
   "source": [
    "## Input\n",
    "\n",
    "1. .csv - produced by pre_processing.ipynb\n",
    "2. The pre_processed input data includes following techniques:\n",
    "   * MinMax Scaling\n",
    "   * PCA\n",
    "   * Correlation\n",
    "\n",
    "## Output/Analysis\n",
    "\n",
    "1. Visualising the accuracy of RF with k-fold validation.\n",
    "2. Comparing the accuracy of RF model with and without PCA.   "
   ]
  },
  {
   "cell_type": "code",
   "execution_count": 49,
   "id": "a4aed72b",
   "metadata": {},
   "outputs": [],
   "source": [
    "import numpy as np\n",
    "import pandas as pd\n",
    "from sklearn.ensemble import RandomForestClassifier\n",
    "from sklearn.model_selection import GridSearchCV\n",
    "from sklearn.model_selection import train_test_split\n",
    "from sklearn.metrics import accuracy_score"
   ]
  },
  {
   "cell_type": "code",
   "execution_count": 50,
   "id": "76d0b02f",
   "metadata": {},
   "outputs": [],
   "source": [
    "def load_data(filename):\n",
    "    return pd.read_csv(filename)"
   ]
  },
  {
   "cell_type": "markdown",
   "id": "0e77ddf2",
   "metadata": {},
   "source": [
    "# Spilt the input file into test and train dataset\n",
    "\n",
    "I/P: dataframe\n",
    "\n",
    "O/P: x_cross_val, y_cross_val, x_test, y_test"
   ]
  },
  {
   "cell_type": "code",
   "execution_count": 51,
   "id": "d8c9e261",
   "metadata": {},
   "outputs": [],
   "source": [
    "def prep_training(network_data):\n",
    "    return train_test_split(network_data, train_size=0.8, test_size=0.2, random_state=42)"
   ]
  },
  {
   "cell_type": "markdown",
   "id": "a3528006",
   "metadata": {},
   "source": [
    "# Hyperparameter Tuning for Random Forest\n",
    "\n",
    "The following hyperparamter tuning has taken reference from:\n",
    "1. https://towardsdatascience.com/hyperparameter-tuning-the-random-forest-in-python-using-scikit-learn-28d2aa77dd74\n",
    "2. https://medium.com/@ODSC/optimizing-hyperparameters-for-random-forest-algorithms-in-scikit-learn-d60b7aa07ead"
   ]
  },
  {
   "cell_type": "code",
   "execution_count": 52,
   "id": "ffeb1df7",
   "metadata": {},
   "outputs": [],
   "source": [
    "from pprint import pprint"
   ]
  },
  {
   "cell_type": "markdown",
   "id": "514106f7",
   "metadata": {},
   "source": [
    "Instead of all the above the parameters, we will just focus on tuning a few as given below:\n",
    "We will try adjusting a few of the following set of hyperparameters:\n",
    "1. n_estimators = number of trees in the foreset\n",
    "2. max_features = max number of features considered for splitting a node\n",
    "3. max_depth = max number of levels in each decision tree\n",
    "4. min_samples_split = min number of data points placed in a node before the node is split\n",
    "5. min_samples_leaf = min number of data points allowed in a leaf node\n",
    "6. bootstrap = method for sampling data points (with or without replacement)"
   ]
  },
  {
   "cell_type": "markdown",
   "id": "f0ad6de9",
   "metadata": {},
   "source": [
    "To use CV, we first need to create a parameter grid to sample from during fitting:\n",
    "\n",
    "Params From reference github\n",
    "- n_estimators=[30,60,90,120]  \n",
    "- max_features = Not included\n",
    "- max_depth = [10,15,20]\n",
    "- min_samples_split = [2,4,6]\n",
    "- min_samples_leaf = not included\n",
    "- bootstrap = not included\n"
   ]
  },
  {
   "cell_type": "markdown",
   "id": "fb20588e",
   "metadata": {},
   "source": [
    "### RandomizedSearch CV versus GridSearchCV\n",
    "\n",
    "Grid Search is good when we work with a small number of hyperparameters. However, if the number of parameters to consider is particularly high and the magnitudes of influence are imbalanced, the better choice is to use the Random Search. [Reference](https://towardsdatascience.com/machine-learning-gridsearchcv-randomizedsearchcv-d36b89231b10)\n",
    "\n",
    "Therefore, we have used GridSearchCV."
   ]
  },
  {
   "cell_type": "code",
   "execution_count": 53,
   "id": "f83ae7a6",
   "metadata": {},
   "outputs": [],
   "source": [
    "def creatingParamterGrid():\n",
    "    n_estimators = [30,60,90,120]   # Number of trees in random forest\n",
    "    max_depth = [10,15,20]    # Maximum number of levels in tree\n",
    "    min_samples_split = [2,4,6]    # Minimum number of samples required to split a node\n",
    "    \n",
    "    # Create the parameter grid\n",
    "    parameter_grid = {'n_estimators': n_estimators,\n",
    "               'max_depth': max_depth,\n",
    "               'min_samples_split': min_samples_split}\n",
    "    return parameter_grid"
   ]
  },
  {
   "cell_type": "markdown",
   "id": "87b398e4",
   "metadata": {},
   "source": [
    "## Cross-Validated Grid Search\n",
    "\n",
    "We are now ready to create our grid-search object. We'll use each of the objects we've created thus far.\n",
    "Instead of passing a `PredefinedSplit` object tothe `cv` paramter, we are simply passing the number of folds."
   ]
  },
  {
   "cell_type": "code",
   "execution_count": 54,
   "id": "f55de400",
   "metadata": {},
   "outputs": [],
   "source": [
    "def prepToFindOptimalHyperParams(clf,parameter_grid):\n",
    "    grid_search = GridSearchCV(estimator=clf, cv=3, param_grid = parameter_grid)\n",
    "    return grid_search"
   ]
  },
  {
   "cell_type": "markdown",
   "id": "8b3c01fa",
   "metadata": {},
   "source": [
    "## Training the Model\n",
    "\n",
    "Now that we have created our `grid_search` object, we are ready to train our model."
   ]
  },
  {
   "cell_type": "code",
   "execution_count": 55,
   "id": "27303281",
   "metadata": {},
   "outputs": [],
   "source": [
    "def train(cross_val_df,grid_search):\n",
    "    ll = [\"label\",\"attack_cat_0\",\"attack_cat_1\",\"attack_cat_2\",\"attack_cat_3\",\"attack_cat_4\",\"attack_cat_5\",\"attack_cat_6\",\"attack_cat_7\",\"attack_cat_8\",\"attack_cat_9\"]\n",
    "    grid_search.fit(cross_val_df.drop(ll,axis=1), cross_val_df[\"label\"])"
   ]
  },
  {
   "cell_type": "markdown",
   "id": "b98a9d27",
   "metadata": {},
   "source": [
    "We are training models = (Number of unique Hyperparamter Combinations * number of folds) + 1"
   ]
  },
  {
   "cell_type": "markdown",
   "id": "051db79d",
   "metadata": {},
   "source": [
    "## Cross-validated Results\n",
    "\n",
    "To examine the results individual fold, we use `grid_search`'s `cv_results_` attribute.\n",
    "pd.DataFrame(grid_search.cv_results_).head()"
   ]
  },
  {
   "cell_type": "markdown",
   "id": "3ebf94e7",
   "metadata": {},
   "source": [
    "## Optimal Hyperparamters\n",
    "\n",
    "grid_search.best_params_\n",
    "grid_search.best_score_"
   ]
  },
  {
   "cell_type": "markdown",
   "id": "ea7409cd",
   "metadata": {},
   "source": [
    "# Test the model and find out its accuracy"
   ]
  },
  {
   "cell_type": "code",
   "execution_count": 56,
   "id": "440cfd29",
   "metadata": {},
   "outputs": [],
   "source": [
    "def testRandomForestModel(test_df,grid_search):\n",
    "    ll = [\"label\",\"attack_cat_0\",\"attack_cat_1\",\"attack_cat_2\",\"attack_cat_3\",\"attack_cat_4\",\"attack_cat_5\",\"attack_cat_6\",\"attack_cat_7\",\"attack_cat_8\",\"attack_cat_9\"]\n",
    "    acc=accuracy_score(test_df[\"label\"],grid_search.predict(test_df.drop(ll,axis=1)))\n",
    "    print('Acc: {:.4f}'.format(acc))      "
   ]
  },
  {
   "cell_type": "markdown",
   "id": "c609a94a",
   "metadata": {},
   "source": [
    "# Main Function"
   ]
  },
  {
   "cell_type": "code",
   "execution_count": 57,
   "id": "feb78669",
   "metadata": {},
   "outputs": [],
   "source": [
    "def main(network_data): \n",
    "    clf = RandomForestClassifier(random_state=42)\n",
    "    cross_val_df, test_df = prep_training(network_data)\n",
    "    parameter_grid = creatingParamterGrid()\n",
    "    pprint(parameter_grid)\n",
    "    grid_search = prepToFindOptimalHyperParams(clf,parameter_grid)\n",
    "    train(cross_val_df,grid_search)\n",
    "    testRandomForestModel(test_df,grid_search)\n",
    "    return grid_search"
   ]
  },
  {
   "cell_type": "markdown",
   "id": "e73d1131",
   "metadata": {},
   "source": [
    "# Classification with RF after MinMax Scaling "
   ]
  },
  {
   "cell_type": "code",
   "execution_count": 58,
   "id": "c477d47e",
   "metadata": {},
   "outputs": [],
   "source": [
    "network_data = load_data(\"./data_minmax_labelenc.csv\")"
   ]
  },
  {
   "cell_type": "code",
   "execution_count": 59,
   "id": "6163ca95",
   "metadata": {},
   "outputs": [
    {
     "name": "stdout",
     "output_type": "stream",
     "text": [
      "{'max_depth': [10, 15, 20],\n",
      " 'min_samples_split': [2, 4, 6],\n",
      " 'n_estimators': [30, 60, 90, 120]}\n",
      "Acc: 0.9495\n"
     ]
    }
   ],
   "source": [
    "grid_search= main(network_data)"
   ]
  },
  {
   "cell_type": "code",
   "execution_count": 60,
   "id": "00b7e16e",
   "metadata": {},
   "outputs": [
    {
     "data": {
      "text/plain": [
       "{'max_depth': 20, 'min_samples_split': 2, 'n_estimators': 90}"
      ]
     },
     "execution_count": 60,
     "metadata": {},
     "output_type": "execute_result"
    }
   ],
   "source": [
    "grid_search.best_params_"
   ]
  },
  {
   "cell_type": "code",
   "execution_count": 61,
   "id": "f9b8aae8",
   "metadata": {},
   "outputs": [
    {
     "data": {
      "text/plain": [
       "0.9479474904012962"
      ]
     },
     "execution_count": 61,
     "metadata": {},
     "output_type": "execute_result"
    }
   ],
   "source": [
    "grid_search.best_score_"
   ]
  },
  {
   "cell_type": "markdown",
   "id": "36d026fb",
   "metadata": {},
   "source": [
    "# Classification with RF after MinMax Scaling + Dimension Reduction (using PCA)"
   ]
  },
  {
   "cell_type": "code",
   "execution_count": 76,
   "id": "9cca6bbf",
   "metadata": {},
   "outputs": [],
   "source": [
    "# network_data = load_data('dataset_minmax_pca.csv')\n",
    "# main(network_data)"
   ]
  },
  {
   "cell_type": "markdown",
   "id": "f5ad2380",
   "metadata": {},
   "source": [
    "# Classification with RF after MinMax Scaling + Correlation analysis"
   ]
  },
  {
   "cell_type": "code",
   "execution_count": 77,
   "id": "825a9a63",
   "metadata": {},
   "outputs": [],
   "source": [
    "# network_data = load_data('dataset_minmax_corr.csv')\n",
    "# main(network_data)"
   ]
  }
 ],
 "metadata": {
  "kernelspec": {
   "display_name": "Python 3",
   "language": "python",
   "name": "python3"
  },
  "language_info": {
   "codemirror_mode": {
    "name": "ipython",
    "version": 3
   },
   "file_extension": ".py",
   "mimetype": "text/x-python",
   "name": "python",
   "nbconvert_exporter": "python",
   "pygments_lexer": "ipython3",
   "version": "3.8.8"
  }
 },
 "nbformat": 4,
 "nbformat_minor": 5
}
