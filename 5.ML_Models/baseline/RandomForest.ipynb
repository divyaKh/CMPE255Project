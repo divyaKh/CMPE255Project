{
  "cells": [
    {
      "cell_type": "markdown",
      "metadata": {
        "id": "16a6780b"
      },
      "source": [
        "# Random Forest\n",
        "\n",
        "- Random Forest is combination of many decision trees\n",
        "- It is a classification algorithm.\n",
        "\n",
        "Why do we need Random Forest over Decision Trees?\n",
        "- Though Decision Trees are easy to build, use and interpret, but they are inaccurate\n",
        "- DTs are not very good with unseen data so our Model may not work as desired\n",
        "- Random Forest = Simplicity of DT + Very Good Accuracy"
      ],
      "id": "16a6780b"
    },
    {
      "cell_type": "markdown",
      "metadata": {
        "id": "36157ca5"
      },
      "source": [
        "## Input\n",
        "\n",
        "1. .csv - produced by pre_processing.ipynb\n",
        "2. The pre_processed input data includes following techniques:\n",
        "   * MinMax Scaling\n",
        "   * PCA\n",
        "   * Correlation\n",
        "\n",
        "## Output/Analysis\n",
        "\n",
        "1. Visualising the accuracy of RF with k-fold validation.\n",
        "2. Comparing the accuracy of RF model with and without PCA.   "
      ],
      "id": "36157ca5"
    },
    {
      "cell_type": "code",
      "execution_count": null,
      "metadata": {
        "id": "a4aed72b"
      },
      "outputs": [],
      "source": [
        "import numpy as np\n",
        "import pandas as pd\n",
        "from sklearn.ensemble import RandomForestClassifier\n",
        "from sklearn.model_selection import GridSearchCV\n",
        "from sklearn.model_selection import train_test_split\n",
        "from sklearn.metrics import accuracy_score\n",
        "from sklearn.metrics import classification_report\n",
        "from sklearn.metrics import confusion_matrix\n",
        "from sklearn.metrics import plot_confusion_matrix\n",
        "\n",
        "from sklearn.metrics import f1_score\n",
        "import matplotlib.pyplot as plt \n",
        "import seaborn as sns\n",
        "acc = []\n",
        "f1 =  []\n",
        "acc1 = []\n",
        "f11 =  []\n",
        "df = pd.DataFrame()"
      ],
      "id": "a4aed72b"
    },
    {
      "cell_type": "code",
      "execution_count": null,
      "metadata": {
        "colab": {
          "base_uri": "https://localhost:8080/"
        },
        "id": "11Vxtw1V8Ey-",
        "outputId": "aa832abd-d72d-4938-8fe2-3f2b557b2e78"
      },
      "outputs": [
        {
          "output_type": "stream",
          "name": "stdout",
          "text": [
            "Mounted at /content/drive\n"
          ]
        }
      ],
      "source": [
        "# from google.colab import drive\n",
        "# drive.mount('/content/drive')     #uncomment only if working with google colab"
      ],
      "id": "11Vxtw1V8Ey-"
    },
    {
      "cell_type": "code",
      "execution_count": null,
      "metadata": {
        "id": "76d0b02f"
      },
      "outputs": [],
      "source": [
        "def load_data(filename):\n",
        "    return pd.read_csv(filename)"
      ],
      "id": "76d0b02f"
    },
    {
      "cell_type": "markdown",
      "metadata": {
        "id": "0e77ddf2"
      },
      "source": [
        "# Spilt the input file into test and train dataset\n",
        "\n",
        "I/P: dataframe\n",
        "\n",
        "O/P: x_cross_val, y_cross_val, x_test, y_test"
      ],
      "id": "0e77ddf2"
    },
    {
      "cell_type": "code",
      "execution_count": null,
      "metadata": {
        "id": "d8c9e261"
      },
      "outputs": [],
      "source": [
        "def prep_training(network_data):\n",
        "    return train_test_split(network_data, train_size=0.8, test_size=0.2, random_state=42)"
      ],
      "id": "d8c9e261"
    },
    {
      "cell_type": "markdown",
      "metadata": {
        "id": "a3528006"
      },
      "source": [
        "# Hyperparameter Tuning for Random Forest\n",
        "\n",
        "The following hyperparamter tuning has taken reference from:\n",
        "1. https://towardsdatascience.com/hyperparameter-tuning-the-random-forest-in-python-using-scikit-learn-28d2aa77dd74\n",
        "2. https://medium.com/@ODSC/optimizing-hyperparameters-for-random-forest-algorithms-in-scikit-learn-d60b7aa07ead"
      ],
      "id": "a3528006"
    },
    {
      "cell_type": "code",
      "execution_count": null,
      "metadata": {
        "id": "ffeb1df7"
      },
      "outputs": [],
      "source": [
        "from pprint import pprint"
      ],
      "id": "ffeb1df7"
    },
    {
      "cell_type": "markdown",
      "metadata": {
        "id": "514106f7"
      },
      "source": [
        "Instead of all the above the parameters, we will just focus on tuning a few as given below:\n",
        "We will try adjusting a few of the following set of hyperparameters:\n",
        "1. n_estimators = number of trees in the foreset\n",
        "2. max_features = max number of features considered for splitting a node\n",
        "3. max_depth = max number of levels in each decision tree\n",
        "4. min_samples_split = min number of data points placed in a node before the node is split\n",
        "5. min_samples_leaf = min number of data points allowed in a leaf node\n",
        "6. bootstrap = method for sampling data points (with or without replacement)"
      ],
      "id": "514106f7"
    },
    {
      "cell_type": "markdown",
      "metadata": {
        "id": "f0ad6de9"
      },
      "source": [
        "To use CV, we first need to create a parameter grid to sample from during fitting:\n",
        "\n",
        "Params From reference github\n",
        "- n_estimators=[30,60,90,120]  \n",
        "- max_features = Not included\n",
        "- max_depth = [10,15,20]\n",
        "- min_samples_split = [2,4,6]\n",
        "- min_samples_leaf = not included\n",
        "- bootstrap = not included\n"
      ],
      "id": "f0ad6de9"
    },
    {
      "cell_type": "markdown",
      "metadata": {
        "id": "fb20588e"
      },
      "source": [
        "### RandomizedSearch CV versus GridSearchCV\n",
        "\n",
        "Grid Search is good when we work with a small number of hyperparameters. However, if the number of parameters to consider is particularly high and the magnitudes of influence are imbalanced, the better choice is to use the Random Search. [Reference](https://towardsdatascience.com/machine-learning-gridsearchcv-randomizedsearchcv-d36b89231b10)\n",
        "\n",
        "Therefore, we have used GridSearchCV."
      ],
      "id": "fb20588e"
    },
    {
      "cell_type": "code",
      "execution_count": null,
      "metadata": {
        "id": "f83ae7a6"
      },
      "outputs": [],
      "source": [
        "def creatingParamterGrid():\n",
        "    n_estimators = [30,60,90,120]   # Number of trees in random forest\n",
        "    max_depth = [10,15,20]    # Maximum number of levels in tree\n",
        "    min_samples_split = [2,4,6]  # Minimum number of samples required to split a node\n",
        "    \n",
        "    # Create the parameter grid\n",
        "    parameter_grid = {'n_estimators': n_estimators,\n",
        "               'max_depth': max_depth,\n",
        "               'min_samples_split': min_samples_split}\n",
        "    return parameter_grid"
      ],
      "id": "f83ae7a6"
    },
    {
      "cell_type": "markdown",
      "metadata": {
        "id": "87b398e4"
      },
      "source": [
        "## Cross-Validated Grid Search\n",
        "\n",
        "We are now ready to create our grid-search object. We'll use each of the objects we've created thus far.\n",
        "Instead of passing a `PredefinedSplit` object tothe `cv` paramter, we are simply passing the number of folds."
      ],
      "id": "87b398e4"
    },
    {
      "cell_type": "code",
      "execution_count": null,
      "metadata": {
        "id": "f55de400"
      },
      "outputs": [],
      "source": [
        "def prepToFindOptimalHyperParams(clf,parameter_grid):\n",
        "    grid_search = GridSearchCV(estimator=clf, cv=3, param_grid = parameter_grid)\n",
        "    return grid_search"
      ],
      "id": "f55de400"
    },
    {
      "cell_type": "markdown",
      "metadata": {
        "id": "8b3c01fa"
      },
      "source": [
        "## Training the Model\n",
        "\n",
        "Now that we have created our `grid_search` object, we are ready to train our model."
      ],
      "id": "8b3c01fa"
    },
    {
      "cell_type": "code",
      "execution_count": null,
      "metadata": {
        "id": "27303281"
      },
      "outputs": [],
      "source": [
        "def train(cross_val_df,grid_search):\n",
        "    grid_search.fit(cross_val_df.drop(\"label\",axis=1), cross_val_df[\"label\"])\n",
        "    Xpred = grid_search.predict(cross_val_df.drop(\"label\",axis=1))\n",
        "    print(\"accuracy on train is\",accuracy_score(cross_val_df[\"label\"],Xpred))"
      ],
      "id": "27303281"
    },
    {
      "cell_type": "markdown",
      "metadata": {
        "id": "b98a9d27"
      },
      "source": [
        "We are training models = (Number of unique Hyperparamter Combinations * number of folds) + 1"
      ],
      "id": "b98a9d27"
    },
    {
      "cell_type": "markdown",
      "metadata": {
        "id": "051db79d"
      },
      "source": [
        "## Cross-validated Results\n",
        "\n",
        "To examine the results individual fold, we use `grid_search`'s `cv_results_` attribute.\n",
        "pd.DataFrame(grid_search.cv_results_).head()"
      ],
      "id": "051db79d"
    },
    {
      "cell_type": "markdown",
      "metadata": {
        "id": "3ebf94e7"
      },
      "source": [
        "## Optimal Hyperparamters\n",
        "\n",
        "grid_search.best_params_\n",
        "grid_search.best_score_"
      ],
      "id": "3ebf94e7"
    },
    {
      "cell_type": "markdown",
      "metadata": {
        "id": "ea7409cd"
      },
      "source": [
        "# Test the model and analyse it"
      ],
      "id": "ea7409cd"
    },
    {
      "cell_type": "code",
      "execution_count": null,
      "metadata": {
        "id": "440cfd29"
      },
      "outputs": [],
      "source": [
        "def testRandomForestModel(test_df,grid_search,type):\n",
        "    Ytest = test_df[\"label\"]\n",
        "    Ypred = grid_search.predict(test_df.drop(\"label\",axis=1))\n",
        "    print(classification_report(Ytest,Ypred))   \n",
        "    acc1.append(accuracy_score(Ytest,Ypred))\n",
        "    acc=accuracy_score(Ytest,Ypred)\n",
        "    print('Accuracy of Random Forest:',(acc)) \n",
        "    f1.append(f1_score(Ytest,Ypred))\n",
        "    plt.savefig('confusion_matrix'+type+'.jpg')\n",
        "    cm = confusion_matrix(Ytest, Ypred)\n",
        "    ax= plt.subplot()\n",
        "    sns.heatmap(cm, annot=True, fmt='g', ax=ax) \n",
        "    print(cm)\n",
        "    return acc1\n"
      ],
      "id": "440cfd29"
    },
    {
      "cell_type": "markdown",
      "metadata": {
        "id": "c609a94a"
      },
      "source": [
        "# Main Function"
      ],
      "id": "c609a94a"
    },
    {
      "cell_type": "code",
      "execution_count": null,
      "metadata": {
        "id": "feb78669"
      },
      "outputs": [],
      "source": [
        "def main(network_data,type): \n",
        "    clf = RandomForestClassifier(random_state=42)\n",
        "    cross_val_df, test_df = prep_training(network_data)\n",
        "    parameter_grid = creatingParamterGrid()\n",
        "    pprint(parameter_grid)\n",
        "    grid_search = prepToFindOptimalHyperParams(clf,parameter_grid)\n",
        "    train(cross_val_df,grid_search)\n",
        "    acc1=testRandomForestModel(test_df,grid_search,type)\n",
        "    print(grid_search.best_params_)\n",
        "    print(grid_search.best_score_)\n",
        "    return grid_search,acc1"
      ],
      "id": "feb78669"
    },
    {
      "cell_type": "markdown",
      "metadata": {
        "id": "8b9aca3b"
      },
      "source": [
        "# Classification with RF without preprocessing"
      ],
      "id": "8b9aca3b"
    },
    {
      "cell_type": "code",
      "execution_count": null,
      "metadata": {
        "id": "40bc23a9"
      },
      "outputs": [],
      "source": [
        "network_data = load_data('https://raw.githubusercontent.com/divyaKh/CMPE255Project/main/2.Data_Cleaning/cleaned_dataset_label_encoding.csv')"
      ],
      "id": "40bc23a9"
    },
    {
      "cell_type": "code",
      "execution_count": null,
      "metadata": {
        "colab": {
          "base_uri": "https://localhost:8080/",
          "height": 578
        },
        "id": "53b03a60",
        "outputId": "aebdfaa1-d18d-4019-d0d8-611e2fb957d3"
      },
      "outputs": [
        {
          "output_type": "stream",
          "name": "stdout",
          "text": [
            "{'max_depth': [10, 15, 20],\n",
            " 'min_samples_split': [2, 4, 6],\n",
            " 'n_estimators': [30, 60, 90, 120]}\n",
            "accuracy on train is 0.9759675557151035\n",
            "              precision    recall  f1-score   support\n",
            "\n",
            "           0       0.92      0.94      0.93     18675\n",
            "           1       0.96      0.96      0.96     32860\n",
            "\n",
            "    accuracy                           0.95     51535\n",
            "   macro avg       0.94      0.95      0.94     51535\n",
            "weighted avg       0.95      0.95      0.95     51535\n",
            "\n",
            "Accuracy of Random Forest: 0.9487920830503541\n",
            "[[17508  1167]\n",
            " [ 1472 31388]]\n",
            "{'max_depth': 20, 'min_samples_split': 2, 'n_estimators': 60}\n",
            "0.9476564252995031\n"
          ]
        },
        {
          "output_type": "display_data",
          "data": {
            "image/png": "[encoded data removed]",
            "text/plain": [
              "<Figure size 432x288 with 2 Axes>"
            ]
          },
          "metadata": {
            "needs_background": "light"
          }
        }
      ],
      "source": [
        "network_data = network_data.drop(\"attack_cat\",axis=1)\n",
        "\n",
        "grid_search,acc1 = main(network_data,'withoutpreprocess')"
      ],
      "id": "53b03a60"
    },
    {
      "cell_type": "code",
      "source": [
        "\n",
        "df['Accuracy_without_pp'] =acc1\n",
        "df['F1_score_without_pp']=f1\n"
      ],
      "metadata": {
        "id": "rQ7mGkpvyPW9"
      },
      "id": "rQ7mGkpvyPW9",
      "execution_count": null,
      "outputs": []
    },
    {
      "cell_type": "code",
      "source": [
        "df"
      ],
      "metadata": {
        "colab": {
          "base_uri": "https://localhost:8080/",
          "height": 81
        },
        "id": "prFoT1Tx_vOk",
        "outputId": "43845b53-899c-4bdb-a36e-d3b61fc110cd"
      },
      "id": "prFoT1Tx_vOk",
      "execution_count": null,
      "outputs": [
        {
          "output_type": "execute_result",
          "data": {
            "text/html": [
              "<div>\n",
              "<style scoped>\n",
              "    .dataframe tbody tr th:only-of-type {\n",
              "        vertical-align: middle;\n",
              "    }\n",
              "\n",
              "    .dataframe tbody tr th {\n",
              "        vertical-align: top;\n",
              "    }\n",
              "\n",
              "    .dataframe thead th {\n",
              "        text-align: right;\n",
              "    }\n",
              "</style>\n",
              "<table border=\"1\" class=\"dataframe\">\n",
              "  <thead>\n",
              "    <tr style=\"text-align: right;\">\n",
              "      <th></th>\n",
              "      <th>Accuracy_without_pp</th>\n",
              "      <th>F1_score_without_pp</th>\n",
              "    </tr>\n",
              "  </thead>\n",
              "  <tbody>\n",
              "    <tr>\n",
              "      <th>0</th>\n",
              "      <td>0.948792</td>\n",
              "      <td>0.959658</td>\n",
              "    </tr>\n",
              "  </tbody>\n",
              "</table>\n",
              "</div>"
            ],
            "text/plain": [
              "   Accuracy_without_pp  F1_score_without_pp\n",
              "0             0.948792             0.959658"
            ]
          },
          "metadata": {},
          "execution_count": 16
        }
      ]
    },
    {
      "cell_type": "markdown",
      "metadata": {
        "id": "e73d1131"
      },
      "source": [
        "# Classification with RF after MinMax Scaling "
      ],
      "id": "e73d1131"
    },
    {
      "cell_type": "code",
      "execution_count": null,
      "metadata": {
        "id": "c477d47e"
      },
      "outputs": [],
      "source": [
        "network_data1 = load_data('../input/dataset_minmax.csv')"
      ],
      "id": "c477d47e"
    },
    {
      "cell_type": "code",
      "execution_count": null,
      "metadata": {
        "colab": {
          "base_uri": "https://localhost:8080/",
          "height": 617
        },
        "id": "cac8313c",
        "outputId": "d10017e6-f77f-4da5-b88c-0e83a9e360eb"
      },
      "outputs": [
        {
          "output_type": "execute_result",
          "data": {
            "text/html": [
              "<div>\n",
              "<style scoped>\n",
              "    .dataframe tbody tr th:only-of-type {\n",
              "        vertical-align: middle;\n",
              "    }\n",
              "\n",
              "    .dataframe tbody tr th {\n",
              "        vertical-align: top;\n",
              "    }\n",
              "\n",
              "    .dataframe thead th {\n",
              "        text-align: right;\n",
              "    }\n",
              "</style>\n",
              "<table border=\"1\" class=\"dataframe\">\n",
              "  <thead>\n",
              "    <tr style=\"text-align: right;\">\n",
              "      <th></th>\n",
              "      <th># dur</th>\n",
              "      <th>proto</th>\n",
              "      <th>service</th>\n",
              "      <th>state</th>\n",
              "      <th>spkts</th>\n",
              "      <th>dpkts</th>\n",
              "      <th>sbytes</th>\n",
              "      <th>dbytes</th>\n",
              "      <th>rate</th>\n",
              "      <th>sttl</th>\n",
              "      <th>dttl</th>\n",
              "      <th>sload</th>\n",
              "      <th>dload</th>\n",
              "      <th>sloss</th>\n",
              "      <th>dloss</th>\n",
              "      <th>sinpkt</th>\n",
              "      <th>dinpkt</th>\n",
              "      <th>sjit</th>\n",
              "      <th>djit</th>\n",
              "      <th>swin</th>\n",
              "      <th>stcpb</th>\n",
              "      <th>dtcpb</th>\n",
              "      <th>dwin</th>\n",
              "      <th>tcprtt</th>\n",
              "      <th>synack</th>\n",
              "      <th>ackdat</th>\n",
              "      <th>smean</th>\n",
              "      <th>dmean</th>\n",
              "      <th>trans_depth</th>\n",
              "      <th>response_body_len</th>\n",
              "      <th>ct_srv_src</th>\n",
              "      <th>ct_state_ttl</th>\n",
              "      <th>ct_dst_ltm</th>\n",
              "      <th>ct_src_dport_ltm</th>\n",
              "      <th>ct_dst_sport_ltm</th>\n",
              "      <th>ct_dst_src_ltm</th>\n",
              "      <th>is_ftp_login</th>\n",
              "      <th>ct_ftp_cmd</th>\n",
              "      <th>ct_flw_http_mthd</th>\n",
              "      <th>ct_src_ltm</th>\n",
              "      <th>ct_srv_dst</th>\n",
              "      <th>is_sm_ips_ports</th>\n",
              "      <th>label</th>\n",
              "    </tr>\n",
              "  </thead>\n",
              "  <tbody>\n",
              "    <tr>\n",
              "      <th>0</th>\n",
              "      <td>1.833334e-07</td>\n",
              "      <td>0.901515</td>\n",
              "      <td>0.000000</td>\n",
              "      <td>0.5</td>\n",
              "      <td>0.000094</td>\n",
              "      <td>0.000000</td>\n",
              "      <td>0.000033</td>\n",
              "      <td>0.000000</td>\n",
              "      <td>0.090909</td>\n",
              "      <td>0.996078</td>\n",
              "      <td>0.000000</td>\n",
              "      <td>0.030121</td>\n",
              "      <td>0.000000</td>\n",
              "      <td>0.000000</td>\n",
              "      <td>0.000000</td>\n",
              "      <td>1.303758e-07</td>\n",
              "      <td>0.00000</td>\n",
              "      <td>0.000000</td>\n",
              "      <td>0.000000</td>\n",
              "      <td>0.0</td>\n",
              "      <td>0.000000</td>\n",
              "      <td>0.000000</td>\n",
              "      <td>0.0</td>\n",
              "      <td>0.000000</td>\n",
              "      <td>0.000000</td>\n",
              "      <td>0.000000</td>\n",
              "      <td>0.151351</td>\n",
              "      <td>0.000000</td>\n",
              "      <td>0.0</td>\n",
              "      <td>0.0</td>\n",
              "      <td>0.016129</td>\n",
              "      <td>0.333333</td>\n",
              "      <td>0.000000</td>\n",
              "      <td>0.000000</td>\n",
              "      <td>0.000000</td>\n",
              "      <td>0.015625</td>\n",
              "      <td>0.0</td>\n",
              "      <td>0.0</td>\n",
              "      <td>0.0</td>\n",
              "      <td>0.000000</td>\n",
              "      <td>0.016393</td>\n",
              "      <td>0.0</td>\n",
              "      <td>0</td>\n",
              "    </tr>\n",
              "    <tr>\n",
              "      <th>1</th>\n",
              "      <td>1.333334e-07</td>\n",
              "      <td>0.901515</td>\n",
              "      <td>0.000000</td>\n",
              "      <td>0.5</td>\n",
              "      <td>0.000094</td>\n",
              "      <td>0.000000</td>\n",
              "      <td>0.000121</td>\n",
              "      <td>0.000000</td>\n",
              "      <td>0.125000</td>\n",
              "      <td>0.996078</td>\n",
              "      <td>0.000000</td>\n",
              "      <td>0.147128</td>\n",
              "      <td>0.000000</td>\n",
              "      <td>0.000000</td>\n",
              "      <td>0.000000</td>\n",
              "      <td>9.481875e-08</td>\n",
              "      <td>0.00000</td>\n",
              "      <td>0.000000</td>\n",
              "      <td>0.000000</td>\n",
              "      <td>0.0</td>\n",
              "      <td>0.000000</td>\n",
              "      <td>0.000000</td>\n",
              "      <td>0.0</td>\n",
              "      <td>0.000000</td>\n",
              "      <td>0.000000</td>\n",
              "      <td>0.000000</td>\n",
              "      <td>0.579054</td>\n",
              "      <td>0.000000</td>\n",
              "      <td>0.0</td>\n",
              "      <td>0.0</td>\n",
              "      <td>0.016129</td>\n",
              "      <td>0.333333</td>\n",
              "      <td>0.000000</td>\n",
              "      <td>0.000000</td>\n",
              "      <td>0.000000</td>\n",
              "      <td>0.015625</td>\n",
              "      <td>0.0</td>\n",
              "      <td>0.0</td>\n",
              "      <td>0.0</td>\n",
              "      <td>0.000000</td>\n",
              "      <td>0.016393</td>\n",
              "      <td>0.0</td>\n",
              "      <td>0</td>\n",
              "    </tr>\n",
              "    <tr>\n",
              "      <th>2</th>\n",
              "      <td>8.333335e-08</td>\n",
              "      <td>0.901515</td>\n",
              "      <td>0.000000</td>\n",
              "      <td>0.5</td>\n",
              "      <td>0.000094</td>\n",
              "      <td>0.000000</td>\n",
              "      <td>0.000073</td>\n",
              "      <td>0.000000</td>\n",
              "      <td>0.200000</td>\n",
              "      <td>0.996078</td>\n",
              "      <td>0.000000</td>\n",
              "      <td>0.142685</td>\n",
              "      <td>0.000000</td>\n",
              "      <td>0.000000</td>\n",
              "      <td>0.000000</td>\n",
              "      <td>5.926172e-08</td>\n",
              "      <td>0.00000</td>\n",
              "      <td>0.000000</td>\n",
              "      <td>0.000000</td>\n",
              "      <td>0.0</td>\n",
              "      <td>0.000000</td>\n",
              "      <td>0.000000</td>\n",
              "      <td>0.0</td>\n",
              "      <td>0.000000</td>\n",
              "      <td>0.000000</td>\n",
              "      <td>0.000000</td>\n",
              "      <td>0.344595</td>\n",
              "      <td>0.000000</td>\n",
              "      <td>0.0</td>\n",
              "      <td>0.0</td>\n",
              "      <td>0.032258</td>\n",
              "      <td>0.333333</td>\n",
              "      <td>0.000000</td>\n",
              "      <td>0.000000</td>\n",
              "      <td>0.000000</td>\n",
              "      <td>0.031250</td>\n",
              "      <td>0.0</td>\n",
              "      <td>0.0</td>\n",
              "      <td>0.0</td>\n",
              "      <td>0.000000</td>\n",
              "      <td>0.032787</td>\n",
              "      <td>0.0</td>\n",
              "      <td>0</td>\n",
              "    </tr>\n",
              "    <tr>\n",
              "      <th>3</th>\n",
              "      <td>1.000000e-07</td>\n",
              "      <td>0.901515</td>\n",
              "      <td>0.000000</td>\n",
              "      <td>0.5</td>\n",
              "      <td>0.000094</td>\n",
              "      <td>0.000000</td>\n",
              "      <td>0.000061</td>\n",
              "      <td>0.000000</td>\n",
              "      <td>0.166667</td>\n",
              "      <td>0.996078</td>\n",
              "      <td>0.000000</td>\n",
              "      <td>0.100200</td>\n",
              "      <td>0.000000</td>\n",
              "      <td>0.000000</td>\n",
              "      <td>0.000000</td>\n",
              "      <td>7.111406e-08</td>\n",
              "      <td>0.00000</td>\n",
              "      <td>0.000000</td>\n",
              "      <td>0.000000</td>\n",
              "      <td>0.0</td>\n",
              "      <td>0.000000</td>\n",
              "      <td>0.000000</td>\n",
              "      <td>0.0</td>\n",
              "      <td>0.000000</td>\n",
              "      <td>0.000000</td>\n",
              "      <td>0.000000</td>\n",
              "      <td>0.287838</td>\n",
              "      <td>0.000000</td>\n",
              "      <td>0.0</td>\n",
              "      <td>0.0</td>\n",
              "      <td>0.032258</td>\n",
              "      <td>0.333333</td>\n",
              "      <td>0.017241</td>\n",
              "      <td>0.017241</td>\n",
              "      <td>0.000000</td>\n",
              "      <td>0.031250</td>\n",
              "      <td>0.0</td>\n",
              "      <td>0.0</td>\n",
              "      <td>0.0</td>\n",
              "      <td>0.016949</td>\n",
              "      <td>0.032787</td>\n",
              "      <td>0.0</td>\n",
              "      <td>0</td>\n",
              "    </tr>\n",
              "    <tr>\n",
              "      <th>4</th>\n",
              "      <td>1.666667e-07</td>\n",
              "      <td>0.901515</td>\n",
              "      <td>0.000000</td>\n",
              "      <td>0.5</td>\n",
              "      <td>0.000094</td>\n",
              "      <td>0.000000</td>\n",
              "      <td>0.000146</td>\n",
              "      <td>0.000000</td>\n",
              "      <td>0.100000</td>\n",
              "      <td>0.996078</td>\n",
              "      <td>0.000000</td>\n",
              "      <td>0.142017</td>\n",
              "      <td>0.000000</td>\n",
              "      <td>0.000000</td>\n",
              "      <td>0.000000</td>\n",
              "      <td>1.185234e-07</td>\n",
              "      <td>0.00000</td>\n",
              "      <td>0.000000</td>\n",
              "      <td>0.000000</td>\n",
              "      <td>0.0</td>\n",
              "      <td>0.000000</td>\n",
              "      <td>0.000000</td>\n",
              "      <td>0.0</td>\n",
              "      <td>0.000000</td>\n",
              "      <td>0.000000</td>\n",
              "      <td>0.000000</td>\n",
              "      <td>0.702027</td>\n",
              "      <td>0.000000</td>\n",
              "      <td>0.0</td>\n",
              "      <td>0.0</td>\n",
              "      <td>0.032258</td>\n",
              "      <td>0.333333</td>\n",
              "      <td>0.017241</td>\n",
              "      <td>0.017241</td>\n",
              "      <td>0.000000</td>\n",
              "      <td>0.031250</td>\n",
              "      <td>0.0</td>\n",
              "      <td>0.0</td>\n",
              "      <td>0.0</td>\n",
              "      <td>0.016949</td>\n",
              "      <td>0.032787</td>\n",
              "      <td>0.0</td>\n",
              "      <td>0</td>\n",
              "    </tr>\n",
              "    <tr>\n",
              "      <th>...</th>\n",
              "      <td>...</td>\n",
              "      <td>...</td>\n",
              "      <td>...</td>\n",
              "      <td>...</td>\n",
              "      <td>...</td>\n",
              "      <td>...</td>\n",
              "      <td>...</td>\n",
              "      <td>...</td>\n",
              "      <td>...</td>\n",
              "      <td>...</td>\n",
              "      <td>...</td>\n",
              "      <td>...</td>\n",
              "      <td>...</td>\n",
              "      <td>...</td>\n",
              "      <td>...</td>\n",
              "      <td>...</td>\n",
              "      <td>...</td>\n",
              "      <td>...</td>\n",
              "      <td>...</td>\n",
              "      <td>...</td>\n",
              "      <td>...</td>\n",
              "      <td>...</td>\n",
              "      <td>...</td>\n",
              "      <td>...</td>\n",
              "      <td>...</td>\n",
              "      <td>...</td>\n",
              "      <td>...</td>\n",
              "      <td>...</td>\n",
              "      <td>...</td>\n",
              "      <td>...</td>\n",
              "      <td>...</td>\n",
              "      <td>...</td>\n",
              "      <td>...</td>\n",
              "      <td>...</td>\n",
              "      <td>...</td>\n",
              "      <td>...</td>\n",
              "      <td>...</td>\n",
              "      <td>...</td>\n",
              "      <td>...</td>\n",
              "      <td>...</td>\n",
              "      <td>...</td>\n",
              "      <td>...</td>\n",
              "      <td>...</td>\n",
              "    </tr>\n",
              "    <tr>\n",
              "      <th>257668</th>\n",
              "      <td>1.500000e-07</td>\n",
              "      <td>0.901515</td>\n",
              "      <td>0.166667</td>\n",
              "      <td>0.5</td>\n",
              "      <td>0.000094</td>\n",
              "      <td>0.000000</td>\n",
              "      <td>0.000006</td>\n",
              "      <td>0.000000</td>\n",
              "      <td>0.111111</td>\n",
              "      <td>0.996078</td>\n",
              "      <td>0.000000</td>\n",
              "      <td>0.008461</td>\n",
              "      <td>0.000000</td>\n",
              "      <td>0.000000</td>\n",
              "      <td>0.000000</td>\n",
              "      <td>1.066711e-07</td>\n",
              "      <td>0.00000</td>\n",
              "      <td>0.000000</td>\n",
              "      <td>0.000000</td>\n",
              "      <td>0.0</td>\n",
              "      <td>0.000000</td>\n",
              "      <td>0.000000</td>\n",
              "      <td>0.0</td>\n",
              "      <td>0.000000</td>\n",
              "      <td>0.000000</td>\n",
              "      <td>0.000000</td>\n",
              "      <td>0.022297</td>\n",
              "      <td>0.000000</td>\n",
              "      <td>0.0</td>\n",
              "      <td>0.0</td>\n",
              "      <td>0.370968</td>\n",
              "      <td>0.333333</td>\n",
              "      <td>0.396552</td>\n",
              "      <td>0.396552</td>\n",
              "      <td>0.266667</td>\n",
              "      <td>0.359375</td>\n",
              "      <td>0.0</td>\n",
              "      <td>0.0</td>\n",
              "      <td>0.0</td>\n",
              "      <td>0.389831</td>\n",
              "      <td>0.377049</td>\n",
              "      <td>0.0</td>\n",
              "      <td>1</td>\n",
              "    </tr>\n",
              "    <tr>\n",
              "      <th>257669</th>\n",
              "      <td>8.429368e-03</td>\n",
              "      <td>0.856061</td>\n",
              "      <td>0.000000</td>\n",
              "      <td>0.4</td>\n",
              "      <td>0.000845</td>\n",
              "      <td>0.000726</td>\n",
              "      <td>0.000042</td>\n",
              "      <td>0.000024</td>\n",
              "      <td>0.000034</td>\n",
              "      <td>0.996078</td>\n",
              "      <td>0.992126</td>\n",
              "      <td>0.000001</td>\n",
              "      <td>0.000219</td>\n",
              "      <td>0.000376</td>\n",
              "      <td>0.000182</td>\n",
              "      <td>6.447688e-04</td>\n",
              "      <td>0.00116</td>\n",
              "      <td>0.002508</td>\n",
              "      <td>0.000259</td>\n",
              "      <td>1.0</td>\n",
              "      <td>0.819281</td>\n",
              "      <td>0.804002</td>\n",
              "      <td>1.0</td>\n",
              "      <td>0.026021</td>\n",
              "      <td>0.011434</td>\n",
              "      <td>0.021355</td>\n",
              "      <td>0.025676</td>\n",
              "      <td>0.029333</td>\n",
              "      <td>0.0</td>\n",
              "      <td>0.0</td>\n",
              "      <td>0.000000</td>\n",
              "      <td>0.166667</td>\n",
              "      <td>0.000000</td>\n",
              "      <td>0.000000</td>\n",
              "      <td>0.000000</td>\n",
              "      <td>0.015625</td>\n",
              "      <td>0.0</td>\n",
              "      <td>0.0</td>\n",
              "      <td>0.0</td>\n",
              "      <td>0.000000</td>\n",
              "      <td>0.000000</td>\n",
              "      <td>0.0</td>\n",
              "      <td>1</td>\n",
              "    </tr>\n",
              "    <tr>\n",
              "      <th>257670</th>\n",
              "      <td>1.500000e-07</td>\n",
              "      <td>0.901515</td>\n",
              "      <td>0.166667</td>\n",
              "      <td>0.5</td>\n",
              "      <td>0.000094</td>\n",
              "      <td>0.000000</td>\n",
              "      <td>0.000006</td>\n",
              "      <td>0.000000</td>\n",
              "      <td>0.111111</td>\n",
              "      <td>0.996078</td>\n",
              "      <td>0.000000</td>\n",
              "      <td>0.008461</td>\n",
              "      <td>0.000000</td>\n",
              "      <td>0.000000</td>\n",
              "      <td>0.000000</td>\n",
              "      <td>1.066711e-07</td>\n",
              "      <td>0.00000</td>\n",
              "      <td>0.000000</td>\n",
              "      <td>0.000000</td>\n",
              "      <td>0.0</td>\n",
              "      <td>0.000000</td>\n",
              "      <td>0.000000</td>\n",
              "      <td>0.0</td>\n",
              "      <td>0.000000</td>\n",
              "      <td>0.000000</td>\n",
              "      <td>0.000000</td>\n",
              "      <td>0.022297</td>\n",
              "      <td>0.000000</td>\n",
              "      <td>0.0</td>\n",
              "      <td>0.0</td>\n",
              "      <td>0.177419</td>\n",
              "      <td>0.333333</td>\n",
              "      <td>0.034483</td>\n",
              "      <td>0.034483</td>\n",
              "      <td>0.044444</td>\n",
              "      <td>0.187500</td>\n",
              "      <td>0.0</td>\n",
              "      <td>0.0</td>\n",
              "      <td>0.0</td>\n",
              "      <td>0.033898</td>\n",
              "      <td>0.180328</td>\n",
              "      <td>0.0</td>\n",
              "      <td>1</td>\n",
              "    </tr>\n",
              "    <tr>\n",
              "      <th>257671</th>\n",
              "      <td>1.500000e-07</td>\n",
              "      <td>0.901515</td>\n",
              "      <td>0.166667</td>\n",
              "      <td>0.5</td>\n",
              "      <td>0.000094</td>\n",
              "      <td>0.000000</td>\n",
              "      <td>0.000006</td>\n",
              "      <td>0.000000</td>\n",
              "      <td>0.111111</td>\n",
              "      <td>0.996078</td>\n",
              "      <td>0.000000</td>\n",
              "      <td>0.008461</td>\n",
              "      <td>0.000000</td>\n",
              "      <td>0.000000</td>\n",
              "      <td>0.000000</td>\n",
              "      <td>1.066711e-07</td>\n",
              "      <td>0.00000</td>\n",
              "      <td>0.000000</td>\n",
              "      <td>0.000000</td>\n",
              "      <td>0.0</td>\n",
              "      <td>0.000000</td>\n",
              "      <td>0.000000</td>\n",
              "      <td>0.0</td>\n",
              "      <td>0.000000</td>\n",
              "      <td>0.000000</td>\n",
              "      <td>0.000000</td>\n",
              "      <td>0.022297</td>\n",
              "      <td>0.000000</td>\n",
              "      <td>0.0</td>\n",
              "      <td>0.0</td>\n",
              "      <td>0.467742</td>\n",
              "      <td>0.333333</td>\n",
              "      <td>0.500000</td>\n",
              "      <td>0.500000</td>\n",
              "      <td>0.288889</td>\n",
              "      <td>0.453125</td>\n",
              "      <td>0.0</td>\n",
              "      <td>0.0</td>\n",
              "      <td>0.0</td>\n",
              "      <td>0.491525</td>\n",
              "      <td>0.475410</td>\n",
              "      <td>0.0</td>\n",
              "      <td>1</td>\n",
              "    </tr>\n",
              "    <tr>\n",
              "      <th>257672</th>\n",
              "      <td>1.500000e-07</td>\n",
              "      <td>0.901515</td>\n",
              "      <td>0.166667</td>\n",
              "      <td>0.5</td>\n",
              "      <td>0.000094</td>\n",
              "      <td>0.000000</td>\n",
              "      <td>0.000006</td>\n",
              "      <td>0.000000</td>\n",
              "      <td>0.111111</td>\n",
              "      <td>0.996078</td>\n",
              "      <td>0.000000</td>\n",
              "      <td>0.008461</td>\n",
              "      <td>0.000000</td>\n",
              "      <td>0.000000</td>\n",
              "      <td>0.000000</td>\n",
              "      <td>1.066711e-07</td>\n",
              "      <td>0.00000</td>\n",
              "      <td>0.000000</td>\n",
              "      <td>0.000000</td>\n",
              "      <td>0.0</td>\n",
              "      <td>0.000000</td>\n",
              "      <td>0.000000</td>\n",
              "      <td>0.0</td>\n",
              "      <td>0.000000</td>\n",
              "      <td>0.000000</td>\n",
              "      <td>0.000000</td>\n",
              "      <td>0.022297</td>\n",
              "      <td>0.000000</td>\n",
              "      <td>0.0</td>\n",
              "      <td>0.0</td>\n",
              "      <td>0.467742</td>\n",
              "      <td>0.333333</td>\n",
              "      <td>0.500000</td>\n",
              "      <td>0.500000</td>\n",
              "      <td>0.333333</td>\n",
              "      <td>0.453125</td>\n",
              "      <td>0.0</td>\n",
              "      <td>0.0</td>\n",
              "      <td>0.0</td>\n",
              "      <td>0.491525</td>\n",
              "      <td>0.475410</td>\n",
              "      <td>0.0</td>\n",
              "      <td>1</td>\n",
              "    </tr>\n",
              "  </tbody>\n",
              "</table>\n",
              "<p>257673 rows × 43 columns</p>\n",
              "</div>"
            ],
            "text/plain": [
              "               # dur     proto   service  ...  ct_srv_dst  is_sm_ips_ports  label\n",
              "0       1.833334e-07  0.901515  0.000000  ...    0.016393              0.0      0\n",
              "1       1.333334e-07  0.901515  0.000000  ...    0.016393              0.0      0\n",
              "2       8.333335e-08  0.901515  0.000000  ...    0.032787              0.0      0\n",
              "3       1.000000e-07  0.901515  0.000000  ...    0.032787              0.0      0\n",
              "4       1.666667e-07  0.901515  0.000000  ...    0.032787              0.0      0\n",
              "...              ...       ...       ...  ...         ...              ...    ...\n",
              "257668  1.500000e-07  0.901515  0.166667  ...    0.377049              0.0      1\n",
              "257669  8.429368e-03  0.856061  0.000000  ...    0.000000              0.0      1\n",
              "257670  1.500000e-07  0.901515  0.166667  ...    0.180328              0.0      1\n",
              "257671  1.500000e-07  0.901515  0.166667  ...    0.475410              0.0      1\n",
              "257672  1.500000e-07  0.901515  0.166667  ...    0.475410              0.0      1\n",
              "\n",
              "[257673 rows x 43 columns]"
            ]
          },
          "metadata": {},
          "execution_count": 578
        }
      ],
      "source": [
        "network_data1"
      ],
      "id": "cac8313c"
    },
    {
      "cell_type": "code",
      "execution_count": null,
      "metadata": {
        "colab": {
          "base_uri": "https://localhost:8080/",
          "height": 578
        },
        "id": "6163ca95",
        "outputId": "01538994-dc72-4a1b-cfcb-fd905c1353f0"
      },
      "outputs": [
        {
          "output_type": "stream",
          "name": "stdout",
          "text": [
            "{'max_depth': [10, 15, 20],\n",
            " 'min_samples_split': [2, 4, 6],\n",
            " 'n_estimators': [30, 60, 90, 120]}\n",
            "accuracy on train is 0.9755406572296229\n",
            "              precision    recall  f1-score   support\n",
            "\n",
            "           0       0.93      0.94      0.93     18675\n",
            "           1       0.96      0.96      0.96     32860\n",
            "\n",
            "    accuracy                           0.95     51535\n",
            "   macro avg       0.94      0.95      0.95     51535\n",
            "weighted avg       0.95      0.95      0.95     51535\n",
            "\n",
            "Accuracy of Random Forest: 0.9495100417192199\n",
            "[[17480  1195]\n",
            " [ 1407 31453]]\n",
            "{'max_depth': 20, 'min_samples_split': 2, 'n_estimators': 90}\n",
            "0.9479474904012962\n"
          ]
        },
        {
          "output_type": "display_data",
          "data": {
            "image/png": "[encoded data removed]",
            "text/plain": [
              "<Figure size 432x288 with 2 Axes>"
            ]
          },
          "metadata": {
            "needs_background": "light"
          }
        }
      ],
      "source": [
        "grid_search1,acc1= main(network_data1,'minmax')"
      ],
      "id": "6163ca95"
    },
    {
      "cell_type": "code",
      "execution_count": null,
      "metadata": {
        "colab": {
          "base_uri": "https://localhost:8080/",
          "height": 400
        },
        "id": "1ea9e76d",
        "outputId": "5b673cf3-8b59-4208-eab5-4eac813bcbc7"
      },
      "outputs": [
        {
          "output_type": "execute_result",
          "data": {
            "text/html": [
              "<div>\n",
              "<style scoped>\n",
              "    .dataframe tbody tr th:only-of-type {\n",
              "        vertical-align: middle;\n",
              "    }\n",
              "\n",
              "    .dataframe tbody tr th {\n",
              "        vertical-align: top;\n",
              "    }\n",
              "\n",
              "    .dataframe thead th {\n",
              "        text-align: right;\n",
              "    }\n",
              "</style>\n",
              "<table border=\"1\" class=\"dataframe\">\n",
              "  <thead>\n",
              "    <tr style=\"text-align: right;\">\n",
              "      <th></th>\n",
              "      <th>mean_fit_time</th>\n",
              "      <th>std_fit_time</th>\n",
              "      <th>mean_score_time</th>\n",
              "      <th>std_score_time</th>\n",
              "      <th>param_max_depth</th>\n",
              "      <th>param_min_samples_split</th>\n",
              "      <th>param_n_estimators</th>\n",
              "      <th>params</th>\n",
              "      <th>split0_test_score</th>\n",
              "      <th>split1_test_score</th>\n",
              "      <th>split2_test_score</th>\n",
              "      <th>mean_test_score</th>\n",
              "      <th>std_test_score</th>\n",
              "      <th>rank_test_score</th>\n",
              "    </tr>\n",
              "  </thead>\n",
              "  <tbody>\n",
              "    <tr>\n",
              "      <th>0</th>\n",
              "      <td>5.136547</td>\n",
              "      <td>0.043206</td>\n",
              "      <td>0.273924</td>\n",
              "      <td>0.004853</td>\n",
              "      <td>10</td>\n",
              "      <td>2</td>\n",
              "      <td>30</td>\n",
              "      <td>{'max_depth': 10, 'min_samples_split': 2, 'n_e...</td>\n",
              "      <td>0.934146</td>\n",
              "      <td>0.936111</td>\n",
              "      <td>0.934597</td>\n",
              "      <td>0.934951</td>\n",
              "      <td>0.000840</td>\n",
              "      <td>36</td>\n",
              "    </tr>\n",
              "    <tr>\n",
              "      <th>1</th>\n",
              "      <td>10.496857</td>\n",
              "      <td>0.100036</td>\n",
              "      <td>0.529742</td>\n",
              "      <td>0.010675</td>\n",
              "      <td>10</td>\n",
              "      <td>2</td>\n",
              "      <td>60</td>\n",
              "      <td>{'max_depth': 10, 'min_samples_split': 2, 'n_e...</td>\n",
              "      <td>0.934976</td>\n",
              "      <td>0.936155</td>\n",
              "      <td>0.934844</td>\n",
              "      <td>0.935325</td>\n",
              "      <td>0.000589</td>\n",
              "      <td>31</td>\n",
              "    </tr>\n",
              "    <tr>\n",
              "      <th>2</th>\n",
              "      <td>15.614794</td>\n",
              "      <td>0.078824</td>\n",
              "      <td>0.777811</td>\n",
              "      <td>0.010284</td>\n",
              "      <td>10</td>\n",
              "      <td>2</td>\n",
              "      <td>90</td>\n",
              "      <td>{'max_depth': 10, 'min_samples_split': 2, 'n_e...</td>\n",
              "      <td>0.934990</td>\n",
              "      <td>0.936140</td>\n",
              "      <td>0.935266</td>\n",
              "      <td>0.935466</td>\n",
              "      <td>0.000490</td>\n",
              "      <td>27</td>\n",
              "    </tr>\n",
              "    <tr>\n",
              "      <th>3</th>\n",
              "      <td>20.857192</td>\n",
              "      <td>0.061969</td>\n",
              "      <td>1.022703</td>\n",
              "      <td>0.013535</td>\n",
              "      <td>10</td>\n",
              "      <td>2</td>\n",
              "      <td>120</td>\n",
              "      <td>{'max_depth': 10, 'min_samples_split': 2, 'n_e...</td>\n",
              "      <td>0.934743</td>\n",
              "      <td>0.936140</td>\n",
              "      <td>0.935033</td>\n",
              "      <td>0.935305</td>\n",
              "      <td>0.000602</td>\n",
              "      <td>32</td>\n",
              "    </tr>\n",
              "    <tr>\n",
              "      <th>4</th>\n",
              "      <td>5.207337</td>\n",
              "      <td>0.126309</td>\n",
              "      <td>0.267879</td>\n",
              "      <td>0.004343</td>\n",
              "      <td>10</td>\n",
              "      <td>4</td>\n",
              "      <td>30</td>\n",
              "      <td>{'max_depth': 10, 'min_samples_split': 4, 'n_e...</td>\n",
              "      <td>0.933884</td>\n",
              "      <td>0.936140</td>\n",
              "      <td>0.935295</td>\n",
              "      <td>0.935107</td>\n",
              "      <td>0.000931</td>\n",
              "      <td>35</td>\n",
              "    </tr>\n",
              "  </tbody>\n",
              "</table>\n",
              "</div>"
            ],
            "text/plain": [
              "   mean_fit_time  std_fit_time  ...  std_test_score  rank_test_score\n",
              "0       5.136547      0.043206  ...        0.000840               36\n",
              "1      10.496857      0.100036  ...        0.000589               31\n",
              "2      15.614794      0.078824  ...        0.000490               27\n",
              "3      20.857192      0.061969  ...        0.000602               32\n",
              "4       5.207337      0.126309  ...        0.000931               35\n",
              "\n",
              "[5 rows x 14 columns]"
            ]
          },
          "metadata": {},
          "execution_count": 19
        }
      ],
      "source": [
        "pd.DataFrame(grid_search1.cv_results_).head()"
      ],
      "id": "1ea9e76d"
    },
    {
      "cell_type": "markdown",
      "metadata": {
        "id": "f8137c7b"
      },
      "source": [
        "Here:\n",
        "1. {'max_depth': 20, 'min_samples_split': 2, 'n_estimators': 90} = best params after hyperparameter tuning\n",
        "2. 0.9479474904012962 is the best score after Cross Validation of Random Forest."
      ],
      "id": "f8137c7b"
    },
    {
      "cell_type": "code",
      "source": [
        "df['Accuracy_rf_mm'] =acc1[1]\n",
        "df['F1_score1_rf_mm']=f1[1]"
      ],
      "metadata": {
        "id": "h0pyQxJa-nzn"
      },
      "id": "h0pyQxJa-nzn",
      "execution_count": null,
      "outputs": []
    },
    {
      "cell_type": "code",
      "source": [
        "df"
      ],
      "metadata": {
        "colab": {
          "base_uri": "https://localhost:8080/",
          "height": 81
        },
        "id": "emqNaWWRDtdJ",
        "outputId": "fb000fbe-dfe7-4f94-96cd-99cd9349ab98"
      },
      "id": "emqNaWWRDtdJ",
      "execution_count": null,
      "outputs": [
        {
          "output_type": "execute_result",
          "data": {
            "text/html": [
              "<div>\n",
              "<style scoped>\n",
              "    .dataframe tbody tr th:only-of-type {\n",
              "        vertical-align: middle;\n",
              "    }\n",
              "\n",
              "    .dataframe tbody tr th {\n",
              "        vertical-align: top;\n",
              "    }\n",
              "\n",
              "    .dataframe thead th {\n",
              "        text-align: right;\n",
              "    }\n",
              "</style>\n",
              "<table border=\"1\" class=\"dataframe\">\n",
              "  <thead>\n",
              "    <tr style=\"text-align: right;\">\n",
              "      <th></th>\n",
              "      <th>Accuracy_without_pp</th>\n",
              "      <th>F1_score_without_pp</th>\n",
              "      <th>Accuracy_rf_mm</th>\n",
              "      <th>F1_score1_rf_mm</th>\n",
              "    </tr>\n",
              "  </thead>\n",
              "  <tbody>\n",
              "    <tr>\n",
              "      <th>0</th>\n",
              "      <td>0.948792</td>\n",
              "      <td>0.959658</td>\n",
              "      <td>0.94951</td>\n",
              "      <td>0.96028</td>\n",
              "    </tr>\n",
              "  </tbody>\n",
              "</table>\n",
              "</div>"
            ],
            "text/plain": [
              "   Accuracy_without_pp  F1_score_without_pp  Accuracy_rf_mm  F1_score1_rf_mm\n",
              "0             0.948792             0.959658         0.94951          0.96028"
            ]
          },
          "metadata": {},
          "execution_count": 25
        }
      ]
    },
    {
      "cell_type": "markdown",
      "metadata": {
        "id": "36d026fb"
      },
      "source": [
        "# Classification with RF after MinMax Scaling + Correlation analysis"
      ],
      "id": "36d026fb"
    },
    {
      "cell_type": "code",
      "execution_count": null,
      "metadata": {
        "id": "9cca6bbf"
      },
      "outputs": [],
      "source": [
        "network_data2 = load_data('../input/dataset_minmax_corr.csv')"
      ],
      "id": "9cca6bbf"
    },
    {
      "cell_type": "code",
      "execution_count": null,
      "metadata": {
        "colab": {
          "base_uri": "https://localhost:8080/",
          "height": 578
        },
        "id": "7e635059",
        "outputId": "116ef3f1-367c-43bd-d2eb-d9d3bd0b7262"
      },
      "outputs": [
        {
          "output_type": "stream",
          "name": "stdout",
          "text": [
            "{'max_depth': [10, 15, 20],\n",
            " 'min_samples_split': [2, 4, 6],\n",
            " 'n_estimators': [30, 60, 90, 120]}\n",
            "accuracy on train is 0.9697532720798688\n",
            "              precision    recall  f1-score   support\n",
            "\n",
            "           0       0.92      0.92      0.92     18675\n",
            "           1       0.95      0.95      0.95     32860\n",
            "\n",
            "    accuracy                           0.94     51535\n",
            "   macro avg       0.94      0.94      0.94     51535\n",
            "weighted avg       0.94      0.94      0.94     51535\n",
            "\n",
            "Accuracy of Random Forest: 0.9400795575822257\n",
            "[[17117  1558]\n",
            " [ 1530 31330]]\n",
            "{'max_depth': 20, 'min_samples_split': 2, 'n_estimators': 120}\n",
            "0.9383422787135555\n"
          ]
        },
        {
          "output_type": "display_data",
          "data": {
            "image/png": "[encoded data removed]",
            "text/plain": [
              "<Figure size 432x288 with 2 Axes>"
            ]
          },
          "metadata": {
            "needs_background": "light"
          }
        }
      ],
      "source": [
        "grid_search2,acc1 = main(network_data2,'minmax_corr')"
      ],
      "id": "7e635059"
    },
    {
      "cell_type": "code",
      "execution_count": null,
      "metadata": {
        "colab": {
          "base_uri": "https://localhost:8080/",
          "height": 400
        },
        "id": "e54c9db4",
        "outputId": "01b5f7ed-e377-4a9d-a8a5-a21b9ddff23b"
      },
      "outputs": [
        {
          "output_type": "execute_result",
          "data": {
            "text/html": [
              "<div>\n",
              "<style scoped>\n",
              "    .dataframe tbody tr th:only-of-type {\n",
              "        vertical-align: middle;\n",
              "    }\n",
              "\n",
              "    .dataframe tbody tr th {\n",
              "        vertical-align: top;\n",
              "    }\n",
              "\n",
              "    .dataframe thead th {\n",
              "        text-align: right;\n",
              "    }\n",
              "</style>\n",
              "<table border=\"1\" class=\"dataframe\">\n",
              "  <thead>\n",
              "    <tr style=\"text-align: right;\">\n",
              "      <th></th>\n",
              "      <th>mean_fit_time</th>\n",
              "      <th>std_fit_time</th>\n",
              "      <th>mean_score_time</th>\n",
              "      <th>std_score_time</th>\n",
              "      <th>param_max_depth</th>\n",
              "      <th>param_min_samples_split</th>\n",
              "      <th>param_n_estimators</th>\n",
              "      <th>params</th>\n",
              "      <th>split0_test_score</th>\n",
              "      <th>split1_test_score</th>\n",
              "      <th>split2_test_score</th>\n",
              "      <th>mean_test_score</th>\n",
              "      <th>std_test_score</th>\n",
              "      <th>rank_test_score</th>\n",
              "    </tr>\n",
              "  </thead>\n",
              "  <tbody>\n",
              "    <tr>\n",
              "      <th>0</th>\n",
              "      <td>4.761280</td>\n",
              "      <td>0.022305</td>\n",
              "      <td>0.220953</td>\n",
              "      <td>0.009985</td>\n",
              "      <td>10</td>\n",
              "      <td>2</td>\n",
              "      <td>30</td>\n",
              "      <td>{'max_depth': 10, 'min_samples_split': 2, 'n_e...</td>\n",
              "      <td>0.923144</td>\n",
              "      <td>0.921063</td>\n",
              "      <td>0.920771</td>\n",
              "      <td>0.921659</td>\n",
              "      <td>0.001057</td>\n",
              "      <td>35</td>\n",
              "    </tr>\n",
              "    <tr>\n",
              "      <th>1</th>\n",
              "      <td>9.422334</td>\n",
              "      <td>0.121709</td>\n",
              "      <td>0.431777</td>\n",
              "      <td>0.004233</td>\n",
              "      <td>10</td>\n",
              "      <td>2</td>\n",
              "      <td>60</td>\n",
              "      <td>{'max_depth': 10, 'min_samples_split': 2, 'n_e...</td>\n",
              "      <td>0.923115</td>\n",
              "      <td>0.922606</td>\n",
              "      <td>0.921266</td>\n",
              "      <td>0.922329</td>\n",
              "      <td>0.000780</td>\n",
              "      <td>30</td>\n",
              "    </tr>\n",
              "    <tr>\n",
              "      <th>2</th>\n",
              "      <td>14.284051</td>\n",
              "      <td>0.125072</td>\n",
              "      <td>0.633435</td>\n",
              "      <td>0.016495</td>\n",
              "      <td>10</td>\n",
              "      <td>2</td>\n",
              "      <td>90</td>\n",
              "      <td>{'max_depth': 10, 'min_samples_split': 2, 'n_e...</td>\n",
              "      <td>0.923115</td>\n",
              "      <td>0.921572</td>\n",
              "      <td>0.921207</td>\n",
              "      <td>0.921965</td>\n",
              "      <td>0.000827</td>\n",
              "      <td>32</td>\n",
              "    </tr>\n",
              "    <tr>\n",
              "      <th>3</th>\n",
              "      <td>18.780188</td>\n",
              "      <td>0.094465</td>\n",
              "      <td>0.847156</td>\n",
              "      <td>0.014602</td>\n",
              "      <td>10</td>\n",
              "      <td>2</td>\n",
              "      <td>120</td>\n",
              "      <td>{'max_depth': 10, 'min_samples_split': 2, 'n_e...</td>\n",
              "      <td>0.923464</td>\n",
              "      <td>0.922416</td>\n",
              "      <td>0.921149</td>\n",
              "      <td>0.922343</td>\n",
              "      <td>0.000947</td>\n",
              "      <td>29</td>\n",
              "    </tr>\n",
              "    <tr>\n",
              "      <th>4</th>\n",
              "      <td>4.701138</td>\n",
              "      <td>0.092969</td>\n",
              "      <td>0.218946</td>\n",
              "      <td>0.004928</td>\n",
              "      <td>10</td>\n",
              "      <td>4</td>\n",
              "      <td>30</td>\n",
              "      <td>{'max_depth': 10, 'min_samples_split': 4, 'n_e...</td>\n",
              "      <td>0.921267</td>\n",
              "      <td>0.923915</td>\n",
              "      <td>0.922590</td>\n",
              "      <td>0.922591</td>\n",
              "      <td>0.001081</td>\n",
              "      <td>27</td>\n",
              "    </tr>\n",
              "  </tbody>\n",
              "</table>\n",
              "</div>"
            ],
            "text/plain": [
              "   mean_fit_time  std_fit_time  ...  std_test_score  rank_test_score\n",
              "0       4.761280      0.022305  ...        0.001057               35\n",
              "1       9.422334      0.121709  ...        0.000780               30\n",
              "2      14.284051      0.125072  ...        0.000827               32\n",
              "3      18.780188      0.094465  ...        0.000947               29\n",
              "4       4.701138      0.092969  ...        0.001081               27\n",
              "\n",
              "[5 rows x 14 columns]"
            ]
          },
          "metadata": {},
          "execution_count": 28
        }
      ],
      "source": [
        "pd.DataFrame(grid_search2.cv_results_).head()"
      ],
      "id": "e54c9db4"
    },
    {
      "cell_type": "code",
      "source": [
        "df['Accuracy2_rf_mm_corr'] =acc1[2]\n",
        "df['F1_score2_rf_mm_corr']=f1[2]"
      ],
      "metadata": {
        "id": "8esvLSey-tWq"
      },
      "id": "8esvLSey-tWq",
      "execution_count": null,
      "outputs": []
    },
    {
      "cell_type": "code",
      "source": [
        "df"
      ],
      "metadata": {
        "colab": {
          "base_uri": "https://localhost:8080/",
          "height": 101
        },
        "id": "-y7qSofDET3T",
        "outputId": "67d5866c-3850-4528-d14e-b7b84fb28fe1"
      },
      "id": "-y7qSofDET3T",
      "execution_count": null,
      "outputs": [
        {
          "output_type": "execute_result",
          "data": {
            "text/html": [
              "<div>\n",
              "<style scoped>\n",
              "    .dataframe tbody tr th:only-of-type {\n",
              "        vertical-align: middle;\n",
              "    }\n",
              "\n",
              "    .dataframe tbody tr th {\n",
              "        vertical-align: top;\n",
              "    }\n",
              "\n",
              "    .dataframe thead th {\n",
              "        text-align: right;\n",
              "    }\n",
              "</style>\n",
              "<table border=\"1\" class=\"dataframe\">\n",
              "  <thead>\n",
              "    <tr style=\"text-align: right;\">\n",
              "      <th></th>\n",
              "      <th>Accuracy_without_pp</th>\n",
              "      <th>F1_score_without_pp</th>\n",
              "      <th>Accuracy_rf_mm</th>\n",
              "      <th>F1_score1_rf_mm</th>\n",
              "      <th>Accuracy2_rf_mm_corr</th>\n",
              "      <th>F1_score2_rf_mm_corr</th>\n",
              "    </tr>\n",
              "  </thead>\n",
              "  <tbody>\n",
              "    <tr>\n",
              "      <th>0</th>\n",
              "      <td>0.948792</td>\n",
              "      <td>0.959658</td>\n",
              "      <td>0.94951</td>\n",
              "      <td>0.96028</td>\n",
              "      <td>0.94008</td>\n",
              "      <td>0.953033</td>\n",
              "    </tr>\n",
              "  </tbody>\n",
              "</table>\n",
              "</div>"
            ],
            "text/plain": [
              "   Accuracy_without_pp  ...  F1_score2_rf_mm_corr\n",
              "0             0.948792  ...              0.953033\n",
              "\n",
              "[1 rows x 6 columns]"
            ]
          },
          "metadata": {},
          "execution_count": 33
        }
      ]
    },
    {
      "cell_type": "markdown",
      "metadata": {
        "id": "f5ad2380"
      },
      "source": [
        "# Classification with RF after Dimension Reduction (using PCA)"
      ],
      "id": "f5ad2380"
    },
    {
      "cell_type": "code",
      "execution_count": null,
      "metadata": {
        "id": "825a9a63"
      },
      "outputs": [],
      "source": [
        "network_data3 = load_data('../input/dataset_pca.csv')"
      ],
      "id": "825a9a63"
    },
    {
      "cell_type": "code",
      "execution_count": null,
      "metadata": {
        "colab": {
          "base_uri": "https://localhost:8080/",
          "height": 578
        },
        "id": "37d9a7c1",
        "outputId": "0b148063-d8fd-43f4-8533-5d48493e479a"
      },
      "outputs": [
        {
          "output_type": "stream",
          "name": "stdout",
          "text": [
            "{'max_depth': [10, 15, 20],\n",
            " 'min_samples_split': [2, 4, 6],\n",
            " 'n_estimators': [30, 60, 90, 120]}\n",
            "accuracy on train is 0.9840204135093966\n",
            "              precision    recall  f1-score   support\n",
            "\n",
            "           0       0.92      0.88      0.90     18675\n",
            "           1       0.94      0.96      0.95     32860\n",
            "\n",
            "    accuracy                           0.93     51535\n",
            "   macro avg       0.93      0.92      0.92     51535\n",
            "weighted avg       0.93      0.93      0.93     51535\n",
            "\n",
            "Accuracy of Random Forest: 0.9295624332977588\n",
            "[[16506  2169]\n",
            " [ 1461 31399]]\n",
            "{'max_depth': 20, 'min_samples_split': 2, 'n_estimators': 90}\n",
            "0.927892964597675\n"
          ]
        },
        {
          "output_type": "display_data",
          "data": {
            "image/png": "[encoded data removed]",
            "text/plain": [
              "<Figure size 432x288 with 2 Axes>"
            ]
          },
          "metadata": {
            "needs_background": "light"
          }
        }
      ],
      "source": [
        "grid_search3,acc1 = main(network_data3,'pca')"
      ],
      "id": "37d9a7c1"
    },
    {
      "cell_type": "code",
      "execution_count": null,
      "metadata": {
        "colab": {
          "base_uri": "https://localhost:8080/",
          "height": 400
        },
        "id": "fc5aec38",
        "outputId": "6ec4b444-21be-4698-dfcb-2bd33d0b8ba2"
      },
      "outputs": [
        {
          "output_type": "execute_result",
          "data": {
            "text/html": [
              "<div>\n",
              "<style scoped>\n",
              "    .dataframe tbody tr th:only-of-type {\n",
              "        vertical-align: middle;\n",
              "    }\n",
              "\n",
              "    .dataframe tbody tr th {\n",
              "        vertical-align: top;\n",
              "    }\n",
              "\n",
              "    .dataframe thead th {\n",
              "        text-align: right;\n",
              "    }\n",
              "</style>\n",
              "<table border=\"1\" class=\"dataframe\">\n",
              "  <thead>\n",
              "    <tr style=\"text-align: right;\">\n",
              "      <th></th>\n",
              "      <th>mean_fit_time</th>\n",
              "      <th>std_fit_time</th>\n",
              "      <th>mean_score_time</th>\n",
              "      <th>std_score_time</th>\n",
              "      <th>param_max_depth</th>\n",
              "      <th>param_min_samples_split</th>\n",
              "      <th>param_n_estimators</th>\n",
              "      <th>params</th>\n",
              "      <th>split0_test_score</th>\n",
              "      <th>split1_test_score</th>\n",
              "      <th>split2_test_score</th>\n",
              "      <th>mean_test_score</th>\n",
              "      <th>std_test_score</th>\n",
              "      <th>rank_test_score</th>\n",
              "    </tr>\n",
              "  </thead>\n",
              "  <tbody>\n",
              "    <tr>\n",
              "      <th>0</th>\n",
              "      <td>15.659091</td>\n",
              "      <td>0.102826</td>\n",
              "      <td>0.240117</td>\n",
              "      <td>0.008933</td>\n",
              "      <td>10</td>\n",
              "      <td>2</td>\n",
              "      <td>30</td>\n",
              "      <td>{'max_depth': 10, 'min_samples_split': 2, 'n_e...</td>\n",
              "      <td>0.909391</td>\n",
              "      <td>0.909449</td>\n",
              "      <td>0.909346</td>\n",
              "      <td>0.909396</td>\n",
              "      <td>0.000042</td>\n",
              "      <td>32</td>\n",
              "    </tr>\n",
              "    <tr>\n",
              "      <th>1</th>\n",
              "      <td>31.345804</td>\n",
              "      <td>0.146834</td>\n",
              "      <td>0.467747</td>\n",
              "      <td>0.024043</td>\n",
              "      <td>10</td>\n",
              "      <td>2</td>\n",
              "      <td>60</td>\n",
              "      <td>{'max_depth': 10, 'min_samples_split': 2, 'n_e...</td>\n",
              "      <td>0.910410</td>\n",
              "      <td>0.910410</td>\n",
              "      <td>0.910743</td>\n",
              "      <td>0.910521</td>\n",
              "      <td>0.000157</td>\n",
              "      <td>25</td>\n",
              "    </tr>\n",
              "    <tr>\n",
              "      <th>2</th>\n",
              "      <td>47.310032</td>\n",
              "      <td>0.373412</td>\n",
              "      <td>0.709879</td>\n",
              "      <td>0.001633</td>\n",
              "      <td>10</td>\n",
              "      <td>2</td>\n",
              "      <td>90</td>\n",
              "      <td>{'max_depth': 10, 'min_samples_split': 2, 'n_e...</td>\n",
              "      <td>0.910512</td>\n",
              "      <td>0.909653</td>\n",
              "      <td>0.910903</td>\n",
              "      <td>0.910356</td>\n",
              "      <td>0.000522</td>\n",
              "      <td>26</td>\n",
              "    </tr>\n",
              "    <tr>\n",
              "      <th>3</th>\n",
              "      <td>63.256934</td>\n",
              "      <td>0.376674</td>\n",
              "      <td>0.930941</td>\n",
              "      <td>0.015928</td>\n",
              "      <td>10</td>\n",
              "      <td>2</td>\n",
              "      <td>120</td>\n",
              "      <td>{'max_depth': 10, 'min_samples_split': 2, 'n_e...</td>\n",
              "      <td>0.910308</td>\n",
              "      <td>0.909464</td>\n",
              "      <td>0.910671</td>\n",
              "      <td>0.910148</td>\n",
              "      <td>0.000506</td>\n",
              "      <td>27</td>\n",
              "    </tr>\n",
              "    <tr>\n",
              "      <th>4</th>\n",
              "      <td>15.705550</td>\n",
              "      <td>0.195856</td>\n",
              "      <td>0.234080</td>\n",
              "      <td>0.003478</td>\n",
              "      <td>10</td>\n",
              "      <td>4</td>\n",
              "      <td>30</td>\n",
              "      <td>{'max_depth': 10, 'min_samples_split': 4, 'n_e...</td>\n",
              "      <td>0.908460</td>\n",
              "      <td>0.910192</td>\n",
              "      <td>0.908371</td>\n",
              "      <td>0.909008</td>\n",
              "      <td>0.000838</td>\n",
              "      <td>35</td>\n",
              "    </tr>\n",
              "  </tbody>\n",
              "</table>\n",
              "</div>"
            ],
            "text/plain": [
              "   mean_fit_time  std_fit_time  ...  std_test_score  rank_test_score\n",
              "0      15.659091      0.102826  ...        0.000042               32\n",
              "1      31.345804      0.146834  ...        0.000157               25\n",
              "2      47.310032      0.373412  ...        0.000522               26\n",
              "3      63.256934      0.376674  ...        0.000506               27\n",
              "4      15.705550      0.195856  ...        0.000838               35\n",
              "\n",
              "[5 rows x 14 columns]"
            ]
          },
          "metadata": {},
          "execution_count": 36
        }
      ],
      "source": [
        "pd.DataFrame(grid_search3.cv_results_).head()"
      ],
      "id": "fc5aec38"
    },
    {
      "cell_type": "code",
      "source": [
        "df['Accuracy2_rf_pca'] =acc1[3]\n",
        "df['F1_score2_rf_pca']=f1[3]"
      ],
      "metadata": {
        "id": "QNi7UI_i-8fU"
      },
      "id": "QNi7UI_i-8fU",
      "execution_count": null,
      "outputs": []
    },
    {
      "cell_type": "code",
      "source": [
        "df"
      ],
      "metadata": {
        "colab": {
          "base_uri": "https://localhost:8080/",
          "height": 101
        },
        "id": "zs09J7Tf_BiF",
        "outputId": "4b51cb77-512c-4b4f-9a4e-cbea35396ea2"
      },
      "id": "zs09J7Tf_BiF",
      "execution_count": null,
      "outputs": [
        {
          "output_type": "execute_result",
          "data": {
            "text/html": [
              "<div>\n",
              "<style scoped>\n",
              "    .dataframe tbody tr th:only-of-type {\n",
              "        vertical-align: middle;\n",
              "    }\n",
              "\n",
              "    .dataframe tbody tr th {\n",
              "        vertical-align: top;\n",
              "    }\n",
              "\n",
              "    .dataframe thead th {\n",
              "        text-align: right;\n",
              "    }\n",
              "</style>\n",
              "<table border=\"1\" class=\"dataframe\">\n",
              "  <thead>\n",
              "    <tr style=\"text-align: right;\">\n",
              "      <th></th>\n",
              "      <th>Accuracy_without_pp</th>\n",
              "      <th>F1_score_without_pp</th>\n",
              "      <th>Accuracy_rf_mm</th>\n",
              "      <th>F1_score1_rf_mm</th>\n",
              "      <th>Accuracy2_rf_mm_corr</th>\n",
              "      <th>F1_score2_rf_mm_corr</th>\n",
              "      <th>Accuracy2_rf_pca</th>\n",
              "      <th>F1_score2_rf_pca</th>\n",
              "    </tr>\n",
              "  </thead>\n",
              "  <tbody>\n",
              "    <tr>\n",
              "      <th>0</th>\n",
              "      <td>0.948792</td>\n",
              "      <td>0.959658</td>\n",
              "      <td>0.94951</td>\n",
              "      <td>0.96028</td>\n",
              "      <td>0.94008</td>\n",
              "      <td>0.953033</td>\n",
              "      <td>0.929562</td>\n",
              "      <td>0.945354</td>\n",
              "    </tr>\n",
              "  </tbody>\n",
              "</table>\n",
              "</div>"
            ],
            "text/plain": [
              "   Accuracy_without_pp  F1_score_without_pp  ...  Accuracy2_rf_pca  F1_score2_rf_pca\n",
              "0             0.948792             0.959658  ...          0.929562          0.945354\n",
              "\n",
              "[1 rows x 8 columns]"
            ]
          },
          "metadata": {},
          "execution_count": 38
        }
      ]
    },
    {
      "cell_type": "code",
      "source": [
        "def displayAnalysisGraphs(list1, acc,f1,model):\n",
        "  plt.scatter(list1,acc)\n",
        "  for i in range(len(list1)):\n",
        "    acc[i]=float('{:,.3f}'.format(acc[i]))\n",
        "    plt.annotate(str(acc[i]), xy=(list1[i], acc[i]))\n",
        "  plt.ylabel(\"Accuracy\")\n",
        "  plt.title(\"Accuracy for dataset after different preprocessing techniques for \"+model)\n",
        "  plt.savefig(\"Accuracy\"+model+\".png\")\n",
        "  plt.show()\n",
        "  plt.scatter(list1,f1)\n",
        "  for i in range(len(list1)):\n",
        "    f1[i]=float('{:,.3f}'.format(f1[i]))\n",
        "    plt.annotate(str(f1[i]), xy=(list1[i], f1[i]))\n",
        "  plt.ylabel(\"F1 score\")\n",
        "  plt.title(\"F1 scores for dataset after different preprocessing techniques for \"+model)\n",
        "  plt.savefig(\"F1_scores\"+model+\".png\")\n",
        "  plt.show()"
      ],
      "metadata": {
        "id": "oBFEr13VG2vD"
      },
      "id": "oBFEr13VG2vD",
      "execution_count": null,
      "outputs": []
    },
    {
      "cell_type": "code",
      "source": [
        "list1 = ['withoutPreprocessing','MinMax','MinMax_corr','PCA']\n",
        "displayAnalysisGraphs(list1,acc1,f1,\"Random Forest\")"
      ],
      "metadata": {
        "colab": {
          "base_uri": "https://localhost:8080/",
          "height": 547
        },
        "id": "STkay8SvGLqv",
        "outputId": "5e7561dd-622d-4f57-98e5-5dc51e7f5c17"
      },
      "id": "STkay8SvGLqv",
      "execution_count": null,
      "outputs": [
        {
          "output_type": "display_data",
          "data": {
            "image/png": "[encoded data removed]",
            "text/plain": [
              "<Figure size 432x288 with 1 Axes>"
            ]
          },
          "metadata": {
            "needs_background": "light"
          }
        },
        {
          "output_type": "display_data",
          "data": {
            "image/png": "[encoded data removed]",
            "text/plain": [
              "<Figure size 432x288 with 1 Axes>"
            ]
          },
          "metadata": {
            "needs_background": "light"
          }
        }
      ]
    },
    {
      "cell_type": "code",
      "source": [
        "df.to_csv(\"Random_forest_result.csv\")"
      ],
      "metadata": {
        "id": "tVeocCTRJFvv"
      },
      "id": "tVeocCTRJFvv",
      "execution_count": null,
      "outputs": []
    }
  ],
  "metadata": {
    "colab": {
      "name": "RandomForest.ipynb",
      "provenance": [],
      "collapsed_sections": [
        "051db79d",
        "3ebf94e7"
      ]
    },
    "kernelspec": {
      "display_name": "Python 3",
      "language": "python",
      "name": "python3"
    },
    "language_info": {
      "codemirror_mode": {
        "name": "ipython",
        "version": 3
      },
      "file_extension": ".py",
      "mimetype": "text/x-python",
      "name": "python",
      "nbconvert_exporter": "python",
      "pygments_lexer": "ipython3",
      "version": "3.8.8"
    }
  },
  "nbformat": 4,
  "nbformat_minor": 5
}