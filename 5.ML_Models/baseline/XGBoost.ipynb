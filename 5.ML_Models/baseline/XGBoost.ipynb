{
 "cells": [
  {
   "cell_type": "markdown",
   "id": "16a6780b",
   "metadata": {
    "id": "16a6780b"
   },
   "source": [
    "# XGBoost"
   ]
  },
  {
   "cell_type": "markdown",
   "id": "36157ca5",
   "metadata": {
    "id": "36157ca5"
   },
   "source": [
    "## Input\n",
    "\n",
    "1. .csv - produced by pre_processing.ipynb\n",
    "2. The pre_processed input data includes following techniques:\n",
    "   * MinMax Scaling\n",
    "   * PCA\n",
    "   * Correlation\n",
    "\n",
    "## Output/Analysis\n",
    "\n",
    "1. Visualising the accuracy of XGB with k-fold validation.\n",
    "2. Comparing the accuracy of XGB model with and without PCA.   "
   ]
  },
  {
   "cell_type": "code",
   "execution_count": 1,
   "id": "a4aed72b",
   "metadata": {
    "id": "a4aed72b"
   },
   "outputs": [],
   "source": [
    "import numpy as np\n",
    "import pandas as pd\n",
    "from sklearn.model_selection import GridSearchCV\n",
    "from sklearn.model_selection import train_test_split\n",
    "from sklearn.metrics import accuracy_score\n",
    "from sklearn.metrics import classification_report\n",
    "from sklearn.metrics import confusion_matrix\n",
    "from sklearn.metrics import plot_confusion_matrix\n",
    "import xgboost as xgb\n",
    "from sklearn.metrics import f1_score\n",
    "import matplotlib.pyplot as plt \n",
    "import seaborn as sns\n",
    "import warnings\n",
    "\n",
    "warnings.filterwarnings('ignore')\n",
    "acc = []\n",
    "f1 =  []\n",
    "acc1 = []\n",
    "f11 =  []\n",
    "df = pd.DataFrame()"
   ]
  },
  {
   "cell_type": "code",
   "execution_count": 2,
   "id": "76d0b02f",
   "metadata": {
    "id": "76d0b02f"
   },
   "outputs": [],
   "source": [
    "def load_data(filename):\n",
    "    return pd.read_csv(filename)"
   ]
  },
  {
   "cell_type": "markdown",
   "id": "0e77ddf2",
   "metadata": {
    "id": "0e77ddf2"
   },
   "source": [
    "# Spilt the input file into test and train dataset\n",
    "\n",
    "I/P: dataframe\n",
    "\n",
    "O/P: x_cross_val, y_cross_val, x_test, y_test"
   ]
  },
  {
   "cell_type": "code",
   "execution_count": 3,
   "id": "d8c9e261",
   "metadata": {
    "id": "d8c9e261"
   },
   "outputs": [],
   "source": [
    "def prep_training(network_data):\n",
    "    return train_test_split(network_data, train_size=0.8, test_size=0.2, random_state=42)"
   ]
  },
  {
   "cell_type": "markdown",
   "id": "a3528006",
   "metadata": {
    "id": "a3528006"
   },
   "source": [
    "# Hyperparameter Tuning for XGBoost\n",
    "\n",
    "1.   List item\n",
    "2.   List item\n",
    "\n",
    "\n",
    "\n",
    "The following hyperparamter tuning has taken reference from:\n",
    "1. https://towardsdatascience.com/hyperparameter-tuning-the-random-forest-in-python-using-scikit-learn-28d2aa77dd74\n",
    "2. https://medium.com/@ODSC/optimizing-hyperparameters-for-random-forest-algorithms-in-scikit-learn-d60b7aa07ead\n",
    "3. https://www.kaggle.com/prashant111/a-guide-on-xgboost-hyperparameters-tuning"
   ]
  },
  {
   "cell_type": "code",
   "execution_count": 4,
   "id": "ffeb1df7",
   "metadata": {
    "id": "ffeb1df7"
   },
   "outputs": [],
   "source": [
    "from pprint import pprint"
   ]
  },
  {
   "cell_type": "markdown",
   "id": "514106f7",
   "metadata": {
    "id": "514106f7"
   },
   "source": [
    "Instead of all the above the parameters, we will just focus on tuning a few as given below:\n",
    "We will try adjusting a few of the following set of hyperparameters:\n",
    "1. n_estimators = number of trees in the foreset\n",
    "2. max_depth = max number of levels in each decision tree\n",
    "3. eta = Boosting learning rate (xgb’s “eta”)\n",
    "4. colsample_bytree = colsample_bytree defines what percentage of features ( columns ) will be used for building each tree.\n"
   ]
  },
  {
   "cell_type": "markdown",
   "id": "f0ad6de9",
   "metadata": {
    "id": "f0ad6de9"
   },
   "source": [
    "To use CV, we first need to create a parameter grid to sample from during fitting:\n",
    "\n",
    "- n_estimators=[30,60]  \n",
    "- max_depth = [10,15]\n",
    "- eta=[0.1,0.5,1]# Maximum number of levels in tree\n",
    "- colsample_bytree1=[ 0.5,1]\n"
   ]
  },
  {
   "cell_type": "markdown",
   "id": "fb20588e",
   "metadata": {
    "id": "fb20588e"
   },
   "source": [
    "### RandomizedSearch CV versus GridSearchCV\n",
    "\n",
    "Grid Search is good when we work with a small number of hyperparameters. However, if the number of parameters to consider is particularly high and the magnitudes of influence are imbalanced, the better choice is to use the Random Search. [Reference](https://towardsdatascience.com/machine-learning-gridsearchcv-randomizedsearchcv-d36b89231b10)\n",
    "\n",
    "Therefore, we have used GridSearchCV."
   ]
  },
  {
   "cell_type": "code",
   "execution_count": 5,
   "id": "f83ae7a6",
   "metadata": {
    "id": "f83ae7a6"
   },
   "outputs": [],
   "source": [
    "def creatingParamterGrid():\n",
    "    n_estimators = [30,60]   # Number of trees in random forest\n",
    "    max_depth = [10,15] \n",
    "    eta=[0.1,0.5,1]# Maximum number of levels in tree\n",
    "    colsample_bytree1=[ 0.5,1]\n",
    "    # Create the parameter grid\n",
    "    parameter_grid = {'n_estimators': n_estimators,\n",
    "               'max_depth': max_depth,\n",
    "               'eta':eta,\n",
    "               'colsample_bytree' : colsample_bytree1\n",
    "    }\n",
    "    return parameter_grid"
   ]
  },
  {
   "cell_type": "markdown",
   "id": "87b398e4",
   "metadata": {
    "id": "87b398e4"
   },
   "source": [
    "## Cross-Validated Grid Search\n",
    "\n",
    "We are now ready to create our grid-search object. We'll use each of the objects we've created thus far.\n",
    "Instead of passing a `PredefinedSplit` object tothe `cv` paramter, we are simply passing the number of folds."
   ]
  },
  {
   "cell_type": "code",
   "execution_count": 6,
   "id": "f55de400",
   "metadata": {
    "id": "f55de400"
   },
   "outputs": [],
   "source": [
    "def prepToFindOptimalHyperParams(clf,parameter_grid):\n",
    "    grid_search = GridSearchCV(estimator=clf, cv=3, param_grid = parameter_grid)\n",
    "    return grid_search"
   ]
  },
  {
   "cell_type": "markdown",
   "id": "8b3c01fa",
   "metadata": {
    "id": "8b3c01fa"
   },
   "source": [
    "## Training the Model\n",
    "\n",
    "Now that we have created our `grid_search` object, we are ready to train our model."
   ]
  },
  {
   "cell_type": "code",
   "execution_count": 7,
   "id": "27303281",
   "metadata": {
    "id": "27303281"
   },
   "outputs": [],
   "source": [
    "def train(cross_val_df,grid_search):\n",
    "    grid_search.fit(cross_val_df.drop(\"label\",axis=1), cross_val_df[\"label\"])\n",
    "    Xpred = grid_search.predict(cross_val_df.drop(\"label\",axis=1))\n",
    "    print(\"accuracy on train is\",accuracy_score(cross_val_df[\"label\"],Xpred))"
   ]
  },
  {
   "cell_type": "markdown",
   "id": "b98a9d27",
   "metadata": {
    "id": "b98a9d27"
   },
   "source": [
    "We are training models = (Number of unique Hyperparamter Combinations * number of folds) + 1"
   ]
  },
  {
   "cell_type": "markdown",
   "id": "051db79d",
   "metadata": {
    "id": "051db79d"
   },
   "source": [
    "## Cross-validated Results\n",
    "\n",
    "To examine the results individual fold, we use `grid_search`'s `cv_results_` attribute.\n",
    "pd.DataFrame(grid_search.cv_results_).head()"
   ]
  },
  {
   "cell_type": "markdown",
   "id": "3ebf94e7",
   "metadata": {
    "id": "3ebf94e7"
   },
   "source": [
    "## Optimal Hyperparamters\n",
    "\n",
    "grid_search.best_params_\n",
    "grid_search.best_score_"
   ]
  },
  {
   "cell_type": "markdown",
   "id": "ea7409cd",
   "metadata": {
    "id": "ea7409cd"
   },
   "source": [
    "# Test the model and analyse it"
   ]
  },
  {
   "cell_type": "code",
   "execution_count": 8,
   "id": "440cfd29",
   "metadata": {
    "id": "440cfd29"
   },
   "outputs": [],
   "source": [
    "def testXGBModel(test_df,grid_search,type):\n",
    "    Ytest = test_df[\"label\"]\n",
    "    Ypred = grid_search.predict(test_df.drop(\"label\",axis=1))\n",
    "    print(classification_report(Ytest,Ypred))   \n",
    "    acc1.append(accuracy_score(Ytest,Ypred))\n",
    "    acc=accuracy_score(Ytest,Ypred)\n",
    "    print('Accuracy of XGBoost Forest:',(acc)) \n",
    "    f1.append(f1_score(Ytest,Ypred))\n",
    "    #df['f1']  = f1_score(Ytest, Ypred)\n",
    "    plt.savefig('confusion_matrix'+type+'.jpg')\n",
    "    cm = confusion_matrix(Ytest, Ypred)\n",
    "    ax= plt.subplot()\n",
    "    sns.heatmap(cm, annot=True, fmt='g', ax=ax) \n",
    "    print(cm)\n",
    "    return acc1\n"
   ]
  },
  {
   "cell_type": "markdown",
   "id": "c609a94a",
   "metadata": {
    "id": "c609a94a"
   },
   "source": [
    "# Main Function"
   ]
  },
  {
   "cell_type": "code",
   "execution_count": 9,
   "id": "feb78669",
   "metadata": {
    "id": "feb78669"
   },
   "outputs": [],
   "source": [
    "def main(network_data,type): \n",
    "    clf = xgb.XGBClassifier(random_state=42,eval_metric='logloss')\n",
    "    cross_val_df, test_df = prep_training(network_data)\n",
    "    parameter_grid = creatingParamterGrid()\n",
    "    pprint(parameter_grid)\n",
    "    grid_search = prepToFindOptimalHyperParams(clf,parameter_grid)\n",
    "    train(cross_val_df,grid_search)\n",
    "    acc1=testXGBModel(test_df,grid_search,type)\n",
    "    print(grid_search.best_params_)\n",
    "    print(grid_search.best_score_)\n",
    "    return grid_search,acc1"
   ]
  },
  {
   "cell_type": "markdown",
   "id": "8b9aca3b",
   "metadata": {
    "id": "8b9aca3b"
   },
   "source": [
    "# Classification with XGB without preprocessing"
   ]
  },
  {
   "cell_type": "code",
   "execution_count": 10,
   "id": "40bc23a9",
   "metadata": {
    "id": "40bc23a9"
   },
   "outputs": [],
   "source": [
    "network_data = load_data('https://raw.githubusercontent.com/divyaKh/CMPE255Project/main/2.Data_Cleaning/cleaned_dataset_label_encoding.csv')"
   ]
  },
  {
   "cell_type": "code",
   "execution_count": 11,
   "id": "53b03a60",
   "metadata": {
    "colab": {
     "base_uri": "https://localhost:8080/"
    },
    "id": "53b03a60",
    "outputId": "d40f8c94-2660-4e52-ba2a-0ec126c57f20"
   },
   "outputs": [
    {
     "name": "stdout",
     "output_type": "stream",
     "text": [
      "{'colsample_bytree': [0.5, 1],\n",
      " 'eta': [0.1, 0.5, 1],\n",
      " 'max_depth': [10, 15],\n",
      " 'n_estimators': [30, 60]}\n",
      "accuracy on train is 0.9745073688499937\n",
      "              precision    recall  f1-score   support\n",
      "\n",
      "           0       0.93      0.94      0.93     18675\n",
      "           1       0.97      0.96      0.96     32860\n",
      "\n",
      "    accuracy                           0.95     51535\n",
      "   macro avg       0.95      0.95      0.95     51535\n",
      "weighted avg       0.95      0.95      0.95     51535\n",
      "\n",
      "Accuracy of XGBoost Forest: 0.9522848549529446\n",
      "[[17564  1111]\n",
      " [ 1348 31512]]\n",
      "{'colsample_bytree': 0.5, 'eta': 0.1, 'max_depth': 15, 'n_estimators': 60}\n",
      "0.9504846271776085\n"
     ]
    },
    {
     "data": {
      "image/png": "[encoded data removed]",
      "text/plain": [
       "<Figure size 432x288 with 2 Axes>"
      ]
     },
     "metadata": {
      "needs_background": "light"
     },
     "output_type": "display_data"
    }
   ],
   "source": [
    "network_data = network_data.drop(\"attack_cat\",axis=1)\n",
    "import warnings\n",
    "warnings.filterwarnings('ignore')\n",
    "grid_search,acc1 = main(network_data,'withoutpreprocess')"
   ]
  },
  {
   "cell_type": "code",
   "execution_count": 12,
   "id": "rQ7mGkpvyPW9",
   "metadata": {
    "id": "rQ7mGkpvyPW9"
   },
   "outputs": [],
   "source": [
    "\n",
    "df['Accuracy_xgb_without_pp'] =acc1\n",
    "df['F1_score_xgb_without_pp']=f1\n"
   ]
  },
  {
   "cell_type": "markdown",
   "id": "e73d1131",
   "metadata": {
    "id": "e73d1131"
   },
   "source": [
    "# Classification with XGB after MinMax Scaling "
   ]
  },
  {
   "cell_type": "code",
   "execution_count": 13,
   "id": "c477d47e",
   "metadata": {
    "id": "c477d47e"
   },
   "outputs": [],
   "source": [
    "network_data1 = load_data('../input/dataset_minmax.csv')"
   ]
  },
  {
   "cell_type": "code",
   "execution_count": 14,
   "id": "cac8313c",
   "metadata": {
    "id": "cac8313c"
   },
   "outputs": [
    {
     "data": {
      "text/html": [
       "<div>\n",
       "<style scoped>\n",
       "    .dataframe tbody tr th:only-of-type {\n",
       "        vertical-align: middle;\n",
       "    }\n",
       "\n",
       "    .dataframe tbody tr th {\n",
       "        vertical-align: top;\n",
       "    }\n",
       "\n",
       "    .dataframe thead th {\n",
       "        text-align: right;\n",
       "    }\n",
       "</style>\n",
       "<table border=\"1\" class=\"dataframe\">\n",
       "  <thead>\n",
       "    <tr style=\"text-align: right;\">\n",
       "      <th></th>\n",
       "      <th># dur</th>\n",
       "      <th>proto</th>\n",
       "      <th>service</th>\n",
       "      <th>state</th>\n",
       "      <th>spkts</th>\n",
       "      <th>dpkts</th>\n",
       "      <th>sbytes</th>\n",
       "      <th>dbytes</th>\n",
       "      <th>rate</th>\n",
       "      <th>sttl</th>\n",
       "      <th>...</th>\n",
       "      <th>ct_src_dport_ltm</th>\n",
       "      <th>ct_dst_sport_ltm</th>\n",
       "      <th>ct_dst_src_ltm</th>\n",
       "      <th>is_ftp_login</th>\n",
       "      <th>ct_ftp_cmd</th>\n",
       "      <th>ct_flw_http_mthd</th>\n",
       "      <th>ct_src_ltm</th>\n",
       "      <th>ct_srv_dst</th>\n",
       "      <th>is_sm_ips_ports</th>\n",
       "      <th>label</th>\n",
       "    </tr>\n",
       "  </thead>\n",
       "  <tbody>\n",
       "    <tr>\n",
       "      <th>0</th>\n",
       "      <td>1.833334e-07</td>\n",
       "      <td>0.901515</td>\n",
       "      <td>0.000000</td>\n",
       "      <td>0.5</td>\n",
       "      <td>0.000094</td>\n",
       "      <td>0.000000</td>\n",
       "      <td>0.000033</td>\n",
       "      <td>0.000000</td>\n",
       "      <td>0.090909</td>\n",
       "      <td>0.996078</td>\n",
       "      <td>...</td>\n",
       "      <td>0.000000</td>\n",
       "      <td>0.000000</td>\n",
       "      <td>0.015625</td>\n",
       "      <td>0.0</td>\n",
       "      <td>0.0</td>\n",
       "      <td>0.0</td>\n",
       "      <td>0.000000</td>\n",
       "      <td>0.016393</td>\n",
       "      <td>0.0</td>\n",
       "      <td>0</td>\n",
       "    </tr>\n",
       "    <tr>\n",
       "      <th>1</th>\n",
       "      <td>1.333334e-07</td>\n",
       "      <td>0.901515</td>\n",
       "      <td>0.000000</td>\n",
       "      <td>0.5</td>\n",
       "      <td>0.000094</td>\n",
       "      <td>0.000000</td>\n",
       "      <td>0.000121</td>\n",
       "      <td>0.000000</td>\n",
       "      <td>0.125000</td>\n",
       "      <td>0.996078</td>\n",
       "      <td>...</td>\n",
       "      <td>0.000000</td>\n",
       "      <td>0.000000</td>\n",
       "      <td>0.015625</td>\n",
       "      <td>0.0</td>\n",
       "      <td>0.0</td>\n",
       "      <td>0.0</td>\n",
       "      <td>0.000000</td>\n",
       "      <td>0.016393</td>\n",
       "      <td>0.0</td>\n",
       "      <td>0</td>\n",
       "    </tr>\n",
       "    <tr>\n",
       "      <th>2</th>\n",
       "      <td>8.333335e-08</td>\n",
       "      <td>0.901515</td>\n",
       "      <td>0.000000</td>\n",
       "      <td>0.5</td>\n",
       "      <td>0.000094</td>\n",
       "      <td>0.000000</td>\n",
       "      <td>0.000073</td>\n",
       "      <td>0.000000</td>\n",
       "      <td>0.200000</td>\n",
       "      <td>0.996078</td>\n",
       "      <td>...</td>\n",
       "      <td>0.000000</td>\n",
       "      <td>0.000000</td>\n",
       "      <td>0.031250</td>\n",
       "      <td>0.0</td>\n",
       "      <td>0.0</td>\n",
       "      <td>0.0</td>\n",
       "      <td>0.000000</td>\n",
       "      <td>0.032787</td>\n",
       "      <td>0.0</td>\n",
       "      <td>0</td>\n",
       "    </tr>\n",
       "    <tr>\n",
       "      <th>3</th>\n",
       "      <td>1.000000e-07</td>\n",
       "      <td>0.901515</td>\n",
       "      <td>0.000000</td>\n",
       "      <td>0.5</td>\n",
       "      <td>0.000094</td>\n",
       "      <td>0.000000</td>\n",
       "      <td>0.000061</td>\n",
       "      <td>0.000000</td>\n",
       "      <td>0.166667</td>\n",
       "      <td>0.996078</td>\n",
       "      <td>...</td>\n",
       "      <td>0.017241</td>\n",
       "      <td>0.000000</td>\n",
       "      <td>0.031250</td>\n",
       "      <td>0.0</td>\n",
       "      <td>0.0</td>\n",
       "      <td>0.0</td>\n",
       "      <td>0.016949</td>\n",
       "      <td>0.032787</td>\n",
       "      <td>0.0</td>\n",
       "      <td>0</td>\n",
       "    </tr>\n",
       "    <tr>\n",
       "      <th>4</th>\n",
       "      <td>1.666667e-07</td>\n",
       "      <td>0.901515</td>\n",
       "      <td>0.000000</td>\n",
       "      <td>0.5</td>\n",
       "      <td>0.000094</td>\n",
       "      <td>0.000000</td>\n",
       "      <td>0.000146</td>\n",
       "      <td>0.000000</td>\n",
       "      <td>0.100000</td>\n",
       "      <td>0.996078</td>\n",
       "      <td>...</td>\n",
       "      <td>0.017241</td>\n",
       "      <td>0.000000</td>\n",
       "      <td>0.031250</td>\n",
       "      <td>0.0</td>\n",
       "      <td>0.0</td>\n",
       "      <td>0.0</td>\n",
       "      <td>0.016949</td>\n",
       "      <td>0.032787</td>\n",
       "      <td>0.0</td>\n",
       "      <td>0</td>\n",
       "    </tr>\n",
       "    <tr>\n",
       "      <th>...</th>\n",
       "      <td>...</td>\n",
       "      <td>...</td>\n",
       "      <td>...</td>\n",
       "      <td>...</td>\n",
       "      <td>...</td>\n",
       "      <td>...</td>\n",
       "      <td>...</td>\n",
       "      <td>...</td>\n",
       "      <td>...</td>\n",
       "      <td>...</td>\n",
       "      <td>...</td>\n",
       "      <td>...</td>\n",
       "      <td>...</td>\n",
       "      <td>...</td>\n",
       "      <td>...</td>\n",
       "      <td>...</td>\n",
       "      <td>...</td>\n",
       "      <td>...</td>\n",
       "      <td>...</td>\n",
       "      <td>...</td>\n",
       "      <td>...</td>\n",
       "    </tr>\n",
       "    <tr>\n",
       "      <th>257668</th>\n",
       "      <td>1.500000e-07</td>\n",
       "      <td>0.901515</td>\n",
       "      <td>0.166667</td>\n",
       "      <td>0.5</td>\n",
       "      <td>0.000094</td>\n",
       "      <td>0.000000</td>\n",
       "      <td>0.000006</td>\n",
       "      <td>0.000000</td>\n",
       "      <td>0.111111</td>\n",
       "      <td>0.996078</td>\n",
       "      <td>...</td>\n",
       "      <td>0.396552</td>\n",
       "      <td>0.266667</td>\n",
       "      <td>0.359375</td>\n",
       "      <td>0.0</td>\n",
       "      <td>0.0</td>\n",
       "      <td>0.0</td>\n",
       "      <td>0.389831</td>\n",
       "      <td>0.377049</td>\n",
       "      <td>0.0</td>\n",
       "      <td>1</td>\n",
       "    </tr>\n",
       "    <tr>\n",
       "      <th>257669</th>\n",
       "      <td>8.429368e-03</td>\n",
       "      <td>0.856061</td>\n",
       "      <td>0.000000</td>\n",
       "      <td>0.4</td>\n",
       "      <td>0.000845</td>\n",
       "      <td>0.000726</td>\n",
       "      <td>0.000042</td>\n",
       "      <td>0.000024</td>\n",
       "      <td>0.000034</td>\n",
       "      <td>0.996078</td>\n",
       "      <td>...</td>\n",
       "      <td>0.000000</td>\n",
       "      <td>0.000000</td>\n",
       "      <td>0.015625</td>\n",
       "      <td>0.0</td>\n",
       "      <td>0.0</td>\n",
       "      <td>0.0</td>\n",
       "      <td>0.000000</td>\n",
       "      <td>0.000000</td>\n",
       "      <td>0.0</td>\n",
       "      <td>1</td>\n",
       "    </tr>\n",
       "    <tr>\n",
       "      <th>257670</th>\n",
       "      <td>1.500000e-07</td>\n",
       "      <td>0.901515</td>\n",
       "      <td>0.166667</td>\n",
       "      <td>0.5</td>\n",
       "      <td>0.000094</td>\n",
       "      <td>0.000000</td>\n",
       "      <td>0.000006</td>\n",
       "      <td>0.000000</td>\n",
       "      <td>0.111111</td>\n",
       "      <td>0.996078</td>\n",
       "      <td>...</td>\n",
       "      <td>0.034483</td>\n",
       "      <td>0.044444</td>\n",
       "      <td>0.187500</td>\n",
       "      <td>0.0</td>\n",
       "      <td>0.0</td>\n",
       "      <td>0.0</td>\n",
       "      <td>0.033898</td>\n",
       "      <td>0.180328</td>\n",
       "      <td>0.0</td>\n",
       "      <td>1</td>\n",
       "    </tr>\n",
       "    <tr>\n",
       "      <th>257671</th>\n",
       "      <td>1.500000e-07</td>\n",
       "      <td>0.901515</td>\n",
       "      <td>0.166667</td>\n",
       "      <td>0.5</td>\n",
       "      <td>0.000094</td>\n",
       "      <td>0.000000</td>\n",
       "      <td>0.000006</td>\n",
       "      <td>0.000000</td>\n",
       "      <td>0.111111</td>\n",
       "      <td>0.996078</td>\n",
       "      <td>...</td>\n",
       "      <td>0.500000</td>\n",
       "      <td>0.288889</td>\n",
       "      <td>0.453125</td>\n",
       "      <td>0.0</td>\n",
       "      <td>0.0</td>\n",
       "      <td>0.0</td>\n",
       "      <td>0.491525</td>\n",
       "      <td>0.475410</td>\n",
       "      <td>0.0</td>\n",
       "      <td>1</td>\n",
       "    </tr>\n",
       "    <tr>\n",
       "      <th>257672</th>\n",
       "      <td>1.500000e-07</td>\n",
       "      <td>0.901515</td>\n",
       "      <td>0.166667</td>\n",
       "      <td>0.5</td>\n",
       "      <td>0.000094</td>\n",
       "      <td>0.000000</td>\n",
       "      <td>0.000006</td>\n",
       "      <td>0.000000</td>\n",
       "      <td>0.111111</td>\n",
       "      <td>0.996078</td>\n",
       "      <td>...</td>\n",
       "      <td>0.500000</td>\n",
       "      <td>0.333333</td>\n",
       "      <td>0.453125</td>\n",
       "      <td>0.0</td>\n",
       "      <td>0.0</td>\n",
       "      <td>0.0</td>\n",
       "      <td>0.491525</td>\n",
       "      <td>0.475410</td>\n",
       "      <td>0.0</td>\n",
       "      <td>1</td>\n",
       "    </tr>\n",
       "  </tbody>\n",
       "</table>\n",
       "<p>257673 rows × 43 columns</p>\n",
       "</div>"
      ],
      "text/plain": [
       "               # dur     proto   service  state     spkts     dpkts    sbytes  \\\n",
       "0       1.833334e-07  0.901515  0.000000    0.5  0.000094  0.000000  0.000033   \n",
       "1       1.333334e-07  0.901515  0.000000    0.5  0.000094  0.000000  0.000121   \n",
       "2       8.333335e-08  0.901515  0.000000    0.5  0.000094  0.000000  0.000073   \n",
       "3       1.000000e-07  0.901515  0.000000    0.5  0.000094  0.000000  0.000061   \n",
       "4       1.666667e-07  0.901515  0.000000    0.5  0.000094  0.000000  0.000146   \n",
       "...              ...       ...       ...    ...       ...       ...       ...   \n",
       "257668  1.500000e-07  0.901515  0.166667    0.5  0.000094  0.000000  0.000006   \n",
       "257669  8.429368e-03  0.856061  0.000000    0.4  0.000845  0.000726  0.000042   \n",
       "257670  1.500000e-07  0.901515  0.166667    0.5  0.000094  0.000000  0.000006   \n",
       "257671  1.500000e-07  0.901515  0.166667    0.5  0.000094  0.000000  0.000006   \n",
       "257672  1.500000e-07  0.901515  0.166667    0.5  0.000094  0.000000  0.000006   \n",
       "\n",
       "          dbytes      rate      sttl  ...  ct_src_dport_ltm  ct_dst_sport_ltm  \\\n",
       "0       0.000000  0.090909  0.996078  ...          0.000000          0.000000   \n",
       "1       0.000000  0.125000  0.996078  ...          0.000000          0.000000   \n",
       "2       0.000000  0.200000  0.996078  ...          0.000000          0.000000   \n",
       "3       0.000000  0.166667  0.996078  ...          0.017241          0.000000   \n",
       "4       0.000000  0.100000  0.996078  ...          0.017241          0.000000   \n",
       "...          ...       ...       ...  ...               ...               ...   \n",
       "257668  0.000000  0.111111  0.996078  ...          0.396552          0.266667   \n",
       "257669  0.000024  0.000034  0.996078  ...          0.000000          0.000000   \n",
       "257670  0.000000  0.111111  0.996078  ...          0.034483          0.044444   \n",
       "257671  0.000000  0.111111  0.996078  ...          0.500000          0.288889   \n",
       "257672  0.000000  0.111111  0.996078  ...          0.500000          0.333333   \n",
       "\n",
       "        ct_dst_src_ltm  is_ftp_login  ct_ftp_cmd  ct_flw_http_mthd  \\\n",
       "0             0.015625           0.0         0.0               0.0   \n",
       "1             0.015625           0.0         0.0               0.0   \n",
       "2             0.031250           0.0         0.0               0.0   \n",
       "3             0.031250           0.0         0.0               0.0   \n",
       "4             0.031250           0.0         0.0               0.0   \n",
       "...                ...           ...         ...               ...   \n",
       "257668        0.359375           0.0         0.0               0.0   \n",
       "257669        0.015625           0.0         0.0               0.0   \n",
       "257670        0.187500           0.0         0.0               0.0   \n",
       "257671        0.453125           0.0         0.0               0.0   \n",
       "257672        0.453125           0.0         0.0               0.0   \n",
       "\n",
       "        ct_src_ltm  ct_srv_dst  is_sm_ips_ports  label  \n",
       "0         0.000000    0.016393              0.0      0  \n",
       "1         0.000000    0.016393              0.0      0  \n",
       "2         0.000000    0.032787              0.0      0  \n",
       "3         0.016949    0.032787              0.0      0  \n",
       "4         0.016949    0.032787              0.0      0  \n",
       "...            ...         ...              ...    ...  \n",
       "257668    0.389831    0.377049              0.0      1  \n",
       "257669    0.000000    0.000000              0.0      1  \n",
       "257670    0.033898    0.180328              0.0      1  \n",
       "257671    0.491525    0.475410              0.0      1  \n",
       "257672    0.491525    0.475410              0.0      1  \n",
       "\n",
       "[257673 rows x 43 columns]"
      ]
     },
     "execution_count": 14,
     "metadata": {},
     "output_type": "execute_result"
    }
   ],
   "source": [
    "network_data1"
   ]
  },
  {
   "cell_type": "code",
   "execution_count": 15,
   "id": "6163ca95",
   "metadata": {
    "id": "6163ca95"
   },
   "outputs": [
    {
     "name": "stdout",
     "output_type": "stream",
     "text": [
      "{'colsample_bytree': [0.5, 1],\n",
      " 'eta': [0.1, 0.5, 1],\n",
      " 'max_depth': [10, 15],\n",
      " 'n_estimators': [30, 60]}\n",
      "accuracy on train is 0.9745073688499937\n",
      "              precision    recall  f1-score   support\n",
      "\n",
      "           0       0.93      0.94      0.93     18675\n",
      "           1       0.97      0.96      0.96     32860\n",
      "\n",
      "    accuracy                           0.95     51535\n",
      "   macro avg       0.95      0.95      0.95     51535\n",
      "weighted avg       0.95      0.95      0.95     51535\n",
      "\n",
      "Accuracy of XGBoost Forest: 0.9522848549529446\n",
      "[[17564  1111]\n",
      " [ 1348 31512]]\n",
      "{'colsample_bytree': 0.5, 'eta': 0.1, 'max_depth': 15, 'n_estimators': 60}\n",
      "0.9503439454046302\n"
     ]
    },
    {
     "data": {
      "image/png": "[encoded data removed]",
      "text/plain": [
       "<Figure size 432x288 with 2 Axes>"
      ]
     },
     "metadata": {
      "needs_background": "light"
     },
     "output_type": "display_data"
    }
   ],
   "source": [
    "grid_search1,acc1= main(network_data1,'minmax')"
   ]
  },
  {
   "cell_type": "code",
   "execution_count": 16,
   "id": "1ea9e76d",
   "metadata": {
    "id": "1ea9e76d"
   },
   "outputs": [
    {
     "data": {
      "text/html": [
       "<div>\n",
       "<style scoped>\n",
       "    .dataframe tbody tr th:only-of-type {\n",
       "        vertical-align: middle;\n",
       "    }\n",
       "\n",
       "    .dataframe tbody tr th {\n",
       "        vertical-align: top;\n",
       "    }\n",
       "\n",
       "    .dataframe thead th {\n",
       "        text-align: right;\n",
       "    }\n",
       "</style>\n",
       "<table border=\"1\" class=\"dataframe\">\n",
       "  <thead>\n",
       "    <tr style=\"text-align: right;\">\n",
       "      <th></th>\n",
       "      <th>mean_fit_time</th>\n",
       "      <th>std_fit_time</th>\n",
       "      <th>mean_score_time</th>\n",
       "      <th>std_score_time</th>\n",
       "      <th>param_colsample_bytree</th>\n",
       "      <th>param_eta</th>\n",
       "      <th>param_max_depth</th>\n",
       "      <th>param_n_estimators</th>\n",
       "      <th>params</th>\n",
       "      <th>split0_test_score</th>\n",
       "      <th>split1_test_score</th>\n",
       "      <th>split2_test_score</th>\n",
       "      <th>mean_test_score</th>\n",
       "      <th>std_test_score</th>\n",
       "      <th>rank_test_score</th>\n",
       "    </tr>\n",
       "  </thead>\n",
       "  <tbody>\n",
       "    <tr>\n",
       "      <th>0</th>\n",
       "      <td>3.876383</td>\n",
       "      <td>0.362616</td>\n",
       "      <td>0.060347</td>\n",
       "      <td>0.007719</td>\n",
       "      <td>0.5</td>\n",
       "      <td>0.1</td>\n",
       "      <td>10</td>\n",
       "      <td>30</td>\n",
       "      <td>{'colsample_bytree': 0.5, 'eta': 0.1, 'max_dep...</td>\n",
       "      <td>0.942020</td>\n",
       "      <td>0.943606</td>\n",
       "      <td>0.942834</td>\n",
       "      <td>0.942820</td>\n",
       "      <td>0.000648</td>\n",
       "      <td>22</td>\n",
       "    </tr>\n",
       "    <tr>\n",
       "      <th>1</th>\n",
       "      <td>6.550017</td>\n",
       "      <td>0.070348</td>\n",
       "      <td>0.068349</td>\n",
       "      <td>0.011816</td>\n",
       "      <td>0.5</td>\n",
       "      <td>0.1</td>\n",
       "      <td>10</td>\n",
       "      <td>60</td>\n",
       "      <td>{'colsample_bytree': 0.5, 'eta': 0.1, 'max_dep...</td>\n",
       "      <td>0.944727</td>\n",
       "      <td>0.945847</td>\n",
       "      <td>0.945905</td>\n",
       "      <td>0.945493</td>\n",
       "      <td>0.000542</td>\n",
       "      <td>13</td>\n",
       "    </tr>\n",
       "    <tr>\n",
       "      <th>2</th>\n",
       "      <td>5.150554</td>\n",
       "      <td>0.024630</td>\n",
       "      <td>0.068680</td>\n",
       "      <td>0.006182</td>\n",
       "      <td>0.5</td>\n",
       "      <td>0.1</td>\n",
       "      <td>15</td>\n",
       "      <td>30</td>\n",
       "      <td>{'colsample_bytree': 0.5, 'eta': 0.1, 'max_dep...</td>\n",
       "      <td>0.948685</td>\n",
       "      <td>0.947812</td>\n",
       "      <td>0.948728</td>\n",
       "      <td>0.948408</td>\n",
       "      <td>0.000422</td>\n",
       "      <td>4</td>\n",
       "    </tr>\n",
       "    <tr>\n",
       "      <th>3</th>\n",
       "      <td>9.938464</td>\n",
       "      <td>0.051883</td>\n",
       "      <td>0.115194</td>\n",
       "      <td>0.011453</td>\n",
       "      <td>0.5</td>\n",
       "      <td>0.1</td>\n",
       "      <td>15</td>\n",
       "      <td>60</td>\n",
       "      <td>{'colsample_bytree': 0.5, 'eta': 0.1, 'max_dep...</td>\n",
       "      <td>0.950301</td>\n",
       "      <td>0.950170</td>\n",
       "      <td>0.950562</td>\n",
       "      <td>0.950344</td>\n",
       "      <td>0.000163</td>\n",
       "      <td>1</td>\n",
       "    </tr>\n",
       "    <tr>\n",
       "      <th>4</th>\n",
       "      <td>3.331765</td>\n",
       "      <td>0.029768</td>\n",
       "      <td>0.043677</td>\n",
       "      <td>0.001700</td>\n",
       "      <td>0.5</td>\n",
       "      <td>0.5</td>\n",
       "      <td>10</td>\n",
       "      <td>30</td>\n",
       "      <td>{'colsample_bytree': 0.5, 'eta': 0.5, 'max_dep...</td>\n",
       "      <td>0.946022</td>\n",
       "      <td>0.947521</td>\n",
       "      <td>0.947506</td>\n",
       "      <td>0.947016</td>\n",
       "      <td>0.000703</td>\n",
       "      <td>12</td>\n",
       "    </tr>\n",
       "  </tbody>\n",
       "</table>\n",
       "</div>"
      ],
      "text/plain": [
       "   mean_fit_time  std_fit_time  mean_score_time  std_score_time  \\\n",
       "0       3.876383      0.362616         0.060347        0.007719   \n",
       "1       6.550017      0.070348         0.068349        0.011816   \n",
       "2       5.150554      0.024630         0.068680        0.006182   \n",
       "3       9.938464      0.051883         0.115194        0.011453   \n",
       "4       3.331765      0.029768         0.043677        0.001700   \n",
       "\n",
       "  param_colsample_bytree param_eta param_max_depth param_n_estimators  \\\n",
       "0                    0.5       0.1              10                 30   \n",
       "1                    0.5       0.1              10                 60   \n",
       "2                    0.5       0.1              15                 30   \n",
       "3                    0.5       0.1              15                 60   \n",
       "4                    0.5       0.5              10                 30   \n",
       "\n",
       "                                              params  split0_test_score  \\\n",
       "0  {'colsample_bytree': 0.5, 'eta': 0.1, 'max_dep...           0.942020   \n",
       "1  {'colsample_bytree': 0.5, 'eta': 0.1, 'max_dep...           0.944727   \n",
       "2  {'colsample_bytree': 0.5, 'eta': 0.1, 'max_dep...           0.948685   \n",
       "3  {'colsample_bytree': 0.5, 'eta': 0.1, 'max_dep...           0.950301   \n",
       "4  {'colsample_bytree': 0.5, 'eta': 0.5, 'max_dep...           0.946022   \n",
       "\n",
       "   split1_test_score  split2_test_score  mean_test_score  std_test_score  \\\n",
       "0           0.943606           0.942834         0.942820        0.000648   \n",
       "1           0.945847           0.945905         0.945493        0.000542   \n",
       "2           0.947812           0.948728         0.948408        0.000422   \n",
       "3           0.950170           0.950562         0.950344        0.000163   \n",
       "4           0.947521           0.947506         0.947016        0.000703   \n",
       "\n",
       "   rank_test_score  \n",
       "0               22  \n",
       "1               13  \n",
       "2                4  \n",
       "3                1  \n",
       "4               12  "
      ]
     },
     "execution_count": 16,
     "metadata": {},
     "output_type": "execute_result"
    }
   ],
   "source": [
    "pd.DataFrame(grid_search1.cv_results_).head()"
   ]
  },
  {
   "cell_type": "code",
   "execution_count": 17,
   "id": "h0pyQxJa-nzn",
   "metadata": {
    "id": "h0pyQxJa-nzn"
   },
   "outputs": [],
   "source": [
    "df['Accuracy_xgb_mm'] =acc1[1]\n",
    "df['F1_score1_xgb_mm']=f1[1]"
   ]
  },
  {
   "cell_type": "code",
   "execution_count": 18,
   "id": "emqNaWWRDtdJ",
   "metadata": {
    "id": "emqNaWWRDtdJ"
   },
   "outputs": [
    {
     "data": {
      "text/html": [
       "<div>\n",
       "<style scoped>\n",
       "    .dataframe tbody tr th:only-of-type {\n",
       "        vertical-align: middle;\n",
       "    }\n",
       "\n",
       "    .dataframe tbody tr th {\n",
       "        vertical-align: top;\n",
       "    }\n",
       "\n",
       "    .dataframe thead th {\n",
       "        text-align: right;\n",
       "    }\n",
       "</style>\n",
       "<table border=\"1\" class=\"dataframe\">\n",
       "  <thead>\n",
       "    <tr style=\"text-align: right;\">\n",
       "      <th></th>\n",
       "      <th>Accuracy_xgb_without_pp</th>\n",
       "      <th>F1_score_xgb_without_pp</th>\n",
       "      <th>Accuracy_xgb_mm</th>\n",
       "      <th>F1_score1_xgb_mm</th>\n",
       "    </tr>\n",
       "  </thead>\n",
       "  <tbody>\n",
       "    <tr>\n",
       "      <th>0</th>\n",
       "      <td>0.952285</td>\n",
       "      <td>0.962448</td>\n",
       "      <td>0.952285</td>\n",
       "      <td>0.962448</td>\n",
       "    </tr>\n",
       "  </tbody>\n",
       "</table>\n",
       "</div>"
      ],
      "text/plain": [
       "   Accuracy_xgb_without_pp  F1_score_xgb_without_pp  Accuracy_xgb_mm  \\\n",
       "0                 0.952285                 0.962448         0.952285   \n",
       "\n",
       "   F1_score1_xgb_mm  \n",
       "0          0.962448  "
      ]
     },
     "execution_count": 18,
     "metadata": {},
     "output_type": "execute_result"
    }
   ],
   "source": [
    "df"
   ]
  },
  {
   "cell_type": "markdown",
   "id": "36d026fb",
   "metadata": {
    "id": "36d026fb"
   },
   "source": [
    "# Classification with XGBoost after MinMax Scaling + Correlation analysis"
   ]
  },
  {
   "cell_type": "code",
   "execution_count": 19,
   "id": "9cca6bbf",
   "metadata": {
    "id": "9cca6bbf"
   },
   "outputs": [],
   "source": [
    "network_data2 = load_data('../input/dataset_minmax_corr.csv')"
   ]
  },
  {
   "cell_type": "code",
   "execution_count": 20,
   "id": "7e635059",
   "metadata": {
    "id": "7e635059"
   },
   "outputs": [
    {
     "name": "stdout",
     "output_type": "stream",
     "text": [
      "{'colsample_bytree': [0.5, 1],\n",
      " 'eta': [0.1, 0.5, 1],\n",
      " 'max_depth': [10, 15],\n",
      " 'n_estimators': [30, 60]}\n",
      "accuracy on train is 0.9689382840621331\n",
      "              precision    recall  f1-score   support\n",
      "\n",
      "           0       0.92      0.92      0.92     18675\n",
      "           1       0.96      0.96      0.96     32860\n",
      "\n",
      "    accuracy                           0.94     51535\n",
      "   macro avg       0.94      0.94      0.94     51535\n",
      "weighted avg       0.94      0.94      0.94     51535\n",
      "\n",
      "Accuracy of XGBoost Forest: 0.9441932667119434\n",
      "[[17269  1406]\n",
      " [ 1470 31390]]\n",
      "{'colsample_bytree': 0.5, 'eta': 0.1, 'max_depth': 15, 'n_estimators': 60}\n",
      "0.9419854682564327\n"
     ]
    },
    {
     "data": {
      "image/png": "[encoded data removed]",
      "text/plain": [
       "<Figure size 432x288 with 2 Axes>"
      ]
     },
     "metadata": {
      "needs_background": "light"
     },
     "output_type": "display_data"
    }
   ],
   "source": [
    "grid_search2,acc1 = main(network_data2,'minmax_corr')"
   ]
  },
  {
   "cell_type": "code",
   "execution_count": 21,
   "id": "e54c9db4",
   "metadata": {
    "id": "e54c9db4"
   },
   "outputs": [
    {
     "data": {
      "text/html": [
       "<div>\n",
       "<style scoped>\n",
       "    .dataframe tbody tr th:only-of-type {\n",
       "        vertical-align: middle;\n",
       "    }\n",
       "\n",
       "    .dataframe tbody tr th {\n",
       "        vertical-align: top;\n",
       "    }\n",
       "\n",
       "    .dataframe thead th {\n",
       "        text-align: right;\n",
       "    }\n",
       "</style>\n",
       "<table border=\"1\" class=\"dataframe\">\n",
       "  <thead>\n",
       "    <tr style=\"text-align: right;\">\n",
       "      <th></th>\n",
       "      <th>mean_fit_time</th>\n",
       "      <th>std_fit_time</th>\n",
       "      <th>mean_score_time</th>\n",
       "      <th>std_score_time</th>\n",
       "      <th>param_colsample_bytree</th>\n",
       "      <th>param_eta</th>\n",
       "      <th>param_max_depth</th>\n",
       "      <th>param_n_estimators</th>\n",
       "      <th>params</th>\n",
       "      <th>split0_test_score</th>\n",
       "      <th>split1_test_score</th>\n",
       "      <th>split2_test_score</th>\n",
       "      <th>mean_test_score</th>\n",
       "      <th>std_test_score</th>\n",
       "      <th>rank_test_score</th>\n",
       "    </tr>\n",
       "  </thead>\n",
       "  <tbody>\n",
       "    <tr>\n",
       "      <th>0</th>\n",
       "      <td>4.242639</td>\n",
       "      <td>0.333492</td>\n",
       "      <td>0.046344</td>\n",
       "      <td>0.001700</td>\n",
       "      <td>0.5</td>\n",
       "      <td>0.1</td>\n",
       "      <td>10</td>\n",
       "      <td>30</td>\n",
       "      <td>{'colsample_bytree': 0.5, 'eta': 0.1, 'max_dep...</td>\n",
       "      <td>0.936067</td>\n",
       "      <td>0.935922</td>\n",
       "      <td>0.936852</td>\n",
       "      <td>0.936281</td>\n",
       "      <td>0.000409</td>\n",
       "      <td>15</td>\n",
       "    </tr>\n",
       "    <tr>\n",
       "      <th>1</th>\n",
       "      <td>8.549126</td>\n",
       "      <td>0.630300</td>\n",
       "      <td>0.087685</td>\n",
       "      <td>0.015416</td>\n",
       "      <td>0.5</td>\n",
       "      <td>0.1</td>\n",
       "      <td>10</td>\n",
       "      <td>60</td>\n",
       "      <td>{'colsample_bytree': 0.5, 'eta': 0.1, 'max_dep...</td>\n",
       "      <td>0.938105</td>\n",
       "      <td>0.939109</td>\n",
       "      <td>0.938992</td>\n",
       "      <td>0.938735</td>\n",
       "      <td>0.000448</td>\n",
       "      <td>10</td>\n",
       "    </tr>\n",
       "    <tr>\n",
       "      <th>2</th>\n",
       "      <td>6.073747</td>\n",
       "      <td>0.020422</td>\n",
       "      <td>0.055346</td>\n",
       "      <td>0.002868</td>\n",
       "      <td>0.5</td>\n",
       "      <td>0.1</td>\n",
       "      <td>15</td>\n",
       "      <td>30</td>\n",
       "      <td>{'colsample_bytree': 0.5, 'eta': 0.1, 'max_dep...</td>\n",
       "      <td>0.940695</td>\n",
       "      <td>0.941045</td>\n",
       "      <td>0.941524</td>\n",
       "      <td>0.941088</td>\n",
       "      <td>0.000340</td>\n",
       "      <td>2</td>\n",
       "    </tr>\n",
       "    <tr>\n",
       "      <th>3</th>\n",
       "      <td>11.901038</td>\n",
       "      <td>0.195511</td>\n",
       "      <td>0.108025</td>\n",
       "      <td>0.015583</td>\n",
       "      <td>0.5</td>\n",
       "      <td>0.1</td>\n",
       "      <td>15</td>\n",
       "      <td>60</td>\n",
       "      <td>{'colsample_bytree': 0.5, 'eta': 0.1, 'max_dep...</td>\n",
       "      <td>0.942209</td>\n",
       "      <td>0.941307</td>\n",
       "      <td>0.942441</td>\n",
       "      <td>0.941985</td>\n",
       "      <td>0.000489</td>\n",
       "      <td>1</td>\n",
       "    </tr>\n",
       "    <tr>\n",
       "      <th>4</th>\n",
       "      <td>3.846255</td>\n",
       "      <td>0.038276</td>\n",
       "      <td>0.098689</td>\n",
       "      <td>0.041355</td>\n",
       "      <td>0.5</td>\n",
       "      <td>0.5</td>\n",
       "      <td>10</td>\n",
       "      <td>30</td>\n",
       "      <td>{'colsample_bytree': 0.5, 'eta': 0.5, 'max_dep...</td>\n",
       "      <td>0.938454</td>\n",
       "      <td>0.939604</td>\n",
       "      <td>0.939501</td>\n",
       "      <td>0.939186</td>\n",
       "      <td>0.000519</td>\n",
       "      <td>8</td>\n",
       "    </tr>\n",
       "  </tbody>\n",
       "</table>\n",
       "</div>"
      ],
      "text/plain": [
       "   mean_fit_time  std_fit_time  mean_score_time  std_score_time  \\\n",
       "0       4.242639      0.333492         0.046344        0.001700   \n",
       "1       8.549126      0.630300         0.087685        0.015416   \n",
       "2       6.073747      0.020422         0.055346        0.002868   \n",
       "3      11.901038      0.195511         0.108025        0.015583   \n",
       "4       3.846255      0.038276         0.098689        0.041355   \n",
       "\n",
       "  param_colsample_bytree param_eta param_max_depth param_n_estimators  \\\n",
       "0                    0.5       0.1              10                 30   \n",
       "1                    0.5       0.1              10                 60   \n",
       "2                    0.5       0.1              15                 30   \n",
       "3                    0.5       0.1              15                 60   \n",
       "4                    0.5       0.5              10                 30   \n",
       "\n",
       "                                              params  split0_test_score  \\\n",
       "0  {'colsample_bytree': 0.5, 'eta': 0.1, 'max_dep...           0.936067   \n",
       "1  {'colsample_bytree': 0.5, 'eta': 0.1, 'max_dep...           0.938105   \n",
       "2  {'colsample_bytree': 0.5, 'eta': 0.1, 'max_dep...           0.940695   \n",
       "3  {'colsample_bytree': 0.5, 'eta': 0.1, 'max_dep...           0.942209   \n",
       "4  {'colsample_bytree': 0.5, 'eta': 0.5, 'max_dep...           0.938454   \n",
       "\n",
       "   split1_test_score  split2_test_score  mean_test_score  std_test_score  \\\n",
       "0           0.935922           0.936852         0.936281        0.000409   \n",
       "1           0.939109           0.938992         0.938735        0.000448   \n",
       "2           0.941045           0.941524         0.941088        0.000340   \n",
       "3           0.941307           0.942441         0.941985        0.000489   \n",
       "4           0.939604           0.939501         0.939186        0.000519   \n",
       "\n",
       "   rank_test_score  \n",
       "0               15  \n",
       "1               10  \n",
       "2                2  \n",
       "3                1  \n",
       "4                8  "
      ]
     },
     "execution_count": 21,
     "metadata": {},
     "output_type": "execute_result"
    }
   ],
   "source": [
    "pd.DataFrame(grid_search2.cv_results_).head()"
   ]
  },
  {
   "cell_type": "code",
   "execution_count": 22,
   "id": "8esvLSey-tWq",
   "metadata": {
    "id": "8esvLSey-tWq"
   },
   "outputs": [],
   "source": [
    "df['Accuracy2_xgb_mm_corr'] =acc1[2]\n",
    "df['F1_score2_xgb_mm_corr']=f1[2]"
   ]
  },
  {
   "cell_type": "code",
   "execution_count": 23,
   "id": "-y7qSofDET3T",
   "metadata": {
    "id": "-y7qSofDET3T"
   },
   "outputs": [
    {
     "data": {
      "text/html": [
       "<div>\n",
       "<style scoped>\n",
       "    .dataframe tbody tr th:only-of-type {\n",
       "        vertical-align: middle;\n",
       "    }\n",
       "\n",
       "    .dataframe tbody tr th {\n",
       "        vertical-align: top;\n",
       "    }\n",
       "\n",
       "    .dataframe thead th {\n",
       "        text-align: right;\n",
       "    }\n",
       "</style>\n",
       "<table border=\"1\" class=\"dataframe\">\n",
       "  <thead>\n",
       "    <tr style=\"text-align: right;\">\n",
       "      <th></th>\n",
       "      <th>Accuracy_xgb_without_pp</th>\n",
       "      <th>F1_score_xgb_without_pp</th>\n",
       "      <th>Accuracy_xgb_mm</th>\n",
       "      <th>F1_score1_xgb_mm</th>\n",
       "      <th>Accuracy2_xgb_mm_corr</th>\n",
       "      <th>F1_score2_xgb_mm_corr</th>\n",
       "    </tr>\n",
       "  </thead>\n",
       "  <tbody>\n",
       "    <tr>\n",
       "      <th>0</th>\n",
       "      <td>0.952285</td>\n",
       "      <td>0.962448</td>\n",
       "      <td>0.952285</td>\n",
       "      <td>0.962448</td>\n",
       "      <td>0.944193</td>\n",
       "      <td>0.956196</td>\n",
       "    </tr>\n",
       "  </tbody>\n",
       "</table>\n",
       "</div>"
      ],
      "text/plain": [
       "   Accuracy_xgb_without_pp  F1_score_xgb_without_pp  Accuracy_xgb_mm  \\\n",
       "0                 0.952285                 0.962448         0.952285   \n",
       "\n",
       "   F1_score1_xgb_mm  Accuracy2_xgb_mm_corr  F1_score2_xgb_mm_corr  \n",
       "0          0.962448               0.944193               0.956196  "
      ]
     },
     "execution_count": 23,
     "metadata": {},
     "output_type": "execute_result"
    }
   ],
   "source": [
    "df"
   ]
  },
  {
   "cell_type": "markdown",
   "id": "f5ad2380",
   "metadata": {
    "id": "f5ad2380"
   },
   "source": [
    "# Classification with XGBoost after Dimension Reduction (using PCA)"
   ]
  },
  {
   "cell_type": "code",
   "execution_count": 24,
   "id": "825a9a63",
   "metadata": {
    "id": "825a9a63"
   },
   "outputs": [],
   "source": [
    "network_data3 = load_data('../input/dataset_pca.csv')"
   ]
  },
  {
   "cell_type": "code",
   "execution_count": 25,
   "id": "37d9a7c1",
   "metadata": {
    "id": "37d9a7c1"
   },
   "outputs": [
    {
     "name": "stdout",
     "output_type": "stream",
     "text": [
      "{'colsample_bytree': [0.5, 1],\n",
      " 'eta': [0.1, 0.5, 1],\n",
      " 'max_depth': [10, 15],\n",
      " 'n_estimators': [30, 60]}\n",
      "accuracy on train is 0.9806634390553901\n",
      "              precision    recall  f1-score   support\n",
      "\n",
      "           0       0.92      0.89      0.90     18675\n",
      "           1       0.94      0.95      0.95     32860\n",
      "\n",
      "    accuracy                           0.93     51535\n",
      "   macro avg       0.93      0.92      0.92     51535\n",
      "weighted avg       0.93      0.93      0.93     51535\n",
      "\n",
      "Accuracy of XGBoost Forest: 0.929484816144368\n",
      "[[16575  2100]\n",
      " [ 1534 31326]]\n",
      "{'colsample_bytree': 0.5, 'eta': 0.1, 'max_depth': 15, 'n_estimators': 60}\n",
      "0.92790751534292\n"
     ]
    },
    {
     "data": {
      "image/png": "[encoded data removed]",
      "text/plain": [
       "<Figure size 432x288 with 2 Axes>"
      ]
     },
     "metadata": {
      "needs_background": "light"
     },
     "output_type": "display_data"
    }
   ],
   "source": [
    "grid_search3,acc1 = main(network_data3,'pca')"
   ]
  },
  {
   "cell_type": "code",
   "execution_count": 26,
   "id": "fc5aec38",
   "metadata": {
    "id": "fc5aec38"
   },
   "outputs": [
    {
     "data": {
      "text/html": [
       "<div>\n",
       "<style scoped>\n",
       "    .dataframe tbody tr th:only-of-type {\n",
       "        vertical-align: middle;\n",
       "    }\n",
       "\n",
       "    .dataframe tbody tr th {\n",
       "        vertical-align: top;\n",
       "    }\n",
       "\n",
       "    .dataframe thead th {\n",
       "        text-align: right;\n",
       "    }\n",
       "</style>\n",
       "<table border=\"1\" class=\"dataframe\">\n",
       "  <thead>\n",
       "    <tr style=\"text-align: right;\">\n",
       "      <th></th>\n",
       "      <th>mean_fit_time</th>\n",
       "      <th>std_fit_time</th>\n",
       "      <th>mean_score_time</th>\n",
       "      <th>std_score_time</th>\n",
       "      <th>param_colsample_bytree</th>\n",
       "      <th>param_eta</th>\n",
       "      <th>param_max_depth</th>\n",
       "      <th>param_n_estimators</th>\n",
       "      <th>params</th>\n",
       "      <th>split0_test_score</th>\n",
       "      <th>split1_test_score</th>\n",
       "      <th>split2_test_score</th>\n",
       "      <th>mean_test_score</th>\n",
       "      <th>std_test_score</th>\n",
       "      <th>rank_test_score</th>\n",
       "    </tr>\n",
       "  </thead>\n",
       "  <tbody>\n",
       "    <tr>\n",
       "      <th>0</th>\n",
       "      <td>6.477010</td>\n",
       "      <td>0.142430</td>\n",
       "      <td>0.048011</td>\n",
       "      <td>0.005100</td>\n",
       "      <td>0.5</td>\n",
       "      <td>0.1</td>\n",
       "      <td>10</td>\n",
       "      <td>30</td>\n",
       "      <td>{'colsample_bytree': 0.5, 'eta': 0.1, 'max_dep...</td>\n",
       "      <td>0.919462</td>\n",
       "      <td>0.921063</td>\n",
       "      <td>0.921484</td>\n",
       "      <td>0.920670</td>\n",
       "      <td>0.000871</td>\n",
       "      <td>17</td>\n",
       "    </tr>\n",
       "    <tr>\n",
       "      <th>1</th>\n",
       "      <td>12.659120</td>\n",
       "      <td>0.245229</td>\n",
       "      <td>0.251203</td>\n",
       "      <td>0.235108</td>\n",
       "      <td>0.5</td>\n",
       "      <td>0.1</td>\n",
       "      <td>10</td>\n",
       "      <td>60</td>\n",
       "      <td>{'colsample_bytree': 0.5, 'eta': 0.1, 'max_dep...</td>\n",
       "      <td>0.923741</td>\n",
       "      <td>0.924978</td>\n",
       "      <td>0.924744</td>\n",
       "      <td>0.924487</td>\n",
       "      <td>0.000537</td>\n",
       "      <td>5</td>\n",
       "    </tr>\n",
       "    <tr>\n",
       "      <th>2</th>\n",
       "      <td>9.265510</td>\n",
       "      <td>0.116761</td>\n",
       "      <td>0.073016</td>\n",
       "      <td>0.010804</td>\n",
       "      <td>0.5</td>\n",
       "      <td>0.1</td>\n",
       "      <td>15</td>\n",
       "      <td>30</td>\n",
       "      <td>{'colsample_bytree': 0.5, 'eta': 0.1, 'max_dep...</td>\n",
       "      <td>0.926491</td>\n",
       "      <td>0.926913</td>\n",
       "      <td>0.926432</td>\n",
       "      <td>0.926612</td>\n",
       "      <td>0.000214</td>\n",
       "      <td>3</td>\n",
       "    </tr>\n",
       "    <tr>\n",
       "      <th>3</th>\n",
       "      <td>17.998373</td>\n",
       "      <td>0.722311</td>\n",
       "      <td>0.128021</td>\n",
       "      <td>0.012833</td>\n",
       "      <td>0.5</td>\n",
       "      <td>0.1</td>\n",
       "      <td>15</td>\n",
       "      <td>60</td>\n",
       "      <td>{'colsample_bytree': 0.5, 'eta': 0.1, 'max_dep...</td>\n",
       "      <td>0.927714</td>\n",
       "      <td>0.928703</td>\n",
       "      <td>0.927305</td>\n",
       "      <td>0.927908</td>\n",
       "      <td>0.000587</td>\n",
       "      <td>1</td>\n",
       "    </tr>\n",
       "    <tr>\n",
       "      <th>4</th>\n",
       "      <td>5.808526</td>\n",
       "      <td>0.075193</td>\n",
       "      <td>0.043676</td>\n",
       "      <td>0.002358</td>\n",
       "      <td>0.5</td>\n",
       "      <td>0.5</td>\n",
       "      <td>10</td>\n",
       "      <td>30</td>\n",
       "      <td>{'colsample_bytree': 0.5, 'eta': 0.5, 'max_dep...</td>\n",
       "      <td>0.920088</td>\n",
       "      <td>0.922707</td>\n",
       "      <td>0.921629</td>\n",
       "      <td>0.921475</td>\n",
       "      <td>0.001075</td>\n",
       "      <td>14</td>\n",
       "    </tr>\n",
       "  </tbody>\n",
       "</table>\n",
       "</div>"
      ],
      "text/plain": [
       "   mean_fit_time  std_fit_time  mean_score_time  std_score_time  \\\n",
       "0       6.477010      0.142430         0.048011        0.005100   \n",
       "1      12.659120      0.245229         0.251203        0.235108   \n",
       "2       9.265510      0.116761         0.073016        0.010804   \n",
       "3      17.998373      0.722311         0.128021        0.012833   \n",
       "4       5.808526      0.075193         0.043676        0.002358   \n",
       "\n",
       "  param_colsample_bytree param_eta param_max_depth param_n_estimators  \\\n",
       "0                    0.5       0.1              10                 30   \n",
       "1                    0.5       0.1              10                 60   \n",
       "2                    0.5       0.1              15                 30   \n",
       "3                    0.5       0.1              15                 60   \n",
       "4                    0.5       0.5              10                 30   \n",
       "\n",
       "                                              params  split0_test_score  \\\n",
       "0  {'colsample_bytree': 0.5, 'eta': 0.1, 'max_dep...           0.919462   \n",
       "1  {'colsample_bytree': 0.5, 'eta': 0.1, 'max_dep...           0.923741   \n",
       "2  {'colsample_bytree': 0.5, 'eta': 0.1, 'max_dep...           0.926491   \n",
       "3  {'colsample_bytree': 0.5, 'eta': 0.1, 'max_dep...           0.927714   \n",
       "4  {'colsample_bytree': 0.5, 'eta': 0.5, 'max_dep...           0.920088   \n",
       "\n",
       "   split1_test_score  split2_test_score  mean_test_score  std_test_score  \\\n",
       "0           0.921063           0.921484         0.920670        0.000871   \n",
       "1           0.924978           0.924744         0.924487        0.000537   \n",
       "2           0.926913           0.926432         0.926612        0.000214   \n",
       "3           0.928703           0.927305         0.927908        0.000587   \n",
       "4           0.922707           0.921629         0.921475        0.001075   \n",
       "\n",
       "   rank_test_score  \n",
       "0               17  \n",
       "1                5  \n",
       "2                3  \n",
       "3                1  \n",
       "4               14  "
      ]
     },
     "execution_count": 26,
     "metadata": {},
     "output_type": "execute_result"
    }
   ],
   "source": [
    "pd.DataFrame(grid_search3.cv_results_).head()"
   ]
  },
  {
   "cell_type": "code",
   "execution_count": 27,
   "id": "QNi7UI_i-8fU",
   "metadata": {
    "id": "QNi7UI_i-8fU"
   },
   "outputs": [],
   "source": [
    "df['Accuracy2_xgb_pca'] =acc1[3]\n",
    "df['F1_score2_xgb_pca']=f1[3]"
   ]
  },
  {
   "cell_type": "code",
   "execution_count": 28,
   "id": "zs09J7Tf_BiF",
   "metadata": {
    "id": "zs09J7Tf_BiF"
   },
   "outputs": [
    {
     "data": {
      "text/html": [
       "<div>\n",
       "<style scoped>\n",
       "    .dataframe tbody tr th:only-of-type {\n",
       "        vertical-align: middle;\n",
       "    }\n",
       "\n",
       "    .dataframe tbody tr th {\n",
       "        vertical-align: top;\n",
       "    }\n",
       "\n",
       "    .dataframe thead th {\n",
       "        text-align: right;\n",
       "    }\n",
       "</style>\n",
       "<table border=\"1\" class=\"dataframe\">\n",
       "  <thead>\n",
       "    <tr style=\"text-align: right;\">\n",
       "      <th></th>\n",
       "      <th>Accuracy_xgb_without_pp</th>\n",
       "      <th>F1_score_xgb_without_pp</th>\n",
       "      <th>Accuracy_xgb_mm</th>\n",
       "      <th>F1_score1_xgb_mm</th>\n",
       "      <th>Accuracy2_xgb_mm_corr</th>\n",
       "      <th>F1_score2_xgb_mm_corr</th>\n",
       "      <th>Accuracy2_xgb_pca</th>\n",
       "      <th>F1_score2_xgb_pca</th>\n",
       "    </tr>\n",
       "  </thead>\n",
       "  <tbody>\n",
       "    <tr>\n",
       "      <th>0</th>\n",
       "      <td>0.952285</td>\n",
       "      <td>0.962448</td>\n",
       "      <td>0.952285</td>\n",
       "      <td>0.962448</td>\n",
       "      <td>0.944193</td>\n",
       "      <td>0.956196</td>\n",
       "      <td>0.929485</td>\n",
       "      <td>0.945177</td>\n",
       "    </tr>\n",
       "  </tbody>\n",
       "</table>\n",
       "</div>"
      ],
      "text/plain": [
       "   Accuracy_xgb_without_pp  F1_score_xgb_without_pp  Accuracy_xgb_mm  \\\n",
       "0                 0.952285                 0.962448         0.952285   \n",
       "\n",
       "   F1_score1_xgb_mm  Accuracy2_xgb_mm_corr  F1_score2_xgb_mm_corr  \\\n",
       "0          0.962448               0.944193               0.956196   \n",
       "\n",
       "   Accuracy2_xgb_pca  F1_score2_xgb_pca  \n",
       "0           0.929485           0.945177  "
      ]
     },
     "execution_count": 28,
     "metadata": {},
     "output_type": "execute_result"
    }
   ],
   "source": [
    "df"
   ]
  },
  {
   "cell_type": "code",
   "execution_count": 29,
   "id": "oBFEr13VG2vD",
   "metadata": {
    "id": "oBFEr13VG2vD"
   },
   "outputs": [],
   "source": [
    "def displayAnalysisGraphs(list1, acc,f1,model):\n",
    "  plt.scatter(list1,acc)\n",
    "  for i in range(len(list1)):\n",
    "    acc[i]=float('{:,.3f}'.format(acc[i]))\n",
    "    plt.annotate(str(acc[i]), xy=(list1[i], acc[i]))\n",
    "  plt.ylabel(\"Accuracy\")\n",
    "  plt.title(\"Accuracy for dataset after different preprocessing techniques for \"+model)\n",
    "  plt.savefig(\"Accuracy\"+model+\".png\")\n",
    "  plt.show()\n",
    "  plt.scatter(list1,f1)\n",
    "  for i in range(len(list1)):\n",
    "    f1[i]=float('{:,.3f}'.format(f1[i]))\n",
    "    plt.annotate(str(f1[i]), xy=(list1[i], f1[i]))\n",
    "  plt.ylabel(\"F1 score\")\n",
    "  plt.title(\"F1 scores for dataset after different preprocessing techniques for \"+model)\n",
    "  plt.savefig(\"F1_scores\"+model+\".png\")\n",
    "  plt.show()"
   ]
  },
  {
   "cell_type": "code",
   "execution_count": 30,
   "id": "STkay8SvGLqv",
   "metadata": {
    "id": "STkay8SvGLqv"
   },
   "outputs": [
    {
     "data": {
      "image/png": "[encoded data removed]",
      "text/plain": [
       "<Figure size 432x288 with 1 Axes>"
      ]
     },
     "metadata": {
      "needs_background": "light"
     },
     "output_type": "display_data"
    },
    {
     "data": {
      "image/png": "[encoded data removed]",
      "text/plain": [
       "<Figure size 432x288 with 1 Axes>"
      ]
     },
     "metadata": {
      "needs_background": "light"
     },
     "output_type": "display_data"
    }
   ],
   "source": [
    "list1 = ['withoutPreprocessing','MinMax','MinMax_corr','PCA']\n",
    "displayAnalysisGraphs(list1,acc1,f1,\"XGB\")"
   ]
  },
  {
   "cell_type": "code",
   "execution_count": 31,
   "id": "tVeocCTRJFvv",
   "metadata": {
    "id": "tVeocCTRJFvv"
   },
   "outputs": [],
   "source": [
    "df.to_csv(\"XGB_result.csv\")"
   ]
  }
 ],
 "metadata": {
  "accelerator": "TPU",
  "colab": {
   "collapsed_sections": [
    "051db79d",
    "3ebf94e7"
   ],
   "name": "XGBoost.ipynb",
   "provenance": []
  },
  "kernelspec": {
   "display_name": "Python 3",
   "language": "python",
   "name": "python3"
  },
  "language_info": {
   "codemirror_mode": {
    "name": "ipython",
    "version": 3
   },
   "file_extension": ".py",
   "mimetype": "text/x-python",
   "name": "python",
   "nbconvert_exporter": "python",
   "pygments_lexer": "ipython3",
   "version": "3.8.8"
  }
 },
 "nbformat": 4,
 "nbformat_minor": 5
}
