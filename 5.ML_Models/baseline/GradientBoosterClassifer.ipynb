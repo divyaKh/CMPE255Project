{
  "cells": [
    {
      "cell_type": "markdown",
      "id": "57378438",
      "metadata": {
        "id": "57378438"
      },
      "source": [
        "# Gradient Boosting Classifier\n",
        "Gradient boosting classifiers are a group of machine learning algorithms that combine many weak learning models together to create a strong predictive model.\n",
        "\n",
        "Why do we need?\n",
        "Gradient boosting models are becoming popular because of their effectiveness at classifying complex datasets, and have recently been used to win many Kaggle data science competitions."
      ]
    },
    {
      "cell_type": "markdown",
      "source": [
        "This is a baseline notebook and it uploads the dataset with one hot encoding and shows overfitting of the model."
      ],
      "metadata": {
        "id": "aXSxDnNG9Gjk"
      },
      "id": "aXSxDnNG9Gjk"
    },
    {
      "cell_type": "code",
      "execution_count": 5,
      "id": "6515b2be",
      "metadata": {
        "id": "6515b2be"
      },
      "outputs": [],
      "source": [
        "import pandas as pd\n",
        "import matplotlib.pyplot as plt\n",
        "import numpy as np\n",
        "import seaborn as sns\n",
        "from sklearn.model_selection import train_test_split\n",
        "from sklearn.ensemble import GradientBoostingClassifier\n",
        "from sklearn.metrics import accuracy_score\n",
        "from sklearn.metrics import classification_report, confusion_matrix\n",
        "from pprint import pprint\n",
        "from sklearn.feature_selection import SelectKBest\n",
        "from sklearn.feature_selection import chi2, f_regression\n",
        "from sklearn.datasets import load_boston\n",
        "from sklearn.datasets import load_iris\n",
        "from numpy import array \n",
        "from sklearn.preprocessing import StandardScaler,MinMaxScaler\n",
        "from sklearn.pipeline import make_pipeline\n",
        "from sklearn import svm\n",
        "from sklearn.decomposition import PCA\n",
        "from sklearn.tree import DecisionTreeRegressor \n",
        "from sklearn.pipeline import make_pipeline\n",
        "from sklearn.datasets import make_friedman1\n",
        "from sklearn.feature_selection import RFE\n",
        "import matplotlib.pyplot as plt\n",
        "from sklearn.model_selection import StratifiedKFold\n",
        "from sklearn.feature_selection import RFECV\n",
        "from sklearn.datasets import make_classification\n",
        "from sklearn import metrics\n",
        "# check accuracy score\n",
        "from sklearn.metrics import accuracy_score"
      ]
    },
    {
      "cell_type": "code",
      "execution_count": 6,
      "id": "007485fc",
      "metadata": {
        "id": "007485fc",
        "outputId": "fe66da03-3b56-4862-e45a-6bc89e0384c4",
        "colab": {
          "base_uri": "https://localhost:8080/"
        }
      },
      "outputs": [
        {
          "output_type": "stream",
          "name": "stdout",
          "text": [
            "/content/drive/MyDrive\n"
          ]
        },
        {
          "output_type": "execute_result",
          "data": {
            "text/plain": [
              "0         6\n",
              "1         6\n",
              "2         6\n",
              "3         6\n",
              "4         6\n",
              "         ..\n",
              "257668    5\n",
              "257669    8\n",
              "257670    5\n",
              "257671    5\n",
              "257672    5\n",
              "Name: attack_cat, Length: 257673, dtype: int64"
            ]
          },
          "metadata": {},
          "execution_count": 6
        }
      ],
      "source": [
        "%cd /content/drive/MyDrive/\n",
        "dataset = pd.read_csv('cleaned_dataset_label_encoding.csv')\n",
        "dataset[\"attack_cat\"]\n"
      ]
    },
    {
      "cell_type": "code",
      "source": [
        "from google.colab import drive\n",
        "drive.mount('/content/drive')"
      ],
      "metadata": {
        "colab": {
          "base_uri": "https://localhost:8080/"
        },
        "id": "uGQcSodg6i5W",
        "outputId": "dc6df0c9-7044-4fda-b3a2-c46400e98563"
      },
      "id": "uGQcSodg6i5W",
      "execution_count": 4,
      "outputs": [
        {
          "output_type": "stream",
          "name": "stdout",
          "text": [
            "Mounted at /content/drive\n"
          ]
        }
      ]
    },
    {
      "cell_type": "code",
      "execution_count": 7,
      "id": "4f5e93c5",
      "metadata": {
        "scrolled": true,
        "id": "4f5e93c5",
        "outputId": "9fc2fa6a-2508-4ebe-a14d-93e835df2e9c",
        "colab": {
          "base_uri": "https://localhost:8080/"
        }
      },
      "outputs": [
        {
          "output_type": "execute_result",
          "data": {
            "text/plain": [
              "(257673, 43)"
            ]
          },
          "metadata": {},
          "execution_count": 7
        }
      ],
      "source": [
        "dataset_minmax = pd.read_csv(\"dataset_minmax.csv\")\n",
        "dataset_minmax.shape"
      ]
    },
    {
      "cell_type": "code",
      "source": [
        "dataset_pca = pd.read_csv(\"dataset_pca.csv\")\n",
        "dataset_pca.shape"
      ],
      "metadata": {
        "id": "vBsQSlwvuok5",
        "outputId": "1aa83a2d-359a-4934-878d-50d7ff499154",
        "colab": {
          "base_uri": "https://localhost:8080/"
        }
      },
      "id": "vBsQSlwvuok5",
      "execution_count": 8,
      "outputs": [
        {
          "output_type": "execute_result",
          "data": {
            "text/plain": [
              "(257673, 30)"
            ]
          },
          "metadata": {},
          "execution_count": 8
        }
      ]
    },
    {
      "cell_type": "code",
      "source": [
        "dataset_minmax_corr =pd.read_csv(\"dataset_minmax_corr.csv\")\n",
        "dataset_minmax_corr.shape"
      ],
      "metadata": {
        "id": "Bf8aDt42uw9k",
        "outputId": "da38ecac-9d7d-4df8-a08a-ef7b11366dda",
        "colab": {
          "base_uri": "https://localhost:8080/"
        }
      },
      "id": "Bf8aDt42uw9k",
      "execution_count": 9,
      "outputs": [
        {
          "output_type": "execute_result",
          "data": {
            "text/plain": [
              "(257673, 34)"
            ]
          },
          "metadata": {},
          "execution_count": 9
        }
      ]
    },
    {
      "cell_type": "markdown",
      "source": [
        "# Gradient Boost without any pre-processing"
      ],
      "metadata": {
        "id": "KGQTON3_u4RV"
      },
      "id": "KGQTON3_u4RV"
    },
    {
      "cell_type": "code",
      "source": [
        "X=dataset.drop(columns=['label'])\n",
        "y=dataset['label']"
      ],
      "metadata": {
        "id": "wJDyE8bSvMa1"
      },
      "id": "wJDyE8bSvMa1",
      "execution_count": 10,
      "outputs": []
    },
    {
      "cell_type": "code",
      "source": [
        "X_train, X_test, y_train, y_test = train_test_split(X, y, test_size=0.3)"
      ],
      "metadata": {
        "id": "xI_wEpw3vWx_"
      },
      "id": "xI_wEpw3vWx_",
      "execution_count": 11,
      "outputs": []
    },
    {
      "cell_type": "code",
      "source": [
        "from matplotlib import pyplot\n",
        "model1 = GradientBoostingClassifier(learning_rate=0.5, max_depth=3)\n",
        "# model1 = GradientBoostingClassifier(max_depth=5,early_stopping_rounds=1,gamma=0.1,n_trees=2)\n",
        "model1.fit(X_train, y_train)\n",
        "predicted_y = model1.predict(X_test)\n",
        "print(metrics.confusion_matrix(y_test, predicted_y))\n",
        "print((accuracy_score(y_test, predicted_y)))\n",
        "print('Gradient Boost model accuracy score: {0:0.4f}'. format(accuracy_score(y_test, predicted_y)))\n",
        "model1.feature_importances_\n",
        "\n",
        "pyplot.bar(range(len(model1.feature_importances_)), model1.feature_importances_)\n",
        "print(model1.feature_importances_)"
      ],
      "metadata": {
        "id": "eur4ECRfvecC",
        "outputId": "570aac91-52d5-42e8-d0a5-5c86d82e8cea",
        "colab": {
          "base_uri": "https://localhost:8080/",
          "height": 525
        }
      },
      "id": "eur4ECRfvecC",
      "execution_count": 12,
      "outputs": [
        {
          "output_type": "stream",
          "name": "stdout",
          "text": [
            "[[27800     0]\n",
            " [    0 49502]]\n",
            "1.0\n",
            "Gradient Boost model accuracy score: 1.0000\n",
            "[ 0.00000000e+00  0.00000000e+00  0.00000000e+00  0.00000000e+00\n",
            "  0.00000000e+00  0.00000000e+00  1.90156064e-15  0.00000000e+00\n",
            "  5.02685418e-14  0.00000000e+00  0.00000000e+00 -4.40126476e-13\n",
            "  0.00000000e+00  0.00000000e+00  0.00000000e+00  1.75676565e-15\n",
            "  5.08673584e-14  0.00000000e+00  0.00000000e+00  0.00000000e+00\n",
            "  0.00000000e+00  0.00000000e+00  0.00000000e+00  0.00000000e+00\n",
            "  0.00000000e+00  0.00000000e+00  0.00000000e+00  0.00000000e+00\n",
            "  0.00000000e+00  0.00000000e+00 -1.97971712e-17  0.00000000e+00\n",
            "  0.00000000e+00  0.00000000e+00 -8.93249024e-20  2.15597577e-13\n",
            "  0.00000000e+00  0.00000000e+00  0.00000000e+00  0.00000000e+00\n",
            "  0.00000000e+00  0.00000000e+00  1.00000000e+00]\n"
          ]
        },
        {
          "output_type": "display_data",
          "data": {
            "image/png": "[encoded data removed]",
            "text/plain": [
              "<Figure size 432x288 with 1 Axes>"
            ]
          },
          "metadata": {
            "needs_background": "light"
          }
        }
      ]
    },
    {
      "cell_type": "code",
      "source": [
        ""
      ],
      "metadata": {
        "id": "YxrM0nJv5Ykf"
      },
      "id": "YxrM0nJv5Ykf",
      "execution_count": null,
      "outputs": []
    },
    {
      "cell_type": "code",
      "source": [
        "# Tried with differnt parameters the model was still over fitting."
      ],
      "metadata": {
        "id": "X2pLYiHDx-xR"
      },
      "id": "X2pLYiHDx-xR",
      "execution_count": null,
      "outputs": []
    },
    {
      "cell_type": "markdown",
      "source": [
        "# Gradient Boost with pca"
      ],
      "metadata": {
        "id": "ppUZTo4HyAmR"
      },
      "id": "ppUZTo4HyAmR"
    },
    {
      "cell_type": "code",
      "source": [
        "X=dataset_pca.drop(columns=['label'])\n",
        "y=dataset_pca['label']\n",
        "X_train, X_test, y_train, y_test = train_test_split(X, y, test_size=0.3,random_state=100)\n",
        "model = GradientBoostingClassifier(learning_rate=0.5, max_depth=3)\n",
        "model.fit(X_train, y_train)\n",
        "predicted_y = model.predict(X_test)\n",
        "print(metrics.classification_report(y_test, predicted_y))\n",
        "print(metrics.confusion_matrix(y_test, predicted_y))\n",
        "\n",
        "print('Gradient Boost model accuracy score: {0:0.4f}'. format(accuracy_score(y_test, predicted_y)))"
      ],
      "metadata": {
        "id": "nL5nu43PyKrX",
        "outputId": "0354c318-6dec-4bef-fbed-c0d4aac6fefb",
        "colab": {
          "base_uri": "https://localhost:8080/"
        }
      },
      "id": "nL5nu43PyKrX",
      "execution_count": 13,
      "outputs": [
        {
          "output_type": "stream",
          "name": "stdout",
          "text": [
            "              precision    recall  f1-score   support\n",
            "\n",
            "           0       0.90      0.85      0.88     27858\n",
            "           1       0.92      0.95      0.93     49444\n",
            "\n",
            "    accuracy                           0.91     77302\n",
            "   macro avg       0.91      0.90      0.91     77302\n",
            "weighted avg       0.91      0.91      0.91     77302\n",
            "\n",
            "[[23802  4056]\n",
            " [ 2517 46927]]\n",
            "Gradient Boost model accuracy score: 0.9150\n"
          ]
        }
      ]
    },
    {
      "cell_type": "markdown",
      "source": [
        "# Gradient Boost with Minmax"
      ],
      "metadata": {
        "id": "jB4crXUK1Bfx"
      },
      "id": "jB4crXUK1Bfx"
    },
    {
      "cell_type": "code",
      "source": [
        "X=dataset_minmax.drop(columns=['label'])\n",
        "y=dataset_minmax['label']\n",
        "X_train, X_test, y_train, y_test = train_test_split(X, y, test_size=0.3,random_state=100)\n",
        "model = GradientBoostingClassifier(learning_rate=0.5, max_depth=3)\n",
        "model.fit(X_train, y_train)\n",
        "predicted_y = model.predict(X_test)\n",
        "print(metrics.classification_report(y_test, predicted_y))\n",
        "print(metrics.confusion_matrix(y_test, predicted_y))\n",
        "\n",
        "print('Gradient Boost model accuracy score: {0:0.4f}'. format(accuracy_score(y_test, predicted_y)))"
      ],
      "metadata": {
        "colab": {
          "base_uri": "https://localhost:8080/"
        },
        "id": "P1xvawKF6KYQ",
        "outputId": "2b03847b-a490-4bf3-e0f6-1fd6747d8df7"
      },
      "id": "P1xvawKF6KYQ",
      "execution_count": 14,
      "outputs": [
        {
          "output_type": "stream",
          "name": "stdout",
          "text": [
            "              precision    recall  f1-score   support\n",
            "\n",
            "           0       0.91      0.92      0.92     27858\n",
            "           1       0.96      0.95      0.95     49444\n",
            "\n",
            "    accuracy                           0.94     77302\n",
            "   macro avg       0.93      0.94      0.94     77302\n",
            "weighted avg       0.94      0.94      0.94     77302\n",
            "\n",
            "[[25716  2142]\n",
            " [ 2442 47002]]\n",
            "Gradient Boost model accuracy score: 0.9407\n"
          ]
        }
      ]
    },
    {
      "cell_type": "markdown",
      "source": [
        "# Gradient Boost with minmax and corr"
      ],
      "metadata": {
        "id": "Lhd9KafL8lA_"
      },
      "id": "Lhd9KafL8lA_"
    },
    {
      "cell_type": "code",
      "source": [
        "X=dataset_minmax_corr.drop(columns=['label'])\n",
        "y=dataset_minmax_corr['label']\n",
        "X_train, X_test, y_train, y_test = train_test_split(X, y, test_size=0.3,random_state=100)\n",
        "model = GradientBoostingClassifier(learning_rate=0.5, max_depth=3)\n",
        "model.fit(X_train, y_train)\n",
        "predicted_y = model.predict(X_test)\n",
        "print(metrics.classification_report(y_test, predicted_y))\n",
        "print(metrics.confusion_matrix(y_test, predicted_y))\n",
        "\n",
        "print('Gradient Boost model accuracy score: {0:0.4f}'. format(accuracy_score(y_test, predicted_y)))"
      ],
      "metadata": {
        "colab": {
          "base_uri": "https://localhost:8080/"
        },
        "id": "3dzu4-AP8y15",
        "outputId": "b9a96c57-a1c3-4c40-b86e-31404041b646"
      },
      "id": "3dzu4-AP8y15",
      "execution_count": 15,
      "outputs": [
        {
          "output_type": "stream",
          "name": "stdout",
          "text": [
            "              precision    recall  f1-score   support\n",
            "\n",
            "           0       0.91      0.91      0.91     27858\n",
            "           1       0.95      0.95      0.95     49444\n",
            "\n",
            "    accuracy                           0.93     77302\n",
            "   macro avg       0.93      0.93      0.93     77302\n",
            "weighted avg       0.93      0.93      0.93     77302\n",
            "\n",
            "[[25284  2574]\n",
            " [ 2587 46857]]\n",
            "Gradient Boost model accuracy score: 0.9332\n"
          ]
        }
      ]
    }
  ],
  "metadata": {
    "kernelspec": {
      "display_name": "Python 3",
      "language": "python",
      "name": "python3"
    },
    "language_info": {
      "codemirror_mode": {
        "name": "ipython",
        "version": 3
      },
      "file_extension": ".py",
      "mimetype": "text/x-python",
      "name": "python",
      "nbconvert_exporter": "python",
      "pygments_lexer": "ipython3",
      "version": "3.8.8"
    },
    "colab": {
      "name": "Copy of GradientBoosterClassifer.ipynb",
      "provenance": [],
      "collapsed_sections": []
    }
  },
  "nbformat": 4,
  "nbformat_minor": 5
}
