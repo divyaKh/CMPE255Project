{
  "cells": [
    {
      "cell_type": "markdown",
      "id": "57378438",
      "metadata": {
        "id": "57378438"
      },
      "source": [
        "# Gradient Boosting Classifier\n",
        "Gradient boosting classifiers are a group of machine learning algorithms that combine many weak learning models together to create a strong predictive model.\n",
        "\n",
        "Why do we need?\n",
        "Gradient boosting models are becoming popular because of their effectiveness at classifying complex datasets, and have recently been used to win many Kaggle data science competitions."
      ]
    },
    {
      "cell_type": "markdown",
      "source": [
        "This is a baseline notebook and it uploads the dataset with one hot encoding and shows overfitting of the model."
      ],
      "metadata": {
        "id": "aXSxDnNG9Gjk"
      },
      "id": "aXSxDnNG9Gjk"
    },
    {
      "cell_type": "code",
      "execution_count": 50,
      "id": "6515b2be",
      "metadata": {
        "id": "6515b2be"
      },
      "outputs": [],
      "source": [
        "import pandas as pd\n",
        "import matplotlib.pyplot as plt\n",
        "import numpy as np\n",
        "import seaborn as sns\n",
        "from sklearn.model_selection import train_test_split\n",
        "from sklearn.ensemble import GradientBoostingClassifier\n",
        "from sklearn.metrics import accuracy_score\n",
        "from sklearn.metrics import classification_report, confusion_matrix\n",
        "from pprint import pprint\n",
        "from sklearn.feature_selection import SelectKBest\n",
        "from sklearn.feature_selection import chi2, f_regression\n",
        "from sklearn.datasets import load_boston\n",
        "from sklearn.datasets import load_iris\n",
        "from numpy import array \n",
        "from sklearn.preprocessing import StandardScaler,MinMaxScaler\n",
        "from sklearn.pipeline import make_pipeline\n",
        "from sklearn import svm\n",
        "from sklearn.decomposition import PCA\n",
        "from sklearn.tree import DecisionTreeRegressor \n",
        "from sklearn.pipeline import make_pipeline\n",
        "from sklearn.datasets import make_friedman1\n",
        "from sklearn.feature_selection import RFE\n",
        "import matplotlib.pyplot as plt\n",
        "from sklearn.model_selection import StratifiedKFold\n",
        "from sklearn.feature_selection import RFECV\n",
        "from sklearn.datasets import make_classification\n",
        "from sklearn import metrics\n",
        "# check accuracy score\n",
        "from sklearn.metrics import accuracy_score\n",
        "from sklearn.metrics import confusion_matrix\n",
        "from sklearn.model_selection import GridSearchCV\n",
        "from sklearn.metrics import f1_score\n",
        "df = pd.DataFrame()"
      ]
    },
    {
      "cell_type": "code",
      "source": [
        "from google.colab import drive\n",
        "drive.mount('/content/drive')"
      ],
      "metadata": {
        "colab": {
          "base_uri": "https://localhost:8080/"
        },
        "id": "uGQcSodg6i5W",
        "outputId": "291878a9-4070-4909-db5a-3d1d04bda4d8"
      },
      "id": "uGQcSodg6i5W",
      "execution_count": 51,
      "outputs": [
        {
          "output_type": "stream",
          "name": "stdout",
          "text": [
            "Drive already mounted at /content/drive; to attempt to forcibly remount, call drive.mount(\"/content/drive\", force_remount=True).\n"
          ]
        }
      ]
    },
    {
      "cell_type": "code",
      "execution_count": 52,
      "id": "007485fc",
      "metadata": {
        "id": "007485fc",
        "outputId": "d7bdd0e1-22cf-4518-dc55-1c524bdb3b6d",
        "colab": {
          "base_uri": "https://localhost:8080/",
          "height": 461
        }
      },
      "outputs": [
        {
          "output_type": "stream",
          "name": "stdout",
          "text": [
            "/content/drive/MyDrive\n"
          ]
        },
        {
          "output_type": "execute_result",
          "data": {
            "text/html": [
              "<div>\n",
              "<style scoped>\n",
              "    .dataframe tbody tr th:only-of-type {\n",
              "        vertical-align: middle;\n",
              "    }\n",
              "\n",
              "    .dataframe tbody tr th {\n",
              "        vertical-align: top;\n",
              "    }\n",
              "\n",
              "    .dataframe thead th {\n",
              "        text-align: right;\n",
              "    }\n",
              "</style>\n",
              "<table border=\"1\" class=\"dataframe\">\n",
              "  <thead>\n",
              "    <tr style=\"text-align: right;\">\n",
              "      <th></th>\n",
              "      <th>dur</th>\n",
              "      <th>proto</th>\n",
              "      <th>service</th>\n",
              "      <th>state</th>\n",
              "      <th>spkts</th>\n",
              "      <th>dpkts</th>\n",
              "      <th>sbytes</th>\n",
              "      <th>dbytes</th>\n",
              "      <th>rate</th>\n",
              "      <th>sttl</th>\n",
              "      <th>dttl</th>\n",
              "      <th>sload</th>\n",
              "      <th>dload</th>\n",
              "      <th>sloss</th>\n",
              "      <th>dloss</th>\n",
              "      <th>sinpkt</th>\n",
              "      <th>dinpkt</th>\n",
              "      <th>sjit</th>\n",
              "      <th>djit</th>\n",
              "      <th>swin</th>\n",
              "      <th>stcpb</th>\n",
              "      <th>dtcpb</th>\n",
              "      <th>dwin</th>\n",
              "      <th>tcprtt</th>\n",
              "      <th>synack</th>\n",
              "      <th>ackdat</th>\n",
              "      <th>smean</th>\n",
              "      <th>dmean</th>\n",
              "      <th>trans_depth</th>\n",
              "      <th>response_body_len</th>\n",
              "      <th>ct_srv_src</th>\n",
              "      <th>ct_state_ttl</th>\n",
              "      <th>ct_dst_ltm</th>\n",
              "      <th>ct_src_dport_ltm</th>\n",
              "      <th>ct_dst_sport_ltm</th>\n",
              "      <th>ct_dst_src_ltm</th>\n",
              "      <th>is_ftp_login</th>\n",
              "      <th>ct_ftp_cmd</th>\n",
              "      <th>ct_flw_http_mthd</th>\n",
              "      <th>ct_src_ltm</th>\n",
              "      <th>ct_srv_dst</th>\n",
              "      <th>is_sm_ips_ports</th>\n",
              "      <th>label</th>\n",
              "    </tr>\n",
              "  </thead>\n",
              "  <tbody>\n",
              "    <tr>\n",
              "      <th>0</th>\n",
              "      <td>0.000011</td>\n",
              "      <td>119</td>\n",
              "      <td>0</td>\n",
              "      <td>5</td>\n",
              "      <td>2</td>\n",
              "      <td>0</td>\n",
              "      <td>496</td>\n",
              "      <td>0</td>\n",
              "      <td>90909.090200</td>\n",
              "      <td>254</td>\n",
              "      <td>0</td>\n",
              "      <td>1.803636e+08</td>\n",
              "      <td>0.000000</td>\n",
              "      <td>0</td>\n",
              "      <td>0</td>\n",
              "      <td>0.011000</td>\n",
              "      <td>0.00000</td>\n",
              "      <td>0.000000</td>\n",
              "      <td>0.000000</td>\n",
              "      <td>0</td>\n",
              "      <td>0</td>\n",
              "      <td>0</td>\n",
              "      <td>0</td>\n",
              "      <td>0.00000</td>\n",
              "      <td>0.000000</td>\n",
              "      <td>0.000000</td>\n",
              "      <td>248</td>\n",
              "      <td>0</td>\n",
              "      <td>0</td>\n",
              "      <td>0</td>\n",
              "      <td>2</td>\n",
              "      <td>2</td>\n",
              "      <td>1</td>\n",
              "      <td>1</td>\n",
              "      <td>1</td>\n",
              "      <td>2</td>\n",
              "      <td>0</td>\n",
              "      <td>0</td>\n",
              "      <td>0</td>\n",
              "      <td>1</td>\n",
              "      <td>2</td>\n",
              "      <td>0</td>\n",
              "      <td>0</td>\n",
              "    </tr>\n",
              "    <tr>\n",
              "      <th>1</th>\n",
              "      <td>0.000008</td>\n",
              "      <td>119</td>\n",
              "      <td>0</td>\n",
              "      <td>5</td>\n",
              "      <td>2</td>\n",
              "      <td>0</td>\n",
              "      <td>1762</td>\n",
              "      <td>0</td>\n",
              "      <td>125000.000300</td>\n",
              "      <td>254</td>\n",
              "      <td>0</td>\n",
              "      <td>8.810000e+08</td>\n",
              "      <td>0.000000</td>\n",
              "      <td>0</td>\n",
              "      <td>0</td>\n",
              "      <td>0.008000</td>\n",
              "      <td>0.00000</td>\n",
              "      <td>0.000000</td>\n",
              "      <td>0.000000</td>\n",
              "      <td>0</td>\n",
              "      <td>0</td>\n",
              "      <td>0</td>\n",
              "      <td>0</td>\n",
              "      <td>0.00000</td>\n",
              "      <td>0.000000</td>\n",
              "      <td>0.000000</td>\n",
              "      <td>881</td>\n",
              "      <td>0</td>\n",
              "      <td>0</td>\n",
              "      <td>0</td>\n",
              "      <td>2</td>\n",
              "      <td>2</td>\n",
              "      <td>1</td>\n",
              "      <td>1</td>\n",
              "      <td>1</td>\n",
              "      <td>2</td>\n",
              "      <td>0</td>\n",
              "      <td>0</td>\n",
              "      <td>0</td>\n",
              "      <td>1</td>\n",
              "      <td>2</td>\n",
              "      <td>0</td>\n",
              "      <td>0</td>\n",
              "    </tr>\n",
              "    <tr>\n",
              "      <th>2</th>\n",
              "      <td>0.000005</td>\n",
              "      <td>119</td>\n",
              "      <td>0</td>\n",
              "      <td>5</td>\n",
              "      <td>2</td>\n",
              "      <td>0</td>\n",
              "      <td>1068</td>\n",
              "      <td>0</td>\n",
              "      <td>200000.005100</td>\n",
              "      <td>254</td>\n",
              "      <td>0</td>\n",
              "      <td>8.544000e+08</td>\n",
              "      <td>0.000000</td>\n",
              "      <td>0</td>\n",
              "      <td>0</td>\n",
              "      <td>0.005000</td>\n",
              "      <td>0.00000</td>\n",
              "      <td>0.000000</td>\n",
              "      <td>0.000000</td>\n",
              "      <td>0</td>\n",
              "      <td>0</td>\n",
              "      <td>0</td>\n",
              "      <td>0</td>\n",
              "      <td>0.00000</td>\n",
              "      <td>0.000000</td>\n",
              "      <td>0.000000</td>\n",
              "      <td>534</td>\n",
              "      <td>0</td>\n",
              "      <td>0</td>\n",
              "      <td>0</td>\n",
              "      <td>3</td>\n",
              "      <td>2</td>\n",
              "      <td>1</td>\n",
              "      <td>1</td>\n",
              "      <td>1</td>\n",
              "      <td>3</td>\n",
              "      <td>0</td>\n",
              "      <td>0</td>\n",
              "      <td>0</td>\n",
              "      <td>1</td>\n",
              "      <td>3</td>\n",
              "      <td>0</td>\n",
              "      <td>0</td>\n",
              "    </tr>\n",
              "    <tr>\n",
              "      <th>3</th>\n",
              "      <td>0.000006</td>\n",
              "      <td>119</td>\n",
              "      <td>0</td>\n",
              "      <td>5</td>\n",
              "      <td>2</td>\n",
              "      <td>0</td>\n",
              "      <td>900</td>\n",
              "      <td>0</td>\n",
              "      <td>166666.660800</td>\n",
              "      <td>254</td>\n",
              "      <td>0</td>\n",
              "      <td>6.000000e+08</td>\n",
              "      <td>0.000000</td>\n",
              "      <td>0</td>\n",
              "      <td>0</td>\n",
              "      <td>0.006000</td>\n",
              "      <td>0.00000</td>\n",
              "      <td>0.000000</td>\n",
              "      <td>0.000000</td>\n",
              "      <td>0</td>\n",
              "      <td>0</td>\n",
              "      <td>0</td>\n",
              "      <td>0</td>\n",
              "      <td>0.00000</td>\n",
              "      <td>0.000000</td>\n",
              "      <td>0.000000</td>\n",
              "      <td>450</td>\n",
              "      <td>0</td>\n",
              "      <td>0</td>\n",
              "      <td>0</td>\n",
              "      <td>3</td>\n",
              "      <td>2</td>\n",
              "      <td>2</td>\n",
              "      <td>2</td>\n",
              "      <td>1</td>\n",
              "      <td>3</td>\n",
              "      <td>0</td>\n",
              "      <td>0</td>\n",
              "      <td>0</td>\n",
              "      <td>2</td>\n",
              "      <td>3</td>\n",
              "      <td>0</td>\n",
              "      <td>0</td>\n",
              "    </tr>\n",
              "    <tr>\n",
              "      <th>4</th>\n",
              "      <td>0.000010</td>\n",
              "      <td>119</td>\n",
              "      <td>0</td>\n",
              "      <td>5</td>\n",
              "      <td>2</td>\n",
              "      <td>0</td>\n",
              "      <td>2126</td>\n",
              "      <td>0</td>\n",
              "      <td>100000.002500</td>\n",
              "      <td>254</td>\n",
              "      <td>0</td>\n",
              "      <td>8.504000e+08</td>\n",
              "      <td>0.000000</td>\n",
              "      <td>0</td>\n",
              "      <td>0</td>\n",
              "      <td>0.010000</td>\n",
              "      <td>0.00000</td>\n",
              "      <td>0.000000</td>\n",
              "      <td>0.000000</td>\n",
              "      <td>0</td>\n",
              "      <td>0</td>\n",
              "      <td>0</td>\n",
              "      <td>0</td>\n",
              "      <td>0.00000</td>\n",
              "      <td>0.000000</td>\n",
              "      <td>0.000000</td>\n",
              "      <td>1063</td>\n",
              "      <td>0</td>\n",
              "      <td>0</td>\n",
              "      <td>0</td>\n",
              "      <td>3</td>\n",
              "      <td>2</td>\n",
              "      <td>2</td>\n",
              "      <td>2</td>\n",
              "      <td>1</td>\n",
              "      <td>3</td>\n",
              "      <td>0</td>\n",
              "      <td>0</td>\n",
              "      <td>0</td>\n",
              "      <td>2</td>\n",
              "      <td>3</td>\n",
              "      <td>0</td>\n",
              "      <td>0</td>\n",
              "    </tr>\n",
              "    <tr>\n",
              "      <th>...</th>\n",
              "      <td>...</td>\n",
              "      <td>...</td>\n",
              "      <td>...</td>\n",
              "      <td>...</td>\n",
              "      <td>...</td>\n",
              "      <td>...</td>\n",
              "      <td>...</td>\n",
              "      <td>...</td>\n",
              "      <td>...</td>\n",
              "      <td>...</td>\n",
              "      <td>...</td>\n",
              "      <td>...</td>\n",
              "      <td>...</td>\n",
              "      <td>...</td>\n",
              "      <td>...</td>\n",
              "      <td>...</td>\n",
              "      <td>...</td>\n",
              "      <td>...</td>\n",
              "      <td>...</td>\n",
              "      <td>...</td>\n",
              "      <td>...</td>\n",
              "      <td>...</td>\n",
              "      <td>...</td>\n",
              "      <td>...</td>\n",
              "      <td>...</td>\n",
              "      <td>...</td>\n",
              "      <td>...</td>\n",
              "      <td>...</td>\n",
              "      <td>...</td>\n",
              "      <td>...</td>\n",
              "      <td>...</td>\n",
              "      <td>...</td>\n",
              "      <td>...</td>\n",
              "      <td>...</td>\n",
              "      <td>...</td>\n",
              "      <td>...</td>\n",
              "      <td>...</td>\n",
              "      <td>...</td>\n",
              "      <td>...</td>\n",
              "      <td>...</td>\n",
              "      <td>...</td>\n",
              "      <td>...</td>\n",
              "      <td>...</td>\n",
              "    </tr>\n",
              "    <tr>\n",
              "      <th>257668</th>\n",
              "      <td>0.000009</td>\n",
              "      <td>119</td>\n",
              "      <td>2</td>\n",
              "      <td>5</td>\n",
              "      <td>2</td>\n",
              "      <td>0</td>\n",
              "      <td>114</td>\n",
              "      <td>0</td>\n",
              "      <td>111111.107200</td>\n",
              "      <td>254</td>\n",
              "      <td>0</td>\n",
              "      <td>5.066666e+07</td>\n",
              "      <td>0.000000</td>\n",
              "      <td>0</td>\n",
              "      <td>0</td>\n",
              "      <td>0.009000</td>\n",
              "      <td>0.00000</td>\n",
              "      <td>0.000000</td>\n",
              "      <td>0.000000</td>\n",
              "      <td>0</td>\n",
              "      <td>0</td>\n",
              "      <td>0</td>\n",
              "      <td>0</td>\n",
              "      <td>0.00000</td>\n",
              "      <td>0.000000</td>\n",
              "      <td>0.000000</td>\n",
              "      <td>57</td>\n",
              "      <td>0</td>\n",
              "      <td>0</td>\n",
              "      <td>0</td>\n",
              "      <td>24</td>\n",
              "      <td>2</td>\n",
              "      <td>24</td>\n",
              "      <td>24</td>\n",
              "      <td>13</td>\n",
              "      <td>24</td>\n",
              "      <td>0</td>\n",
              "      <td>0</td>\n",
              "      <td>0</td>\n",
              "      <td>24</td>\n",
              "      <td>24</td>\n",
              "      <td>0</td>\n",
              "      <td>1</td>\n",
              "    </tr>\n",
              "    <tr>\n",
              "      <th>257669</th>\n",
              "      <td>0.505762</td>\n",
              "      <td>113</td>\n",
              "      <td>0</td>\n",
              "      <td>4</td>\n",
              "      <td>10</td>\n",
              "      <td>8</td>\n",
              "      <td>620</td>\n",
              "      <td>354</td>\n",
              "      <td>33.612649</td>\n",
              "      <td>254</td>\n",
              "      <td>252</td>\n",
              "      <td>8.826286e+03</td>\n",
              "      <td>4903.492188</td>\n",
              "      <td>2</td>\n",
              "      <td>1</td>\n",
              "      <td>54.400111</td>\n",
              "      <td>66.98057</td>\n",
              "      <td>3721.068786</td>\n",
              "      <td>120.177727</td>\n",
              "      <td>255</td>\n",
              "      <td>3518776216</td>\n",
              "      <td>3453092386</td>\n",
              "      <td>255</td>\n",
              "      <td>0.09944</td>\n",
              "      <td>0.036895</td>\n",
              "      <td>0.062545</td>\n",
              "      <td>62</td>\n",
              "      <td>44</td>\n",
              "      <td>0</td>\n",
              "      <td>0</td>\n",
              "      <td>1</td>\n",
              "      <td>1</td>\n",
              "      <td>1</td>\n",
              "      <td>1</td>\n",
              "      <td>1</td>\n",
              "      <td>2</td>\n",
              "      <td>0</td>\n",
              "      <td>0</td>\n",
              "      <td>0</td>\n",
              "      <td>1</td>\n",
              "      <td>1</td>\n",
              "      <td>0</td>\n",
              "      <td>1</td>\n",
              "    </tr>\n",
              "    <tr>\n",
              "      <th>257670</th>\n",
              "      <td>0.000009</td>\n",
              "      <td>119</td>\n",
              "      <td>2</td>\n",
              "      <td>5</td>\n",
              "      <td>2</td>\n",
              "      <td>0</td>\n",
              "      <td>114</td>\n",
              "      <td>0</td>\n",
              "      <td>111111.107200</td>\n",
              "      <td>254</td>\n",
              "      <td>0</td>\n",
              "      <td>5.066666e+07</td>\n",
              "      <td>0.000000</td>\n",
              "      <td>0</td>\n",
              "      <td>0</td>\n",
              "      <td>0.009000</td>\n",
              "      <td>0.00000</td>\n",
              "      <td>0.000000</td>\n",
              "      <td>0.000000</td>\n",
              "      <td>0</td>\n",
              "      <td>0</td>\n",
              "      <td>0</td>\n",
              "      <td>0</td>\n",
              "      <td>0.00000</td>\n",
              "      <td>0.000000</td>\n",
              "      <td>0.000000</td>\n",
              "      <td>57</td>\n",
              "      <td>0</td>\n",
              "      <td>0</td>\n",
              "      <td>0</td>\n",
              "      <td>12</td>\n",
              "      <td>2</td>\n",
              "      <td>3</td>\n",
              "      <td>3</td>\n",
              "      <td>3</td>\n",
              "      <td>13</td>\n",
              "      <td>0</td>\n",
              "      <td>0</td>\n",
              "      <td>0</td>\n",
              "      <td>3</td>\n",
              "      <td>12</td>\n",
              "      <td>0</td>\n",
              "      <td>1</td>\n",
              "    </tr>\n",
              "    <tr>\n",
              "      <th>257671</th>\n",
              "      <td>0.000009</td>\n",
              "      <td>119</td>\n",
              "      <td>2</td>\n",
              "      <td>5</td>\n",
              "      <td>2</td>\n",
              "      <td>0</td>\n",
              "      <td>114</td>\n",
              "      <td>0</td>\n",
              "      <td>111111.107200</td>\n",
              "      <td>254</td>\n",
              "      <td>0</td>\n",
              "      <td>5.066666e+07</td>\n",
              "      <td>0.000000</td>\n",
              "      <td>0</td>\n",
              "      <td>0</td>\n",
              "      <td>0.009000</td>\n",
              "      <td>0.00000</td>\n",
              "      <td>0.000000</td>\n",
              "      <td>0.000000</td>\n",
              "      <td>0</td>\n",
              "      <td>0</td>\n",
              "      <td>0</td>\n",
              "      <td>0</td>\n",
              "      <td>0.00000</td>\n",
              "      <td>0.000000</td>\n",
              "      <td>0.000000</td>\n",
              "      <td>57</td>\n",
              "      <td>0</td>\n",
              "      <td>0</td>\n",
              "      <td>0</td>\n",
              "      <td>30</td>\n",
              "      <td>2</td>\n",
              "      <td>30</td>\n",
              "      <td>30</td>\n",
              "      <td>14</td>\n",
              "      <td>30</td>\n",
              "      <td>0</td>\n",
              "      <td>0</td>\n",
              "      <td>0</td>\n",
              "      <td>30</td>\n",
              "      <td>30</td>\n",
              "      <td>0</td>\n",
              "      <td>1</td>\n",
              "    </tr>\n",
              "    <tr>\n",
              "      <th>257672</th>\n",
              "      <td>0.000009</td>\n",
              "      <td>119</td>\n",
              "      <td>2</td>\n",
              "      <td>5</td>\n",
              "      <td>2</td>\n",
              "      <td>0</td>\n",
              "      <td>114</td>\n",
              "      <td>0</td>\n",
              "      <td>111111.107200</td>\n",
              "      <td>254</td>\n",
              "      <td>0</td>\n",
              "      <td>5.066666e+07</td>\n",
              "      <td>0.000000</td>\n",
              "      <td>0</td>\n",
              "      <td>0</td>\n",
              "      <td>0.009000</td>\n",
              "      <td>0.00000</td>\n",
              "      <td>0.000000</td>\n",
              "      <td>0.000000</td>\n",
              "      <td>0</td>\n",
              "      <td>0</td>\n",
              "      <td>0</td>\n",
              "      <td>0</td>\n",
              "      <td>0.00000</td>\n",
              "      <td>0.000000</td>\n",
              "      <td>0.000000</td>\n",
              "      <td>57</td>\n",
              "      <td>0</td>\n",
              "      <td>0</td>\n",
              "      <td>0</td>\n",
              "      <td>30</td>\n",
              "      <td>2</td>\n",
              "      <td>30</td>\n",
              "      <td>30</td>\n",
              "      <td>16</td>\n",
              "      <td>30</td>\n",
              "      <td>0</td>\n",
              "      <td>0</td>\n",
              "      <td>0</td>\n",
              "      <td>30</td>\n",
              "      <td>30</td>\n",
              "      <td>0</td>\n",
              "      <td>1</td>\n",
              "    </tr>\n",
              "  </tbody>\n",
              "</table>\n",
              "<p>257673 rows × 43 columns</p>\n",
              "</div>"
            ],
            "text/plain": [
              "             dur  proto  service  ...  ct_srv_dst  is_sm_ips_ports  label\n",
              "0       0.000011    119        0  ...           2                0      0\n",
              "1       0.000008    119        0  ...           2                0      0\n",
              "2       0.000005    119        0  ...           3                0      0\n",
              "3       0.000006    119        0  ...           3                0      0\n",
              "4       0.000010    119        0  ...           3                0      0\n",
              "...          ...    ...      ...  ...         ...              ...    ...\n",
              "257668  0.000009    119        2  ...          24                0      1\n",
              "257669  0.505762    113        0  ...           1                0      1\n",
              "257670  0.000009    119        2  ...          12                0      1\n",
              "257671  0.000009    119        2  ...          30                0      1\n",
              "257672  0.000009    119        2  ...          30                0      1\n",
              "\n",
              "[257673 rows x 43 columns]"
            ]
          },
          "metadata": {},
          "execution_count": 52
        }
      ],
      "source": [
        "%cd /content/drive/MyDrive/\n",
        "dataset = pd.read_csv('cleaned_dataset_label_encoding.csv')\n",
        "dataset[\"attack_cat\"]\n",
        "dataset.drop(\"attack_cat\",axis=1)\n"
      ]
    },
    {
      "cell_type": "code",
      "source": [
        "acc1 = []\n",
        "f1 = []\n",
        "acc = []"
      ],
      "metadata": {
        "id": "j3F6AqygOnIR"
      },
      "id": "j3F6AqygOnIR",
      "execution_count": 53,
      "outputs": []
    },
    {
      "cell_type": "code",
      "source": [
        "def get_data(filename):\n",
        "    return pd.read_csv(filename)"
      ],
      "metadata": {
        "id": "n9nzid2SnbDP"
      },
      "id": "n9nzid2SnbDP",
      "execution_count": 54,
      "outputs": []
    },
    {
      "cell_type": "code",
      "source": [
        "def prep_training(dataframe):\n",
        "    return train_test_split(dataframe, train_size=0.8, test_size=0.2, random_state=42)"
      ],
      "metadata": {
        "id": "z-bO1V4gwqDQ"
      },
      "id": "z-bO1V4gwqDQ",
      "execution_count": 55,
      "outputs": []
    },
    {
      "cell_type": "code",
      "source": [
        "def training_set(dataframe):\n",
        "  return train_test_split(dataframe, train_size=0.8, test_size=0.2, random_state=42)"
      ],
      "metadata": {
        "id": "CBoFY3MJng23"
      },
      "id": "CBoFY3MJng23",
      "execution_count": 56,
      "outputs": []
    },
    {
      "cell_type": "code",
      "source": [
        "def creatingParamterGrid():\n",
        "    n_estimators = [20,81,10]\n",
        "    # learning_rate= [0.15,0.1,0.05,0.01,0.005,0.001],\n",
        "    # min_samples_split = [2,4,6]\n",
        "    \n",
        "    # Create the parameter grid\n",
        "    parameter_grid = {'n_estimators': n_estimators}\n",
        "              #  'learning_rate': learning_rate}\n",
        "    return parameter_grid"
      ],
      "metadata": {
        "id": "MyER4R3Mqjl_"
      },
      "id": "MyER4R3Mqjl_",
      "execution_count": 57,
      "outputs": []
    },
    {
      "cell_type": "code",
      "source": [
        "def prepToFindOptimalHyperParams(clf,parameter_grid):\n",
        "    grid_search = GridSearchCV(estimator=clf, cv=5, param_grid = parameter_grid)\n",
        "    return grid_search"
      ],
      "metadata": {
        "id": "3kymNWt1uBcI"
      },
      "id": "3kymNWt1uBcI",
      "execution_count": 58,
      "outputs": []
    },
    {
      "cell_type": "code",
      "source": [
        "def train(cross_val_df,grid_search):\n",
        "    grid_search.fit(cross_val_df.drop(\"label\",axis=1), cross_val_df[\"label\"])\n",
        "    Xpred = grid_search.predict(cross_val_df.drop(\"label\",axis=1))\n",
        "    print(\"accuracy on train is\",accuracy_score(cross_val_df[\"label\"],Xpred))"
      ],
      "metadata": {
        "id": "93_mKfIKuGa1"
      },
      "id": "93_mKfIKuGa1",
      "execution_count": 59,
      "outputs": []
    },
    {
      "cell_type": "code",
      "source": [
        "def testGradientBoost(test_df,grid_search,type):\n",
        "    Ytest = test_df[\"label\"]\n",
        "    Ypred = grid_search.predict(test_df.drop(\"label\",axis=1))\n",
        "    acc=accuracy_score(Ytest,Ypred)\n",
        "    acc1.append(accuracy_score(Ytest,Ypred))\n",
        "    f1.append(f1_score(Ytest,Ypred))\n",
        "    print('Accuracy of Gradient Boost: {:.4f}'.format(acc))  \n",
        "    print(classification_report(Ytest,Ypred))\n",
        "    plt.savefig('confusion_matrix'+type+'.jpg')\n",
        "    cm = confusion_matrix(Ytest, Ypred)\n",
        "    ax= plt.subplot()\n",
        "    sns.heatmap(cm, annot=True, fmt='g', ax=ax) \n",
        "    print(cm)\n",
        "    return acc1\n",
        "\n",
        "    "
      ],
      "metadata": {
        "id": "oaUuLOpQuNeR"
      },
      "id": "oaUuLOpQuNeR",
      "execution_count": 60,
      "outputs": []
    },
    {
      "cell_type": "code",
      "source": [
        "def main(dataframe,type): \n",
        "    clf = GradientBoostingClassifier(learning_rate=0.5, max_depth=3)\n",
        "    cross_val_df, test_df = prep_training(dataframe)\n",
        "    parameter_grid = creatingParamterGrid()\n",
        "    pprint(parameter_grid)\n",
        "    grid_search = prepToFindOptimalHyperParams(clf,parameter_grid)\n",
        "    train(cross_val_df,grid_search)\n",
        "    testGradientBoost(test_df,grid_search,type)\n",
        "    print(grid_search.best_params_)\n",
        "    print(grid_search.best_score_)\n",
        "    return grid_search"
      ],
      "metadata": {
        "id": "hrh9rvQxvVMh"
      },
      "id": "hrh9rvQxvVMh",
      "execution_count": 61,
      "outputs": []
    },
    {
      "cell_type": "code",
      "source": [
        "dataframe = get_data('cleaned_dataset_label_encoding.csv')"
      ],
      "metadata": {
        "id": "0fB3xcM4v6f5"
      },
      "id": "0fB3xcM4v6f5",
      "execution_count": 62,
      "outputs": []
    },
    {
      "cell_type": "code",
      "source": [
        "dataframe = dataframe.drop(\"attack_cat\",axis=1)\n",
        "grid_search = main(dataframe,\"withoutpreprocess\")"
      ],
      "metadata": {
        "id": "hqEVTbMjwM3w",
        "outputId": "0f71ebdc-582b-4d9b-d5fd-40164d83da63",
        "colab": {
          "base_uri": "https://localhost:8080/",
          "height": 543
        }
      },
      "id": "hqEVTbMjwM3w",
      "execution_count": 63,
      "outputs": [
        {
          "output_type": "stream",
          "name": "stdout",
          "text": [
            "{'n_estimators': [20, 81, 10]}\n",
            "accuracy on train is 0.9429605409968079\n",
            "Accuracy of Gradient Boost: 0.9422\n",
            "              precision    recall  f1-score   support\n",
            "\n",
            "           0       0.92      0.92      0.92     18675\n",
            "           1       0.96      0.95      0.95     32860\n",
            "\n",
            "    accuracy                           0.94     51535\n",
            "   macro avg       0.94      0.94      0.94     51535\n",
            "weighted avg       0.94      0.94      0.94     51535\n",
            "\n",
            "[[17248  1427]\n",
            " [ 1550 31310]]\n",
            "{'n_estimators': 81}\n",
            "0.9400304598189171\n"
          ]
        },
        {
          "output_type": "display_data",
          "data": {
            "image/png": "[encoded data removed]",
            "text/plain": [
              "<Figure size 432x288 with 2 Axes>"
            ]
          },
          "metadata": {
            "needs_background": "light"
          }
        }
      ]
    },
    {
      "cell_type": "code",
      "source": [
        "pd.DataFrame(grid_search.cv_results_).head()"
      ],
      "metadata": {
        "colab": {
          "base_uri": "https://localhost:8080/",
          "height": 216
        },
        "id": "dOPzB63YUMFu",
        "outputId": "0bcf7833-31a8-444c-f9fc-d0594a6ed7cd"
      },
      "id": "dOPzB63YUMFu",
      "execution_count": 64,
      "outputs": [
        {
          "output_type": "execute_result",
          "data": {
            "text/html": [
              "<div>\n",
              "<style scoped>\n",
              "    .dataframe tbody tr th:only-of-type {\n",
              "        vertical-align: middle;\n",
              "    }\n",
              "\n",
              "    .dataframe tbody tr th {\n",
              "        vertical-align: top;\n",
              "    }\n",
              "\n",
              "    .dataframe thead th {\n",
              "        text-align: right;\n",
              "    }\n",
              "</style>\n",
              "<table border=\"1\" class=\"dataframe\">\n",
              "  <thead>\n",
              "    <tr style=\"text-align: right;\">\n",
              "      <th></th>\n",
              "      <th>mean_fit_time</th>\n",
              "      <th>std_fit_time</th>\n",
              "      <th>mean_score_time</th>\n",
              "      <th>std_score_time</th>\n",
              "      <th>param_n_estimators</th>\n",
              "      <th>params</th>\n",
              "      <th>split0_test_score</th>\n",
              "      <th>split1_test_score</th>\n",
              "      <th>split2_test_score</th>\n",
              "      <th>split3_test_score</th>\n",
              "      <th>split4_test_score</th>\n",
              "      <th>mean_test_score</th>\n",
              "      <th>std_test_score</th>\n",
              "      <th>rank_test_score</th>\n",
              "    </tr>\n",
              "  </thead>\n",
              "  <tbody>\n",
              "    <tr>\n",
              "      <th>0</th>\n",
              "      <td>18.878314</td>\n",
              "      <td>0.041539</td>\n",
              "      <td>0.040695</td>\n",
              "      <td>0.002454</td>\n",
              "      <td>20</td>\n",
              "      <td>{'n_estimators': 20}</td>\n",
              "      <td>0.933419</td>\n",
              "      <td>0.931600</td>\n",
              "      <td>0.933904</td>\n",
              "      <td>0.931550</td>\n",
              "      <td>0.930846</td>\n",
              "      <td>0.932264</td>\n",
              "      <td>0.001182</td>\n",
              "      <td>2</td>\n",
              "    </tr>\n",
              "    <tr>\n",
              "      <th>1</th>\n",
              "      <td>75.943908</td>\n",
              "      <td>0.921974</td>\n",
              "      <td>0.074534</td>\n",
              "      <td>0.004935</td>\n",
              "      <td>81</td>\n",
              "      <td>{'n_estimators': 81}</td>\n",
              "      <td>0.941569</td>\n",
              "      <td>0.938901</td>\n",
              "      <td>0.940696</td>\n",
              "      <td>0.939675</td>\n",
              "      <td>0.939312</td>\n",
              "      <td>0.940030</td>\n",
              "      <td>0.000972</td>\n",
              "      <td>1</td>\n",
              "    </tr>\n",
              "    <tr>\n",
              "      <th>2</th>\n",
              "      <td>9.387107</td>\n",
              "      <td>0.152471</td>\n",
              "      <td>0.034549</td>\n",
              "      <td>0.001686</td>\n",
              "      <td>10</td>\n",
              "      <td>{'n_estimators': 10}</td>\n",
              "      <td>0.927840</td>\n",
              "      <td>0.926943</td>\n",
              "      <td>0.925948</td>\n",
              "      <td>0.925850</td>\n",
              "      <td>0.927256</td>\n",
              "      <td>0.926768</td>\n",
              "      <td>0.000766</td>\n",
              "      <td>3</td>\n",
              "    </tr>\n",
              "  </tbody>\n",
              "</table>\n",
              "</div>"
            ],
            "text/plain": [
              "   mean_fit_time  std_fit_time  ...  std_test_score  rank_test_score\n",
              "0      18.878314      0.041539  ...        0.001182                2\n",
              "1      75.943908      0.921974  ...        0.000972                1\n",
              "2       9.387107      0.152471  ...        0.000766                3\n",
              "\n",
              "[3 rows x 14 columns]"
            ]
          },
          "metadata": {},
          "execution_count": 64
        }
      ]
    },
    {
      "cell_type": "code",
      "source": [
        "df['Accuracy_without_pp'] =acc1\n",
        "df['F1_score_without_pp']=f1"
      ],
      "metadata": {
        "id": "8NywScLLPxBd"
      },
      "id": "8NywScLLPxBd",
      "execution_count": 65,
      "outputs": []
    },
    {
      "cell_type": "code",
      "source": [
        "dataframe1 = get_data('dataset_minmax.csv')"
      ],
      "metadata": {
        "id": "vuowgxp26MV8"
      },
      "id": "vuowgxp26MV8",
      "execution_count": 66,
      "outputs": []
    },
    {
      "cell_type": "code",
      "source": [
        "grid_search1 = main(dataframe1,\"MinMax\")"
      ],
      "metadata": {
        "id": "_QRmhf2a6aNS",
        "outputId": "d6e01112-bb81-43ee-9816-ed7cf7063be7",
        "colab": {
          "base_uri": "https://localhost:8080/",
          "height": 543
        }
      },
      "id": "_QRmhf2a6aNS",
      "execution_count": 67,
      "outputs": [
        {
          "output_type": "stream",
          "name": "stdout",
          "text": [
            "{'n_estimators': [20, 81, 10]}\n",
            "accuracy on train is 0.9424075134133445\n",
            "Accuracy of Gradient Boost: 0.9415\n",
            "              precision    recall  f1-score   support\n",
            "\n",
            "           0       0.92      0.92      0.92     18675\n",
            "           1       0.95      0.95      0.95     32860\n",
            "\n",
            "    accuracy                           0.94     51535\n",
            "   macro avg       0.94      0.94      0.94     51535\n",
            "weighted avg       0.94      0.94      0.94     51535\n",
            "\n",
            "[[17185  1490]\n",
            " [ 1527 31333]]\n",
            "{'n_estimators': 81}\n",
            "0.9404961699169713\n"
          ]
        },
        {
          "output_type": "display_data",
          "data": {
            "image/png": "[encoded data removed]",
            "text/plain": [
              "<Figure size 432x288 with 2 Axes>"
            ]
          },
          "metadata": {
            "needs_background": "light"
          }
        }
      ]
    },
    {
      "cell_type": "code",
      "source": [
        "pd.DataFrame(grid_search1.cv_results_).head()"
      ],
      "metadata": {
        "id": "CdZKPa6_6jS7",
        "outputId": "26727880-9053-44fd-c846-0def0f040281",
        "colab": {
          "base_uri": "https://localhost:8080/",
          "height": 216
        }
      },
      "id": "CdZKPa6_6jS7",
      "execution_count": 68,
      "outputs": [
        {
          "output_type": "execute_result",
          "data": {
            "text/html": [
              "<div>\n",
              "<style scoped>\n",
              "    .dataframe tbody tr th:only-of-type {\n",
              "        vertical-align: middle;\n",
              "    }\n",
              "\n",
              "    .dataframe tbody tr th {\n",
              "        vertical-align: top;\n",
              "    }\n",
              "\n",
              "    .dataframe thead th {\n",
              "        text-align: right;\n",
              "    }\n",
              "</style>\n",
              "<table border=\"1\" class=\"dataframe\">\n",
              "  <thead>\n",
              "    <tr style=\"text-align: right;\">\n",
              "      <th></th>\n",
              "      <th>mean_fit_time</th>\n",
              "      <th>std_fit_time</th>\n",
              "      <th>mean_score_time</th>\n",
              "      <th>std_score_time</th>\n",
              "      <th>param_n_estimators</th>\n",
              "      <th>params</th>\n",
              "      <th>split0_test_score</th>\n",
              "      <th>split1_test_score</th>\n",
              "      <th>split2_test_score</th>\n",
              "      <th>split3_test_score</th>\n",
              "      <th>split4_test_score</th>\n",
              "      <th>mean_test_score</th>\n",
              "      <th>std_test_score</th>\n",
              "      <th>rank_test_score</th>\n",
              "    </tr>\n",
              "  </thead>\n",
              "  <tbody>\n",
              "    <tr>\n",
              "      <th>0</th>\n",
              "      <td>18.389382</td>\n",
              "      <td>0.221442</td>\n",
              "      <td>0.039047</td>\n",
              "      <td>0.003228</td>\n",
              "      <td>20</td>\n",
              "      <td>{'n_estimators': 20}</td>\n",
              "      <td>0.933807</td>\n",
              "      <td>0.930630</td>\n",
              "      <td>0.932619</td>\n",
              "      <td>0.931259</td>\n",
              "      <td>0.932156</td>\n",
              "      <td>0.932094</td>\n",
              "      <td>0.001101</td>\n",
              "      <td>2</td>\n",
              "    </tr>\n",
              "    <tr>\n",
              "      <th>1</th>\n",
              "      <td>74.260875</td>\n",
              "      <td>0.438371</td>\n",
              "      <td>0.071481</td>\n",
              "      <td>0.004457</td>\n",
              "      <td>81</td>\n",
              "      <td>{'n_estimators': 81}</td>\n",
              "      <td>0.941569</td>\n",
              "      <td>0.940211</td>\n",
              "      <td>0.940235</td>\n",
              "      <td>0.940621</td>\n",
              "      <td>0.939845</td>\n",
              "      <td>0.940496</td>\n",
              "      <td>0.000590</td>\n",
              "      <td>1</td>\n",
              "    </tr>\n",
              "    <tr>\n",
              "      <th>2</th>\n",
              "      <td>9.074374</td>\n",
              "      <td>0.058366</td>\n",
              "      <td>0.029031</td>\n",
              "      <td>0.000765</td>\n",
              "      <td>10</td>\n",
              "      <td>{'n_estimators': 10}</td>\n",
              "      <td>0.927865</td>\n",
              "      <td>0.923693</td>\n",
              "      <td>0.925512</td>\n",
              "      <td>0.924370</td>\n",
              "      <td>0.928008</td>\n",
              "      <td>0.925889</td>\n",
              "      <td>0.001770</td>\n",
              "      <td>3</td>\n",
              "    </tr>\n",
              "  </tbody>\n",
              "</table>\n",
              "</div>"
            ],
            "text/plain": [
              "   mean_fit_time  std_fit_time  ...  std_test_score  rank_test_score\n",
              "0      18.389382      0.221442  ...        0.001101                2\n",
              "1      74.260875      0.438371  ...        0.000590                1\n",
              "2       9.074374      0.058366  ...        0.001770                3\n",
              "\n",
              "[3 rows x 14 columns]"
            ]
          },
          "metadata": {},
          "execution_count": 68
        }
      ]
    },
    {
      "cell_type": "code",
      "source": [
        "df['Accuracy_minmax'] =acc1[1]\n",
        "df['F1_score_minmax']=f1[1]"
      ],
      "metadata": {
        "id": "vtqR3DoZUCv7"
      },
      "id": "vtqR3DoZUCv7",
      "execution_count": 69,
      "outputs": []
    },
    {
      "cell_type": "code",
      "source": [
        "dataframe2 = get_data('dataset_minmax_corr.csv')"
      ],
      "metadata": {
        "id": "dwbGa2ZM81iE"
      },
      "id": "dwbGa2ZM81iE",
      "execution_count": 70,
      "outputs": []
    },
    {
      "cell_type": "code",
      "source": [
        "grid_search2 = main(dataframe2,\"MinMaxCorr\")"
      ],
      "metadata": {
        "id": "9_nob88Y9Pqq",
        "outputId": "60577544-6dcf-4d67-e931-e4df2cc0c4df",
        "colab": {
          "base_uri": "https://localhost:8080/",
          "height": 543
        }
      },
      "id": "9_nob88Y9Pqq",
      "execution_count": 71,
      "outputs": [
        {
          "output_type": "stream",
          "name": "stdout",
          "text": [
            "{'n_estimators': [20, 81, 10]}\n",
            "accuracy on train is 0.9350483656579572\n",
            "Accuracy of Gradient Boost: 0.9335\n",
            "              precision    recall  f1-score   support\n",
            "\n",
            "           0       0.91      0.90      0.91     18675\n",
            "           1       0.95      0.95      0.95     32860\n",
            "\n",
            "    accuracy                           0.93     51535\n",
            "   macro avg       0.93      0.93      0.93     51535\n",
            "weighted avg       0.93      0.93      0.93     51535\n",
            "\n",
            "[[16878  1797]\n",
            " [ 1630 31230]]\n",
            "{'n_estimators': 81}\n",
            "0.9328023020460359\n"
          ]
        },
        {
          "output_type": "display_data",
          "data": {
            "image/png": "[encoded data removed]",
            "text/plain": [
              "<Figure size 432x288 with 2 Axes>"
            ]
          },
          "metadata": {
            "needs_background": "light"
          }
        }
      ]
    },
    {
      "cell_type": "code",
      "source": [
        "pd.DataFrame(grid_search2.cv_results_).head()"
      ],
      "metadata": {
        "id": "ap7VWgmf_Kc7",
        "outputId": "8471a70c-7a62-4828-931b-ee226bb7c455",
        "colab": {
          "base_uri": "https://localhost:8080/",
          "height": 216
        }
      },
      "id": "ap7VWgmf_Kc7",
      "execution_count": 72,
      "outputs": [
        {
          "output_type": "execute_result",
          "data": {
            "text/html": [
              "<div>\n",
              "<style scoped>\n",
              "    .dataframe tbody tr th:only-of-type {\n",
              "        vertical-align: middle;\n",
              "    }\n",
              "\n",
              "    .dataframe tbody tr th {\n",
              "        vertical-align: top;\n",
              "    }\n",
              "\n",
              "    .dataframe thead th {\n",
              "        text-align: right;\n",
              "    }\n",
              "</style>\n",
              "<table border=\"1\" class=\"dataframe\">\n",
              "  <thead>\n",
              "    <tr style=\"text-align: right;\">\n",
              "      <th></th>\n",
              "      <th>mean_fit_time</th>\n",
              "      <th>std_fit_time</th>\n",
              "      <th>mean_score_time</th>\n",
              "      <th>std_score_time</th>\n",
              "      <th>param_n_estimators</th>\n",
              "      <th>params</th>\n",
              "      <th>split0_test_score</th>\n",
              "      <th>split1_test_score</th>\n",
              "      <th>split2_test_score</th>\n",
              "      <th>split3_test_score</th>\n",
              "      <th>split4_test_score</th>\n",
              "      <th>mean_test_score</th>\n",
              "      <th>std_test_score</th>\n",
              "      <th>rank_test_score</th>\n",
              "    </tr>\n",
              "  </thead>\n",
              "  <tbody>\n",
              "    <tr>\n",
              "      <th>0</th>\n",
              "      <td>15.477937</td>\n",
              "      <td>0.054182</td>\n",
              "      <td>0.031966</td>\n",
              "      <td>0.001732</td>\n",
              "      <td>20</td>\n",
              "      <td>{'n_estimators': 20}</td>\n",
              "      <td>0.925924</td>\n",
              "      <td>0.924105</td>\n",
              "      <td>0.923377</td>\n",
              "      <td>0.923812</td>\n",
              "      <td>0.924831</td>\n",
              "      <td>0.924410</td>\n",
              "      <td>0.000893</td>\n",
              "      <td>2</td>\n",
              "    </tr>\n",
              "    <tr>\n",
              "      <th>1</th>\n",
              "      <td>62.701657</td>\n",
              "      <td>0.571762</td>\n",
              "      <td>0.060371</td>\n",
              "      <td>0.001645</td>\n",
              "      <td>81</td>\n",
              "      <td>{'n_estimators': 81}</td>\n",
              "      <td>0.932691</td>\n",
              "      <td>0.931527</td>\n",
              "      <td>0.933249</td>\n",
              "      <td>0.932399</td>\n",
              "      <td>0.934145</td>\n",
              "      <td>0.932802</td>\n",
              "      <td>0.000872</td>\n",
              "      <td>1</td>\n",
              "    </tr>\n",
              "    <tr>\n",
              "      <th>2</th>\n",
              "      <td>7.777727</td>\n",
              "      <td>0.011676</td>\n",
              "      <td>0.027141</td>\n",
              "      <td>0.001692</td>\n",
              "      <td>10</td>\n",
              "      <td>{'n_estimators': 10}</td>\n",
              "      <td>0.912099</td>\n",
              "      <td>0.917095</td>\n",
              "      <td>0.913045</td>\n",
              "      <td>0.916705</td>\n",
              "      <td>0.913285</td>\n",
              "      <td>0.914446</td>\n",
              "      <td>0.002047</td>\n",
              "      <td>3</td>\n",
              "    </tr>\n",
              "  </tbody>\n",
              "</table>\n",
              "</div>"
            ],
            "text/plain": [
              "   mean_fit_time  std_fit_time  ...  std_test_score  rank_test_score\n",
              "0      15.477937      0.054182  ...        0.000893                2\n",
              "1      62.701657      0.571762  ...        0.000872                1\n",
              "2       7.777727      0.011676  ...        0.002047                3\n",
              "\n",
              "[3 rows x 14 columns]"
            ]
          },
          "metadata": {},
          "execution_count": 72
        }
      ]
    },
    {
      "cell_type": "code",
      "source": [
        "df['Accuracy_minmaxcorr'] =acc1[2]\n",
        "df['F1_score_minmaxcorr']=f1[2]"
      ],
      "metadata": {
        "id": "XH6Z_JTWWxde"
      },
      "id": "XH6Z_JTWWxde",
      "execution_count": 73,
      "outputs": []
    },
    {
      "cell_type": "code",
      "source": [
        "dataframe3 = get_data('dataset_pca.csv')"
      ],
      "metadata": {
        "id": "RZpuhuvp_OIl"
      },
      "id": "RZpuhuvp_OIl",
      "execution_count": 74,
      "outputs": []
    },
    {
      "cell_type": "code",
      "source": [
        "grid_search3 = main(dataframe3,\"PCA\")"
      ],
      "metadata": {
        "id": "eAhn4gEr_WSl",
        "outputId": "a56da4bc-9ca0-46b6-a443-f9da974ce333",
        "colab": {
          "base_uri": "https://localhost:8080/",
          "height": 543
        }
      },
      "id": "eAhn4gEr_WSl",
      "execution_count": 75,
      "outputs": [
        {
          "output_type": "stream",
          "name": "stdout",
          "text": [
            "{'n_estimators': [20, 81, 10]}\n",
            "accuracy on train is 0.9202427500024256\n",
            "Accuracy of Gradient Boost: 0.9168\n",
            "              precision    recall  f1-score   support\n",
            "\n",
            "           0       0.91      0.86      0.88     18675\n",
            "           1       0.92      0.95      0.94     32860\n",
            "\n",
            "    accuracy                           0.92     51535\n",
            "   macro avg       0.91      0.90      0.91     51535\n",
            "weighted avg       0.92      0.92      0.92     51535\n",
            "\n",
            "[[16034  2641]\n",
            " [ 1648 31212]]\n",
            "{'n_estimators': 81}\n",
            "0.9154595524829461\n"
          ]
        },
        {
          "output_type": "display_data",
          "data": {
            "image/png": "[encoded data removed]",
            "text/plain": [
              "<Figure size 432x288 with 2 Axes>"
            ]
          },
          "metadata": {
            "needs_background": "light"
          }
        }
      ]
    },
    {
      "cell_type": "code",
      "source": [
        "pd.DataFrame(grid_search3.cv_results_).head()"
      ],
      "metadata": {
        "id": "zrZY8a2i_eXE",
        "outputId": "e425973c-add5-4a73-ea87-70f2a5b76a3a",
        "colab": {
          "base_uri": "https://localhost:8080/",
          "height": 216
        }
      },
      "id": "zrZY8a2i_eXE",
      "execution_count": 76,
      "outputs": [
        {
          "output_type": "execute_result",
          "data": {
            "text/html": [
              "<div>\n",
              "<style scoped>\n",
              "    .dataframe tbody tr th:only-of-type {\n",
              "        vertical-align: middle;\n",
              "    }\n",
              "\n",
              "    .dataframe tbody tr th {\n",
              "        vertical-align: top;\n",
              "    }\n",
              "\n",
              "    .dataframe thead th {\n",
              "        text-align: right;\n",
              "    }\n",
              "</style>\n",
              "<table border=\"1\" class=\"dataframe\">\n",
              "  <thead>\n",
              "    <tr style=\"text-align: right;\">\n",
              "      <th></th>\n",
              "      <th>mean_fit_time</th>\n",
              "      <th>std_fit_time</th>\n",
              "      <th>mean_score_time</th>\n",
              "      <th>std_score_time</th>\n",
              "      <th>param_n_estimators</th>\n",
              "      <th>params</th>\n",
              "      <th>split0_test_score</th>\n",
              "      <th>split1_test_score</th>\n",
              "      <th>split2_test_score</th>\n",
              "      <th>split3_test_score</th>\n",
              "      <th>split4_test_score</th>\n",
              "      <th>mean_test_score</th>\n",
              "      <th>std_test_score</th>\n",
              "      <th>rank_test_score</th>\n",
              "    </tr>\n",
              "  </thead>\n",
              "  <tbody>\n",
              "    <tr>\n",
              "      <th>0</th>\n",
              "      <td>42.850255</td>\n",
              "      <td>0.233070</td>\n",
              "      <td>0.032658</td>\n",
              "      <td>0.003309</td>\n",
              "      <td>20</td>\n",
              "      <td>{'n_estimators': 20}</td>\n",
              "      <td>0.907223</td>\n",
              "      <td>0.906083</td>\n",
              "      <td>0.906010</td>\n",
              "      <td>0.906736</td>\n",
              "      <td>0.906930</td>\n",
              "      <td>0.906597</td>\n",
              "      <td>0.000475</td>\n",
              "      <td>2</td>\n",
              "    </tr>\n",
              "    <tr>\n",
              "      <th>1</th>\n",
              "      <td>174.645354</td>\n",
              "      <td>0.742593</td>\n",
              "      <td>0.063174</td>\n",
              "      <td>0.001494</td>\n",
              "      <td>81</td>\n",
              "      <td>{'n_estimators': 81}</td>\n",
              "      <td>0.914670</td>\n",
              "      <td>0.914936</td>\n",
              "      <td>0.915543</td>\n",
              "      <td>0.916220</td>\n",
              "      <td>0.915929</td>\n",
              "      <td>0.915460</td>\n",
              "      <td>0.000584</td>\n",
              "      <td>1</td>\n",
              "    </tr>\n",
              "    <tr>\n",
              "      <th>2</th>\n",
              "      <td>20.938547</td>\n",
              "      <td>0.333654</td>\n",
              "      <td>0.023914</td>\n",
              "      <td>0.001421</td>\n",
              "      <td>10</td>\n",
              "      <td>{'n_estimators': 10}</td>\n",
              "      <td>0.894999</td>\n",
              "      <td>0.899850</td>\n",
              "      <td>0.899680</td>\n",
              "      <td>0.899847</td>\n",
              "      <td>0.897519</td>\n",
              "      <td>0.898379</td>\n",
              "      <td>0.001907</td>\n",
              "      <td>3</td>\n",
              "    </tr>\n",
              "  </tbody>\n",
              "</table>\n",
              "</div>"
            ],
            "text/plain": [
              "   mean_fit_time  std_fit_time  ...  std_test_score  rank_test_score\n",
              "0      42.850255      0.233070  ...        0.000475                2\n",
              "1     174.645354      0.742593  ...        0.000584                1\n",
              "2      20.938547      0.333654  ...        0.001907                3\n",
              "\n",
              "[3 rows x 14 columns]"
            ]
          },
          "metadata": {},
          "execution_count": 76
        }
      ]
    },
    {
      "cell_type": "code",
      "source": [
        "df['Accuracy_pca'] =acc1[3]\n",
        "df['F1_score_pca']=f1[3]"
      ],
      "metadata": {
        "id": "pFwIAienXBqv"
      },
      "id": "pFwIAienXBqv",
      "execution_count": 77,
      "outputs": []
    },
    {
      "cell_type": "code",
      "source": [
        "def displayAnalysisGraphs(list1, acc,f1,model):\n",
        "  plt.scatter(list1,acc)\n",
        "  for i in range(len(list1)):\n",
        "    acc[i]=float('{:,.3f}'.format(acc[i]))\n",
        "    plt.annotate(str(acc[i]), xy=(list1[i], acc[i]))\n",
        "  plt.ylabel(\"Accuracy\")\n",
        "  plt.title(\"Accuracy for dataset after different preprocessing techniques for \"+model)\n",
        "  plt.savefig(\"Accuracy\"+model+\".png\")\n",
        "  plt.show()\n",
        "  plt.scatter(list1,f1)\n",
        "  for i in range(len(list1)):\n",
        "    f1[i]=float('{:,.3f}'.format(f1[i]))\n",
        "    plt.annotate(str(f1[i]), xy=(list1[i], f1[i]))\n",
        "  plt.ylabel(\"F1 score\")\n",
        "  plt.title(\"F1 scores for dataset after different preprocessing techniques for \"+model)\n",
        "  plt.savefig(\"F1_scores\"+model+\".png\")\n",
        "  plt.show()"
      ],
      "metadata": {
        "id": "mecWkVXcEmlh"
      },
      "id": "mecWkVXcEmlh",
      "execution_count": 78,
      "outputs": []
    },
    {
      "cell_type": "code",
      "source": [
        "print(f1)\n",
        "print(acc1)\n",
        "print(list1)\n"
      ],
      "metadata": {
        "colab": {
          "base_uri": "https://localhost:8080/"
        },
        "id": "myStPOhHlIrN",
        "outputId": "9ed62e24-eaa4-4cbc-e6f3-6eaebdad5c4b"
      },
      "id": "myStPOhHlIrN",
      "execution_count": 79,
      "outputs": [
        {
          "output_type": "stream",
          "name": "stdout",
          "text": [
            "[0.954616826989039, 0.9540672624575613, 0.9479867045092355, 0.935709681771169]\n",
            "[0.9422334335888232, 0.9414572620549141, 0.933501503832347, 0.9167750072766081]\n",
            "['withoutPreprocessing', 'MinMax', 'MinMax_corr', 'PCA']\n"
          ]
        }
      ]
    },
    {
      "cell_type": "code",
      "source": [
        "list1 = ['withoutPreprocessing','MinMax','MinMax_corr','PCA']\n",
        "displayAnalysisGraphs(list1,acc1,f1,\"Gradient Boost\")"
      ],
      "metadata": {
        "colab": {
          "base_uri": "https://localhost:8080/",
          "height": 547
        },
        "id": "WKJ7jDZeQVZA",
        "outputId": "8b0a6f02-54a7-408a-ebe4-1d79f2a0fce5"
      },
      "id": "WKJ7jDZeQVZA",
      "execution_count": 80,
      "outputs": [
        {
          "output_type": "display_data",
          "data": {
            "image/png": "[encoded data removed]",
            "text/plain": [
              "<Figure size 432x288 with 1 Axes>"
            ]
          },
          "metadata": {
            "needs_background": "light"
          }
        },
        {
          "output_type": "display_data",
          "data": {
            "image/png": "[encoded data removed]",
            "text/plain": [
              "<Figure size 432x288 with 1 Axes>"
            ]
          },
          "metadata": {
            "needs_background": "light"
          }
        }
      ]
    },
    {
      "cell_type": "code",
      "source": [
        "df.to_csv(\"Gradient_Boost_result.csv\")"
      ],
      "metadata": {
        "id": "stY9w3J-QdGa"
      },
      "id": "stY9w3J-QdGa",
      "execution_count": 81,
      "outputs": []
    },
    {
      "cell_type": "markdown",
      "source": [
        "------------------------------------------------------------"
      ],
      "metadata": {
        "id": "5614Rr-Fv4QU"
      },
      "id": "5614Rr-Fv4QU"
    }
  ],
  "metadata": {
    "kernelspec": {
      "display_name": "Python 3",
      "language": "python",
      "name": "python3"
    },
    "language_info": {
      "codemirror_mode": {
        "name": "ipython",
        "version": 3
      },
      "file_extension": ".py",
      "mimetype": "text/x-python",
      "name": "python",
      "nbconvert_exporter": "python",
      "pygments_lexer": "ipython3",
      "version": "3.8.8"
    },
    "colab": {
      "name": "Copy of Copy of GradientBoosterClassifer.ipynb",
      "provenance": [],
      "collapsed_sections": []
    }
  },
  "nbformat": 4,
  "nbformat_minor": 5
}
