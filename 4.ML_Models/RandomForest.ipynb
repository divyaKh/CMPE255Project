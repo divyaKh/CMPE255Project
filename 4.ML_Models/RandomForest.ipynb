{
 "cells": [
  {
   "cell_type": "markdown",
   "id": "16a6780b",
   "metadata": {},
   "source": [
    "# Random Forest\n",
    "\n",
    "- Random Forest is combination of many decision trees\n",
    "- It is a classification algorithm.\n",
    "\n",
    "Why do we need Random Forest over Decision Trees?\n",
    "- Though Decision Trees are easy to build, use and interpret, but they are inaccurate\n",
    "- DTs are not very good with unseen data so our Model may not work as desired\n",
    "- Random Forest = Simplicity of DT + Very Good Accuracy"
   ]
  },
  {
   "cell_type": "markdown",
   "id": "36157ca5",
   "metadata": {},
   "source": [
    "## Input\n",
    "\n",
    "1. .csv - produced by pre_processing.ipynb\n",
    "2. The pre_processed input data includes following techniques:\n",
    "    #TODO\n",
    "\n",
    "## Output/Analysis\n",
    "\n",
    "1. Visualising the accuracy of RF with k-fold validation.\n",
    "2. Comparing the accurancy of RF model with and without PCA.   "
   ]
  },
  {
   "cell_type": "code",
   "execution_count": 9,
   "id": "622e6f26",
   "metadata": {},
   "outputs": [],
   "source": [
    "import numpy as np"
   ]
  },
  {
   "cell_type": "markdown",
   "id": "eb657c85",
   "metadata": {},
   "source": [
    "# Spilt the input file into test and train dataset\n",
    "\n",
    "I/P: dataframe\n",
    "\n",
    "O/P: x_train, y_train, x_test, y_test"
   ]
  },
  {
   "cell_type": "code",
   "execution_count": 10,
   "id": "69d574e1",
   "metadata": {},
   "outputs": [],
   "source": [
    "from sklearn.ensemble import RandomForestClassifier"
   ]
  },
  {
   "cell_type": "markdown",
   "id": "af9ffff1",
   "metadata": {},
   "source": [
    "# Split the train dataset into train and Cross validation dataset\n",
    "\n",
    "I/P: x_train, y_train\n",
    "\n",
    "O/P: x_train_new, x_cv, y_train_new, y_cv"
   ]
  },
  {
   "cell_type": "code",
   "execution_count": null,
   "id": "d06ce886",
   "metadata": {},
   "outputs": [],
   "source": []
  },
  {
   "cell_type": "markdown",
   "id": "5e7947d3",
   "metadata": {},
   "source": [
    "# Hyperparameter Tuning for Random Forest\n",
    "\n",
    "The following hyperparamter tuning has taken reference from:\n",
    "1. https://towardsdatascience.com/hyperparameter-tuning-the-random-forest-in-python-using-scikit-learn-28d2aa77dd74\n",
    "2. https://medium.com/@ODSC/optimizing-hyperparameters-for-random-forest-algorithms-in-scikit-learn-d60b7aa07ead"
   ]
  },
  {
   "cell_type": "code",
   "execution_count": 11,
   "id": "e3379772",
   "metadata": {},
   "outputs": [],
   "source": [
    "from sklearn.ensemble import RandomForestRegressor\n",
    "from pprint import pprint"
   ]
  },
  {
   "cell_type": "code",
   "execution_count": 12,
   "id": "78e93222",
   "metadata": {},
   "outputs": [],
   "source": [
    "rf = RandomForestRegressor(random_state = 42)"
   ]
  },
  {
   "cell_type": "code",
   "execution_count": 13,
   "id": "01a2e095",
   "metadata": {},
   "outputs": [
    {
     "name": "stdout",
     "output_type": "stream",
     "text": [
      "Parameters currently in use:\n",
      "\n",
      "{'bootstrap': True,\n",
      " 'ccp_alpha': 0.0,\n",
      " 'criterion': 'mse',\n",
      " 'max_depth': None,\n",
      " 'max_features': 'auto',\n",
      " 'max_leaf_nodes': None,\n",
      " 'max_samples': None,\n",
      " 'min_impurity_decrease': 0.0,\n",
      " 'min_impurity_split': None,\n",
      " 'min_samples_leaf': 1,\n",
      " 'min_samples_split': 2,\n",
      " 'min_weight_fraction_leaf': 0.0,\n",
      " 'n_estimators': 100,\n",
      " 'n_jobs': None,\n",
      " 'oob_score': False,\n",
      " 'random_state': 42,\n",
      " 'verbose': 0,\n",
      " 'warm_start': False}\n"
     ]
    }
   ],
   "source": [
    "print('Parameters currently in use:\\n')\n",
    "pprint(rf.get_params())"
   ]
  },
  {
   "cell_type": "markdown",
   "id": "c0919c10",
   "metadata": {},
   "source": [
    "Instead of all the above the parameters, we will just focus on tuning a few as given below:\n",
    "We will try adjusting the following set of hyperparameters:\n",
    "1. n_estimators = number of trees in the foreset\n",
    "2. max_features = max number of features considered for splitting a node\n",
    "3. max_depth = max number of levels in each decision tree\n",
    "4. min_samples_split = min number of data points placed in a node before the node is split\n",
    "5. min_samples_leaf = min number of data points allowed in a leaf node\n",
    "6. bootstrap = method for sampling data points (with or without replacement)"
   ]
  },
  {
   "cell_type": "markdown",
   "id": "55beb12c",
   "metadata": {},
   "source": [
    "To use RandomizedSearchCV, we first need to create a parameter grid to sample from during fitting:"
   ]
  },
  {
   "cell_type": "code",
   "execution_count": 14,
   "id": "9931e41b",
   "metadata": {},
   "outputs": [],
   "source": [
    "from sklearn.model_selection import RandomizedSearchCV"
   ]
  },
  {
   "cell_type": "code",
   "execution_count": 15,
   "id": "68fe6f20",
   "metadata": {},
   "outputs": [],
   "source": [
    "# Number of trees in random forest\n",
    "n_estimators = [int(x) for x in np.linspace(start = 200, stop = 2000, num = 10)]"
   ]
  },
  {
   "cell_type": "code",
   "execution_count": 18,
   "id": "73bf1e92",
   "metadata": {},
   "outputs": [],
   "source": [
    "# Number of features to consider at every split\n",
    "max_features = ['auto', 'sqrt']"
   ]
  },
  {
   "cell_type": "code",
   "execution_count": 19,
   "id": "313ca529",
   "metadata": {},
   "outputs": [],
   "source": [
    "# Maximum number of levels in tree\n",
    "max_depth = [int(x) for x in np.linspace(10, 110, num = 11)]\n",
    "max_depth.append(None)"
   ]
  },
  {
   "cell_type": "code",
   "execution_count": 20,
   "id": "8910c6c5",
   "metadata": {},
   "outputs": [],
   "source": [
    "# Minimum number of samples required to split a node\n",
    "min_samples_split = [2, 5, 10]"
   ]
  },
  {
   "cell_type": "code",
   "execution_count": 21,
   "id": "9a9a992c",
   "metadata": {},
   "outputs": [],
   "source": [
    "# Minimum number of samples required at each leaf node\n",
    "min_samples_leaf = [1, 2, 4]"
   ]
  },
  {
   "cell_type": "code",
   "execution_count": 22,
   "id": "9aa02ebf",
   "metadata": {},
   "outputs": [],
   "source": [
    "# Method of selecting samples for training each tree\n",
    "bootstrap = [True, False]"
   ]
  },
  {
   "cell_type": "code",
   "execution_count": 23,
   "id": "dd5cf366",
   "metadata": {},
   "outputs": [],
   "source": [
    "# Create the random grid\n",
    "random_grid = {'n_estimators': n_estimators,\n",
    "               'max_features': max_features,\n",
    "               'max_depth': max_depth,\n",
    "               'min_samples_split': min_samples_split,\n",
    "               'min_samples_leaf': min_samples_leaf,\n",
    "               'bootstrap': bootstrap}"
   ]
  },
  {
   "cell_type": "code",
   "execution_count": 24,
   "id": "d341836e",
   "metadata": {},
   "outputs": [
    {
     "name": "stdout",
     "output_type": "stream",
     "text": [
      "{'bootstrap': [True, False],\n",
      " 'max_depth': [10, 20, 30, 40, 50, 60, 70, 80, 90, 100, 110, None],\n",
      " 'max_features': ['auto', 'sqrt'],\n",
      " 'min_samples_leaf': [1, 2, 4],\n",
      " 'min_samples_split': [2, 5, 10],\n",
      " 'n_estimators': [200, 400, 600, 800, 1000, 1200, 1400, 1600, 1800, 2000]}\n"
     ]
    }
   ],
   "source": [
    "pprint(random_grid)"
   ]
  },
  {
   "cell_type": "code",
   "execution_count": 25,
   "id": "186ef66b",
   "metadata": {},
   "outputs": [],
   "source": [
    "# Use the random grid to search for best hyperparameters\n",
    "# First create the base model to tune\n",
    "rf = RandomForestRegressor()"
   ]
  },
  {
   "cell_type": "code",
   "execution_count": 26,
   "id": "e852da59",
   "metadata": {},
   "outputs": [],
   "source": [
    "# Random search of parameters, using 3 fold cross validation, \n",
    "# search across 100 different combinations, and use all available cores\n",
    "rf_random = RandomizedSearchCV(estimator = rf, param_distributions = random_grid, n_iter = 100, cv = 3, verbose=2, random_state=42, n_jobs = -1)"
   ]
  },
  {
   "cell_type": "markdown",
   "id": "f2e1f550",
   "metadata": {},
   "source": [
    "Finally, fit the RandomizedSearchCV object to the data frames containing features and labels and print the optimal hyperparameter values."
   ]
  },
  {
   "cell_type": "code",
   "execution_count": 27,
   "id": "dbcb1327",
   "metadata": {},
   "outputs": [
    {
     "ename": "NameError",
     "evalue": "name 'train_features' is not defined",
     "output_type": "error",
     "traceback": [
      "\u001b[0;31m---------------------------------------------------------------------------\u001b[0m",
      "\u001b[0;31mNameError\u001b[0m                                 Traceback (most recent call last)",
      "\u001b[0;32m<ipython-input-27-d677dc31ce0d>\u001b[0m in \u001b[0;36m<module>\u001b[0;34m\u001b[0m\n\u001b[1;32m      1\u001b[0m \u001b[0;31m# Fit the random search model\u001b[0m\u001b[0;34m\u001b[0m\u001b[0;34m\u001b[0m\u001b[0;34m\u001b[0m\u001b[0m\n\u001b[0;32m----> 2\u001b[0;31m \u001b[0mrf_random\u001b[0m\u001b[0;34m.\u001b[0m\u001b[0mfit\u001b[0m\u001b[0;34m(\u001b[0m\u001b[0mtrain_features\u001b[0m\u001b[0;34m,\u001b[0m \u001b[0mtrain_labels\u001b[0m\u001b[0;34m)\u001b[0m\u001b[0;34m\u001b[0m\u001b[0;34m\u001b[0m\u001b[0m\n\u001b[0m",
      "\u001b[0;31mNameError\u001b[0m: name 'train_features' is not defined"
     ]
    }
   ],
   "source": [
    "# Fit the random search model\n",
    "#TODO \n",
    "rf_random.fit(train_features, train_labels)\n",
    "rf_random.best_params_"
   ]
  },
  {
   "cell_type": "markdown",
   "id": "de9e4ce7",
   "metadata": {},
   "source": [
    "# Classification of input data with RF "
   ]
  },
  {
   "cell_type": "code",
   "execution_count": 12,
   "id": "c81d4cbc",
   "metadata": {},
   "outputs": [],
   "source": [
    "# Classifier Name\n",
    "CLF_NAME = RandomForestClassifier"
   ]
  },
  {
   "cell_type": "code",
   "execution_count": 13,
   "id": "440cfd29",
   "metadata": {},
   "outputs": [],
   "source": [
    "clf = RandomForestClassifier(max_depth=2, random_state=0)"
   ]
  },
  {
   "cell_type": "code",
   "execution_count": 14,
   "id": "4a464ff7",
   "metadata": {},
   "outputs": [
    {
     "data": {
      "text/plain": [
       "RandomForestClassifier(max_depth=2, random_state=0)"
      ]
     },
     "execution_count": 14,
     "metadata": {},
     "output_type": "execute_result"
    }
   ],
   "source": [
    "clf.fit(X, y)"
   ]
  },
  {
   "cell_type": "code",
   "execution_count": 15,
   "id": "9170fb79",
   "metadata": {},
   "outputs": [
    {
     "name": "stdout",
     "output_type": "stream",
     "text": [
      "[1]\n"
     ]
    }
   ],
   "source": [
    "print(clf.predict([[0, 0, 0, 0]]))"
   ]
  },
  {
   "cell_type": "markdown",
   "id": "36d026fb",
   "metadata": {},
   "source": [
    "# Classification with RF after Dimension Reduction (using PCA)"
   ]
  },
  {
   "cell_type": "code",
   "execution_count": null,
   "id": "3dc5ed50",
   "metadata": {},
   "outputs": [],
   "source": []
  },
  {
   "cell_type": "code",
   "execution_count": null,
   "id": "bafbb452",
   "metadata": {},
   "outputs": [],
   "source": []
  }
 ],
 "metadata": {
  "kernelspec": {
   "display_name": "Python 3",
   "language": "python",
   "name": "python3"
  },
  "language_info": {
   "codemirror_mode": {
    "name": "ipython",
    "version": 3
   },
   "file_extension": ".py",
   "mimetype": "text/x-python",
   "name": "python",
   "nbconvert_exporter": "python",
   "pygments_lexer": "ipython3",
   "version": "3.8.8"
  }
 },
 "nbformat": 4,
 "nbformat_minor": 5
}
