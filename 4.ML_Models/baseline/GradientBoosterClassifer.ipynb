{
 "cells": [
  {
   "cell_type": "markdown",
   "id": "57378438",
   "metadata": {},
   "source": [
    "# Gradient Boosting Classifier\n",
    "Gradient boosting classifiers are a group of machine learning algorithms that combine many weak learning models together to create a strong predictive model.\n",
    "\n",
    "Why do we need?\n",
    "Gradient boosting models are becoming popular because of their effectiveness at classifying complex datasets, and have recently been used to win many Kaggle data science competitions."
   ]
  },
  {
   "cell_type": "code",
   "execution_count": 1,
   "id": "6515b2be",
   "metadata": {},
   "outputs": [],
   "source": [
    "import pandas as pd\n",
    "import matplotlib as plt\n",
    "import numpy as np\n",
    "import seaborn as sns\n",
    "from sklearn.model_selection import train_test_split\n",
    "from sklearn.ensemble import GradientBoostingClassifier\n",
    "from sklearn.metrics import accuracy_score\n",
    "from sklearn.metrics import classification_report, confusion_matrix\n",
    "from pprint import pprint"
   ]
  },
  {
   "cell_type": "code",
   "execution_count": 2,
   "id": "007485fc",
   "metadata": {},
   "outputs": [
    {
     "data": {
      "text/plain": [
       "0            Normal\n",
       "1            Normal\n",
       "2            Normal\n",
       "3            Normal\n",
       "4            Normal\n",
       "            ...    \n",
       "257668      Generic\n",
       "257669    Shellcode\n",
       "257670      Generic\n",
       "257671      Generic\n",
       "257672      Generic\n",
       "Name: attack_cat, Length: 257673, dtype: object"
      ]
     },
     "execution_count": 2,
     "metadata": {},
     "output_type": "execute_result"
    }
   ],
   "source": [
    "cleaned = pd.read_csv('../3.Preprocessing/cleaned_dataset.csv')\n",
    "cleaned[\"attack_cat\"]\n"
   ]
  },
  {
   "cell_type": "code",
   "execution_count": null,
   "id": "4f5e93c5",
   "metadata": {
    "scrolled": true
   },
   "outputs": [],
   "source": []
  },
  {
   "cell_type": "code",
   "execution_count": 3,
   "id": "2110febe",
   "metadata": {},
   "outputs": [],
   "source": [
    "cleaned = pd.get_dummies(cleaned,columns= ['attack_cat'])"
   ]
  },
  {
   "cell_type": "code",
   "execution_count": 4,
   "id": "7f1efefe",
   "metadata": {},
   "outputs": [],
   "source": [
    "Y = cleaned['label']\n",
    "X = cleaned.drop(['label'],axis=1)"
   ]
  },
  {
   "cell_type": "code",
   "execution_count": 5,
   "id": "a2bd8697",
   "metadata": {},
   "outputs": [],
   "source": [
    "X_train, X_test, Y_train, Y_test = train_test_split( X,Y, test_size=0.3, random_state = 0) "
   ]
  },
  {
   "cell_type": "code",
   "execution_count": 6,
   "id": "a180e693",
   "metadata": {},
   "outputs": [
    {
     "data": {
      "text/html": [
       "<div>\n",
       "<style scoped>\n",
       "    .dataframe tbody tr th:only-of-type {\n",
       "        vertical-align: middle;\n",
       "    }\n",
       "\n",
       "    .dataframe tbody tr th {\n",
       "        vertical-align: top;\n",
       "    }\n",
       "\n",
       "    .dataframe thead th {\n",
       "        text-align: right;\n",
       "    }\n",
       "</style>\n",
       "<table border=\"1\" class=\"dataframe\">\n",
       "  <thead>\n",
       "    <tr style=\"text-align: right;\">\n",
       "      <th></th>\n",
       "      <th>dur</th>\n",
       "      <th>spkts</th>\n",
       "      <th>dpkts</th>\n",
       "      <th>sbytes</th>\n",
       "      <th>dbytes</th>\n",
       "      <th>rate</th>\n",
       "      <th>sttl</th>\n",
       "      <th>dttl</th>\n",
       "      <th>sload</th>\n",
       "      <th>dload</th>\n",
       "      <th>...</th>\n",
       "      <th>attack_cat_Analysis</th>\n",
       "      <th>attack_cat_Backdoor</th>\n",
       "      <th>attack_cat_DoS</th>\n",
       "      <th>attack_cat_Exploits</th>\n",
       "      <th>attack_cat_Fuzzers</th>\n",
       "      <th>attack_cat_Generic</th>\n",
       "      <th>attack_cat_Normal</th>\n",
       "      <th>attack_cat_Reconnaissance</th>\n",
       "      <th>attack_cat_Shellcode</th>\n",
       "      <th>attack_cat_Worms</th>\n",
       "    </tr>\n",
       "  </thead>\n",
       "  <tbody>\n",
       "    <tr>\n",
       "      <th>160571</th>\n",
       "      <td>3.716548</td>\n",
       "      <td>34</td>\n",
       "      <td>108</td>\n",
       "      <td>1558</td>\n",
       "      <td>125730</td>\n",
       "      <td>37.938431</td>\n",
       "      <td>62</td>\n",
       "      <td>252</td>\n",
       "      <td>3.256786e+03</td>\n",
       "      <td>268132.687500</td>\n",
       "      <td>...</td>\n",
       "      <td>0</td>\n",
       "      <td>0</td>\n",
       "      <td>0</td>\n",
       "      <td>1</td>\n",
       "      <td>0</td>\n",
       "      <td>0</td>\n",
       "      <td>0</td>\n",
       "      <td>0</td>\n",
       "      <td>0</td>\n",
       "      <td>0</td>\n",
       "    </tr>\n",
       "    <tr>\n",
       "      <th>3992</th>\n",
       "      <td>0.000009</td>\n",
       "      <td>2</td>\n",
       "      <td>0</td>\n",
       "      <td>200</td>\n",
       "      <td>0</td>\n",
       "      <td>111111.107200</td>\n",
       "      <td>254</td>\n",
       "      <td>0</td>\n",
       "      <td>8.888889e+07</td>\n",
       "      <td>0.000000</td>\n",
       "      <td>...</td>\n",
       "      <td>0</td>\n",
       "      <td>0</td>\n",
       "      <td>0</td>\n",
       "      <td>1</td>\n",
       "      <td>0</td>\n",
       "      <td>0</td>\n",
       "      <td>0</td>\n",
       "      <td>0</td>\n",
       "      <td>0</td>\n",
       "      <td>0</td>\n",
       "    </tr>\n",
       "    <tr>\n",
       "      <th>110524</th>\n",
       "      <td>0.688233</td>\n",
       "      <td>54</td>\n",
       "      <td>42</td>\n",
       "      <td>37938</td>\n",
       "      <td>3380</td>\n",
       "      <td>138.034645</td>\n",
       "      <td>31</td>\n",
       "      <td>29</td>\n",
       "      <td>4.328302e+05</td>\n",
       "      <td>38359.101560</td>\n",
       "      <td>...</td>\n",
       "      <td>0</td>\n",
       "      <td>0</td>\n",
       "      <td>0</td>\n",
       "      <td>0</td>\n",
       "      <td>0</td>\n",
       "      <td>0</td>\n",
       "      <td>1</td>\n",
       "      <td>0</td>\n",
       "      <td>0</td>\n",
       "      <td>0</td>\n",
       "    </tr>\n",
       "    <tr>\n",
       "      <th>256499</th>\n",
       "      <td>0.000009</td>\n",
       "      <td>2</td>\n",
       "      <td>0</td>\n",
       "      <td>134</td>\n",
       "      <td>0</td>\n",
       "      <td>111111.107200</td>\n",
       "      <td>62</td>\n",
       "      <td>0</td>\n",
       "      <td>5.955555e+07</td>\n",
       "      <td>0.000000</td>\n",
       "      <td>...</td>\n",
       "      <td>0</td>\n",
       "      <td>0</td>\n",
       "      <td>0</td>\n",
       "      <td>1</td>\n",
       "      <td>0</td>\n",
       "      <td>0</td>\n",
       "      <td>0</td>\n",
       "      <td>0</td>\n",
       "      <td>0</td>\n",
       "      <td>0</td>\n",
       "    </tr>\n",
       "    <tr>\n",
       "      <th>68086</th>\n",
       "      <td>0.000000</td>\n",
       "      <td>1</td>\n",
       "      <td>0</td>\n",
       "      <td>46</td>\n",
       "      <td>0</td>\n",
       "      <td>0.000000</td>\n",
       "      <td>0</td>\n",
       "      <td>0</td>\n",
       "      <td>0.000000e+00</td>\n",
       "      <td>0.000000</td>\n",
       "      <td>...</td>\n",
       "      <td>0</td>\n",
       "      <td>0</td>\n",
       "      <td>0</td>\n",
       "      <td>0</td>\n",
       "      <td>0</td>\n",
       "      <td>0</td>\n",
       "      <td>1</td>\n",
       "      <td>0</td>\n",
       "      <td>0</td>\n",
       "      <td>0</td>\n",
       "    </tr>\n",
       "    <tr>\n",
       "      <th>...</th>\n",
       "      <td>...</td>\n",
       "      <td>...</td>\n",
       "      <td>...</td>\n",
       "      <td>...</td>\n",
       "      <td>...</td>\n",
       "      <td>...</td>\n",
       "      <td>...</td>\n",
       "      <td>...</td>\n",
       "      <td>...</td>\n",
       "      <td>...</td>\n",
       "      <td>...</td>\n",
       "      <td>...</td>\n",
       "      <td>...</td>\n",
       "      <td>...</td>\n",
       "      <td>...</td>\n",
       "      <td>...</td>\n",
       "      <td>...</td>\n",
       "      <td>...</td>\n",
       "      <td>...</td>\n",
       "      <td>...</td>\n",
       "      <td>...</td>\n",
       "    </tr>\n",
       "    <tr>\n",
       "      <th>176963</th>\n",
       "      <td>1.969178</td>\n",
       "      <td>12</td>\n",
       "      <td>10</td>\n",
       "      <td>1038</td>\n",
       "      <td>844</td>\n",
       "      <td>10.664348</td>\n",
       "      <td>254</td>\n",
       "      <td>252</td>\n",
       "      <td>3.867604e+03</td>\n",
       "      <td>3087.582764</td>\n",
       "      <td>...</td>\n",
       "      <td>0</td>\n",
       "      <td>0</td>\n",
       "      <td>0</td>\n",
       "      <td>0</td>\n",
       "      <td>1</td>\n",
       "      <td>0</td>\n",
       "      <td>0</td>\n",
       "      <td>0</td>\n",
       "      <td>0</td>\n",
       "      <td>0</td>\n",
       "    </tr>\n",
       "    <tr>\n",
       "      <th>117952</th>\n",
       "      <td>0.519435</td>\n",
       "      <td>52</td>\n",
       "      <td>40</td>\n",
       "      <td>37492</td>\n",
       "      <td>3276</td>\n",
       "      <td>175.190355</td>\n",
       "      <td>31</td>\n",
       "      <td>29</td>\n",
       "      <td>5.663231e+05</td>\n",
       "      <td>49207.312500</td>\n",
       "      <td>...</td>\n",
       "      <td>0</td>\n",
       "      <td>0</td>\n",
       "      <td>0</td>\n",
       "      <td>0</td>\n",
       "      <td>0</td>\n",
       "      <td>0</td>\n",
       "      <td>1</td>\n",
       "      <td>0</td>\n",
       "      <td>0</td>\n",
       "      <td>0</td>\n",
       "    </tr>\n",
       "    <tr>\n",
       "      <th>173685</th>\n",
       "      <td>0.000009</td>\n",
       "      <td>2</td>\n",
       "      <td>0</td>\n",
       "      <td>180</td>\n",
       "      <td>0</td>\n",
       "      <td>111111.107200</td>\n",
       "      <td>254</td>\n",
       "      <td>0</td>\n",
       "      <td>8.000000e+07</td>\n",
       "      <td>0.000000</td>\n",
       "      <td>...</td>\n",
       "      <td>0</td>\n",
       "      <td>0</td>\n",
       "      <td>0</td>\n",
       "      <td>0</td>\n",
       "      <td>1</td>\n",
       "      <td>0</td>\n",
       "      <td>0</td>\n",
       "      <td>0</td>\n",
       "      <td>0</td>\n",
       "      <td>0</td>\n",
       "    </tr>\n",
       "    <tr>\n",
       "      <th>43567</th>\n",
       "      <td>0.000009</td>\n",
       "      <td>2</td>\n",
       "      <td>0</td>\n",
       "      <td>104</td>\n",
       "      <td>0</td>\n",
       "      <td>111111.107200</td>\n",
       "      <td>254</td>\n",
       "      <td>0</td>\n",
       "      <td>4.622222e+07</td>\n",
       "      <td>0.000000</td>\n",
       "      <td>...</td>\n",
       "      <td>0</td>\n",
       "      <td>0</td>\n",
       "      <td>0</td>\n",
       "      <td>0</td>\n",
       "      <td>0</td>\n",
       "      <td>0</td>\n",
       "      <td>1</td>\n",
       "      <td>0</td>\n",
       "      <td>0</td>\n",
       "      <td>0</td>\n",
       "    </tr>\n",
       "    <tr>\n",
       "      <th>199340</th>\n",
       "      <td>0.000009</td>\n",
       "      <td>2</td>\n",
       "      <td>0</td>\n",
       "      <td>200</td>\n",
       "      <td>0</td>\n",
       "      <td>111111.107200</td>\n",
       "      <td>254</td>\n",
       "      <td>0</td>\n",
       "      <td>8.888889e+07</td>\n",
       "      <td>0.000000</td>\n",
       "      <td>...</td>\n",
       "      <td>0</td>\n",
       "      <td>0</td>\n",
       "      <td>1</td>\n",
       "      <td>0</td>\n",
       "      <td>0</td>\n",
       "      <td>0</td>\n",
       "      <td>0</td>\n",
       "      <td>0</td>\n",
       "      <td>0</td>\n",
       "      <td>0</td>\n",
       "    </tr>\n",
       "  </tbody>\n",
       "</table>\n",
       "<p>180371 rows × 206 columns</p>\n",
       "</div>"
      ],
      "text/plain": [
       "             dur  spkts  dpkts  sbytes  dbytes           rate  sttl  dttl  \\\n",
       "160571  3.716548     34    108    1558  125730      37.938431    62   252   \n",
       "3992    0.000009      2      0     200       0  111111.107200   254     0   \n",
       "110524  0.688233     54     42   37938    3380     138.034645    31    29   \n",
       "256499  0.000009      2      0     134       0  111111.107200    62     0   \n",
       "68086   0.000000      1      0      46       0       0.000000     0     0   \n",
       "...          ...    ...    ...     ...     ...            ...   ...   ...   \n",
       "176963  1.969178     12     10    1038     844      10.664348   254   252   \n",
       "117952  0.519435     52     40   37492    3276     175.190355    31    29   \n",
       "173685  0.000009      2      0     180       0  111111.107200   254     0   \n",
       "43567   0.000009      2      0     104       0  111111.107200   254     0   \n",
       "199340  0.000009      2      0     200       0  111111.107200   254     0   \n",
       "\n",
       "               sload          dload  ...  attack_cat_Analysis  \\\n",
       "160571  3.256786e+03  268132.687500  ...                    0   \n",
       "3992    8.888889e+07       0.000000  ...                    0   \n",
       "110524  4.328302e+05   38359.101560  ...                    0   \n",
       "256499  5.955555e+07       0.000000  ...                    0   \n",
       "68086   0.000000e+00       0.000000  ...                    0   \n",
       "...              ...            ...  ...                  ...   \n",
       "176963  3.867604e+03    3087.582764  ...                    0   \n",
       "117952  5.663231e+05   49207.312500  ...                    0   \n",
       "173685  8.000000e+07       0.000000  ...                    0   \n",
       "43567   4.622222e+07       0.000000  ...                    0   \n",
       "199340  8.888889e+07       0.000000  ...                    0   \n",
       "\n",
       "        attack_cat_Backdoor  attack_cat_DoS  attack_cat_Exploits  \\\n",
       "160571                    0               0                    1   \n",
       "3992                      0               0                    1   \n",
       "110524                    0               0                    0   \n",
       "256499                    0               0                    1   \n",
       "68086                     0               0                    0   \n",
       "...                     ...             ...                  ...   \n",
       "176963                    0               0                    0   \n",
       "117952                    0               0                    0   \n",
       "173685                    0               0                    0   \n",
       "43567                     0               0                    0   \n",
       "199340                    0               1                    0   \n",
       "\n",
       "        attack_cat_Fuzzers  attack_cat_Generic  attack_cat_Normal  \\\n",
       "160571                   0                   0                  0   \n",
       "3992                     0                   0                  0   \n",
       "110524                   0                   0                  1   \n",
       "256499                   0                   0                  0   \n",
       "68086                    0                   0                  1   \n",
       "...                    ...                 ...                ...   \n",
       "176963                   1                   0                  0   \n",
       "117952                   0                   0                  1   \n",
       "173685                   1                   0                  0   \n",
       "43567                    0                   0                  1   \n",
       "199340                   0                   0                  0   \n",
       "\n",
       "        attack_cat_Reconnaissance  attack_cat_Shellcode  attack_cat_Worms  \n",
       "160571                          0                     0                 0  \n",
       "3992                            0                     0                 0  \n",
       "110524                          0                     0                 0  \n",
       "256499                          0                     0                 0  \n",
       "68086                           0                     0                 0  \n",
       "...                           ...                   ...               ...  \n",
       "176963                          0                     0                 0  \n",
       "117952                          0                     0                 0  \n",
       "173685                          0                     0                 0  \n",
       "43567                           0                     0                 0  \n",
       "199340                          0                     0                 0  \n",
       "\n",
       "[180371 rows x 206 columns]"
      ]
     },
     "execution_count": 6,
     "metadata": {},
     "output_type": "execute_result"
    }
   ],
   "source": [
    "X_train"
   ]
  },
  {
   "cell_type": "code",
   "execution_count": 7,
   "id": "3f939683",
   "metadata": {},
   "outputs": [],
   "source": [
    " #Create a GradientBoostingClassifier Classifier\n",
    "model = GradientBoostingClassifier(learning_rate=0.5, max_depth=3)"
   ]
  },
  {
   "cell_type": "code",
   "execution_count": 8,
   "id": "1071f83a",
   "metadata": {},
   "outputs": [
    {
     "name": "stdout",
     "output_type": "stream",
     "text": [
      "Parameters currently in use:\n",
      "\n",
      "{'ccp_alpha': 0.0, 'criterion': 'friedman_mse', 'init': None, 'learning_rate': 0.5, 'loss': 'deviance', 'max_depth': 3, 'max_features': None, 'max_leaf_nodes': None, 'min_impurity_decrease': 0.0, 'min_impurity_split': None, 'min_samples_leaf': 1, 'min_samples_split': 2, 'min_weight_fraction_leaf': 0.0, 'n_estimators': 100, 'n_iter_no_change': None, 'random_state': None, 'subsample': 1.0, 'tol': 0.0001, 'validation_fraction': 0.1, 'verbose': 0, 'warm_start': False}\n"
     ]
    }
   ],
   "source": [
    "print('Parameters currently in use:\\n')\n",
    "print(model.get_params())"
   ]
  },
  {
   "cell_type": "code",
   "execution_count": 9,
   "id": "72c3d4ee",
   "metadata": {},
   "outputs": [
    {
     "data": {
      "text/plain": [
       "GradientBoostingClassifier(learning_rate=0.5)"
      ]
     },
     "execution_count": 9,
     "metadata": {},
     "output_type": "execute_result"
    }
   ],
   "source": [
    "model.fit(X_train,Y_train)"
   ]
  },
  {
   "cell_type": "code",
   "execution_count": 10,
   "id": "689b3486",
   "metadata": {},
   "outputs": [],
   "source": [
    "y_pred = model.predict(X_test)"
   ]
  },
  {
   "cell_type": "code",
   "execution_count": 11,
   "id": "a41bd7ea",
   "metadata": {},
   "outputs": [
    {
     "data": {
      "text/plain": [
       "(77302, 206)"
      ]
     },
     "execution_count": 11,
     "metadata": {},
     "output_type": "execute_result"
    }
   ],
   "source": [
    "X_test.shape"
   ]
  },
  {
   "cell_type": "code",
   "execution_count": 13,
   "id": "9509de8d",
   "metadata": {},
   "outputs": [
    {
     "ename": "AttributeError",
     "evalue": "module 'matplotlib' has no attribute 'title'",
     "output_type": "error",
     "traceback": [
      "\u001b[1;31m---------------------------------------------------------------------------\u001b[0m",
      "\u001b[1;31mAttributeError\u001b[0m                            Traceback (most recent call last)",
      "\u001b[1;32m<ipython-input-13-bc4a7171989f>\u001b[0m in \u001b[0;36m<module>\u001b[1;34m\u001b[0m\n\u001b[0;32m      2\u001b[0m \u001b[0mcm\u001b[0m \u001b[1;33m=\u001b[0m \u001b[0mconfusion_matrix\u001b[0m\u001b[1;33m(\u001b[0m\u001b[0mY_test\u001b[0m\u001b[1;33m,\u001b[0m \u001b[0my_pred\u001b[0m\u001b[1;33m)\u001b[0m\u001b[1;33m\u001b[0m\u001b[1;33m\u001b[0m\u001b[0m\n\u001b[0;32m      3\u001b[0m \u001b[0msns\u001b[0m\u001b[1;33m.\u001b[0m\u001b[0mheatmap\u001b[0m\u001b[1;33m(\u001b[0m\u001b[0mcm\u001b[0m\u001b[1;33m,\u001b[0m\u001b[0mannot\u001b[0m\u001b[1;33m=\u001b[0m\u001b[1;32mTrue\u001b[0m\u001b[1;33m,\u001b[0m \u001b[0mcmap\u001b[0m \u001b[1;33m=\u001b[0m \u001b[1;34m\"Wistia\"\u001b[0m\u001b[1;33m)\u001b[0m\u001b[1;33m\u001b[0m\u001b[1;33m\u001b[0m\u001b[0m\n\u001b[1;32m----> 4\u001b[1;33m \u001b[0mplt\u001b[0m\u001b[1;33m.\u001b[0m\u001b[0mtitle\u001b[0m\u001b[1;33m(\u001b[0m\u001b[1;34m'Confusion Matrix for Logistic Regression'\u001b[0m\u001b[1;33m,\u001b[0m \u001b[0mfontsize\u001b[0m\u001b[1;33m=\u001b[0m \u001b[1;36m15\u001b[0m\u001b[1;33m)\u001b[0m\u001b[1;33m\u001b[0m\u001b[1;33m\u001b[0m\u001b[0m\n\u001b[0m\u001b[0;32m      5\u001b[0m \u001b[0mplt\u001b[0m\u001b[1;33m.\u001b[0m\u001b[0mshow\u001b[0m\u001b[1;33m(\u001b[0m\u001b[1;33m)\u001b[0m\u001b[1;33m\u001b[0m\u001b[1;33m\u001b[0m\u001b[0m\n\u001b[0;32m      6\u001b[0m \u001b[1;31m#print(\"Confusion Matrix:\")\u001b[0m\u001b[1;33m\u001b[0m\u001b[1;33m\u001b[0m\u001b[1;33m\u001b[0m\u001b[0m\n",
      "\u001b[1;31mAttributeError\u001b[0m: module 'matplotlib' has no attribute 'title'"
     ]
    },
    {
     "data": {
      "image/png": "[encoded data removed]",
      "text/plain": [
       "<Figure size 720x720 with 2 Axes>"
      ]
     },
     "metadata": {
      "needs_background": "light"
     },
     "output_type": "display_data"
    }
   ],
   "source": [
    "plt.rcParams['figure.figsize']=(10,10)\n",
    "cm = confusion_matrix(Y_test, y_pred)\n",
    "sns.heatmap(cm,annot=True, cmap = \"Wistia\")\n",
    "plt.title('Confusion Matrix for Logistic Regression', fontsize= 15)\n",
    "plt.show()\n",
    "#print(\"Confusion Matrix:\")\n",
    "#print(confusion_matrix(y_test, predictions))"
   ]
  },
  {
   "cell_type": "code",
   "execution_count": 16,
   "id": "50c326bd",
   "metadata": {},
   "outputs": [
    {
     "name": "stdout",
     "output_type": "stream",
     "text": [
      "Classification Report\n",
      "              precision    recall  f1-score   support\n",
      "\n",
      "           0       1.00      1.00      1.00     27892\n",
      "           1       1.00      1.00      1.00     49410\n",
      "\n",
      "    accuracy                           1.00     77302\n",
      "   macro avg       1.00      1.00      1.00     77302\n",
      "weighted avg       1.00      1.00      1.00     77302\n",
      "\n"
     ]
    }
   ],
   "source": [
    "print(\"Classification Report\")\n",
    "print(classification_report(Y_test, y_pred))"
   ]
  },
  {
   "cell_type": "code",
   "execution_count": null,
   "id": "bd5bcfc9",
   "metadata": {},
   "outputs": [],
   "source": [
    "prediction = model.predict((np.array([[40,330,220]])))\n",
    "print(\"T\", prediction)"
   ]
  },
  {
   "cell_type": "code",
   "execution_count": 17,
   "id": "9d24eebb",
   "metadata": {},
   "outputs": [
    {
     "name": "stdout",
     "output_type": "stream",
     "text": [
      "On branch main\n",
      "Your branch is up to date with 'origin/main'.\n",
      "\n",
      "Changes not staged for commit:\n",
      "  (use \"git add <file>...\" to update what will be committed)\n",
      "  (use \"git restore <file>...\" to discard changes in working directory)\n",
      "\tmodified:   ../1.Dataset/Dataset_and_its_Cleaning.ipynb\n",
      "\tmodified:   ../3.Preprocessing/pre_processing.ipynb\n",
      "\tmodified:   DecisionTree.ipynb\n",
      "\tmodified:   GradientBoosterClassifer.ipynb\n",
      "\tmodified:   RandomForest.ipynb\n",
      "\n",
      "Untracked files:\n",
      "  (use \"git add <file>...\" to include in what will be committed)\n",
      "\t../1.Dataset/1.Dataset.7z\n",
      "\t../1.Dataset/cleaned_dataset.csv\n",
      "\t../3.Preprocessing/cleaned_dataset.csv\n",
      "\t../3.Preprocessing/data_minmax\n",
      "\t../3.Preprocessing/dataset_minmax_corr.csv\n",
      "\t../3.Preprocessing/dataset_minmax_pca.csv\n",
      "\n",
      "no changes added to commit (use \"git add\" and/or \"git commit -a\")\n"
     ]
    }
   ],
   "source": [
    "!git status"
   ]
  },
  {
   "cell_type": "code",
   "execution_count": null,
   "id": "ac935148",
   "metadata": {},
   "outputs": [],
   "source": []
  }
 ],
 "metadata": {
  "kernelspec": {
   "display_name": "Python 3",
   "language": "python",
   "name": "python3"
  },
  "language_info": {
   "codemirror_mode": {
    "name": "ipython",
    "version": 3
   },
   "file_extension": ".py",
   "mimetype": "text/x-python",
   "name": "python",
   "nbconvert_exporter": "python",
   "pygments_lexer": "ipython3",
   "version": "3.8.8"
  }
 },
 "nbformat": 4,
 "nbformat_minor": 5
}
