{
  "nbformat": 4,
  "nbformat_minor": 0,
  "metadata": {
    "colab": {
      "name": "ABC.txt",
      "provenance": [],
      "collapsed_sections": []
    },
    "kernelspec": {
      "display_name": "Python 3",
      "language": "python",
      "name": "python3"
    },
    "language_info": {
      "codemirror_mode": {
        "name": "ipython",
        "version": 3
      },
      "file_extension": ".py",
      "mimetype": "text/x-python",
      "name": "python",
      "nbconvert_exporter": "python",
      "pygments_lexer": "ipython3",
      "version": "3.8.8"
    }
  },
  "cells": [
    {
      "cell_type": "markdown",
      "metadata": {
        "id": "Zg8bWVTn7Fyg"
      },
      "source": [
        "# **Project:** Network Attack Detection\n",
        "\n",
        "**Data set:** UNSW-NB15 Dataset\n",
        "\n",
        "**Source of Data set:**  https://research.unsw.edu.au/projects/unsw-nb15-dataset\n",
        "\n",
        "**Information about Data set**\n",
        "> 1. Training set = 82,332 records \n",
        "2. Test set = 175,341 records\n",
        "3. Features = 49 mentioned here. https://cloudstor.aarnet.edu.au/plus/apps/onlyoffice/s/2DhnLGDdEECo4ys?fileId=206777051\n",
        "\n",
        "# What is Intrusion Detection System?\n",
        "\n",
        "Intrusion Detection System (IDS) is a system that monitors network traffic for suspicious activity and issues alerts when such activity is discovered.\n",
        "\n",
        "**Detection Methods of IDS:**\n",
        "\n",
        "**1. Signature-based Method:**\n",
        "\n",
        "It detects the attacks on the basis of the\n",
        "\n",
        "> 1.1. specific patterns such as number of bytes/ number of 1’s or number of 0’s in the network traffic. \n",
        "\n",
        "> 1.2. Known malicious instruction sequence that is used by the malware.\n",
        "\n",
        "**2. Anomaly-detection Method:**\n",
        "\n",
        "It detects the attacks using\n",
        "\n",
        "> 2.1. Machine learning. It creates a trustful activity model and anything coming is compared with that model and it is declared suspicious if it is not found in model \n",
        "\n",
        "**Which method is better?**\n",
        "\n",
        "*Anomaly-detection Method* method is more accepted in comparison to signature-based IDS because the machine learning models can be trained according to the applications and hardware configurations.\n",
        "\n",
        "\n",
        "\n",
        "\n",
        "\n",
        "\n",
        "\n",
        "\n",
        "\n",
        "\n",
        "\n",
        "\n",
        "\n",
        "\n",
        "\n"
      ]
    },
    {
      "cell_type": "code",
      "metadata": {
        "id": "t5eZEw80JFru"
      },
      "source": [
        ""
      ],
      "execution_count": 117,
      "outputs": []
    },
    {
      "cell_type": "markdown",
      "metadata": {
        "id": "1p-efNEWVi2d"
      },
      "source": [
        "# Problem Statement\n",
        "\n",
        "Network security is of prime importance these days. We need to protect our data and systems from attackers. A network attack attempts to gain unauthorized access to the network and take advantage of the vulnerablites of the network. \n",
        "In this project, we will predict the network attack that is happening over the network using the above mentioned dataset. \n",
        "\n",
        "The type of attacks investigated are: \n",
        "1. Fuzzers\n",
        "2. Analysis\n",
        "3. Backdoors\n",
        "4. DoS\n",
        "5. Exploits\n",
        "6. Generic\n",
        "7. Reconnaissance\n",
        "8. Shellcode \n",
        "9. Worms "
      ]
    },
    {
      "cell_type": "code",
      "metadata": {
        "id": "xJWm9mrpbwT2"
      },
      "source": [
        "import pandas as pd   #for dataframes\n",
        "import numpy as np  #for array\n",
        "\n",
        "import warnings\n",
        "warnings.filterwarnings(\"ignore\")\n",
        "from sklearn.preprocessing import StandardScaler,MinMaxScaler\n",
        "from  matplotlib import pyplot\n",
        "from sklearn.preprocessing import OneHotEncoder  #for encoding of categorical columns"
      ],
      "execution_count": 118,
      "outputs": []
    },
    {
      "cell_type": "markdown",
      "metadata": {
        "id": "E4NPLYPDp2Cc"
      },
      "source": [
        "Reading the Dataset csv using the link of another git hub repo. "
      ]
    },
    {
      "cell_type": "code",
      "metadata": {
        "colab": {
          "resources": {
            "http://localhost:8080/nbextensions/google.colab/files.js": {
              "data": "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",
              "ok": true,
              "headers": [
                [
                  "content-type",
                  "application/javascript"
                ]
              ],
              "status": 200,
              "status_text": ""
            }
          },
          "base_uri": "https://localhost:8080/",
          "height": 37
        },
        "id": "jNSn9dfvtJ4U",
        "outputId": "e72d5c9f-ca60-474e-835f-f387cdd28f8b"
      },
      "source": [
        "from google.colab import files\n",
        "uploaded = files.upload()"
      ],
      "execution_count": 119,
      "outputs": [
        {
          "output_type": "display_data",
          "data": {
            "text/html": [
              "\n",
              "     <input type=\"file\" id=\"files-8dc9af52-2238-4ba0-8d0c-3c37df03b38b\" name=\"files[]\" multiple disabled\n",
              "        style=\"border:none\" />\n",
              "     <output id=\"result-8dc9af52-2238-4ba0-8d0c-3c37df03b38b\">\n",
              "      Upload widget is only available when the cell has been executed in the\n",
              "      current browser session. Please rerun this cell to enable.\n",
              "      </output>\n",
              "      <script src=\"/nbextensions/google.colab/files.js\"></script> "
            ],
            "text/plain": [
              "<IPython.core.display.HTML object>"
            ]
          },
          "metadata": {}
        }
      ]
    },
    {
      "cell_type": "code",
      "metadata": {
        "id": "5rGVf2BJlMVo"
      },
      "source": [
        "train = pd.read_csv('UNSW_NB15_testing-set.csv')\n",
        "test = pd.read_csv('UNSW_NB15_training-set.csv')\n",
        "df = train.append(test)\n"
      ],
      "execution_count": 120,
      "outputs": []
    },
    {
      "cell_type": "code",
      "metadata": {
        "colab": {
          "base_uri": "https://localhost:8080/"
        },
        "id": "iWjHoFuClSu5",
        "outputId": "d1e5bad9-2ad7-424b-afa7-545c8207169a"
      },
      "source": [
        "df.shape"
      ],
      "execution_count": 121,
      "outputs": [
        {
          "output_type": "execute_result",
          "data": {
            "text/plain": [
              "(257673, 45)"
            ]
          },
          "metadata": {},
          "execution_count": 121
        }
      ]
    },
    {
      "cell_type": "markdown",
      "metadata": {
        "id": "DyVqlQ9SYt9o"
      },
      "source": [
        "#**Prepare the dataset**\n",
        "\n",
        "---\n",
        "\n"
      ]
    },
    {
      "cell_type": "markdown",
      "metadata": {
        "id": "g4r9msv7qE_8"
      },
      "source": [
        "# Dropping unnecessary columns\n",
        "\n",
        "One such column is 'id'"
      ]
    },
    {
      "cell_type": "code",
      "metadata": {
        "id": "_0X0Q3cFlvdJ",
        "colab": {
          "base_uri": "https://localhost:8080/",
          "height": 226
        },
        "outputId": "1280ccb2-a903-4481-ca99-29376f30650a"
      },
      "source": [
        "df = df.drop(['id'],axis=1)\n",
        "test = test.drop(['id','attack_cat'],axis=1)\n",
        "train = train.drop(['id','attack_cat'],axis=1)\n",
        "df.head()"
      ],
      "execution_count": 122,
      "outputs": [
        {
          "output_type": "execute_result",
          "data": {
            "text/html": [
              "<div>\n",
              "<style scoped>\n",
              "    .dataframe tbody tr th:only-of-type {\n",
              "        vertical-align: middle;\n",
              "    }\n",
              "\n",
              "    .dataframe tbody tr th {\n",
              "        vertical-align: top;\n",
              "    }\n",
              "\n",
              "    .dataframe thead th {\n",
              "        text-align: right;\n",
              "    }\n",
              "</style>\n",
              "<table border=\"1\" class=\"dataframe\">\n",
              "  <thead>\n",
              "    <tr style=\"text-align: right;\">\n",
              "      <th></th>\n",
              "      <th>dur</th>\n",
              "      <th>proto</th>\n",
              "      <th>service</th>\n",
              "      <th>state</th>\n",
              "      <th>spkts</th>\n",
              "      <th>dpkts</th>\n",
              "      <th>sbytes</th>\n",
              "      <th>dbytes</th>\n",
              "      <th>rate</th>\n",
              "      <th>sttl</th>\n",
              "      <th>dttl</th>\n",
              "      <th>sload</th>\n",
              "      <th>dload</th>\n",
              "      <th>sloss</th>\n",
              "      <th>dloss</th>\n",
              "      <th>sinpkt</th>\n",
              "      <th>dinpkt</th>\n",
              "      <th>sjit</th>\n",
              "      <th>djit</th>\n",
              "      <th>swin</th>\n",
              "      <th>stcpb</th>\n",
              "      <th>dtcpb</th>\n",
              "      <th>dwin</th>\n",
              "      <th>tcprtt</th>\n",
              "      <th>synack</th>\n",
              "      <th>ackdat</th>\n",
              "      <th>smean</th>\n",
              "      <th>dmean</th>\n",
              "      <th>trans_depth</th>\n",
              "      <th>response_body_len</th>\n",
              "      <th>ct_srv_src</th>\n",
              "      <th>ct_state_ttl</th>\n",
              "      <th>ct_dst_ltm</th>\n",
              "      <th>ct_src_dport_ltm</th>\n",
              "      <th>ct_dst_sport_ltm</th>\n",
              "      <th>ct_dst_src_ltm</th>\n",
              "      <th>is_ftp_login</th>\n",
              "      <th>ct_ftp_cmd</th>\n",
              "      <th>ct_flw_http_mthd</th>\n",
              "      <th>ct_src_ltm</th>\n",
              "      <th>ct_srv_dst</th>\n",
              "      <th>is_sm_ips_ports</th>\n",
              "      <th>attack_cat</th>\n",
              "      <th>label</th>\n",
              "    </tr>\n",
              "  </thead>\n",
              "  <tbody>\n",
              "    <tr>\n",
              "      <th>0</th>\n",
              "      <td>0.121478</td>\n",
              "      <td>tcp</td>\n",
              "      <td>-</td>\n",
              "      <td>FIN</td>\n",
              "      <td>6</td>\n",
              "      <td>4</td>\n",
              "      <td>258</td>\n",
              "      <td>172</td>\n",
              "      <td>74.087490</td>\n",
              "      <td>252</td>\n",
              "      <td>254</td>\n",
              "      <td>14158.942380</td>\n",
              "      <td>8495.365234</td>\n",
              "      <td>0</td>\n",
              "      <td>0</td>\n",
              "      <td>24.295600</td>\n",
              "      <td>8.375000</td>\n",
              "      <td>30.177547</td>\n",
              "      <td>11.830604</td>\n",
              "      <td>255</td>\n",
              "      <td>621772692</td>\n",
              "      <td>2202533631</td>\n",
              "      <td>255</td>\n",
              "      <td>0.000000</td>\n",
              "      <td>0.000000</td>\n",
              "      <td>0.000000</td>\n",
              "      <td>43</td>\n",
              "      <td>43</td>\n",
              "      <td>0</td>\n",
              "      <td>0</td>\n",
              "      <td>1</td>\n",
              "      <td>0</td>\n",
              "      <td>1</td>\n",
              "      <td>1</td>\n",
              "      <td>1</td>\n",
              "      <td>1</td>\n",
              "      <td>0</td>\n",
              "      <td>0</td>\n",
              "      <td>0</td>\n",
              "      <td>1</td>\n",
              "      <td>1</td>\n",
              "      <td>0</td>\n",
              "      <td>Normal</td>\n",
              "      <td>0</td>\n",
              "    </tr>\n",
              "    <tr>\n",
              "      <th>1</th>\n",
              "      <td>0.649902</td>\n",
              "      <td>tcp</td>\n",
              "      <td>-</td>\n",
              "      <td>FIN</td>\n",
              "      <td>14</td>\n",
              "      <td>38</td>\n",
              "      <td>734</td>\n",
              "      <td>42014</td>\n",
              "      <td>78.473372</td>\n",
              "      <td>62</td>\n",
              "      <td>252</td>\n",
              "      <td>8395.112305</td>\n",
              "      <td>503571.312500</td>\n",
              "      <td>2</td>\n",
              "      <td>17</td>\n",
              "      <td>49.915000</td>\n",
              "      <td>15.432865</td>\n",
              "      <td>61.426934</td>\n",
              "      <td>1387.778330</td>\n",
              "      <td>255</td>\n",
              "      <td>1417884146</td>\n",
              "      <td>3077387971</td>\n",
              "      <td>255</td>\n",
              "      <td>0.000000</td>\n",
              "      <td>0.000000</td>\n",
              "      <td>0.000000</td>\n",
              "      <td>52</td>\n",
              "      <td>1106</td>\n",
              "      <td>0</td>\n",
              "      <td>0</td>\n",
              "      <td>43</td>\n",
              "      <td>1</td>\n",
              "      <td>1</td>\n",
              "      <td>1</td>\n",
              "      <td>1</td>\n",
              "      <td>2</td>\n",
              "      <td>0</td>\n",
              "      <td>0</td>\n",
              "      <td>0</td>\n",
              "      <td>1</td>\n",
              "      <td>6</td>\n",
              "      <td>0</td>\n",
              "      <td>Normal</td>\n",
              "      <td>0</td>\n",
              "    </tr>\n",
              "    <tr>\n",
              "      <th>2</th>\n",
              "      <td>1.623129</td>\n",
              "      <td>tcp</td>\n",
              "      <td>-</td>\n",
              "      <td>FIN</td>\n",
              "      <td>8</td>\n",
              "      <td>16</td>\n",
              "      <td>364</td>\n",
              "      <td>13186</td>\n",
              "      <td>14.170161</td>\n",
              "      <td>62</td>\n",
              "      <td>252</td>\n",
              "      <td>1572.271851</td>\n",
              "      <td>60929.230470</td>\n",
              "      <td>1</td>\n",
              "      <td>6</td>\n",
              "      <td>231.875571</td>\n",
              "      <td>102.737203</td>\n",
              "      <td>17179.586860</td>\n",
              "      <td>11420.926230</td>\n",
              "      <td>255</td>\n",
              "      <td>2116150707</td>\n",
              "      <td>2963114973</td>\n",
              "      <td>255</td>\n",
              "      <td>0.111897</td>\n",
              "      <td>0.061458</td>\n",
              "      <td>0.050439</td>\n",
              "      <td>46</td>\n",
              "      <td>824</td>\n",
              "      <td>0</td>\n",
              "      <td>0</td>\n",
              "      <td>7</td>\n",
              "      <td>1</td>\n",
              "      <td>2</td>\n",
              "      <td>1</td>\n",
              "      <td>1</td>\n",
              "      <td>3</td>\n",
              "      <td>0</td>\n",
              "      <td>0</td>\n",
              "      <td>0</td>\n",
              "      <td>2</td>\n",
              "      <td>6</td>\n",
              "      <td>0</td>\n",
              "      <td>Normal</td>\n",
              "      <td>0</td>\n",
              "    </tr>\n",
              "    <tr>\n",
              "      <th>3</th>\n",
              "      <td>1.681642</td>\n",
              "      <td>tcp</td>\n",
              "      <td>ftp</td>\n",
              "      <td>FIN</td>\n",
              "      <td>12</td>\n",
              "      <td>12</td>\n",
              "      <td>628</td>\n",
              "      <td>770</td>\n",
              "      <td>13.677108</td>\n",
              "      <td>62</td>\n",
              "      <td>252</td>\n",
              "      <td>2740.178955</td>\n",
              "      <td>3358.622070</td>\n",
              "      <td>1</td>\n",
              "      <td>3</td>\n",
              "      <td>152.876547</td>\n",
              "      <td>90.235726</td>\n",
              "      <td>259.080172</td>\n",
              "      <td>4991.784669</td>\n",
              "      <td>255</td>\n",
              "      <td>1107119177</td>\n",
              "      <td>1047442890</td>\n",
              "      <td>255</td>\n",
              "      <td>0.000000</td>\n",
              "      <td>0.000000</td>\n",
              "      <td>0.000000</td>\n",
              "      <td>52</td>\n",
              "      <td>64</td>\n",
              "      <td>0</td>\n",
              "      <td>0</td>\n",
              "      <td>1</td>\n",
              "      <td>1</td>\n",
              "      <td>2</td>\n",
              "      <td>1</td>\n",
              "      <td>1</td>\n",
              "      <td>3</td>\n",
              "      <td>1</td>\n",
              "      <td>1</td>\n",
              "      <td>0</td>\n",
              "      <td>2</td>\n",
              "      <td>1</td>\n",
              "      <td>0</td>\n",
              "      <td>Normal</td>\n",
              "      <td>0</td>\n",
              "    </tr>\n",
              "    <tr>\n",
              "      <th>4</th>\n",
              "      <td>0.449454</td>\n",
              "      <td>tcp</td>\n",
              "      <td>-</td>\n",
              "      <td>FIN</td>\n",
              "      <td>10</td>\n",
              "      <td>6</td>\n",
              "      <td>534</td>\n",
              "      <td>268</td>\n",
              "      <td>33.373826</td>\n",
              "      <td>254</td>\n",
              "      <td>252</td>\n",
              "      <td>8561.499023</td>\n",
              "      <td>3987.059814</td>\n",
              "      <td>2</td>\n",
              "      <td>1</td>\n",
              "      <td>47.750333</td>\n",
              "      <td>75.659602</td>\n",
              "      <td>2415.837634</td>\n",
              "      <td>115.807000</td>\n",
              "      <td>255</td>\n",
              "      <td>2436137549</td>\n",
              "      <td>1977154190</td>\n",
              "      <td>255</td>\n",
              "      <td>0.128381</td>\n",
              "      <td>0.071147</td>\n",
              "      <td>0.057234</td>\n",
              "      <td>53</td>\n",
              "      <td>45</td>\n",
              "      <td>0</td>\n",
              "      <td>0</td>\n",
              "      <td>43</td>\n",
              "      <td>1</td>\n",
              "      <td>2</td>\n",
              "      <td>2</td>\n",
              "      <td>1</td>\n",
              "      <td>40</td>\n",
              "      <td>0</td>\n",
              "      <td>0</td>\n",
              "      <td>0</td>\n",
              "      <td>2</td>\n",
              "      <td>39</td>\n",
              "      <td>0</td>\n",
              "      <td>Normal</td>\n",
              "      <td>0</td>\n",
              "    </tr>\n",
              "  </tbody>\n",
              "</table>\n",
              "</div>"
            ],
            "text/plain": [
              "        dur proto service state  ...  ct_srv_dst  is_sm_ips_ports  attack_cat  label\n",
              "0  0.121478   tcp       -   FIN  ...           1                0      Normal      0\n",
              "1  0.649902   tcp       -   FIN  ...           6                0      Normal      0\n",
              "2  1.623129   tcp       -   FIN  ...           6                0      Normal      0\n",
              "3  1.681642   tcp     ftp   FIN  ...           1                0      Normal      0\n",
              "4  0.449454   tcp       -   FIN  ...          39                0      Normal      0\n",
              "\n",
              "[5 rows x 44 columns]"
            ]
          },
          "metadata": {},
          "execution_count": 122
        }
      ]
    },
    {
      "cell_type": "markdown",
      "metadata": {
        "id": "YWW9JCZBmnYK"
      },
      "source": [
        "When we concatenate two DataFrames then we need to reset the index of the DataFrame. If the dataframe has a multiindex, this method can remove one or more levels. Otherwise if we don't do this, we get an error - \"InvalidIndexError: Reindexing only valid with uniquely valued Index objects\" "
      ]
    },
    {
      "cell_type": "code",
      "metadata": {
        "id": "gV4Bs2GsmnYL"
      },
      "source": [
        "df = df.reset_index(drop=True)"
      ],
      "execution_count": 123,
      "outputs": []
    },
    {
      "cell_type": "markdown",
      "metadata": {
        "id": "_sjIpoAxqOnX"
      },
      "source": [
        "# Check for Missing Values\n",
        "\n",
        "Since the dataset was clean, we donot have any missing values as seen below."
      ]
    },
    {
      "cell_type": "code",
      "metadata": {
        "colab": {
          "base_uri": "https://localhost:8080/"
        },
        "id": "0F_-qSJqMPwX",
        "outputId": "9aaa20cb-02ce-437a-cafd-d1d12dc5446f"
      },
      "source": [
        "# checking for null values\n",
        "df.isnull().sum()"
      ],
      "execution_count": 124,
      "outputs": [
        {
          "output_type": "execute_result",
          "data": {
            "text/plain": [
              "dur                  0\n",
              "proto                0\n",
              "service              0\n",
              "state                0\n",
              "spkts                0\n",
              "dpkts                0\n",
              "sbytes               0\n",
              "dbytes               0\n",
              "rate                 0\n",
              "sttl                 0\n",
              "dttl                 0\n",
              "sload                0\n",
              "dload                0\n",
              "sloss                0\n",
              "dloss                0\n",
              "sinpkt               0\n",
              "dinpkt               0\n",
              "sjit                 0\n",
              "djit                 0\n",
              "swin                 0\n",
              "stcpb                0\n",
              "dtcpb                0\n",
              "dwin                 0\n",
              "tcprtt               0\n",
              "synack               0\n",
              "ackdat               0\n",
              "smean                0\n",
              "dmean                0\n",
              "trans_depth          0\n",
              "response_body_len    0\n",
              "ct_srv_src           0\n",
              "ct_state_ttl         0\n",
              "ct_dst_ltm           0\n",
              "ct_src_dport_ltm     0\n",
              "ct_dst_sport_ltm     0\n",
              "ct_dst_src_ltm       0\n",
              "is_ftp_login         0\n",
              "ct_ftp_cmd           0\n",
              "ct_flw_http_mthd     0\n",
              "ct_src_ltm           0\n",
              "ct_srv_dst           0\n",
              "is_sm_ips_ports      0\n",
              "attack_cat           0\n",
              "label                0\n",
              "dtype: int64"
            ]
          },
          "metadata": {},
          "execution_count": 124
        }
      ]
    },
    {
      "cell_type": "markdown",
      "metadata": {
        "id": "ea2rZc1pq44d"
      },
      "source": [
        "Check what all network attacks are identified by the dataset"
      ]
    },
    {
      "cell_type": "code",
      "metadata": {
        "colab": {
          "base_uri": "https://localhost:8080/"
        },
        "id": "JMN3UOUYMjoj",
        "outputId": "c5ac7b03-8fdd-4c79-aabc-4cb68bab35bf"
      },
      "source": [
        "df['attack_cat'].value_counts()"
      ],
      "execution_count": 125,
      "outputs": [
        {
          "output_type": "execute_result",
          "data": {
            "text/plain": [
              "Normal            93000\n",
              "Generic           58871\n",
              "Exploits          44525\n",
              "Fuzzers           24246\n",
              "DoS               16353\n",
              "Reconnaissance    13987\n",
              "Analysis           2677\n",
              "Backdoor           2329\n",
              "Shellcode          1511\n",
              "Worms               174\n",
              "Name: attack_cat, dtype: int64"
            ]
          },
          "metadata": {},
          "execution_count": 125
        }
      ]
    },
    {
      "cell_type": "markdown",
      "metadata": {
        "id": "Imlk2_rNrnlo"
      },
      "source": [
        "Getting name of all the columns of the dataset to see what should be the expected datatype of each column"
      ]
    },
    {
      "cell_type": "code",
      "metadata": {
        "colab": {
          "base_uri": "https://localhost:8080/"
        },
        "id": "f6Hd9oU6NnEd",
        "outputId": "b00b85f3-a074-4abd-c887-2a8e10298bdb"
      },
      "source": [
        "df.columns"
      ],
      "execution_count": 126,
      "outputs": [
        {
          "output_type": "execute_result",
          "data": {
            "text/plain": [
              "Index(['dur', 'proto', 'service', 'state', 'spkts', 'dpkts', 'sbytes',\n",
              "       'dbytes', 'rate', 'sttl', 'dttl', 'sload', 'dload', 'sloss', 'dloss',\n",
              "       'sinpkt', 'dinpkt', 'sjit', 'djit', 'swin', 'stcpb', 'dtcpb', 'dwin',\n",
              "       'tcprtt', 'synack', 'ackdat', 'smean', 'dmean', 'trans_depth',\n",
              "       'response_body_len', 'ct_srv_src', 'ct_state_ttl', 'ct_dst_ltm',\n",
              "       'ct_src_dport_ltm', 'ct_dst_sport_ltm', 'ct_dst_src_ltm',\n",
              "       'is_ftp_login', 'ct_ftp_cmd', 'ct_flw_http_mthd', 'ct_src_ltm',\n",
              "       'ct_srv_dst', 'is_sm_ips_ports', 'attack_cat', 'label'],\n",
              "      dtype='object')"
            ]
          },
          "metadata": {},
          "execution_count": 126
        }
      ]
    },
    {
      "cell_type": "code",
      "metadata": {
        "colab": {
          "base_uri": "https://localhost:8080/"
        },
        "id": "zdxaYRh5OsQ4",
        "outputId": "59dca794-b0c0-40ee-b865-0900a9595aba"
      },
      "source": [
        "# see if binary columns are really binary\n",
        "for col in 'is_sm_ips_ports', 'is_ftp_login':\n",
        "    print(df[col].value_counts())\n",
        "    print()"
      ],
      "execution_count": 127,
      "outputs": [
        {
          "output_type": "stream",
          "name": "stdout",
          "text": [
            "0    253995\n",
            "1      3678\n",
            "Name: is_sm_ips_ports, dtype: int64\n",
            "\n",
            "0    254428\n",
            "1      3219\n",
            "4        16\n",
            "2        10\n",
            "Name: is_ftp_login, dtype: int64\n",
            "\n"
          ]
        }
      ]
    },
    {
      "cell_type": "markdown",
      "metadata": {
        "id": "nNN-4bJhO2pu"
      },
      "source": [
        "The col \"is_ftp_login\" has wrong values like 2 and 4. It should only have binary values like 0 and 1. If the ftp session is accessed by user using correct username and password then 1, otherwise 0. We need to fix this.\n",
        "\n",
        "Therefore, we are replacing all the values other than 0 and 1 from these two columns."
      ]
    },
    {
      "cell_type": "code",
      "metadata": {
        "id": "O2C4O6mhPQg9"
      },
      "source": [
        "df['is_ftp_login'] = np.where(df['is_ftp_login']>1, 1, df['is_ftp_login'])"
      ],
      "execution_count": 128,
      "outputs": []
    },
    {
      "cell_type": "code",
      "metadata": {
        "colab": {
          "base_uri": "https://localhost:8080/"
        },
        "id": "zulnl_72Pf7b",
        "outputId": "dcd5893c-7107-455f-cca8-5a00a232e348"
      },
      "source": [
        "df['is_ftp_login'].value_counts()"
      ],
      "execution_count": 129,
      "outputs": [
        {
          "output_type": "execute_result",
          "data": {
            "text/plain": [
              "0    254428\n",
              "1      3245\n",
              "Name: is_ftp_login, dtype: int64"
            ]
          },
          "metadata": {},
          "execution_count": 129
        }
      ]
    },
    {
      "cell_type": "code",
      "metadata": {
        "colab": {
          "base_uri": "https://localhost:8080/"
        },
        "id": "HdPW9cufP0cU",
        "outputId": "5beff000-b831-4518-d61b-ccfe03089352"
      },
      "source": [
        "df['service'].value_counts()"
      ],
      "execution_count": 130,
      "outputs": [
        {
          "output_type": "execute_result",
          "data": {
            "text/plain": [
              "-           141321\n",
              "dns          68661\n",
              "http         27011\n",
              "smtp          6909\n",
              "ftp-data      5391\n",
              "ftp           4980\n",
              "pop3          1528\n",
              "ssh           1506\n",
              "dhcp           120\n",
              "snmp           109\n",
              "ssl             86\n",
              "irc             30\n",
              "radius          21\n",
              "Name: service, dtype: int64"
            ]
          },
          "metadata": {},
          "execution_count": 130
        }
      ]
    },
    {
      "cell_type": "markdown",
      "metadata": {
        "id": "OS_lTMWgPpIZ"
      },
      "source": [
        "In the feature \"service\" we see that we have \"-\". We need to replace that as well."
      ]
    },
    {
      "cell_type": "code",
      "metadata": {
        "id": "vlfCBWIQPzFI"
      },
      "source": [
        "# removing all the \"-\" and replacing those with \"None\"\n",
        "df['service'] = df['service'].apply(lambda x:\"None\" if x==\"-\" else x)"
      ],
      "execution_count": 131,
      "outputs": []
    },
    {
      "cell_type": "code",
      "metadata": {
        "colab": {
          "base_uri": "https://localhost:8080/"
        },
        "id": "E-1vkX1vQB7F",
        "outputId": "cad02d52-b350-425b-eacc-dd5eb12a8035"
      },
      "source": [
        "df['service'].value_counts()"
      ],
      "execution_count": 132,
      "outputs": [
        {
          "output_type": "execute_result",
          "data": {
            "text/plain": [
              "None        141321\n",
              "dns          68661\n",
              "http         27011\n",
              "smtp          6909\n",
              "ftp-data      5391\n",
              "ftp           4980\n",
              "pop3          1528\n",
              "ssh           1506\n",
              "dhcp           120\n",
              "snmp           109\n",
              "ssl             86\n",
              "irc             30\n",
              "radius          21\n",
              "Name: service, dtype: int64"
            ]
          },
          "metadata": {},
          "execution_count": 132
        }
      ]
    },
    {
      "cell_type": "code",
      "metadata": {
        "id": "BoKvsmikQUNg"
      },
      "source": [
        "# df = df.drop(columns=['attack_cat'])"
      ],
      "execution_count": 133,
      "outputs": []
    },
    {
      "cell_type": "code",
      "metadata": {
        "colab": {
          "base_uri": "https://localhost:8080/"
        },
        "id": "mx9NAgfhmnYb",
        "outputId": "18264f69-00f7-40ea-8cdf-8346d761ae52"
      },
      "source": [
        "df['attack_cat'].value_counts()"
      ],
      "execution_count": 134,
      "outputs": [
        {
          "output_type": "execute_result",
          "data": {
            "text/plain": [
              "Normal            93000\n",
              "Generic           58871\n",
              "Exploits          44525\n",
              "Fuzzers           24246\n",
              "DoS               16353\n",
              "Reconnaissance    13987\n",
              "Analysis           2677\n",
              "Backdoor           2329\n",
              "Shellcode          1511\n",
              "Worms               174\n",
              "Name: attack_cat, dtype: int64"
            ]
          },
          "metadata": {},
          "execution_count": 134
        }
      ]
    },
    {
      "cell_type": "markdown",
      "metadata": {
        "id": "n8Aq_MncW85s"
      },
      "source": [
        "# Label encoding\n",
        "\n",
        "\n",
        "\n",
        "In our dataset we have few categorical columns with text data. But when we apply ML models to our data, then we need every data to be numerical. \n",
        "\n",
        "So we have to convert categorical columns to numerical columns in some way. We will use one hot encoder where we will assign 1 if the value is present for the row and rest of the columns will be 0."
      ]
    },
    {
      "cell_type": "code",
      "metadata": {
        "id": "83kDnXFdY6Nd"
      },
      "source": [
        "from sklearn.preprocessing import LabelEncoder\n",
        "\n",
        "categorical = []\n",
        "for col in train.columns:\n",
        "    if train[col].dtype == 'object':\n",
        "             categorical.append(col)\n",
        "\n",
        "for col in categorical:\n",
        "        le = LabelEncoder()\n",
        "        le.fit(list(train[col].astype(str).values) + list(test[col].astype(str).values))\n",
        "        train[col] = le.transform(list(train[col].astype(str).values))\n",
        "        test[col] = le.transform(list(test[col].astype(str).values))"
      ],
      "execution_count": 135,
      "outputs": []
    },
    {
      "cell_type": "markdown",
      "metadata": {
        "id": "fwqPtbBAZwDQ"
      },
      "source": [
        "#More EDA can be seen here: https://github.com/divyaKh/CMPE255Project/blob/main/2.EDA/Exploratory_Data_Analysis.ipynb"
      ]
    },
    {
      "cell_type": "code",
      "metadata": {
        "colab": {
          "base_uri": "https://localhost:8080/"
        },
        "id": "V3MRj5W4mUHo",
        "outputId": "8544f98c-0b26-4735-e038-88b8fd28e134"
      },
      "source": [
        "test.shape"
      ],
      "execution_count": 136,
      "outputs": [
        {
          "output_type": "execute_result",
          "data": {
            "text/plain": [
              "(82332, 43)"
            ]
          },
          "metadata": {},
          "execution_count": 136
        }
      ]
    },
    {
      "cell_type": "markdown",
      "metadata": {
        "id": "gcF7gZnFOoCi"
      },
      "source": [
        "#Feature importances on combined dataset\n",
        "\n"
      ]
    },
    {
      "cell_type": "markdown",
      "metadata": {
        "id": "xKf2Ht3NO1nk"
      },
      "source": [
        "We will be using decison tree feature importance"
      ]
    },
    {
      "cell_type": "markdown",
      "metadata": {
        "id": "XFtjhDeFg9i1"
      },
      "source": [
        "#**CART classification**"
      ]
    },
    {
      "cell_type": "code",
      "metadata": {
        "colab": {
          "base_uri": "https://localhost:8080/"
        },
        "id": "dycgueezqk3a",
        "outputId": "b18a3932-63e5-470b-97cc-c80d5c4067a5"
      },
      "source": [
        "from sklearn.tree import DecisionTreeClassifier\n",
        "combine = pd.DataFrame()\n",
        "importance_dict = pd.DataFrame()\n",
        "combine = train.append(test)\n",
        "clf = DecisionTreeClassifier()\n",
        "X=combine.drop(columns='label')\n",
        "y=combine['label']\n",
        "clf.fit(X, y)\n",
        "feature_importance = clf.feature_importances_\n",
        "importance_dict['combined'] =  feature_importance\n",
        "importance_dict['combined']\n",
        "\n"
      ],
      "execution_count": 137,
      "outputs": [
        {
          "output_type": "execute_result",
          "data": {
            "text/plain": [
              "0     0.006506\n",
              "1     0.001610\n",
              "2     0.002617\n",
              "3     0.000611\n",
              "4     0.005686\n",
              "5     0.003100\n",
              "6     0.037685\n",
              "7     0.017365\n",
              "8     0.007189\n",
              "9     0.537624\n",
              "10    0.000180\n",
              "11    0.010849\n",
              "12    0.008630\n",
              "13    0.002467\n",
              "14    0.000410\n",
              "15    0.009932\n",
              "16    0.006064\n",
              "17    0.006687\n",
              "18    0.007683\n",
              "19    0.000008\n",
              "20    0.009871\n",
              "21    0.010480\n",
              "22    0.000000\n",
              "23    0.009095\n",
              "24    0.066283\n",
              "25    0.008424\n",
              "26    0.065729\n",
              "27    0.011334\n",
              "28    0.004002\n",
              "29    0.003075\n",
              "30    0.018331\n",
              "31    0.000395\n",
              "32    0.005093\n",
              "33    0.003918\n",
              "34    0.003375\n",
              "35    0.037104\n",
              "36    0.000091\n",
              "37    0.000048\n",
              "38    0.001104\n",
              "39    0.007401\n",
              "40    0.061941\n",
              "41    0.000000\n",
              "Name: combined, dtype: float64"
            ]
          },
          "metadata": {},
          "execution_count": 137
        }
      ]
    },
    {
      "cell_type": "code",
      "metadata": {
        "colab": {
          "base_uri": "https://localhost:8080/",
          "height": 1000
        },
        "id": "TSV3I1HZs4xv",
        "outputId": "a12d22b9-f316-4243-9a00-5819d2f8dad5"
      },
      "source": [
        "# define the model\n",
        "model = DecisionTreeClassifier()\n",
        "# fit the model\n",
        "model.fit(X, y)\n",
        "# get importance\n",
        "importance = model.feature_importances_\n",
        "# summarize feature importance\n",
        "for i,v in enumerate(importance):\n",
        "\tprint('Feature: %0d, Score: %.5f' % (i,v))\n",
        "# plot feature importance\n",
        "pyplot.bar([x for x in range(len(importance))], importance)\n",
        "pyplot.show()"
      ],
      "execution_count": 138,
      "outputs": [
        {
          "output_type": "stream",
          "name": "stdout",
          "text": [
            "Feature: 0, Score: 0.00673\n",
            "Feature: 1, Score: 0.00169\n",
            "Feature: 2, Score: 0.00259\n",
            "Feature: 3, Score: 0.00055\n",
            "Feature: 4, Score: 0.00580\n",
            "Feature: 5, Score: 0.00319\n",
            "Feature: 6, Score: 0.03701\n",
            "Feature: 7, Score: 0.01859\n",
            "Feature: 8, Score: 0.00686\n",
            "Feature: 9, Score: 0.53777\n",
            "Feature: 10, Score: 0.00002\n",
            "Feature: 11, Score: 0.01070\n",
            "Feature: 12, Score: 0.00872\n",
            "Feature: 13, Score: 0.00228\n",
            "Feature: 14, Score: 0.00043\n",
            "Feature: 15, Score: 0.00945\n",
            "Feature: 16, Score: 0.00602\n",
            "Feature: 17, Score: 0.00691\n",
            "Feature: 18, Score: 0.00686\n",
            "Feature: 19, Score: 0.00000\n",
            "Feature: 20, Score: 0.01020\n",
            "Feature: 21, Score: 0.01074\n",
            "Feature: 22, Score: 0.00000\n",
            "Feature: 23, Score: 0.00873\n",
            "Feature: 24, Score: 0.06681\n",
            "Feature: 25, Score: 0.00878\n",
            "Feature: 26, Score: 0.06656\n",
            "Feature: 27, Score: 0.01015\n",
            "Feature: 28, Score: 0.00103\n",
            "Feature: 29, Score: 0.00300\n",
            "Feature: 30, Score: 0.01802\n",
            "Feature: 31, Score: 0.00029\n",
            "Feature: 32, Score: 0.00529\n",
            "Feature: 33, Score: 0.00415\n",
            "Feature: 34, Score: 0.00341\n",
            "Feature: 35, Score: 0.03684\n",
            "Feature: 36, Score: 0.00010\n",
            "Feature: 37, Score: 0.00004\n",
            "Feature: 38, Score: 0.00407\n",
            "Feature: 39, Score: 0.00742\n",
            "Feature: 40, Score: 0.06221\n",
            "Feature: 41, Score: 0.00000\n"
          ]
        },
        {
          "output_type": "display_data",
          "data": {
            "image/png": "[encoded data removed]",
            "text/plain": [
              "<Figure size 432x288 with 1 Axes>"
            ]
          },
          "metadata": {
            "needs_background": "light"
          }
        }
      ]
    },
    {
      "cell_type": "code",
      "metadata": {
        "colab": {
          "base_uri": "https://localhost:8080/",
          "height": 444
        },
        "id": "HZwxVmzZxQRJ",
        "outputId": "1af776ad-8018-4070-a8f5-ee5ac553defa"
      },
      "source": [
        "combine"
      ],
      "execution_count": 139,
      "outputs": [
        {
          "output_type": "execute_result",
          "data": {
            "text/html": [
              "<div>\n",
              "<style scoped>\n",
              "    .dataframe tbody tr th:only-of-type {\n",
              "        vertical-align: middle;\n",
              "    }\n",
              "\n",
              "    .dataframe tbody tr th {\n",
              "        vertical-align: top;\n",
              "    }\n",
              "\n",
              "    .dataframe thead th {\n",
              "        text-align: right;\n",
              "    }\n",
              "</style>\n",
              "<table border=\"1\" class=\"dataframe\">\n",
              "  <thead>\n",
              "    <tr style=\"text-align: right;\">\n",
              "      <th></th>\n",
              "      <th>dur</th>\n",
              "      <th>proto</th>\n",
              "      <th>service</th>\n",
              "      <th>state</th>\n",
              "      <th>spkts</th>\n",
              "      <th>dpkts</th>\n",
              "      <th>sbytes</th>\n",
              "      <th>dbytes</th>\n",
              "      <th>rate</th>\n",
              "      <th>sttl</th>\n",
              "      <th>dttl</th>\n",
              "      <th>sload</th>\n",
              "      <th>dload</th>\n",
              "      <th>sloss</th>\n",
              "      <th>dloss</th>\n",
              "      <th>sinpkt</th>\n",
              "      <th>dinpkt</th>\n",
              "      <th>sjit</th>\n",
              "      <th>djit</th>\n",
              "      <th>swin</th>\n",
              "      <th>stcpb</th>\n",
              "      <th>dtcpb</th>\n",
              "      <th>dwin</th>\n",
              "      <th>tcprtt</th>\n",
              "      <th>synack</th>\n",
              "      <th>ackdat</th>\n",
              "      <th>smean</th>\n",
              "      <th>dmean</th>\n",
              "      <th>trans_depth</th>\n",
              "      <th>response_body_len</th>\n",
              "      <th>ct_srv_src</th>\n",
              "      <th>ct_state_ttl</th>\n",
              "      <th>ct_dst_ltm</th>\n",
              "      <th>ct_src_dport_ltm</th>\n",
              "      <th>ct_dst_sport_ltm</th>\n",
              "      <th>ct_dst_src_ltm</th>\n",
              "      <th>is_ftp_login</th>\n",
              "      <th>ct_ftp_cmd</th>\n",
              "      <th>ct_flw_http_mthd</th>\n",
              "      <th>ct_src_ltm</th>\n",
              "      <th>ct_srv_dst</th>\n",
              "      <th>is_sm_ips_ports</th>\n",
              "      <th>label</th>\n",
              "    </tr>\n",
              "  </thead>\n",
              "  <tbody>\n",
              "    <tr>\n",
              "      <th>0</th>\n",
              "      <td>0.121478</td>\n",
              "      <td>113</td>\n",
              "      <td>0</td>\n",
              "      <td>4</td>\n",
              "      <td>6</td>\n",
              "      <td>4</td>\n",
              "      <td>258</td>\n",
              "      <td>172</td>\n",
              "      <td>74.087490</td>\n",
              "      <td>252</td>\n",
              "      <td>254</td>\n",
              "      <td>1.415894e+04</td>\n",
              "      <td>8495.365234</td>\n",
              "      <td>0</td>\n",
              "      <td>0</td>\n",
              "      <td>24.295600</td>\n",
              "      <td>8.375000</td>\n",
              "      <td>30.177547</td>\n",
              "      <td>11.830604</td>\n",
              "      <td>255</td>\n",
              "      <td>621772692</td>\n",
              "      <td>2202533631</td>\n",
              "      <td>255</td>\n",
              "      <td>0.000000</td>\n",
              "      <td>0.000000</td>\n",
              "      <td>0.000000</td>\n",
              "      <td>43</td>\n",
              "      <td>43</td>\n",
              "      <td>0</td>\n",
              "      <td>0</td>\n",
              "      <td>1</td>\n",
              "      <td>0</td>\n",
              "      <td>1</td>\n",
              "      <td>1</td>\n",
              "      <td>1</td>\n",
              "      <td>1</td>\n",
              "      <td>0</td>\n",
              "      <td>0</td>\n",
              "      <td>0</td>\n",
              "      <td>1</td>\n",
              "      <td>1</td>\n",
              "      <td>0</td>\n",
              "      <td>0</td>\n",
              "    </tr>\n",
              "    <tr>\n",
              "      <th>1</th>\n",
              "      <td>0.649902</td>\n",
              "      <td>113</td>\n",
              "      <td>0</td>\n",
              "      <td>4</td>\n",
              "      <td>14</td>\n",
              "      <td>38</td>\n",
              "      <td>734</td>\n",
              "      <td>42014</td>\n",
              "      <td>78.473372</td>\n",
              "      <td>62</td>\n",
              "      <td>252</td>\n",
              "      <td>8.395112e+03</td>\n",
              "      <td>503571.312500</td>\n",
              "      <td>2</td>\n",
              "      <td>17</td>\n",
              "      <td>49.915000</td>\n",
              "      <td>15.432865</td>\n",
              "      <td>61.426934</td>\n",
              "      <td>1387.778330</td>\n",
              "      <td>255</td>\n",
              "      <td>1417884146</td>\n",
              "      <td>3077387971</td>\n",
              "      <td>255</td>\n",
              "      <td>0.000000</td>\n",
              "      <td>0.000000</td>\n",
              "      <td>0.000000</td>\n",
              "      <td>52</td>\n",
              "      <td>1106</td>\n",
              "      <td>0</td>\n",
              "      <td>0</td>\n",
              "      <td>43</td>\n",
              "      <td>1</td>\n",
              "      <td>1</td>\n",
              "      <td>1</td>\n",
              "      <td>1</td>\n",
              "      <td>2</td>\n",
              "      <td>0</td>\n",
              "      <td>0</td>\n",
              "      <td>0</td>\n",
              "      <td>1</td>\n",
              "      <td>6</td>\n",
              "      <td>0</td>\n",
              "      <td>0</td>\n",
              "    </tr>\n",
              "    <tr>\n",
              "      <th>2</th>\n",
              "      <td>1.623129</td>\n",
              "      <td>113</td>\n",
              "      <td>0</td>\n",
              "      <td>4</td>\n",
              "      <td>8</td>\n",
              "      <td>16</td>\n",
              "      <td>364</td>\n",
              "      <td>13186</td>\n",
              "      <td>14.170161</td>\n",
              "      <td>62</td>\n",
              "      <td>252</td>\n",
              "      <td>1.572272e+03</td>\n",
              "      <td>60929.230470</td>\n",
              "      <td>1</td>\n",
              "      <td>6</td>\n",
              "      <td>231.875571</td>\n",
              "      <td>102.737203</td>\n",
              "      <td>17179.586860</td>\n",
              "      <td>11420.926230</td>\n",
              "      <td>255</td>\n",
              "      <td>2116150707</td>\n",
              "      <td>2963114973</td>\n",
              "      <td>255</td>\n",
              "      <td>0.111897</td>\n",
              "      <td>0.061458</td>\n",
              "      <td>0.050439</td>\n",
              "      <td>46</td>\n",
              "      <td>824</td>\n",
              "      <td>0</td>\n",
              "      <td>0</td>\n",
              "      <td>7</td>\n",
              "      <td>1</td>\n",
              "      <td>2</td>\n",
              "      <td>1</td>\n",
              "      <td>1</td>\n",
              "      <td>3</td>\n",
              "      <td>0</td>\n",
              "      <td>0</td>\n",
              "      <td>0</td>\n",
              "      <td>2</td>\n",
              "      <td>6</td>\n",
              "      <td>0</td>\n",
              "      <td>0</td>\n",
              "    </tr>\n",
              "    <tr>\n",
              "      <th>3</th>\n",
              "      <td>1.681642</td>\n",
              "      <td>113</td>\n",
              "      <td>3</td>\n",
              "      <td>4</td>\n",
              "      <td>12</td>\n",
              "      <td>12</td>\n",
              "      <td>628</td>\n",
              "      <td>770</td>\n",
              "      <td>13.677108</td>\n",
              "      <td>62</td>\n",
              "      <td>252</td>\n",
              "      <td>2.740179e+03</td>\n",
              "      <td>3358.622070</td>\n",
              "      <td>1</td>\n",
              "      <td>3</td>\n",
              "      <td>152.876547</td>\n",
              "      <td>90.235726</td>\n",
              "      <td>259.080172</td>\n",
              "      <td>4991.784669</td>\n",
              "      <td>255</td>\n",
              "      <td>1107119177</td>\n",
              "      <td>1047442890</td>\n",
              "      <td>255</td>\n",
              "      <td>0.000000</td>\n",
              "      <td>0.000000</td>\n",
              "      <td>0.000000</td>\n",
              "      <td>52</td>\n",
              "      <td>64</td>\n",
              "      <td>0</td>\n",
              "      <td>0</td>\n",
              "      <td>1</td>\n",
              "      <td>1</td>\n",
              "      <td>2</td>\n",
              "      <td>1</td>\n",
              "      <td>1</td>\n",
              "      <td>3</td>\n",
              "      <td>1</td>\n",
              "      <td>1</td>\n",
              "      <td>0</td>\n",
              "      <td>2</td>\n",
              "      <td>1</td>\n",
              "      <td>0</td>\n",
              "      <td>0</td>\n",
              "    </tr>\n",
              "    <tr>\n",
              "      <th>4</th>\n",
              "      <td>0.449454</td>\n",
              "      <td>113</td>\n",
              "      <td>0</td>\n",
              "      <td>4</td>\n",
              "      <td>10</td>\n",
              "      <td>6</td>\n",
              "      <td>534</td>\n",
              "      <td>268</td>\n",
              "      <td>33.373826</td>\n",
              "      <td>254</td>\n",
              "      <td>252</td>\n",
              "      <td>8.561499e+03</td>\n",
              "      <td>3987.059814</td>\n",
              "      <td>2</td>\n",
              "      <td>1</td>\n",
              "      <td>47.750333</td>\n",
              "      <td>75.659602</td>\n",
              "      <td>2415.837634</td>\n",
              "      <td>115.807000</td>\n",
              "      <td>255</td>\n",
              "      <td>2436137549</td>\n",
              "      <td>1977154190</td>\n",
              "      <td>255</td>\n",
              "      <td>0.128381</td>\n",
              "      <td>0.071147</td>\n",
              "      <td>0.057234</td>\n",
              "      <td>53</td>\n",
              "      <td>45</td>\n",
              "      <td>0</td>\n",
              "      <td>0</td>\n",
              "      <td>43</td>\n",
              "      <td>1</td>\n",
              "      <td>2</td>\n",
              "      <td>2</td>\n",
              "      <td>1</td>\n",
              "      <td>40</td>\n",
              "      <td>0</td>\n",
              "      <td>0</td>\n",
              "      <td>0</td>\n",
              "      <td>2</td>\n",
              "      <td>39</td>\n",
              "      <td>0</td>\n",
              "      <td>0</td>\n",
              "    </tr>\n",
              "    <tr>\n",
              "      <th>...</th>\n",
              "      <td>...</td>\n",
              "      <td>...</td>\n",
              "      <td>...</td>\n",
              "      <td>...</td>\n",
              "      <td>...</td>\n",
              "      <td>...</td>\n",
              "      <td>...</td>\n",
              "      <td>...</td>\n",
              "      <td>...</td>\n",
              "      <td>...</td>\n",
              "      <td>...</td>\n",
              "      <td>...</td>\n",
              "      <td>...</td>\n",
              "      <td>...</td>\n",
              "      <td>...</td>\n",
              "      <td>...</td>\n",
              "      <td>...</td>\n",
              "      <td>...</td>\n",
              "      <td>...</td>\n",
              "      <td>...</td>\n",
              "      <td>...</td>\n",
              "      <td>...</td>\n",
              "      <td>...</td>\n",
              "      <td>...</td>\n",
              "      <td>...</td>\n",
              "      <td>...</td>\n",
              "      <td>...</td>\n",
              "      <td>...</td>\n",
              "      <td>...</td>\n",
              "      <td>...</td>\n",
              "      <td>...</td>\n",
              "      <td>...</td>\n",
              "      <td>...</td>\n",
              "      <td>...</td>\n",
              "      <td>...</td>\n",
              "      <td>...</td>\n",
              "      <td>...</td>\n",
              "      <td>...</td>\n",
              "      <td>...</td>\n",
              "      <td>...</td>\n",
              "      <td>...</td>\n",
              "      <td>...</td>\n",
              "      <td>...</td>\n",
              "    </tr>\n",
              "    <tr>\n",
              "      <th>82327</th>\n",
              "      <td>0.000005</td>\n",
              "      <td>119</td>\n",
              "      <td>0</td>\n",
              "      <td>5</td>\n",
              "      <td>2</td>\n",
              "      <td>0</td>\n",
              "      <td>104</td>\n",
              "      <td>0</td>\n",
              "      <td>200000.005100</td>\n",
              "      <td>254</td>\n",
              "      <td>0</td>\n",
              "      <td>8.320000e+07</td>\n",
              "      <td>0.000000</td>\n",
              "      <td>0</td>\n",
              "      <td>0</td>\n",
              "      <td>0.005000</td>\n",
              "      <td>0.000000</td>\n",
              "      <td>0.000000</td>\n",
              "      <td>0.000000</td>\n",
              "      <td>0</td>\n",
              "      <td>0</td>\n",
              "      <td>0</td>\n",
              "      <td>0</td>\n",
              "      <td>0.000000</td>\n",
              "      <td>0.000000</td>\n",
              "      <td>0.000000</td>\n",
              "      <td>52</td>\n",
              "      <td>0</td>\n",
              "      <td>0</td>\n",
              "      <td>0</td>\n",
              "      <td>1</td>\n",
              "      <td>2</td>\n",
              "      <td>2</td>\n",
              "      <td>1</td>\n",
              "      <td>1</td>\n",
              "      <td>2</td>\n",
              "      <td>0</td>\n",
              "      <td>0</td>\n",
              "      <td>0</td>\n",
              "      <td>2</td>\n",
              "      <td>1</td>\n",
              "      <td>0</td>\n",
              "      <td>0</td>\n",
              "    </tr>\n",
              "    <tr>\n",
              "      <th>82328</th>\n",
              "      <td>1.106101</td>\n",
              "      <td>113</td>\n",
              "      <td>0</td>\n",
              "      <td>4</td>\n",
              "      <td>20</td>\n",
              "      <td>8</td>\n",
              "      <td>18062</td>\n",
              "      <td>354</td>\n",
              "      <td>24.410067</td>\n",
              "      <td>254</td>\n",
              "      <td>252</td>\n",
              "      <td>1.241044e+05</td>\n",
              "      <td>2242.109863</td>\n",
              "      <td>7</td>\n",
              "      <td>1</td>\n",
              "      <td>55.880051</td>\n",
              "      <td>143.700000</td>\n",
              "      <td>4798.130981</td>\n",
              "      <td>190.980813</td>\n",
              "      <td>255</td>\n",
              "      <td>1072535109</td>\n",
              "      <td>3284291478</td>\n",
              "      <td>255</td>\n",
              "      <td>0.173208</td>\n",
              "      <td>0.100191</td>\n",
              "      <td>0.073017</td>\n",
              "      <td>903</td>\n",
              "      <td>44</td>\n",
              "      <td>0</td>\n",
              "      <td>0</td>\n",
              "      <td>1</td>\n",
              "      <td>1</td>\n",
              "      <td>2</td>\n",
              "      <td>1</td>\n",
              "      <td>1</td>\n",
              "      <td>1</td>\n",
              "      <td>0</td>\n",
              "      <td>0</td>\n",
              "      <td>0</td>\n",
              "      <td>3</td>\n",
              "      <td>2</td>\n",
              "      <td>0</td>\n",
              "      <td>0</td>\n",
              "    </tr>\n",
              "    <tr>\n",
              "      <th>82329</th>\n",
              "      <td>0.000000</td>\n",
              "      <td>6</td>\n",
              "      <td>0</td>\n",
              "      <td>5</td>\n",
              "      <td>1</td>\n",
              "      <td>0</td>\n",
              "      <td>46</td>\n",
              "      <td>0</td>\n",
              "      <td>0.000000</td>\n",
              "      <td>0</td>\n",
              "      <td>0</td>\n",
              "      <td>0.000000e+00</td>\n",
              "      <td>0.000000</td>\n",
              "      <td>0</td>\n",
              "      <td>0</td>\n",
              "      <td>60000.720000</td>\n",
              "      <td>0.000000</td>\n",
              "      <td>0.000000</td>\n",
              "      <td>0.000000</td>\n",
              "      <td>0</td>\n",
              "      <td>0</td>\n",
              "      <td>0</td>\n",
              "      <td>0</td>\n",
              "      <td>0.000000</td>\n",
              "      <td>0.000000</td>\n",
              "      <td>0.000000</td>\n",
              "      <td>46</td>\n",
              "      <td>0</td>\n",
              "      <td>0</td>\n",
              "      <td>0</td>\n",
              "      <td>1</td>\n",
              "      <td>2</td>\n",
              "      <td>1</td>\n",
              "      <td>1</td>\n",
              "      <td>1</td>\n",
              "      <td>1</td>\n",
              "      <td>0</td>\n",
              "      <td>0</td>\n",
              "      <td>0</td>\n",
              "      <td>1</td>\n",
              "      <td>1</td>\n",
              "      <td>1</td>\n",
              "      <td>0</td>\n",
              "    </tr>\n",
              "    <tr>\n",
              "      <th>82330</th>\n",
              "      <td>0.000000</td>\n",
              "      <td>6</td>\n",
              "      <td>0</td>\n",
              "      <td>5</td>\n",
              "      <td>1</td>\n",
              "      <td>0</td>\n",
              "      <td>46</td>\n",
              "      <td>0</td>\n",
              "      <td>0.000000</td>\n",
              "      <td>0</td>\n",
              "      <td>0</td>\n",
              "      <td>0.000000e+00</td>\n",
              "      <td>0.000000</td>\n",
              "      <td>0</td>\n",
              "      <td>0</td>\n",
              "      <td>60000.732000</td>\n",
              "      <td>0.000000</td>\n",
              "      <td>10.954518</td>\n",
              "      <td>0.000000</td>\n",
              "      <td>0</td>\n",
              "      <td>0</td>\n",
              "      <td>0</td>\n",
              "      <td>0</td>\n",
              "      <td>0.000000</td>\n",
              "      <td>0.000000</td>\n",
              "      <td>0.000000</td>\n",
              "      <td>46</td>\n",
              "      <td>0</td>\n",
              "      <td>0</td>\n",
              "      <td>0</td>\n",
              "      <td>1</td>\n",
              "      <td>2</td>\n",
              "      <td>1</td>\n",
              "      <td>1</td>\n",
              "      <td>1</td>\n",
              "      <td>1</td>\n",
              "      <td>0</td>\n",
              "      <td>0</td>\n",
              "      <td>0</td>\n",
              "      <td>1</td>\n",
              "      <td>1</td>\n",
              "      <td>1</td>\n",
              "      <td>0</td>\n",
              "    </tr>\n",
              "    <tr>\n",
              "      <th>82331</th>\n",
              "      <td>0.000009</td>\n",
              "      <td>119</td>\n",
              "      <td>0</td>\n",
              "      <td>5</td>\n",
              "      <td>2</td>\n",
              "      <td>0</td>\n",
              "      <td>104</td>\n",
              "      <td>0</td>\n",
              "      <td>111111.107200</td>\n",
              "      <td>254</td>\n",
              "      <td>0</td>\n",
              "      <td>4.622222e+07</td>\n",
              "      <td>0.000000</td>\n",
              "      <td>0</td>\n",
              "      <td>0</td>\n",
              "      <td>0.009000</td>\n",
              "      <td>0.000000</td>\n",
              "      <td>0.000000</td>\n",
              "      <td>0.000000</td>\n",
              "      <td>0</td>\n",
              "      <td>0</td>\n",
              "      <td>0</td>\n",
              "      <td>0</td>\n",
              "      <td>0.000000</td>\n",
              "      <td>0.000000</td>\n",
              "      <td>0.000000</td>\n",
              "      <td>52</td>\n",
              "      <td>0</td>\n",
              "      <td>0</td>\n",
              "      <td>0</td>\n",
              "      <td>1</td>\n",
              "      <td>2</td>\n",
              "      <td>1</td>\n",
              "      <td>1</td>\n",
              "      <td>1</td>\n",
              "      <td>1</td>\n",
              "      <td>0</td>\n",
              "      <td>0</td>\n",
              "      <td>0</td>\n",
              "      <td>1</td>\n",
              "      <td>1</td>\n",
              "      <td>0</td>\n",
              "      <td>0</td>\n",
              "    </tr>\n",
              "  </tbody>\n",
              "</table>\n",
              "<p>257673 rows × 43 columns</p>\n",
              "</div>"
            ],
            "text/plain": [
              "            dur  proto  service  ...  ct_srv_dst  is_sm_ips_ports  label\n",
              "0      0.121478    113        0  ...           1                0      0\n",
              "1      0.649902    113        0  ...           6                0      0\n",
              "2      1.623129    113        0  ...           6                0      0\n",
              "3      1.681642    113        3  ...           1                0      0\n",
              "4      0.449454    113        0  ...          39                0      0\n",
              "...         ...    ...      ...  ...         ...              ...    ...\n",
              "82327  0.000005    119        0  ...           1                0      0\n",
              "82328  1.106101    113        0  ...           2                0      0\n",
              "82329  0.000000      6        0  ...           1                1      0\n",
              "82330  0.000000      6        0  ...           1                1      0\n",
              "82331  0.000009    119        0  ...           1                0      0\n",
              "\n",
              "[257673 rows x 43 columns]"
            ]
          },
          "metadata": {},
          "execution_count": 139
        }
      ]
    },
    {
      "cell_type": "code",
      "metadata": {
        "colab": {
          "base_uri": "https://localhost:8080/"
        },
        "id": "MULNRKWBt8BX",
        "outputId": "14b80c43-de3b-44cc-de43-4337b82a605f"
      },
      "source": [
        "combine.shape"
      ],
      "execution_count": 140,
      "outputs": [
        {
          "output_type": "execute_result",
          "data": {
            "text/plain": [
              "(257673, 43)"
            ]
          },
          "metadata": {},
          "execution_count": 140
        }
      ]
    },
    {
      "cell_type": "markdown",
      "metadata": {
        "id": "qS5oBq7xujbR"
      },
      "source": [
        "#Preprocessing : "
      ]
    },
    {
      "cell_type": "code",
      "metadata": {
        "id": "5VbNUzvSupOX"
      },
      "source": [
        "def removeHcorrFeature(percentage,X):\n",
        "  # Selecting all the features with high correlation values with other features\n",
        "  # Refer: https://chrisalbon.com/machine_learning/feature_selection/drop_highly_correlated_features/\n",
        "  corr_matrix = X.corr().abs()\n",
        "\n",
        "  # Select upper triangle of correlation matrix\n",
        "  upper = corr_matrix.where(np.triu(np.ones(corr_matrix.shape), k=1).astype(np.bool))\n",
        "\n",
        "  # Find index of feature columns with correlation greater than 0.9\n",
        "  o_drop = [column for column in upper.columns if any(upper[column] > percentage)]\n",
        "  print(o_drop)\n",
        "  return o_drop"
      ],
      "execution_count": 141,
      "outputs": []
    },
    {
      "cell_type": "code",
      "metadata": {
        "id": "Vb5GMZKivEX3"
      },
      "source": [
        "def applyPCA(X, n_com):\n",
        "   #print(data_set)\n",
        "   pca = PCA(n_components=n_com).fit(X)\n",
        "   X_train_pca = pca.transform(X)\n",
        "   print(pca.n_components_)\n",
        "   return X_train_pca"
      ],
      "execution_count": 142,
      "outputs": []
    },
    {
      "cell_type": "code",
      "metadata": {
        "id": "5umDbb0hvLLq"
      },
      "source": [
        "def applyMinMax(data):  \n",
        "# scale features\n",
        "  scaler = MinMaxScaler()\n",
        "  model=scaler.fit(data)\n",
        "  scaled_data=model.transform(data)\n",
        "  return scaled_data\n",
        "  #print(data_set)"
      ],
      "execution_count": 143,
      "outputs": []
    },
    {
      "cell_type": "code",
      "metadata": {
        "id": "0Wq3tHuEvPyq"
      },
      "source": [
        "def applyStandardScaler(data):\n",
        "  scaler = StandardScaler()\n",
        "  model = scaler.fit(data)\n",
        "  scaled_data = model.transform(data)\n",
        "  #print(data_set)\n",
        "  return scaled_data"
      ],
      "execution_count": 144,
      "outputs": []
    },
    {
      "cell_type": "code",
      "metadata": {
        "colab": {
          "base_uri": "https://localhost:8080/"
        },
        "id": "kV_4tbVA2uNP",
        "outputId": "468e26df-1d7b-4fd6-de8e-4b7de8b38e3e"
      },
      "source": [
        "combine.columns"
      ],
      "execution_count": 145,
      "outputs": [
        {
          "output_type": "execute_result",
          "data": {
            "text/plain": [
              "Index(['dur', 'proto', 'service', 'state', 'spkts', 'dpkts', 'sbytes',\n",
              "       'dbytes', 'rate', 'sttl', 'dttl', 'sload', 'dload', 'sloss', 'dloss',\n",
              "       'sinpkt', 'dinpkt', 'sjit', 'djit', 'swin', 'stcpb', 'dtcpb', 'dwin',\n",
              "       'tcprtt', 'synack', 'ackdat', 'smean', 'dmean', 'trans_depth',\n",
              "       'response_body_len', 'ct_srv_src', 'ct_state_ttl', 'ct_dst_ltm',\n",
              "       'ct_src_dport_ltm', 'ct_dst_sport_ltm', 'ct_dst_src_ltm',\n",
              "       'is_ftp_login', 'ct_ftp_cmd', 'ct_flw_http_mthd', 'ct_src_ltm',\n",
              "       'ct_srv_dst', 'is_sm_ips_ports', 'label'],\n",
              "      dtype='object')"
            ]
          },
          "metadata": {},
          "execution_count": 145
        }
      ]
    },
    {
      "cell_type": "code",
      "metadata": {
        "colab": {
          "base_uri": "https://localhost:8080/"
        },
        "id": "qlvL5YkEvR5a",
        "outputId": "9b95a8e4-bf0f-41b1-b1ee-3bc99f4dc65f"
      },
      "source": [
        "X_mm=combine.drop(columns='label')    \n",
        "y_mm=combine['label']\n",
        "#Add min max scaler and return the dataset in pandas dataframe :\n",
        "print(\"Apply MinMax scaler\")\n",
        "X_mm = applyMinMax(X_mm)\n",
        "X = pd.DataFrame(X, columns =['dur', 'proto', 'service', 'state', 'spkts', 'dpkts', 'sbytes',\n",
        "       'dbytes', 'rate', 'sttl', 'dttl', 'sload', 'dload', 'sloss', 'dloss',\n",
        "       'sinpkt', 'dinpkt', 'sjit', 'djit', 'swin', 'stcpb', 'dtcpb', 'dwin',\n",
        "       'tcprtt', 'synack', 'ackdat', 'smean', 'dmean', 'trans_depth',\n",
        "       'response_body_len', 'ct_srv_src', 'ct_state_ttl', 'ct_dst_ltm',\n",
        "       'ct_src_dport_ltm', 'ct_dst_sport_ltm', 'ct_dst_src_ltm',\n",
        "       'is_ftp_login', 'ct_ftp_cmd', 'ct_flw_http_mthd', 'ct_src_ltm',\n",
        "       'ct_srv_dst', 'is_sm_ips_ports'])\n",
        "\n",
        "X_mm.shape"
      ],
      "execution_count": 146,
      "outputs": [
        {
          "output_type": "stream",
          "name": "stdout",
          "text": [
            "Apply MinMax scaler\n"
          ]
        },
        {
          "output_type": "execute_result",
          "data": {
            "text/plain": [
              "(257673, 42)"
            ]
          },
          "metadata": {},
          "execution_count": 146
        }
      ]
    },
    {
      "cell_type": "code",
      "metadata": {
        "colab": {
          "base_uri": "https://localhost:8080/"
        },
        "id": "rDR_jO1A4HWt",
        "outputId": "385ab06f-0ae9-4ccc-98bf-b1ffb1a08edd"
      },
      "source": [
        "X_mm=combine.drop(columns='label')    \n",
        "y_mm=combine['label']\n",
        "#Add min max scaler and return the dataset in pandas dataframe :\n",
        "print(\"Apply MinMax scaler\")\n",
        "X_mm = applyMinMax(X_mm)\n"
      ],
      "execution_count": 147,
      "outputs": [
        {
          "output_type": "stream",
          "name": "stdout",
          "text": [
            "Apply MinMax scaler\n"
          ]
        }
      ]
    },
    {
      "cell_type": "code",
      "metadata": {
        "colab": {
          "base_uri": "https://localhost:8080/"
        },
        "id": "omIKMTbA8cTD",
        "outputId": "df251973-067a-4d51-c86a-f7651b51c536"
      },
      "source": [
        "X_ss=combine.drop(columns='label')    \n",
        "y_ss=combine['label']\n",
        "#Add min max scaler and return the dataset in pandas dataframe :\n",
        "print(\"Apply Standard scaler\")\n",
        "X_ss = applyStandardScaler(X_ss)"
      ],
      "execution_count": 148,
      "outputs": [
        {
          "output_type": "stream",
          "name": "stdout",
          "text": [
            "Apply Standard scaler\n"
          ]
        }
      ]
    },
    {
      "cell_type": "code",
      "metadata": {
        "colab": {
          "base_uri": "https://localhost:8080/"
        },
        "id": "bUFxI6B-8lzG",
        "outputId": "087e8080-65a2-4202-9bbf-cbb71da13e47"
      },
      "source": [
        "X_ss_corr=combine.drop(columns='label')    \n",
        "y_ss_corr=combine['label']\n",
        "n_com=0.99\n",
        "cols = X_ss_corr.columns\n",
        "#Add min max scaler and return the dataset in pandas dataframe :\n",
        "print(\"Apply MinMax scaler\")\n",
        "X_ss_corr = applyStandardScaler(X_ss_corr)\n",
        "X_ss_corr = pd.DataFrame(X_ss_corr, columns =cols)\n",
        "print(\"Remove highly correlated features with each other\")\n",
        "col = removeHcorrFeature(n_com, X_ss_corr)\n",
        "print(col)\n",
        "X_ss_corr.drop(X_ss_corr[col], axis=1, inplace=True)\n",
        "X_ss_corr.shape"
      ],
      "execution_count": 149,
      "outputs": [
        {
          "output_type": "stream",
          "name": "stdout",
          "text": [
            "Apply MinMax scaler\n",
            "Remove highly correlated features with each other\n",
            "['sloss', 'dloss', 'ct_ftp_cmd']\n",
            "['sloss', 'dloss', 'ct_ftp_cmd']\n"
          ]
        },
        {
          "output_type": "execute_result",
          "data": {
            "text/plain": [
              "(257673, 39)"
            ]
          },
          "metadata": {},
          "execution_count": 149
        }
      ]
    },
    {
      "cell_type": "code",
      "metadata": {
        "colab": {
          "base_uri": "https://localhost:8080/"
        },
        "id": "KnS70fZn50wD",
        "outputId": "4dca8352-8e4e-4c86-adfe-d017a5322457"
      },
      "source": [
        "X_mm_corr=combine.drop(columns='label')    \n",
        "y_mm_corr=combine['label']\n",
        "n_com=0.99\n",
        "cols = X_mm_corr.columns\n",
        "#Add min max scaler and return the dataset in pandas dataframe :\n",
        "print(\"Apply MinMax scaler\")\n",
        "X_mm_corr = applyMinMax(X_mm_corr)\n",
        "X_mm_corr = pd.DataFrame(X_mm_corr, columns =cols)\n",
        "print(\"Remove highly correlated features with each other\")\n",
        "col = removeHcorrFeature(n_com, X_mm_corr)\n",
        "print(col)\n",
        "X_mm_corr.drop(X_mm_corr[col], axis=1, inplace=True)\n",
        "X_mm_corr.shape"
      ],
      "execution_count": 150,
      "outputs": [
        {
          "output_type": "stream",
          "name": "stdout",
          "text": [
            "Apply MinMax scaler\n",
            "Remove highly correlated features with each other\n",
            "['sloss', 'dloss', 'ct_ftp_cmd']\n",
            "['sloss', 'dloss', 'ct_ftp_cmd']\n"
          ]
        },
        {
          "output_type": "execute_result",
          "data": {
            "text/plain": [
              "(257673, 39)"
            ]
          },
          "metadata": {},
          "execution_count": 150
        }
      ]
    },
    {
      "cell_type": "code",
      "metadata": {
        "colab": {
          "base_uri": "https://localhost:8080/"
        },
        "id": "HGqr7fiu7yOC",
        "outputId": "3a7a85bc-9eeb-47c0-bff2-7197e825a743"
      },
      "source": [
        "from sklearn.decomposition import PCA\n",
        "X_pca=combine.drop(columns='label')    \n",
        "y_pca=combine['label']\n",
        "n_com=0.99\n",
        "cols = X_pca.columns\n",
        "#Add min max scaler and return the dataset in pandas dataframe :\n",
        "print(\"Apply MinMax scaler\")\n",
        "X_pca = applyStandardScaler(X_pca)\n",
        "X_pca = pd.DataFrame(X_pca, columns =cols)\n",
        "X_pca = applyPCA(X_pca, n_com)\n",
        "X_pca.shape"
      ],
      "execution_count": 151,
      "outputs": [
        {
          "output_type": "stream",
          "name": "stdout",
          "text": [
            "Apply MinMax scaler\n",
            "29\n"
          ]
        },
        {
          "output_type": "execute_result",
          "data": {
            "text/plain": [
              "(257673, 29)"
            ]
          },
          "metadata": {},
          "execution_count": 151
        }
      ]
    },
    {
      "cell_type": "markdown",
      "metadata": {
        "id": "Lly0eLnt-_S-"
      },
      "source": [
        "**WITHOUT PREPROCESSING**\n",
        "\n"
      ]
    },
    {
      "cell_type": "code",
      "metadata": {
        "id": "Nn0tlNMHCDx7"
      },
      "source": [
        "from sklearn.model_selection import train_test_split\n",
        "import xgboost as xgb\n",
        "from sklearn.ensemble import GradientBoostingClassifier\n",
        "from sklearn import metrics\n",
        "# check accuracy score\n",
        "from sklearn.metrics import accuracy_score\n",
        "from sklearn.ensemble import RandomForestClassifier"
      ],
      "execution_count": 152,
      "outputs": []
    },
    {
      "cell_type": "code",
      "metadata": {
        "id": "-qXL9CFTBskp"
      },
      "source": [
        "X=combine.drop(columns='label')    \n",
        "y=combine['label']\n",
        "X_train, X_test, y_train, y_test = train_test_split(X, y, test_size=0.3)\n",
        "\n",
        "\n"
      ],
      "execution_count": 153,
      "outputs": []
    },
    {
      "cell_type": "markdown",
      "metadata": {
        "id": "RMu6eRMF_PFu"
      },
      "source": [
        "XGB"
      ]
    },
    {
      "cell_type": "code",
      "metadata": {
        "colab": {
          "base_uri": "https://localhost:8080/"
        },
        "id": "kE05EB85_OJL",
        "outputId": "60846af4-3337-4a10-b746-449ce08821b0"
      },
      "source": [
        "model = xgb.XGBClassifier()\n",
        "model.fit(X_train, y_train)\n",
        "predicted_xgb_y = model.predict(X_test)\n",
        "print(metrics.classification_report(y_test, predicted_xgb_y))\n",
        "print(metrics.confusion_matrix(y_test, predicted_xgb_y))\n",
        "print('XGBoost model accuracy score: {0:0.4f}'. format(accuracy_score(y_test, predicted_xgb_y)))\n",
        "accuracy1 = accuracy_score(y_test, predicted_xgb_y)"
      ],
      "execution_count": 154,
      "outputs": [
        {
          "output_type": "stream",
          "name": "stdout",
          "text": [
            "              precision    recall  f1-score   support\n",
            "\n",
            "           0       0.91      0.91      0.91     27774\n",
            "           1       0.95      0.95      0.95     49528\n",
            "\n",
            "    accuracy                           0.93     77302\n",
            "   macro avg       0.93      0.93      0.93     77302\n",
            "weighted avg       0.93      0.93      0.93     77302\n",
            "\n",
            "[[25275  2499]\n",
            " [ 2571 46957]]\n",
            "XGBoost model accuracy score: 0.9344\n"
          ]
        }
      ]
    },
    {
      "cell_type": "markdown",
      "metadata": {
        "id": "iZdAKrsZ_TBX"
      },
      "source": [
        "GB"
      ]
    },
    {
      "cell_type": "code",
      "metadata": {
        "colab": {
          "base_uri": "https://localhost:8080/"
        },
        "id": "ZsXDi_F-Dm8V",
        "outputId": "e1e295d4-4dbc-4871-c033-598baf3eebdc"
      },
      "source": [
        "model = GradientBoostingClassifier()\n",
        "model.fit(X_train, y_train)\n",
        "predicted_gb_y = model.predict(X_test)\n",
        "print(metrics.classification_report(y_test, predicted_gb_y))\n",
        "print(metrics.confusion_matrix(y_test, predicted_gb_y))\n",
        "print('Gradient model accuracy score: {0:0.4f}'. format(accuracy_score(y_test, predicted_gb_y)))\n",
        "accuracy2 = accuracy_score(y_test, predicted_gb_y)"
      ],
      "execution_count": 155,
      "outputs": [
        {
          "output_type": "stream",
          "name": "stdout",
          "text": [
            "              precision    recall  f1-score   support\n",
            "\n",
            "           0       0.91      0.90      0.91     27774\n",
            "           1       0.95      0.95      0.95     49528\n",
            "\n",
            "    accuracy                           0.93     77302\n",
            "   macro avg       0.93      0.93      0.93     77302\n",
            "weighted avg       0.93      0.93      0.93     77302\n",
            "\n",
            "[[25042  2732]\n",
            " [ 2392 47136]]\n",
            "Gradient model accuracy score: 0.9337\n"
          ]
        }
      ]
    },
    {
      "cell_type": "markdown",
      "metadata": {
        "id": "bwOS2czg_V-u"
      },
      "source": [
        "DT"
      ]
    },
    {
      "cell_type": "code",
      "metadata": {
        "colab": {
          "base_uri": "https://localhost:8080/"
        },
        "id": "zBJDhoxzFAO_",
        "outputId": "d2d0eee9-93f6-4703-97a6-c7a5494e1b78"
      },
      "source": [
        "model = DecisionTreeClassifier()\n",
        "model.fit(X_train, y_train)\n",
        "predicted_dt_y = model.predict(X_test)\n",
        "print(metrics.classification_report(y_test, predicted_dt_y))\n",
        "print(metrics.confusion_matrix(y_test, predicted_dt_y))\n",
        "print('Decision trees model accuracy score: {0:0.4f}'. format(accuracy_score(y_test, predicted_dt_y)))\n",
        "accuracy3 = accuracy_score(y_test, predicted_dt_y)"
      ],
      "execution_count": 156,
      "outputs": [
        {
          "output_type": "stream",
          "name": "stdout",
          "text": [
            "              precision    recall  f1-score   support\n",
            "\n",
            "           0       1.00      0.64      0.78     27774\n",
            "           1       0.83      1.00      0.91     49528\n",
            "\n",
            "    accuracy                           0.87     77302\n",
            "   macro avg       0.92      0.82      0.85     77302\n",
            "weighted avg       0.89      0.87      0.86     77302\n",
            "\n",
            "[[17856  9918]\n",
            " [    0 49528]]\n",
            "Decision trees model accuracy score: 0.8717\n"
          ]
        }
      ]
    },
    {
      "cell_type": "markdown",
      "metadata": {
        "id": "IP_tKXqI_W-o"
      },
      "source": [
        "RT"
      ]
    },
    {
      "cell_type": "code",
      "metadata": {
        "colab": {
          "base_uri": "https://localhost:8080/"
        },
        "id": "mOxIBI1KFXmJ",
        "outputId": "50a99ef8-20b5-46e4-9250-05aeb3920f3e"
      },
      "source": [
        "model = RandomForestClassifier()\n",
        "model.fit(X_train, y_train)\n",
        "predicted_rt_y = model.predict(X_test)\n",
        "print(metrics.classification_report(y_test, predicted_rt_y))\n",
        "print(metrics.confusion_matrix(y_test, predicted_gb_y))\n",
        "print('Random Forest model accuracy score: {0:0.4f}'. format(accuracy_score(y_test, predicted_rt_y)))\n",
        "accuracy4 = accuracy_score(y_test, predicted_rt_y)"
      ],
      "execution_count": 157,
      "outputs": [
        {
          "output_type": "stream",
          "name": "stdout",
          "text": [
            "              precision    recall  f1-score   support\n",
            "\n",
            "           0       0.99      0.64      0.78     27774\n",
            "           1       0.83      1.00      0.91     49528\n",
            "\n",
            "    accuracy                           0.87     77302\n",
            "   macro avg       0.91      0.82      0.84     77302\n",
            "weighted avg       0.89      0.87      0.86     77302\n",
            "\n",
            "[[25042  2732]\n",
            " [ 2392 47136]]\n",
            "Random Forest model accuracy score: 0.8699\n"
          ]
        }
      ]
    },
    {
      "cell_type": "code",
      "metadata": {
        "colab": {
          "base_uri": "https://localhost:8080/",
          "height": 265
        },
        "id": "o9g36QGBAsWY",
        "outputId": "7e9f046c-40cb-4676-e356-1cd0a3a74743"
      },
      "source": [
        "import matplotlib.pyplot as plt\n",
        "plt.plot([\"XGB\",\"GB\",\"DT\",\"RT\"],[accuracy1, accuracy2, accuracy3, accuracy4])\n",
        "\n",
        "plt.show()\n"
      ],
      "execution_count": 158,
      "outputs": [
        {
          "output_type": "display_data",
          "data": {
            "image/png": "[encoded data removed]",
            "text/plain": [
              "<Figure size 432x288 with 1 Axes>"
            ]
          },
          "metadata": {
            "needs_background": "light"
          }
        }
      ]
    },
    {
      "cell_type": "markdown",
      "metadata": {
        "id": "zwsexQQu-RjM"
      },
      "source": [
        "**WITH PCA AND STANDARD SCALER**"
      ]
    },
    {
      "cell_type": "markdown",
      "metadata": {
        "id": "KA91ep1OGRxz"
      },
      "source": [
        ""
      ]
    },
    {
      "cell_type": "code",
      "metadata": {
        "id": "Iko8ltbJPhow"
      },
      "source": [
        "X_train, X_test, y_train, y_test = train_test_split(X_pca, y_pca, test_size=0.3)"
      ],
      "execution_count": 159,
      "outputs": []
    },
    {
      "cell_type": "markdown",
      "metadata": {
        "id": "yLItzgJg-yCg"
      },
      "source": [
        "XGB"
      ]
    },
    {
      "cell_type": "code",
      "metadata": {
        "colab": {
          "base_uri": "https://localhost:8080/"
        },
        "id": "g1i8hXCS--QP",
        "outputId": "b50bbb5a-f4df-4a49-f94c-8a9396b933aa"
      },
      "source": [
        "model = xgb.XGBClassifier()\n",
        "model.fit(X_train, y_train)\n",
        "predicted_xgb_pca_y = model.predict(X_test)\n",
        "print(metrics.classification_report(y_test, predicted_xgb_pca_y))\n",
        "print(metrics.confusion_matrix(y_test, predicted_xgb_pca_y))\n",
        "print('XGBoost model accuracy score: {0:0.4f}'. format(accuracy_score(y_test, predicted_xgb_pca_y)))\n",
        "accuracy1 = accuracy_score(y_test, predicted_xgb_pca_y)"
      ],
      "execution_count": 161,
      "outputs": [
        {
          "output_type": "stream",
          "name": "stdout",
          "text": [
            "              precision    recall  f1-score   support\n",
            "\n",
            "           0       0.93      0.80      0.86     27893\n",
            "           1       0.90      0.96      0.93     49409\n",
            "\n",
            "    accuracy                           0.91     77302\n",
            "   macro avg       0.91      0.88      0.89     77302\n",
            "weighted avg       0.91      0.91      0.90     77302\n",
            "\n",
            "[[22346  5547]\n",
            " [ 1787 47622]]\n",
            "XGBoost model accuracy score: 0.9051\n"
          ]
        }
      ]
    },
    {
      "cell_type": "markdown",
      "metadata": {
        "id": "0shCg3Yh-04l"
      },
      "source": [
        "GB "
      ]
    },
    {
      "cell_type": "code",
      "metadata": {
        "colab": {
          "base_uri": "https://localhost:8080/"
        },
        "id": "SukPQ3N-GE7X",
        "outputId": "564a7abe-042e-4947-88ce-23facd4d789e"
      },
      "source": [
        "model = GradientBoostingClassifier()\n",
        "model.fit(X_train, y_train)\n",
        "predicted_gb_pca_y = model.predict(X_test)\n",
        "print(metrics.classification_report(y_test, predicted_gb_pca_y))\n",
        "print(metrics.confusion_matrix(y_test, predicted_gb_y))\n",
        "print('Gradient  model accuracy score: {0:0.4f}'. format(accuracy_score(y_test, predicted_gb_pca_y)))\n",
        "accuracy2 = accuracy_score(y_test, predicted_gb_pca_y)"
      ],
      "execution_count": 162,
      "outputs": [
        {
          "output_type": "stream",
          "name": "stdout",
          "text": [
            "              precision    recall  f1-score   support\n",
            "\n",
            "           0       0.92      0.81      0.86     27893\n",
            "           1       0.90      0.96      0.93     49409\n",
            "\n",
            "    accuracy                           0.91     77302\n",
            "   macro avg       0.91      0.89      0.90     77302\n",
            "weighted avg       0.91      0.91      0.91     77302\n",
            "\n",
            "[[ 9954 17939]\n",
            " [17480 31929]]\n",
            "Gradient  model accuracy score: 0.9074\n"
          ]
        }
      ]
    },
    {
      "cell_type": "markdown",
      "metadata": {
        "id": "wAMejeEw-2zy"
      },
      "source": [
        "DT"
      ]
    },
    {
      "cell_type": "code",
      "metadata": {
        "colab": {
          "base_uri": "https://localhost:8080/"
        },
        "id": "ZLlr5IsGAaq_",
        "outputId": "9b8c6c0f-7e58-4017-b7a4-fb675d9a2ef4"
      },
      "source": [
        "model = DecisionTreeClassifier()\n",
        "model.fit(X_train, y_train)\n",
        "predicted_dt_pca_y = model.predict(X_test)\n",
        "print(metrics.classification_report(y_test, predicted_dt_pca_y))\n",
        "print(metrics.confusion_matrix(y_test, predicted_dt_pca_y))\n",
        "print('Decison trees model accuracy score: {0:0.4f}'. format(accuracy_score(y_test, predicted_dt_pca_y)))\n",
        "accuracy3 = accuracy_score(y_test, predicted_dt_pca_y)"
      ],
      "execution_count": 163,
      "outputs": [
        {
          "output_type": "stream",
          "name": "stdout",
          "text": [
            "              precision    recall  f1-score   support\n",
            "\n",
            "           0       0.96      0.68      0.80     27893\n",
            "           1       0.84      0.98      0.91     49409\n",
            "\n",
            "    accuracy                           0.87     77302\n",
            "   macro avg       0.90      0.83      0.85     77302\n",
            "weighted avg       0.89      0.87      0.87     77302\n",
            "\n",
            "[[18951  8942]\n",
            " [  824 48585]]\n",
            "Decison trees model accuracy score: 0.8737\n"
          ]
        }
      ]
    },
    {
      "cell_type": "markdown",
      "metadata": {
        "id": "jxYrbkiQ-4bD"
      },
      "source": [
        "RT"
      ]
    },
    {
      "cell_type": "code",
      "metadata": {
        "colab": {
          "base_uri": "https://localhost:8080/"
        },
        "id": "hyZ_b7kwGHWT",
        "outputId": "75e54d8f-d393-4e17-e53b-23f6861cf0c2"
      },
      "source": [
        "model = RandomForestClassifier()\n",
        "model.fit(X_train, y_train)\n",
        "predicted_rt_pca_y = model.predict(X_test)\n",
        "print(metrics.classification_report(y_test, predicted_rt_pca_y))\n",
        "print(metrics.confusion_matrix(y_test, predicted_gb_pca_y))\n",
        "print('Random Forest model accuracy score: {0:0.4f}'. format(accuracy_score(y_test, predicted_rt_pca_y)))\n",
        "accuracy4 = accuracy_score(y_test, predicted_rt_pca_y)"
      ],
      "execution_count": 164,
      "outputs": [
        {
          "output_type": "stream",
          "name": "stdout",
          "text": [
            "              precision    recall  f1-score   support\n",
            "\n",
            "           0       0.99      0.60      0.75     27893\n",
            "           1       0.82      1.00      0.90     49409\n",
            "\n",
            "    accuracy                           0.85     77302\n",
            "   macro avg       0.90      0.80      0.82     77302\n",
            "weighted avg       0.88      0.85      0.84     77302\n",
            "\n",
            "[[22678  5215]\n",
            " [ 1946 47463]]\n",
            "Random Forest model accuracy score: 0.8532\n"
          ]
        }
      ]
    },
    {
      "cell_type": "code",
      "metadata": {
        "colab": {
          "base_uri": "https://localhost:8080/",
          "height": 269
        },
        "id": "fKlcRlp8DPl6",
        "outputId": "7313d51a-5a27-4174-9629-9433bf7cf8ed"
      },
      "source": [
        "import matplotlib.pyplot as plt\n",
        "plt.plot([\"XGB\",\"GB\",\"DT\",\"RT\"],[accuracy1, accuracy2, accuracy3, accuracy4])\n",
        "\n",
        "plt.show()"
      ],
      "execution_count": 165,
      "outputs": [
        {
          "output_type": "display_data",
          "data": {
            "image/png": "[encoded data removed]",
            "text/plain": [
              "<Figure size 432x288 with 1 Axes>"
            ]
          },
          "metadata": {
            "needs_background": "light"
          }
        }
      ]
    },
    {
      "cell_type": "markdown",
      "metadata": {
        "id": "QvesPXzB_mAy"
      },
      "source": [
        "**WITH REMOVING CORRELATION (AMONG FEATURES) AND MINMAX SCALING**"
      ]
    },
    {
      "cell_type": "code",
      "metadata": {
        "id": "BBKJ6d-mQPqt"
      },
      "source": [
        "X_train, X_test, y_train, y_test = train_test_split(X_mm_corr, y_mm_corr, test_size=0.3)"
      ],
      "execution_count": 166,
      "outputs": []
    },
    {
      "cell_type": "markdown",
      "metadata": {
        "id": "DZ_0QQxqAbfP"
      },
      "source": [
        "XGB"
      ]
    },
    {
      "cell_type": "code",
      "metadata": {
        "id": "3iX4ViszAG9e",
        "colab": {
          "base_uri": "https://localhost:8080/"
        },
        "outputId": "59042a1a-476a-4266-a7bc-6ceddb0ae950"
      },
      "source": [
        "model = xgb.XGBClassifier()\n",
        "model.fit(X_train, y_train)\n",
        "predicted_xgb_mm_corr_y = model.predict(X_test)\n",
        "print(metrics.classification_report(y_test, predicted_xgb_mm_corr_y))\n",
        "print(metrics.confusion_matrix(y_test, predicted_xgb_mm_corr_y))\n",
        "print('XGBoost model accuracy score: {0:0.4f}'. format(accuracy_score(y_test, predicted_xgb_mm_corr_y)))\n",
        "accuracy1 = accuracy_score(y_test, predicted_xgb_mm_corr_y)"
      ],
      "execution_count": 167,
      "outputs": [
        {
          "output_type": "stream",
          "name": "stdout",
          "text": [
            "              precision    recall  f1-score   support\n",
            "\n",
            "           0       0.91      0.91      0.91     27739\n",
            "           1       0.95      0.95      0.95     49563\n",
            "\n",
            "    accuracy                           0.93     77302\n",
            "   macro avg       0.93      0.93      0.93     77302\n",
            "weighted avg       0.93      0.93      0.93     77302\n",
            "\n",
            "[[25153  2586]\n",
            " [ 2589 46974]]\n",
            "XGBoost model accuracy score: 0.9331\n"
          ]
        }
      ]
    },
    {
      "cell_type": "markdown",
      "metadata": {
        "id": "rYDPPgjcAd6L"
      },
      "source": [
        "GB"
      ]
    },
    {
      "cell_type": "code",
      "metadata": {
        "id": "TCnHl1nzAkIp",
        "colab": {
          "base_uri": "https://localhost:8080/"
        },
        "outputId": "cff4e99c-6fe2-4e3e-8727-b96fc9f37f81"
      },
      "source": [
        "model = GradientBoostingClassifier()\n",
        "model.fit(X_train, y_train)\n",
        "predicted_gb_mm_corr_y = model.predict(X_test)\n",
        "print(metrics.classification_report(y_test, predicted_gb_mm_corr_y))\n",
        "print(metrics.confusion_matrix(y_test, predicted_gb_mm_corr_y))\n",
        "print('XGBoost model accuracy score: {0:0.4f}'. format(accuracy_score(y_test, predicted_gb_mm_corr_y)))\n",
        "accuracy2 = accuracy_score(y_test, predicted_gb_mm_corr_y)"
      ],
      "execution_count": 168,
      "outputs": [
        {
          "output_type": "stream",
          "name": "stdout",
          "text": [
            "              precision    recall  f1-score   support\n",
            "\n",
            "           0       0.91      0.90      0.91     27739\n",
            "           1       0.94      0.95      0.95     49563\n",
            "\n",
            "    accuracy                           0.93     77302\n",
            "   macro avg       0.93      0.93      0.93     77302\n",
            "weighted avg       0.93      0.93      0.93     77302\n",
            "\n",
            "[[24895  2844]\n",
            " [ 2343 47220]]\n",
            "XGBoost model accuracy score: 0.9329\n"
          ]
        }
      ]
    },
    {
      "cell_type": "markdown",
      "metadata": {
        "id": "zBK_rSU_Aksi"
      },
      "source": [
        "DT"
      ]
    },
    {
      "cell_type": "code",
      "metadata": {
        "id": "JzGe0039HQSR",
        "colab": {
          "base_uri": "https://localhost:8080/"
        },
        "outputId": "c473f8a5-5968-4813-9034-e2bdd5487467"
      },
      "source": [
        "model = DecisionTreeClassifier()\n",
        "model.fit(X_train, y_train)\n",
        "predicted_dt_corr_y = model.predict(X_test)\n",
        "print(metrics.classification_report(y_test, predicted_dt_y))\n",
        "print(metrics.confusion_matrix(y_test, predicted_dt_y))\n",
        "print('XGBoost model accuracy score: {0:0.4f}'. format(accuracy_score(y_test, predicted_dt_corr_y)))\n",
        "accuracy3 = accuracy_score(y_test, predicted_dt_corr_y)"
      ],
      "execution_count": 169,
      "outputs": [
        {
          "output_type": "stream",
          "name": "stdout",
          "text": [
            "              precision    recall  f1-score   support\n",
            "\n",
            "           0       0.35      0.23      0.28     27739\n",
            "           1       0.64      0.77      0.70     49563\n",
            "\n",
            "    accuracy                           0.57     77302\n",
            "   macro avg       0.50      0.50      0.49     77302\n",
            "weighted avg       0.54      0.57      0.55     77302\n",
            "\n",
            "[[ 6324 21415]\n",
            " [11532 38031]]\n",
            "XGBoost model accuracy score: 0.8742\n"
          ]
        }
      ]
    },
    {
      "cell_type": "markdown",
      "metadata": {
        "id": "hrkXj1QiAp_m"
      },
      "source": [
        "RT"
      ]
    },
    {
      "cell_type": "code",
      "metadata": {
        "id": "IYHIPY4cHR_V",
        "colab": {
          "base_uri": "https://localhost:8080/"
        },
        "outputId": "30417bcf-0cab-4b5c-8880-8047f93cb569"
      },
      "source": [
        "model = RandomForestClassifier()\n",
        "model.fit(X_train, y_train)\n",
        "predicted_rt_mm_corr_y = model.predict(X_test)\n",
        "print(metrics.classification_report(y_test, predicted_rt_mm_corr_y))\n",
        "print(metrics.confusion_matrix(y_test, predicted_gb_mm_corr_y))\n",
        "print('XGBoost model accuracy score: {0:0.4f}'. format(accuracy_score(y_test, predicted_rt_mm_corr_y)))\n",
        "accuracy4 =accuracy_score(y_test, predicted_rt_mm_corr_y)"
      ],
      "execution_count": 170,
      "outputs": [
        {
          "output_type": "stream",
          "name": "stdout",
          "text": [
            "              precision    recall  f1-score   support\n",
            "\n",
            "           0       0.98      0.65      0.78     27739\n",
            "           1       0.84      0.99      0.91     49563\n",
            "\n",
            "    accuracy                           0.87     77302\n",
            "   macro avg       0.91      0.82      0.85     77302\n",
            "weighted avg       0.89      0.87      0.86     77302\n",
            "\n",
            "[[24895  2844]\n",
            " [ 2343 47220]]\n",
            "XGBoost model accuracy score: 0.8703\n"
          ]
        }
      ]
    },
    {
      "cell_type": "code",
      "metadata": {
        "colab": {
          "base_uri": "https://localhost:8080/",
          "height": 265
        },
        "id": "x9CAeVtVDUZ1",
        "outputId": "536b501e-ea17-4fa6-c9d6-6bb732eada24"
      },
      "source": [
        "import matplotlib.pyplot as plt\n",
        "plt.plot([\"XGB\",\"GB\",\"DT\",\"RT\"],[accuracy1, accuracy2, accuracy3, accuracy4])\n",
        "\n",
        "plt.show()"
      ],
      "execution_count": 171,
      "outputs": [
        {
          "output_type": "display_data",
          "data": {
            "image/png": "[encoded data removed]",
            "text/plain": [
              "<Figure size 432x288 with 1 Axes>"
            ]
          },
          "metadata": {
            "needs_background": "light"
          }
        }
      ]
    },
    {
      "cell_type": "markdown",
      "metadata": {
        "id": "VkvyarwyAIJ9"
      },
      "source": [
        "**WITH MINMAX SCALING**\n",
        "\n"
      ]
    },
    {
      "cell_type": "code",
      "metadata": {
        "id": "TqyYpaLRQc7j"
      },
      "source": [
        "X_train, X_test, y_train, y_test = train_test_split(X_mm, y_mm, test_size=0.3)"
      ],
      "execution_count": 172,
      "outputs": []
    },
    {
      "cell_type": "markdown",
      "metadata": {
        "id": "BpzXYcUwAr4j"
      },
      "source": [
        "XGB"
      ]
    },
    {
      "cell_type": "code",
      "metadata": {
        "id": "nIbO9gK9HTzL",
        "colab": {
          "base_uri": "https://localhost:8080/"
        },
        "outputId": "0a420ee3-e202-4c74-cd92-8e751db6e0d9"
      },
      "source": [
        "model = xgb.XGBClassifier()\n",
        "model.fit(X_train, y_train)\n",
        "predicted_xgb_mm_y = model.predict(X_test)\n",
        "print(metrics.classification_report(y_test, predicted_xgb_mm_y))\n",
        "print(metrics.confusion_matrix(y_test, predicted_xgb_mm_y))\n",
        "print('XGBoost model accuracy score: {0:0.4f}'. format(accuracy_score(y_test, predicted_xgb_mm_y)))\n",
        "accuracy1 = accuracy_score(y_test, predicted_xgb_mm_y)"
      ],
      "execution_count": 173,
      "outputs": [
        {
          "output_type": "stream",
          "name": "stdout",
          "text": [
            "              precision    recall  f1-score   support\n",
            "\n",
            "           0       0.91      0.91      0.91     27985\n",
            "           1       0.95      0.95      0.95     49317\n",
            "\n",
            "    accuracy                           0.93     77302\n",
            "   macro avg       0.93      0.93      0.93     77302\n",
            "weighted avg       0.93      0.93      0.93     77302\n",
            "\n",
            "[[25410  2575]\n",
            " [ 2552 46765]]\n",
            "XGBoost model accuracy score: 0.9337\n"
          ]
        }
      ]
    },
    {
      "cell_type": "markdown",
      "metadata": {
        "id": "GwW9GGGDAs0C"
      },
      "source": [
        "GB"
      ]
    },
    {
      "cell_type": "code",
      "metadata": {
        "id": "kMG8_ZKUHVc5",
        "colab": {
          "base_uri": "https://localhost:8080/"
        },
        "outputId": "81b084f9-a4b7-4616-db62-fe4b69075acf"
      },
      "source": [
        "model = GradientBoostingClassifier()\n",
        "model.fit(X_train, y_train)\n",
        "predicted_gb_mm_y = model.predict(X_test)\n",
        "print(metrics.classification_report(y_test, predicted_gb_mm_y))\n",
        "print(metrics.confusion_matrix(y_test, predicted_gb_mm_y))\n",
        "print('XGBoost model accuracy score: {0:0.4f}'. format(accuracy_score(y_test, predicted_gb_mm_y)))\n",
        "accuracy2 = accuracy_score(y_test, predicted_gb_mm_y)\n"
      ],
      "execution_count": 174,
      "outputs": [
        {
          "output_type": "stream",
          "name": "stdout",
          "text": [
            "              precision    recall  f1-score   support\n",
            "\n",
            "           0       0.92      0.89      0.91     27985\n",
            "           1       0.94      0.96      0.95     49317\n",
            "\n",
            "    accuracy                           0.93     77302\n",
            "   macro avg       0.93      0.92      0.93     77302\n",
            "weighted avg       0.93      0.93      0.93     77302\n",
            "\n",
            "[[25027  2958]\n",
            " [ 2201 47116]]\n",
            "XGBoost model accuracy score: 0.9333\n"
          ]
        }
      ]
    },
    {
      "cell_type": "markdown",
      "metadata": {
        "id": "ofUrnKEaA3S_"
      },
      "source": [
        "DT"
      ]
    },
    {
      "cell_type": "code",
      "metadata": {
        "id": "xZCBqpCLHWz7",
        "colab": {
          "base_uri": "https://localhost:8080/"
        },
        "outputId": "39b13acd-bfb8-441b-e4cc-d32cbeadfc13"
      },
      "source": [
        "model = DecisionTreeClassifier()\n",
        "model.fit(X_train, y_train)\n",
        "predicted_dt_mm_y = model.predict(X_test)\n",
        "print(metrics.classification_report(y_test, predicted_dt_mm_y))\n",
        "print(metrics.confusion_matrix(y_test, predicted_dt_mm_y))\n",
        "print('XGBoost model accuracy score: {0:0.4f}'. format(accuracy_score(y_test, predicted_dt_mm_y)))\n",
        "accuracy3 = accuracy_score(y_test, predicted_dt_mm_y)"
      ],
      "execution_count": 175,
      "outputs": [
        {
          "output_type": "stream",
          "name": "stdout",
          "text": [
            "              precision    recall  f1-score   support\n",
            "\n",
            "           0       1.00      0.64      0.78     27985\n",
            "           1       0.83      1.00      0.91     49317\n",
            "\n",
            "    accuracy                           0.87     77302\n",
            "   macro avg       0.92      0.82      0.85     77302\n",
            "weighted avg       0.89      0.87      0.86     77302\n",
            "\n",
            "[[18035  9950]\n",
            " [    0 49317]]\n",
            "XGBoost model accuracy score: 0.8713\n"
          ]
        }
      ]
    },
    {
      "cell_type": "markdown",
      "metadata": {
        "id": "LIh7zZ_ZA4YB"
      },
      "source": [
        "RT"
      ]
    },
    {
      "cell_type": "code",
      "metadata": {
        "id": "lzIbFvefHYBp",
        "colab": {
          "base_uri": "https://localhost:8080/"
        },
        "outputId": "bc3953c7-26f7-4fcd-d762-85a1e64643dc"
      },
      "source": [
        "model = RandomForestClassifier()\n",
        "model.fit(X_train, y_train)\n",
        "predicted_rt_mm_y = model.predict(X_test)\n",
        "print(metrics.classification_report(y_test, predicted_rt_mm_y))\n",
        "print(metrics.confusion_matrix(y_test, predicted_gb_mm_y))\n",
        "print('XGBoost model accuracy score: {0:0.4f}'. format(accuracy_score(y_test, predicted_rt_mm_y)))\n",
        "accuracy4 = accuracy_score(y_test, predicted_rt_mm_y)"
      ],
      "execution_count": 176,
      "outputs": [
        {
          "output_type": "stream",
          "name": "stdout",
          "text": [
            "              precision    recall  f1-score   support\n",
            "\n",
            "           0       0.99      0.64      0.78     27985\n",
            "           1       0.83      1.00      0.91     49317\n",
            "\n",
            "    accuracy                           0.87     77302\n",
            "   macro avg       0.91      0.82      0.84     77302\n",
            "weighted avg       0.89      0.87      0.86     77302\n",
            "\n",
            "[[25027  2958]\n",
            " [ 2201 47116]]\n",
            "XGBoost model accuracy score: 0.8696\n"
          ]
        }
      ]
    },
    {
      "cell_type": "code",
      "metadata": {
        "colab": {
          "base_uri": "https://localhost:8080/",
          "height": 265
        },
        "id": "mQE6h6mGDXh2",
        "outputId": "ebdd84cd-fd0d-4f86-c269-a698eeda7424"
      },
      "source": [
        "import matplotlib.pyplot as plt\n",
        "plt.plot([\"XGB\",\"GB\",\"DT\",\"RT\"],[accuracy1, accuracy2, accuracy3, accuracy4])\n",
        "\n",
        "plt.show()"
      ],
      "execution_count": 177,
      "outputs": [
        {
          "output_type": "display_data",
          "data": {
            "image/png": "[encoded data removed]",
            "text/plain": [
              "<Figure size 432x288 with 1 Axes>"
            ]
          },
          "metadata": {
            "needs_background": "light"
          }
        }
      ]
    }
  ]
}
