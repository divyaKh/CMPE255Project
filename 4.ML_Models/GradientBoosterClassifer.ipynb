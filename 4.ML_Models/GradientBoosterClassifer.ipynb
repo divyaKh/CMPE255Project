{
 "cells": [
  {
   "cell_type": "markdown",
   "id": "0d5341b6",
   "metadata": {},
   "source": [
    "# Gradient Boosting Classifier\n",
    "Gradient boosting classifiers are a group of machine learning algorithms that combine many weak learning models together to create a strong predictive model.\n",
    "\n",
    "Why do we need?\n",
    "Gradient boosting models are becoming popular because of their effectiveness at classifying complex datasets, and have recently been used to win many Kaggle data science competitions."
   ]
  },
  {
   "cell_type": "code",
   "execution_count": 1,
   "id": "69d76c61",
   "metadata": {},
   "outputs": [],
   "source": [
    "import pandas as pd\n",
    "import numpy as np\n",
    "from sklearn.model_selection import train_test_split\n",
    "from sklearn.ensemble import GradientBoostingClassifier\n",
    "from sklearn.metrics import accuracy_score\n",
    "from sklearn.metrics import classification_report, confusion_matrix\n",
    "from pprint import pprint"
   ]
  },
  {
   "cell_type": "code",
   "execution_count": 2,
   "id": "dc067152",
   "metadata": {},
   "outputs": [],
   "source": [
    "cleaned = pd.read_csv('../3.Preprocessing/cleaned_dataset.csv')"
   ]
  },
  {
   "cell_type": "code",
   "execution_count": 3,
   "id": "3d6f6c02",
   "metadata": {
    "scrolled": true
   },
   "outputs": [
    {
     "name": "stdout",
     "output_type": "stream",
     "text": [
      "        dur  spkts  dpkts  sbytes  dbytes         rate  sttl  dttl  \\\n",
      "0  0.000011      2      0     496       0   90909.0902   254     0   \n",
      "1  0.000008      2      0    1762       0  125000.0003   254     0   \n",
      "\n",
      "         sload  dload  ...  state_CON  state_ECO  state_FIN  state_INT  \\\n",
      "0  180363632.0    0.0  ...        0.0        0.0        0.0        1.0   \n",
      "1  881000000.0    0.0  ...        0.0        0.0        0.0        1.0   \n",
      "\n",
      "   state_PAR  state_REQ  state_RST  state_URN  state_no  label  \n",
      "0        0.0        0.0        0.0        0.0       0.0      0  \n",
      "1        0.0        0.0        0.0        0.0       0.0      0  \n",
      "\n",
      "[2 rows x 198 columns]\n"
     ]
    }
   ],
   "source": [
    "print(cleaned.head(2))"
   ]
  },
  {
   "cell_type": "code",
   "execution_count": 4,
   "id": "12ff337f",
   "metadata": {},
   "outputs": [],
   "source": [
    "cleaned = pd.get_dummies(cleaned,columns= ['attack_cat'])"
   ]
  },
  {
   "cell_type": "code",
   "execution_count": 5,
   "id": "f78a2df7",
   "metadata": {},
   "outputs": [],
   "source": [
    "X_train, X_test, y_train, y_test = train_test_split(\n",
    "    cleaned[['dload','sbytes', 'dttl']], cleaned[['label']], test_size=0.3, random_state = 0)"
   ]
  },
  {
   "cell_type": "code",
   "execution_count": 6,
   "id": "7386313f",
   "metadata": {},
   "outputs": [],
   "source": [
    " #Create a GradientBoostingClassifier Classifier\n",
    "model = GradientBoostingClassifier(learning_rate=0.5, max_depth=3, random_state=42)"
   ]
  },
  {
   "cell_type": "code",
   "execution_count": 7,
   "id": "43511c87",
   "metadata": {},
   "outputs": [
    {
     "name": "stdout",
     "output_type": "stream",
     "text": [
      "Parameters currently in use:\n",
      "\n",
      "{'ccp_alpha': 0.0,\n",
      " 'criterion': 'friedman_mse',\n",
      " 'init': None,\n",
      " 'learning_rate': 0.5,\n",
      " 'loss': 'deviance',\n",
      " 'max_depth': 3,\n",
      " 'max_features': None,\n",
      " 'max_leaf_nodes': None,\n",
      " 'min_impurity_decrease': 0.0,\n",
      " 'min_impurity_split': None,\n",
      " 'min_samples_leaf': 1,\n",
      " 'min_samples_split': 2,\n",
      " 'min_weight_fraction_leaf': 0.0,\n",
      " 'n_estimators': 100,\n",
      " 'n_iter_no_change': None,\n",
      " 'random_state': 42,\n",
      " 'subsample': 1.0,\n",
      " 'tol': 0.0001,\n",
      " 'validation_fraction': 0.1,\n",
      " 'verbose': 0,\n",
      " 'warm_start': False}\n"
     ]
    }
   ],
   "source": [
    "print('Parameters currently in use:\\n')\n",
    "pprint(model.get_params())"
   ]
  },
  {
   "cell_type": "code",
   "execution_count": 8,
   "id": "660c2725",
   "metadata": {},
   "outputs": [
    {
     "name": "stderr",
     "output_type": "stream",
     "text": [
      "C:\\Users\\Checkout\\anaconda3\\lib\\site-packages\\sklearn\\utils\\validation.py:63: DataConversionWarning: A column-vector y was passed when a 1d array was expected. Please change the shape of y to (n_samples, ), for example using ravel().\n",
      "  return f(*args, **kwargs)\n"
     ]
    },
    {
     "data": {
      "text/plain": [
       "GradientBoostingClassifier(learning_rate=0.5, random_state=42)"
      ]
     },
     "execution_count": 8,
     "metadata": {},
     "output_type": "execute_result"
    }
   ],
   "source": [
    "model.fit(X_train,y_train)"
   ]
  },
  {
   "cell_type": "code",
   "execution_count": 9,
   "id": "e0d946c7",
   "metadata": {},
   "outputs": [],
   "source": [
    "predictions = model.predict(X_test)"
   ]
  },
  {
   "cell_type": "code",
   "execution_count": 10,
   "id": "0a7b992c",
   "metadata": {},
   "outputs": [
    {
     "name": "stdout",
     "output_type": "stream",
     "text": [
      "Confusion Matrix:\n",
      "[[23981  3911]\n",
      " [ 2432 46978]]\n"
     ]
    }
   ],
   "source": [
    "print(\"Confusion Matrix:\")\n",
    "print(confusion_matrix(y_test, predictions))"
   ]
  },
  {
   "cell_type": "code",
   "execution_count": 11,
   "id": "69af759b",
   "metadata": {},
   "outputs": [
    {
     "name": "stdout",
     "output_type": "stream",
     "text": [
      "Classification Report\n",
      "              precision    recall  f1-score   support\n",
      "\n",
      "           0       0.91      0.86      0.88     27892\n",
      "           1       0.92      0.95      0.94     49410\n",
      "\n",
      "    accuracy                           0.92     77302\n",
      "   macro avg       0.92      0.91      0.91     77302\n",
      "weighted avg       0.92      0.92      0.92     77302\n",
      "\n"
     ]
    }
   ],
   "source": [
    "print(\"Classification Report\")\n",
    "print(classification_report(y_test, predictions))"
   ]
  },
  {
   "cell_type": "code",
   "execution_count": null,
   "id": "468e9cb0",
   "metadata": {},
   "outputs": [],
   "source": []
  },
  {
   "cell_type": "code",
   "execution_count": null,
   "id": "4f58db45",
   "metadata": {},
   "outputs": [],
   "source": [
    " "
   ]
  }
 ],
 "metadata": {
  "kernelspec": {
   "display_name": "Python 3",
   "language": "python",
   "name": "python3"
  },
  "language_info": {
   "codemirror_mode": {
    "name": "ipython",
    "version": 3
   },
   "file_extension": ".py",
   "mimetype": "text/x-python",
   "name": "python",
   "nbconvert_exporter": "python",
   "pygments_lexer": "ipython3",
   "version": "3.8.8"
  }
 },
 "nbformat": 4,
 "nbformat_minor": 5
}
