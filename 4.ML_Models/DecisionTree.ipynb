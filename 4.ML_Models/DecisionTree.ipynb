{
 "cells": [
  {
   "cell_type": "code",
   "execution_count": 68,
   "id": "7e2b33c0",
   "metadata": {},
   "outputs": [],
   "source": [
    "import pandas as pd\n",
    "import numpy as np\n",
    "import matplotlib.pyplot as plt\n",
    "import seaborn as sns\n",
    "from sklearn.model_selection import train_test_split"
   ]
  },
  {
   "cell_type": "code",
   "execution_count": 69,
   "id": "845b9a65",
   "metadata": {},
   "outputs": [],
   "source": [
    "%matplotlib inline"
   ]
  },
  {
   "cell_type": "code",
   "execution_count": 70,
   "id": "0b632c58",
   "metadata": {},
   "outputs": [],
   "source": [
    "train = pd.read_csv('https://raw.githubusercontent.com/divyaKh/CMPE255Project/main/1.Dataset/train_cleaned.csv')\n",
    "test = pd.read_csv('https://raw.githubusercontent.com/divyaKh/CMPE255Project/main/1.Dataset/test_cleaned.csv')\n",
    "combined_data = pd.concat([train, test])"
   ]
  },
  {
   "cell_type": "code",
   "execution_count": 71,
   "id": "4b9ee67f",
   "metadata": {},
   "outputs": [],
   "source": [
    "# Dividing the train data into attack and non-attack category\n",
    "normal = train[train['label']==0]\n",
    "anomaly = train[train['label']==1]"
   ]
  },
  {
   "cell_type": "code",
   "execution_count": 72,
   "id": "68790e98",
   "metadata": {},
   "outputs": [],
   "source": [
    "X_train, X_test, y_train, y_test = train_test_split(\n",
    "    combined_data[['dload','sbytes', 'dttl']], combined_data[['label']], test_size=0.3, random_state = 0)"
   ]
  },
  {
   "cell_type": "code",
   "execution_count": 73,
   "id": "1fce5547",
   "metadata": {},
   "outputs": [],
   "source": [
    "from sklearn.tree import DecisionTreeClassifier"
   ]
  },
  {
   "cell_type": "code",
   "execution_count": 74,
   "id": "49045bdb",
   "metadata": {},
   "outputs": [],
   "source": [
    "tree = DecisionTreeClassifier(criterion = 'entropy', max_depth = 3, random_state = 0)\n"
   ]
  },
  {
   "cell_type": "code",
   "execution_count": 75,
   "id": "cc8a340a",
   "metadata": {},
   "outputs": [
    {
     "data": {
      "text/plain": [
       "DecisionTreeClassifier(criterion='entropy', max_depth=3, random_state=0)"
      ]
     },
     "execution_count": 75,
     "metadata": {},
     "output_type": "execute_result"
    }
   ],
   "source": [
    "tree.fit(X_train, y_train)"
   ]
  },
  {
   "cell_type": "code",
   "execution_count": 76,
   "id": "4ec04bb6",
   "metadata": {},
   "outputs": [
    {
     "name": "stdout",
     "output_type": "stream",
     "text": [
      "16652\n"
     ]
    }
   ],
   "source": [
    "error = 0\n",
    "for i, v in enumerate(tree.predict(X_test)):\n",
    "    if v!= y_test['label'].values[i]:\n",
    "        #print(i,v)\n",
    "        error+=1\n",
    "print(error)"
   ]
  },
  {
   "cell_type": "code",
   "execution_count": 77,
   "id": "90111ee2",
   "metadata": {},
   "outputs": [
    {
     "data": {
      "text/plain": [
       "0.8718140179361842"
      ]
     },
     "execution_count": 77,
     "metadata": {},
     "output_type": "execute_result"
    }
   ],
   "source": [
    "tree.score(X_test, y_test['label'])"
   ]
  },
  {
   "cell_type": "code",
   "execution_count": 130,
   "id": "3b36768b",
   "metadata": {},
   "outputs": [
    {
     "name": "stdout",
     "output_type": "stream",
     "text": [
      "['dur', 'spkts', 'dpkts', 'sbytes', 'dbytes', 'rate', 'sttl', 'dttl', 'sload', 'dload', 'sloss', 'dloss', 'sinpkt', 'dinpkt', 'sjit', 'djit', 'swin', 'stcpb', 'dtcpb', 'dwin', 'tcprtt', 'synack', 'ackdat', 'smean', 'dmean', 'trans_depth', 'response_body_len', 'ct_srv_src', 'ct_state_ttl', 'ct_dst_ltm', 'ct_src_dport_ltm', 'ct_dst_sport_ltm', 'ct_dst_src_ltm', 'is_ftp_login', 'ct_ftp_cmd', 'ct_flw_http_mthd', 'ct_src_ltm', 'ct_srv_dst', 'is_sm_ips_ports']\n"
     ]
    }
   ],
   "source": [
    "combined_data2 = combined_data\n",
    "combined_data2 =combined_data2.drop(['proto'],axis=1)\n",
    "combined_data2 =combined_data2.drop(['service'],axis=1)\n",
    "combined_data2 =combined_data2.drop(['state'],axis=1)\n",
    "combined_data2 =combined_data2.drop(['attack_cat'],axis=1)\n",
    "combined_data2 =combined_data2.drop(['id'],axis=1)\n",
    "combined_data2 =combined_data2.drop(['label'],axis=1)\n",
    "column_list = list(combined_data2)\n",
    "print(column_list)"
   ]
  },
  {
   "cell_type": "code",
   "execution_count": 131,
   "id": "09377901",
   "metadata": {},
   "outputs": [],
   "source": [
    "high_score = -1\n",
    "temp = []"
   ]
  },
  {
   "cell_type": "code",
   "execution_count": 132,
   "id": "28873d87",
   "metadata": {},
   "outputs": [],
   "source": [
    "for i in range(len(column_list)):\n",
    "    for j in range(i+1, len(column_list)):\n",
    "        X_train, X_test, y_train, y_test = train_test_split(\n",
    "            combined_data[[column_list[i],column_list[j]]], combined_data[['label']], test_size=0.3, random_state = 0)\n",
    "        tree.fit(X_train, y_train)\n",
    "        temp_score = tree.score(X_test, y_test['label'])\n",
    "        if temp_score > high_score: \n",
    "            high_score = temp_score\n",
    "            temp = []\n",
    "            temp.append(column_list[i])\n",
    "            temp.append(column_list[j])"
   ]
  },
  {
   "cell_type": "code",
   "execution_count": 133,
   "id": "1b7c1e18",
   "metadata": {},
   "outputs": [
    {
     "name": "stdout",
     "output_type": "stream",
     "text": [
      "0.9013740810592356\n",
      "['sttl', 'ct_state_ttl']\n"
     ]
    }
   ],
   "source": [
    "print(high_score)\n",
    "print(temp)"
   ]
  },
  {
   "cell_type": "code",
   "execution_count": 140,
   "id": "9ee86998",
   "metadata": {},
   "outputs": [],
   "source": [
    "high_score2 = -1\n",
    "temp2 = []"
   ]
  },
  {
   "cell_type": "code",
   "execution_count": 141,
   "id": "03d6bfaf",
   "metadata": {},
   "outputs": [],
   "source": [
    "for i in range(len(column_list)):\n",
    "    for j in range(i+1, len(column_list)):\n",
    "        for k in range(j+1, len(column_list)):\n",
    "            X_train, X_test, y_train, y_test = train_test_split(\n",
    "                combined_data[[column_list[i],column_list[j], column_list[k]]], combined_data[['label']], test_size=0.3, random_state = 0)\n",
    "            tree.fit(X_train, y_train)\n",
    "            temp_score = tree.score(X_test, y_test['label'])\n",
    "            if temp_score > high_score2: \n",
    "                high_score2 = temp_score\n",
    "                temp2 = []\n",
    "                temp2.append(column_list[i])\n",
    "                temp2.append(column_list[j])\n",
    "                temp2.append(column_list[k])"
   ]
  },
  {
   "cell_type": "code",
   "execution_count": 142,
   "id": "75f0668d",
   "metadata": {},
   "outputs": [
    {
     "name": "stdout",
     "output_type": "stream",
     "text": [
      "0.907855740733613\n",
      "['dpkts', 'sttl', 'swin']\n"
     ]
    }
   ],
   "source": [
    "print(high_score2)\n",
    "print(temp2)"
   ]
  },
  {
   "cell_type": "code",
   "execution_count": 143,
   "id": "310ef540",
   "metadata": {},
   "outputs": [
    {
     "name": "stdout",
     "output_type": "stream",
     "text": [
      "0.907855740733613\n",
      "['dpkts', 'sttl', 'swin']\n"
     ]
    }
   ],
   "source": [
    "if high_score2 > high_score:\n",
    "    print(high_score2)\n",
    "    print(temp2)\n",
    "else:\n",
    "    print(high_score)\n",
    "    print(temp)"
   ]
  },
  {
   "cell_type": "code",
   "execution_count": null,
   "id": "9536f13d",
   "metadata": {},
   "outputs": [],
   "source": []
  }
 ],
 "metadata": {
  "kernelspec": {
   "display_name": "Python 3 (ipykernel)",
   "language": "python",
   "name": "python3"
  },
  "language_info": {
   "codemirror_mode": {
    "name": "ipython",
    "version": 3
   },
   "file_extension": ".py",
   "mimetype": "text/x-python",
   "name": "python",
   "nbconvert_exporter": "python",
   "pygments_lexer": "ipython3",
   "version": "3.8.12"
  }
 },
 "nbformat": 4,
 "nbformat_minor": 5
}
